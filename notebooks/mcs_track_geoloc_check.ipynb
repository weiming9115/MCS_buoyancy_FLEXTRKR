{
 "cells": [
  {
   "cell_type": "code",
   "execution_count": null,
   "id": "ab82ddf9-4fd1-44dd-8b7c-dd37b9685f7f",
   "metadata": {
    "tags": []
   },
   "outputs": [],
   "source": [
    "import os\n",
    "import sys\n",
    "import xarray as xr\n",
    "import numpy as np\n",
    "import pandas as pd\n",
    "import matplotlib\n",
    "from matplotlib import pyplot as plt\n",
    "from matplotlib.colors import ListedColormap, LinearSegmentedColormap\n",
    "from datetime import datetime\n",
    "from pathlib import Path\n",
    "from matplotlib.lines import Line2D\n",
    "from matplotlib.patches import Patch\n",
    "from matplotlib.patches import Rectangle\n",
    "\n",
    "import cartopy.crs as ccrs\n",
    "import cartopy.feature as cfeat\n",
    "from cartopy.util import add_cyclic_point\n",
    "from cartopy.mpl.gridliner import LONGITUDE_FORMATTER, LATITUDE_FORMATTER\n",
    "\n",
    "import warnings"
   ]
  },
  {
   "cell_type": "code",
   "execution_count": null,
   "id": "2b36e125-8dd7-4f1c-aff2-fe4f649b667c",
   "metadata": {
    "tags": []
   },
   "outputs": [],
   "source": [
    "warnings.filterwarnings('ignore')"
   ]
  },
  {
   "cell_type": "code",
   "execution_count": null,
   "id": "9be21162-7c30-43ad-aaf0-1465773669bd",
   "metadata": {
    "tags": []
   },
   "outputs": [],
   "source": [
    "# load tracks\n",
    "year = 2016\n",
    "file = '/neelin2020/mcs_flextrkr/mcs_stats/mcs_tracks_final_extc_{}0101.0000_{}0101.0000.nc'.format(year, year+1)\n",
    "data_tracks = xr.open_dataset(file)"
   ]
  },
  {
   "cell_type": "code",
   "execution_count": null,
   "id": "f5f89420-cbd1-4b8f-95de-184a4e8c309e",
   "metadata": {
    "tags": []
   },
   "outputs": [],
   "source": [
    "track_id = 20\n",
    "idt = 0\n",
    "\n",
    "meanlat = data_tracks.isel(tracks=track_id).meanlat[idt]\n",
    "meanlon = data_tracks.isel(tracks=track_id).meanlon[idt]\n",
    "data_tracks.isel(tracks=track_id).base_time[idt].values"
   ]
  },
  {
   "cell_type": "code",
   "execution_count": null,
   "id": "b0615c61-f1ce-4176-8017-311431d640c7",
   "metadata": {
    "tags": []
   },
   "outputs": [],
   "source": [
    "mcs_dir = Path('/neelin2020/mcs_flextrkr/')\n",
    "data_mcs = xr.open_dataset(mcs_dir / 'mcstrack_20160101_0030.orig.nc')"
   ]
  },
  {
   "cell_type": "code",
   "execution_count": null,
   "id": "6b5d38fd-8c54-43be-82f9-404a89fcedda",
   "metadata": {
    "tags": []
   },
   "outputs": [],
   "source": [
    "tmp = data_mcs.cloudtracknumber_nomergesplit.sel(lat=slice(meanlat-3,meanlat+3),lon=slice(meanlon-3,meanlon+3))\n",
    "tmp.plot()\n",
    "plt.scatter(meanlon, meanlat, color='r')"
   ]
  },
  {
   "cell_type": "code",
   "execution_count": null,
   "id": "cf68dcb9-82d9-46d0-8530-eeb4a233248f",
   "metadata": {
    "tags": []
   },
   "outputs": [],
   "source": [
    "np.unique(tmp)"
   ]
  },
  {
   "cell_type": "code",
   "execution_count": null,
   "id": "be724b31-9a50-4ffc-9169-60a0c90db5a7",
   "metadata": {
    "tags": []
   },
   "outputs": [],
   "source": [
    "np.unique(data_mcs.cloudtracknumber_nomergesplit)"
   ]
  },
  {
   "cell_type": "code",
   "execution_count": null,
   "id": "4e45effd-d72d-4f88-abde-80ffc22492f4",
   "metadata": {},
   "outputs": [],
   "source": []
  }
 ],
 "metadata": {
  "kernelspec": {
   "display_name": "Python 3 (ipykernel)",
   "language": "python",
   "name": "python3"
  },
  "language_info": {
   "codemirror_mode": {
    "name": "ipython",
    "version": 3
   },
   "file_extension": ".py",
   "mimetype": "text/x-python",
   "name": "python",
   "nbconvert_exporter": "python",
   "pygments_lexer": "ipython3",
   "version": "3.9.17"
  }
 },
 "nbformat": 4,
 "nbformat_minor": 5
}
