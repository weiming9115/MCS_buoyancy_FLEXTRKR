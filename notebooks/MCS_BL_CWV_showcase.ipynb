{
 "cells": [
  {
   "cell_type": "markdown",
   "id": "c1e6fe8d-abea-4c32-919a-99d8b414ab6c",
   "metadata": {},
   "source": [
    "#### Snapshot of global MCS, BL measure, and CWV"
   ]
  },
  {
   "cell_type": "code",
   "execution_count": null,
   "id": "4ede77c6-9509-46a7-97cb-672e0d0e37c1",
   "metadata": {
    "tags": []
   },
   "outputs": [],
   "source": [
    "import os\n",
    "import sys\n",
    "import xarray as xr\n",
    "import numpy as np\n",
    "import pandas as pd\n",
    "import matplotlib\n",
    "from matplotlib import pyplot as plt\n",
    "from matplotlib.colors import ListedColormap, LinearSegmentedColormap\n",
    "from datetime import datetime\n",
    "from pathlib import Path\n",
    "\n",
    "import cartopy.crs as ccrs\n",
    "import cartopy.feature as cfeat\n",
    "from cartopy.util import add_cyclic_point\n",
    "from cartopy.mpl.gridliner import LONGITUDE_FORMATTER, LATITUDE_FORMATTER\n",
    "\n",
    "from scipy.stats import linregress\n",
    "\n",
    "import warnings"
   ]
  },
  {
   "cell_type": "code",
   "execution_count": null,
   "id": "ed91cb23-3750-4e28-ba48-cb9566ba1d0e",
   "metadata": {
    "tags": []
   },
   "outputs": [],
   "source": [
    "warnings.filterwarnings('ignore')"
   ]
  },
  {
   "cell_type": "code",
   "execution_count": null,
   "id": "17a81587-b557-4c91-81a8-eacbd6d7f20e",
   "metadata": {
    "tags": []
   },
   "outputs": [],
   "source": [
    "cwv_data = xr.open_dataset('/neelin2020/ERA-5_cwv_That/era5_cwv_that_2002_01_01.nc')\n",
    "thetae_data = xr.open_dataset('/neelin2020/ERA-5_buoy/layer_thetae/era5_2layers_thetae_2002_01_01.nc')\n",
    "mcs_data = xr.open_dataset('/neelin2020/mcs_flextrkr/20020101.0000_20030101.0000/mcstrack_20020101_0030.nc')"
   ]
  },
  {
   "cell_type": "code",
   "execution_count": null,
   "id": "c1c3e816-9c15-4c26-86b5-283455f20260",
   "metadata": {
    "tags": []
   },
   "outputs": [],
   "source": [
    "mcs_sub = mcs_data.cloudtracknumber_nomergesplit.sel(lat=slice(-30,30)).isel(time=0)\n",
    "lon_reset = mcs_sub.lon\n",
    "lon_reset = lon_reset.where(lon_reset > 0, 360+lon_reset) # converting lon as 0 to 359.75\n",
    "mcs_sub.coords['lon'] = lon_reset # converting lon as -180 to 180\n",
    "mcs_sub = mcs_sub.sortby('lon')\n",
    "mcs_sub = mcs_sub.where(mcs_sub > 0, 0)\n",
    "mcs_sub = mcs_sub.where(mcs_sub == 0, 1) # create mcs binary masks\n",
    "        \n",
    "cwv_sub = cwv_data.cwv.sel(time=datetime(2002,1,1,0), lat=slice(-30,30))\n",
    "\n",
    "# calculate buoyancy estimate\n",
    "thetae_sub = thetae_data.sel(time=datetime(2002,1,1,0), lat=slice(-30,30))\n",
    "thetae_bl = thetae_sub.thetae_bl\n",
    "thetae_sat_lt = thetae_sub.thetae_sat_lt\n",
    "thetae_lt = thetae_sub.thetae_lt\n",
    "wb = 0.4\n",
    "wl = 0.6\n",
    "Buoy_CAPE = (9.81/(340*3)) * wb * ((thetae_bl-thetae_sat_lt)/thetae_sat_lt) * 340\n",
    "Buoy_SUBSAT = (9.81/(340*3))* wl * ((thetae_sat_lt-thetae_lt)/thetae_sat_lt) * 340\n",
    "Buoy_TOT = Buoy_CAPE - Buoy_SUBSAT"
   ]
  },
  {
   "cell_type": "code",
   "execution_count": null,
   "id": "cd1cc862-aaf5-4c09-b0fa-5d83d8a79b18",
   "metadata": {
    "tags": []
   },
   "outputs": [],
   "source": [
    "fig, ax = plt.subplots(1,1,figsize=(10,3),subplot_kw={'projection': ccrs.PlateCarree()})\n",
    "\n",
    "ax.coastlines(color='k',linewidth=0.7)\n",
    "ax.add_feature(cfeat.LAND,zorder=3,edgecolor='grey',facecolor='none',linewidth=0.3) # maskout LAND\n",
    "ax.add_feature(cfeat.BORDERS,zorder=3,edgecolor='grey',facecolor='none',linewidth=0.3)\n",
    "ax.add_feature(cfeat.STATES,zorder=3,edgecolor='grey',facecolor='none',linewidth=0.3) \n",
    "\n",
    "gl = ax.gridlines(crs=ccrs.PlateCarree(), draw_labels=True,\n",
    "                  linewidth=1, color='k', alpha=0.4, linestyle=':')\n",
    "gl.xlabels_top = False\n",
    "gl.ylabels_right = False\n",
    "gl.xformatter = LONGITUDE_FORMATTER\n",
    "gl.yformatter = LATITUDE_FORMATTER\n",
    "gl.xlabel_style = {'size': 9, 'color': 'k'}\n",
    "gl.ylabel_style = {'size': 9, 'color': 'k'}\n",
    "\n",
    "# BL measures (K)\n",
    "cp = ax.pcolormesh(Buoy_TOT.lon, Buoy_TOT.lat, 340*3/9.8*Buoy_TOT, vmin=-15, vmax=2, cmap='CMRmap_r')\n",
    "cp.cmap.set_under('w')\n",
    "cbar = plt.colorbar(cp, ax=ax, shrink=0.4, pad=0.02, extend='min')\n",
    "cbar.set_label('B$_{L}$ (K)', fontsize=10)\n",
    "cbar.set_ticks([-15,-10,-5,0])\n",
    "ax.contour(Buoy_TOT.lon, Buoy_TOT.lat, 340*3/9.8*Buoy_TOT, levels=[-10], colors=['k'],\n",
    "          linewidths=1)\n",
    "# CWV \n",
    "ax.contour(cwv_sub.lon, cwv_sub.lat, cwv_sub, levels=[48], colors=['w'],linewidths=1)\n",
    "# tracked MCSs contour\n",
    "ax.contour(mcs_sub.lon, mcs_sub.lat, mcs_sub, levels=[0,1], colors=['g'], zorder=2,\n",
    "          linewidths=1)\n",
    "\n",
    "ax.set_title('2002-01-01, 00:30Z, FLEXTRKR-MCS (green) / B$_{L}$ / CWV (white)', fontsize=10)"
   ]
  },
  {
   "cell_type": "code",
   "execution_count": null,
   "id": "d91ee821-84a3-438d-a215-461070b47327",
   "metadata": {},
   "outputs": [],
   "source": [
    "fig.savefig('/scratch/wmtsai/temp_mcs/fig/MCS_BL_CWV_map_tropics.pdf', bbox_inches='tight')"
   ]
  },
  {
   "cell_type": "code",
   "execution_count": null,
   "id": "56f1483b-f6b6-451a-8375-3971e4ea5438",
   "metadata": {},
   "outputs": [],
   "source": []
  }
 ],
 "metadata": {
  "kernelspec": {
   "display_name": "Python 3 (ipykernel)",
   "language": "python",
   "name": "python3"
  },
  "language_info": {
   "codemirror_mode": {
    "name": "ipython",
    "version": 3
   },
   "file_extension": ".py",
   "mimetype": "text/x-python",
   "name": "python",
   "nbconvert_exporter": "python",
   "pygments_lexer": "ipython3",
   "version": "3.9.17"
  }
 },
 "nbformat": 4,
 "nbformat_minor": 5
}
