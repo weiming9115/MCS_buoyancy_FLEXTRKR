{
 "cells": [
  {
   "cell_type": "code",
   "execution_count": 1,
   "id": "f9ef58d5-e780-402c-84bb-f2fe2ebb41a1",
   "metadata": {
    "tags": []
   },
   "outputs": [],
   "source": [
    "import os\n",
    "import sys\n",
    "import xarray as xr\n",
    "import numpy as np\n",
    "import pandas as pd\n",
    "import matplotlib\n",
    "from matplotlib import pyplot as plt\n",
    "from matplotlib.colors import ListedColormap, LinearSegmentedColormap\n",
    "from datetime import datetime\n",
    "from pathlib import Path\n",
    "from matplotlib.lines import Line2D\n",
    "from matplotlib.patches import Patch\n",
    "from matplotlib.patches import Rectangle\n",
    "\n",
    "import cartopy.crs as ccrs\n",
    "import cartopy.feature as cfeat\n",
    "from cartopy.util import add_cyclic_point\n",
    "from cartopy.mpl.gridliner import LONGITUDE_FORMATTER, LATITUDE_FORMATTER\n",
    "\n",
    "# stats\n",
    "from scipy.stats import pearsonr\n",
    "\n",
    "import warnings"
   ]
  },
  {
   "cell_type": "code",
   "execution_count": 2,
   "id": "46fdce1d-f128-4feb-874c-81f2ae608cd1",
   "metadata": {
    "tags": []
   },
   "outputs": [],
   "source": [
    "warnings.filterwarnings('ignore')"
   ]
  },
  {
   "cell_type": "code",
   "execution_count": 3,
   "id": "a4562bf5-c072-49c2-a9b1-7f07d39497a6",
   "metadata": {
    "tags": []
   },
   "outputs": [],
   "source": [
    "# set fonts configuration - Arial\n",
    "matplotlib.rcParams['font.family'] = \"Open Sans\"\n",
    "matplotlib.rcParams['font.sans-serif'] = \"Arial\""
   ]
  },
  {
   "cell_type": "code",
   "execution_count": 4,
   "id": "17dea917-f338-4410-9d4b-663bd56cde5e",
   "metadata": {
    "tags": []
   },
   "outputs": [
    {
     "data": {
      "image/png": "[encoded data removed]",
      "text/html": [
       "<div style=\"vertical-align: middle;\"><strong>my_colormap</strong> </div><div class=\"cmap\"><img alt=\"my_colormap colormap\" title=\"my_colormap\" style=\"border: 1px solid #555;\" src=\"data:image/png;base64,iVBORw0KGgoAAAANSUhEUgAAAgAAAABACAYAAABsv8+/AAAAGnRFWHRUaXRsZQBteV9jb2xvcm1hcCBjb2xvcm1hcBJM2FsAAAAgdEVYdERlc2NyaXB0aW9uAG15X2NvbG9ybWFwIGNvbG9ybWFwg1KcDQAAADB0RVh0QXV0aG9yAE1hdHBsb3RsaWIgdjMuNy4xLCBodHRwczovL21hdHBsb3RsaWIub3JnKq/4TQAAADJ0RVh0U29mdHdhcmUATWF0cGxvdGxpYiB2My43LjEsIGh0dHBzOi8vbWF0cGxvdGxpYi5vcmcECWdqAAACPUlEQVR4nO3WTXLaQBSF0YeYZJJJNpDsf4MprL8M1JiigciAZ/ecyatugRpU2PUd/o7rWlU1zUtVVc3LWlVVU5tzNz/3553rD+bYzhmXbrb79fsfbf9jXq7ntO2f+v32+tN0ft1yd33Zv77/OM3bHM/rR3O+Wk/jtp6695/Xl+vtOY/TNqdufu7PV/s1fmxzOrXZ1uP99XAYq6rq15/hev4+Ptjf5o+f222GWt6ah53rx5v1/N/1cLN+bh67++ytL+9fv+V5PJ57n6d7Hmvbb39PQ/s7Geb1/n5bH7a3V7tNHZa6v9/NdvztfPX63n4/v3r93XP2znv1+z973rvP8dn3Pfs5X/3+Xzyv/WxrPc8H+0t3vf38q/0bv5lLf70dO9Vz6xe/1sP77J337s927/pQAEAcAQAAgQQAAAQSAAAQSAAAQCABAACBBAAABBIAABBIAABAIAEAAIEEAAAEEgAAEEgAAEAgAQAAgQQAAAQSAAAQSAAAQCABAACBBAAABBIAABBIAABAIAEAAIEEAAAEEgAAEEgAAEAgAQAAgQQAAAQSAAAQSAAAQCABAACBBAAABBIAABBIAABAIAEAAIEEAAAEEgAAEEgAAEAgAQAAgQQAAAQSAAAQSAAAQCABAACBBAAABBIAABBIAABAIAEAAIEEAAAEEgAAEEgAAEAgAQAAgQQAAAQSAAAQSAAAQCABAACBBAAABBIAABBIAABAIAEAAIEEAAAEEgAAEEgAAEAgAQAAgQQAAAT6B7kQfA3nac7oAAAAAElFTkSuQmCC\"></div><div style=\"vertical-align: middle; max-width: 514px; display: flex; justify-content: space-between;\"><div style=\"float: left;\"><div title=\"#f7fbffff\" style=\"display: inline-block; width: 1em; height: 1em; margin: 0; vertical-align: middle; border: 1px solid #555; background-color: #f7fbffff;\"></div> under</div><div style=\"margin: 0 auto; display: inline-block;\">bad <div title=\"#00000000\" style=\"display: inline-block; width: 1em; height: 1em; margin: 0; vertical-align: middle; border: 1px solid #555; background-color: #00000000;\"></div></div><div style=\"float: right;\">over <div title=\"#800000ff\" style=\"display: inline-block; width: 1em; height: 1em; margin: 0; vertical-align: middle; border: 1px solid #555; background-color: #800000ff;\"></div></div>"
      ],
      "text/plain": [
       "<matplotlib.colors.LinearSegmentedColormap at 0x7fcdbd79f7c0>"
      ]
     },
     "execution_count": 4,
     "metadata": {},
     "output_type": "execute_result"
    }
   ],
   "source": [
    "colors1 = plt.cm.Blues(np.linspace(0., 1, 10))\n",
    "colors2 = plt.cm.jet(np.linspace(0.5, 1, 30))\n",
    "\n",
    "# combine them and build a new colormap\n",
    "colors = np.vstack((colors1, colors2))\n",
    "mixedmap = LinearSegmentedColormap.from_list('my_colormap', colors)\n",
    "mixedmap"
   ]
  },
  {
   "cell_type": "code",
   "execution_count": 5,
   "id": "9a511726-ce00-4e69-baa7-deca5c81fd87",
   "metadata": {
    "tags": []
   },
   "outputs": [],
   "source": [
    "# %%time\n",
    "# phase_list = [data_tracks.idt_mcs_init,data_tracks.idt_mcs_grow, data_tracks.idt_mcs_mature,  \n",
    "#               data_tracks.idt_mcs_decay,data_tracks.idt_mcs_end]\n",
    "\n",
    "# data_track_phase = []\n",
    "# for p,idt_phase in enumerate(phase_list):\n",
    "\n",
    "#     tmp_list = []\n",
    "#     for track in data_tracks.tracks:\n",
    "#         tmp_list.append(data_tracks.isel(times=idt_phase).sel(tracks=track).drop('times'))\n",
    "#     data_track_phase.append(xr.concat(tmp_list, pd.Index(data_tracks.tracks.values, name='tracks')))\n",
    "# data_track_phase_xr = xr.concat(data_track_phase, pd.Index([\"Init\", \"Grow\", \"Mature\", \"Decay\", \"End\"], name='mcs_phase'))"
   ]
  },
  {
   "cell_type": "code",
   "execution_count": 6,
   "id": "75a3db8d-fe1e-4689-8607-29bf2c182f84",
   "metadata": {
    "tags": []
   },
   "outputs": [],
   "source": [
    "def BL_mcs_2dmap(fid_envs_track):\n",
    "    \"\"\"\n",
    "    input: processed envs_track file containing MCS feature mask and 2D/3D variables on ERA-5 coordinates\n",
    "    return BL componets within the tracked MCS feature\n",
    "    \"\"\"\n",
    "    \n",
    "    data = xr.open_dataset(fid_envs_track)\n",
    "    BL_TOT = data.BL_TOT\n",
    "    BL_CAPE = data.BL_CAPE\n",
    "    BL_SUBSAT = data.BL_SUBSAT\n",
    "    \n",
    "    # maskout grids not covered by MCS \n",
    "    mcs_mask = data.cloudtracknumber_nomergesplit # binary mask\n",
    "    BL_TOT_masked = BL_TOT.where(mcs_mask > 0)\n",
    "    BL_CAPE_masked = BL_CAPE.where(mcs_mask > 0)\n",
    "    BL_SUBSAT_masked = BL_SUBSAT.where(mcs_mask > 0)\n",
    "    \n",
    "    BL_TOT_env = BL_TOT.where(mcs_mask == 0)\n",
    "    BL_CAPE_env = BL_CAPE.where(mcs_mask == 0)\n",
    "    BL_SUBSAT_env = BL_SUBSAT.where(mcs_mask == 0)\n",
    "    \n",
    "    return BL_TOT_masked, BL_CAPE_masked, BL_SUBSAT_masked, BL_TOT_env, BL_CAPE_env, BL_SUBSAT_env"
   ]
  },
  {
   "cell_type": "code",
   "execution_count": 7,
   "id": "7d22f4d6-8caf-4348-9119-6e95fc3b8c6a",
   "metadata": {
    "tags": []
   },
   "outputs": [],
   "source": [
    "def BL_fract_amp_condmn(files):\n",
    "\n",
    "    # bins for BL_CAPE and BL_SUBSAT\n",
    "    bins_fract = np.linspace(0,0.4,21)\n",
    "    bins_amp = np.linspace(0,0.01,21)\n",
    "    bins_samples = np.zeros((5, len(bins_fract)-1, len(bins_amp)-1)) # histograms for 5 MCS phases\n",
    "    bins_duration = np.copy(bins_samples)\n",
    "\n",
    "    track_list = []\n",
    "    for file in files:\n",
    "        \n",
    "        track_list.append(int(file.name[-8:-3])) # save track number \n",
    "        \n",
    "        tmp = xr.open_dataset(file)\n",
    "        # calculate BL+ fraction and BL+ amplitude\n",
    "        BL_mcs = tmp.Buoy_TOT.where(tmp.cloudtracknumber_nomergesplit > 0)\n",
    "        BL_pos = BL_mcs.where(BL_mcs > 0, 0)\n",
    "        BL_pos_binary = BL_pos.where(BL_pos ==0, 1)\n",
    "        mcs_area = tmp.cloudtracknumber_nomergesplit.sum(('x','y'))\n",
    "        BL_pos_area = BL_pos_binary.sum(('x','y'))\n",
    "        BL_pos_frac = BL_pos_area/mcs_area\n",
    "        BL_amp = BL_mcs.where(BL_mcs > 0).mean(('x','y'))\n",
    "        \n",
    "        # get mcs duration\n",
    "        mcs_duration = data_tracks.sel(tracks=int(file.name[-8:-3])).mcs_duration\n",
    "        \n",
    "        for p, phase in enumerate([\"Init\", \"Grow\", \"Mature\", \"Decay\", \"End\"]):\n",
    "\n",
    "            # get 1-D fract and amp values associated with MCS\n",
    "            fract_1d = BL_pos_frac.sel(mcs_phase=phase).values # the last one is NaN\n",
    "            amp_1d = BL_amp.sel(mcs_phase=phase).values # the last one is NaN \n",
    "\n",
    "            for i in range(len(bins_fract)-1):\n",
    "                idx = np.where(np.logical_and(fract_1d >= bins_fract[i], fract_1d < bins_fract[i+1]))[0]\n",
    "                for j in range(len(bins_amp)-1):\n",
    "                    idy = np.where(np.logical_and(amp_1d >= bins_amp[j], amp_1d < bins_amp[j+1]))[0]\n",
    "\n",
    "                    if len(idx) > 0 and len(idy) > 0:\n",
    "                        bins_samples[p,i,j] += 1\n",
    "                        bins_duration[p,i,j] += mcs_duration.values\n",
    "                    \n",
    "    ds_bins = xr.Dataset(data_vars = dict(samples = (['phase','bins_fract','bins_amp'], bins_samples),\n",
    "                                          mcs_duration_sum = (['phase','bins_fract','bins_amp'], bins_duration)),\n",
    "                 coords = dict(tracks = track_list,\n",
    "                               phase = (['phase'], ['Initial', 'Grow', 'Mature', 'Decay', 'End']),\n",
    "                               bins_fract = (['bins_fract'], bins_fract[:-1]),\n",
    "                               bins_amp = (['bins_amp'], bins_amp[:-1])),\n",
    "                 attrs = dict(description = 'Buoyacny fraction - amplitude histogram. 2014'))\n",
    "    \n",
    "    return ds_bins"
   ]
  },
  {
   "cell_type": "code",
   "execution_count": 8,
   "id": "a40e1534-51a2-49ca-8bff-930056ac9a0a",
   "metadata": {
    "tags": []
   },
   "outputs": [],
   "source": [
    "def data_tracks_BL_features(files):\n",
    "    \"\"\"\n",
    "    return tracks by BL_TOT bins (unit: K)\n",
    "    \"\"\"\n",
    "    \n",
    "    track_list = []\n",
    "    BL_features_list = []    \n",
    "        \n",
    "    for file in files:\n",
    "        \n",
    "        track_list.append(int(file.name[-8:-3])) # save track number \n",
    "        \n",
    "        tmp = xr.open_dataset(file)\n",
    "        # calculate BL+ fraction and BL+ amplitude\n",
    "        BL_mcs = tmp.Buoy_TOT.where(tmp.cloudtracknumber_nomergesplit > 0)\n",
    "        BL_pos = BL_mcs.where(BL_mcs > 0, 0)\n",
    "        BL_pos_nan = BL_mcs.where(BL_mcs > 0, np.nan)\n",
    "        BL_pos_binary = BL_pos.where(BL_pos ==0, 1)\n",
    "        mcs_area = tmp.cloudtracknumber_nomergesplit.sum(('x','y'))\n",
    "        BL_pos_area = BL_pos_binary.sum(('x','y')).rename('BL_positive_area')\n",
    "        BL_pos_frac = (BL_pos_area/mcs_area).rename('BL_positive_fraction')\n",
    "        BL_amp_bp = BL_pos_nan.mean(('x','y')).rename('BL_TOT_bp')\n",
    "        BL_amp_mcs = BL_mcs.mean(('x','y')).rename('BL_TOT_mcs')\n",
    "        \n",
    "        # replace 0 by nan\n",
    "        BL_pos_area = BL_pos_area.where(BL_pos_area > 0, np.nan)\n",
    "        BL_pos_frac = BL_pos_frac.where(BL_pos_frac > 0, np.nan)\n",
    "        \n",
    "        BL_features_list.append(xr.merge([BL_pos_area, BL_pos_frac, BL_amp_bp, BL_amp_mcs]))\n",
    "    \n",
    "    BL_features_xr = xr.concat(BL_features_list, pd.Index(track_list, name='tracks'))\n",
    "    \n",
    "    return BL_features_xr"
   ]
  },
  {
   "cell_type": "code",
   "execution_count": 9,
   "id": "580c0226-3997-4d1f-b551-cd8e595085b1",
   "metadata": {
    "tags": []
   },
   "outputs": [],
   "source": [
    "def data_tracks_precip_features(files):\n",
    "    \"\"\"\n",
    "    return tracks by BL_TOT bins (unit: K)\n",
    "    \"\"\"\n",
    "    \n",
    "    track_list = []\n",
    "    precip_features_list = []    \n",
    "    corr_coeff_temp = []\n",
    "        \n",
    "    for file in files:\n",
    "        \n",
    "        track_list.append(int(file.name[-8:-3])) # save track number \n",
    "        \n",
    "        tmp = xr.open_dataset(file)\n",
    "        # calculate precip amplitude within mcs\n",
    "        prec_mcs = tmp.precipitationCal.where(tmp.cloudtracknumber_nomergesplit > 0)\n",
    "        mtpr_mcs = tmp.mtpr.where(tmp.cloudtracknumber_nomergesplit > 0)\n",
    "        prec_amp_mcs = prec_mcs.mean(('x','y')).rename('precipitationCal_mcs')\n",
    "        mtpr_amp_mcs = mtpr_mcs.mean(('x','y')).rename('mtpr_mcs')\n",
    "        \n",
    "        prec_mcs = tmp.precipitationCal.where(tmp.cloudtracknumber_nomergesplit > 0, 0)\n",
    "        mtpr_mcs = tmp.mtpr.where(tmp.cloudtracknumber_nomergesplit > 0, 0)\n",
    "        # estimate spatial correlation \n",
    "        corr_coeff = []\n",
    "        for phase in tmp.mcs_phase:\n",
    "            prec_era5 = prec_mcs.sel(mcs_phase=phase)\n",
    "            prec_gpm = mtpr_mcs.sel(mcs_phase=phase)\n",
    "            stats = pearsonr(prec_era5.values.ravel(), prec_gpm.values.ravel())\n",
    "            corr_coeff.append(stats[0]) # save correlation coefficient \n",
    "        corr_coeff_space = xr.Dataset(data_vars=dict(corr_coeff_space=(['mcs_phase'],np.asarray(corr_coeff))),\n",
    "                                 coords=dict(mcs_phase=(['mcs_phase'], tmp.mcs_phase.values)))\n",
    "        \n",
    "        # estimate temporal correlation \n",
    "        corr_coeff_temp.append(pearsonr(prec_amp_mcs.values.ravel(), mtpr_amp_mcs.values.ravel())[0])\n",
    "        \n",
    "        precip_features_list.append(xr.merge([prec_amp_mcs ,mtpr_amp_mcs,\n",
    "                                              corr_coeff_space]))\n",
    "    \n",
    "    corr_coeff_temp_xr = xr.Dataset(data_vars=dict(corr_coeff_temp=(['tracks'],np.asarray(corr_coeff_temp))),\n",
    "                                 coords=dict(tracks=(['tracks'], track_list)))\n",
    "    precip_features_xr = xr.concat(precip_features_list, pd.Index(track_list, name='tracks'))\n",
    "\n",
    "    # merge two datasets\n",
    "    precip_features_xr = xr.merge([precip_features_xr, corr_coeff_temp_xr])\n",
    "    \n",
    "    return precip_features_xr"
   ]
  },
  {
   "cell_type": "code",
   "execution_count": 10,
   "id": "db8cbdbe-c618-4c40-81c9-91487bacda94",
   "metadata": {
    "tags": []
   },
   "outputs": [
    {
     "name": "stdout",
     "output_type": "stream",
     "text": [
      "CPU times: user 56 s, sys: 3.57 s, total: 59.6 s\n",
      "Wall time: 1min 3s\n"
     ]
    }
   ],
   "source": [
    "%%time\n",
    "\n",
    "year =2014\n",
    "\n",
    "# directory of the mcs_3dvars files\n",
    "dir_envs_track = Path('/neelin2020/mcs_flextrkr/mcs_stats/envs_track/{}/tropics'.format(year))\n",
    "files = sorted(list(dir_envs_track.glob('*.nc')))\n",
    "\n",
    "# load data_tracks \n",
    "data_tracks = xr.open_dataset('/neelin2020/mcs_flextrkr/mcs_stats/mcs_tracks_non2mcs/mcs_tracks_non2mcs_{}.tropics30NS.nc'.format(year))\n",
    "\n",
    "# write out BL_features dataset based on mcs_envs output\n",
    "data_BL_features = data_tracks_BL_features(files)"
   ]
  },
  {
   "cell_type": "code",
   "execution_count": 12,
   "id": "e7a26acb-9428-47ca-8a7c-3a2542aba096",
   "metadata": {
    "tags": []
   },
   "outputs": [
    {
     "name": "stdout",
     "output_type": "stream",
     "text": [
      "CPU times: user 1min 19s, sys: 3.22 s, total: 1min 23s\n",
      "Wall time: 1min 24s\n"
     ]
    }
   ],
   "source": [
    "%%time\n",
    "data_precip_features = data_tracks_precip_features(files)"
   ]
  },
  {
   "cell_type": "code",
   "execution_count": 56,
   "id": "186bf9e0-b54d-4b7c-92d1-0afda89e0a27",
   "metadata": {
    "tags": []
   },
   "outputs": [],
   "source": [
    "# filtering out tracks with less coherency in ERA-5 and GPM precip.\n",
    "corr_temp = data_precip_features.corr_coeff_temp\n",
    "data_tracks_HCC = xr.merge([data_tracks['mcs_duration'].isel(tracks=np.where(corr_temp > 0.5)[0]),\n",
    "                            data_BL_features.isel(tracks=np.where(corr_temp > 0.5)[0]),\n",
    "                            data_precip_features.isel(tracks=np.where(corr_temp > 0.5)[0])])\n",
    "data_tracks_orig = xr.merge([data_tracks['mcs_duration'],\n",
    "                            data_BL_features,\n",
    "                            data_precip_features])"
   ]
  },
  {
   "cell_type": "code",
   "execution_count": 57,
   "id": "d72cf563-1646-4a47-923a-adc6a7ee67fa",
   "metadata": {
    "tags": []
   },
   "outputs": [
    {
     "data": {
      "image/png": "[encoded data removed]",
      "text/plain": [
       "<Figure size 1200x300 with 8 Axes>"
      ]
     },
     "metadata": {},
     "output_type": "display_data"
    }
   ],
   "source": [
    "# without filtering out the \n",
    "fig, (ax1,ax2,ax3,ax4) = plt.subplots(1,4,figsize=(12,3))\n",
    "\n",
    "for (ax, duration_min, duration_max) in zip([ax1,ax2,ax3,ax4],[0,6,12,24],[6,12,24,200]):\n",
    "    \n",
    "    # different mcs lifetimes\n",
    "    tmp = data_tracks_orig.mcs_duration\n",
    "    idx = np.where(np.logical_and(tmp >= duration_min, tmp < duration_max))[0]\n",
    "    data_sub = data_tracks_orig.isel(tracks=idx) # tracks with the corresponding range of the mcs duration\n",
    "    \n",
    "    ax.plot(data_sub.mcs_phase, 625*data_sub.BL_positive_area.mean('tracks'), '-ok')\n",
    "    ax2 = ax.twinx()\n",
    "    ax2.errorbar(data_sub.mcs_phase, 340*3/9.8*data_sub.BL_TOT_bp.mean('tracks'),\n",
    "             yerr=340*3/9.8*data_sub.BL_TOT_bp.std('tracks')/np.sqrt(len(data_sub.tracks)), color='b')\n",
    "\n",
    "    ax.set_ylabel('Area of Buoy$^{+}$ (km$^2$)', color='k', fontsize=10)\n",
    "    ax2.set_ylabel('Mean amplitude of Buoy$^{+}$ (K)', color='b', fontsize=10)\n",
    "    ax.set_title('non2MCS tracks, \\n Tracks: {}'.format(len(data_sub.tracks)), fontsize=10.5)\n",
    "    \n",
    "    ax.set_ylim([3500,26000])\n",
    "    ax2.set_ylim([0.18, 0.4])\n",
    "    \n",
    "plt.tight_layout()"
   ]
  },
  {
   "cell_type": "code",
   "execution_count": 53,
   "id": "a078dfd5-26bb-4706-a479-c329e07a1ba7",
   "metadata": {
    "tags": []
   },
   "outputs": [
    {
     "data": {
      "image/png": "[encoded data removed]",
      "text/plain": [
       "<Figure size 1200x300 with 8 Axes>"
      ]
     },
     "metadata": {},
     "output_type": "display_data"
    }
   ],
   "source": [
    "fig, (ax1,ax2,ax3,ax4) = plt.subplots(1,4,figsize=(12,3))\n",
    "\n",
    "for (ax, duration_min, duration_max) in zip([ax1,ax2,ax3,ax4],[0,6,12,24],[6,12,24,200]):\n",
    "    \n",
    "    # different mcs lifetimes\n",
    "    tmp = data_tracks_HCC.mcs_duration\n",
    "    idx = np.where(np.logical_and(tmp >= duration_min, tmp < duration_max))[0]\n",
    "    data_sub = data_tracks_HCC.isel(tracks=idx) # tracks with the corresponding range of the mcs duration\n",
    "    \n",
    "    ax.plot(data_sub.mcs_phase, 625*data_sub.BL_positive_area.mean('tracks'), '-ok')\n",
    "    ax2 = ax.twinx()\n",
    "    ax2.errorbar(data_sub.mcs_phase, 340*3/9.8*data_sub.BL_TOT_bp.mean('tracks'),\n",
    "             yerr=340*3/9.8*data_sub.BL_TOT_bp.std('tracks')/np.sqrt(len(data_sub.tracks)), color='b')\n",
    "\n",
    "    ax.set_ylabel('Area of Buoy$^{+}$ (km$^2$)', color='k', fontsize=10)\n",
    "    ax2.set_ylabel('Mean amplitude of Buoy$^{+}$ (K)', color='b', fontsize=10)\n",
    "    ax.set_title('non2MCS tracks, \\n Tracks: {}'.format(len(data_sub.tracks)), fontsize=10.5)\n",
    "    \n",
    "    ax.set_ylim([3500,26000])\n",
    "    ax2.set_ylim([0.18, 0.4])\n",
    "    \n",
    "plt.tight_layout()"
   ]
  },
  {
   "cell_type": "code",
   "execution_count": null,
   "id": "fb8533a4-df22-4279-aec0-90a2d6c725ce",
   "metadata": {
    "tags": []
   },
   "outputs": [],
   "source": [
    "# scatter plot BL, mean; BL, pos-mean; mcs duration\n",
    "# science question: which matters more for longer durations?\n",
    "\n",
    "fig, (ax1,ax2,ax3) = plt.subplots(1,3,figsize=(12,3.5))\n",
    "\n",
    "bp_init = 340*3/9.8*data_BL_features.BL_TOT_bp.sel(mcs_phase='Init')\n",
    "bp_area = 625*data_BL_features.BL_positive_area.sel(mcs_phase='Init')\n",
    "bmean_init = 340*3/9.8*data_BL_features.BL_TOT_mcs.sel(mcs_phase='Init')\n",
    "mcs_duration = data_tracks\n",
    "cp1 = ax1.scatter(bp_init, bp_area, c=data_tracks.mcs_duration, s=10, vmin=0, vmax=40, cmap='jet')\n",
    "cbar = plt.colorbar(cp1, ax=ax1, shrink=0.6)\n",
    "cbar.set_label('MCS duration (hr)',fontsize=10)\n",
    "ax1.set_xlabel('Mean amplitude of Buoy.$^{+}$ (K)')\n",
    "ax1.set_ylabel('Area of Buoy.$^{+}$ (km$^2$)')\n",
    "ax1.set_title('MCS phase: Initial',fontsize=10.5)\n",
    "\n",
    "bp_init = 340*3/9.8*data_BL_features.BL_TOT_bp.sel(mcs_phase='Grow')\n",
    "bp_frac = 625*data_BL_features.BL_positive_area.sel(mcs_phase='Grow')\n",
    "bmean_init = 340*3/9.8*data_BL_features.BL_TOT_mcs.sel(mcs_phase='Grow')\n",
    "cp2 = ax2.scatter(bp_init, bp_frac, c=data_tracks.mcs_duration, s=10, vmin=0, vmax=40, cmap='jet')\n",
    "cbar = plt.colorbar(cp2, ax=ax2, shrink=0.6)\n",
    "cbar.set_label('MCS duration (hr)',fontsize=10)\n",
    "ax2.set_xlabel('Mean amplitude of Buoy.$^{+}$ (K)')\n",
    "ax2.set_ylabel('Area of Buoy.$^{+}$ (km$^2$)')\n",
    "ax2.set_title('MCS phase: Growing',fontsize=10.5)\n",
    "\n",
    "bp_init = 340*3/9.8*data_BL_features.BL_TOT_bp.sel(mcs_phase='Mature')\n",
    "bp_frac = 625*data_BL_features.BL_positive_area.sel(mcs_phase='Mature')\n",
    "bmean_init = 340*3/9.8*data_BL_features.BL_TOT_mcs.sel(mcs_phase='Mature')\n",
    "cp3 = ax3.scatter(bp_init, bp_frac, c=data_tracks.mcs_duration, s=10, vmin=0, vmax=40, cmap='jet')\n",
    "cbar = plt.colorbar(cp3, ax=ax3, shrink=0.6)\n",
    "cbar.set_label('MCS duration (hr)',fontsize=10)\n",
    "ax3.set_xlabel('Mean amplitude of Buoy.$^{+}$ (K)')\n",
    "ax3.set_ylabel('Area of Buoy.$^{+}$ (km$^2$)')\n",
    "ax3.set_title('MCS phase: Mature',fontsize=10.5)\n",
    "\n",
    "ax1.set_xlim([-0.01,1.01])\n",
    "ax2.set_xlim([-0.01,1.01])\n",
    "ax3.set_xlim([-0.01,1.01])\n",
    "\n",
    "ax1.set_ylim([0, 140000])\n",
    "ax2.set_ylim([0, 140000])\n",
    "ax3.set_ylim([0, 140000])\n",
    "\n",
    "plt.tight_layout()"
   ]
  },
  {
   "cell_type": "code",
   "execution_count": null,
   "id": "52a688fb-db7c-456f-a238-6e6629c60585",
   "metadata": {
    "tags": []
   },
   "outputs": [],
   "source": [
    "# scatter plot BL, mean; BL, pos-mean; mcs duration\n",
    "# science question: which matters more for longer durations?\n",
    "\n",
    "fig, (ax1,ax2,ax3) = plt.subplots(1,3,figsize=(12,3.5))\n",
    "\n",
    "bp_init = 340*3/9.8*data_BL_features.BL_TOT_bp.sel(mcs_phase='Init')\n",
    "bp_frac = data_BL_features.BL_positive_fraction.sel(mcs_phase='Init')\n",
    "bmean_init = 340*3/9.8*data_BL_features.BL_TOT_mcs.sel(mcs_phase='Init')\n",
    "mcs_duration = data_tracks\n",
    "cp1 = ax1.scatter(bp_init, bp_frac, c=data_tracks.mcs_duration, s=10, vmin=0, vmax=40, cmap='jet')\n",
    "cbar = plt.colorbar(cp1, ax=ax1, shrink=0.6)\n",
    "cbar.set_label('MCS duration (hr)',fontsize=10)\n",
    "ax1.set_xlabel('Mean amplitude of Buoy.$^{+}$ (K)')\n",
    "ax1.set_ylabel('Fraction of Buoy.$^{+}$')\n",
    "ax1.set_title('MCS phase: Initial',fontsize=10.5)\n",
    "\n",
    "bp_init = 340*3/9.8*data_BL_features.BL_TOT_bp.sel(mcs_phase='Grow')\n",
    "bp_frac = data_BL_features.BL_positive_fraction.sel(mcs_phase='Grow')\n",
    "bmean_init = 340*3/9.8*data_BL_features.BL_TOT_mcs.sel(mcs_phase='Grow')\n",
    "cp2 = ax2.scatter(bp_init, bp_frac, c=data_tracks.mcs_duration, s=10, vmin=0, vmax=40, cmap='jet')\n",
    "cbar = plt.colorbar(cp2, ax=ax2, shrink=0.6)\n",
    "cbar.set_label('MCS duration (hr)',fontsize=10)\n",
    "ax2.set_xlabel('Mean amplitude of Buoy.$^{+}$ (K)')\n",
    "ax2.set_ylabel('Fraction of Buoy.$^{+}$')\n",
    "ax2.set_title('MCS phase: Growing',fontsize=10.5)\n",
    "\n",
    "bp_init = 340*3/9.8*data_BL_features.BL_TOT_bp.sel(mcs_phase='Mature')\n",
    "bp_frac = data_BL_features.BL_positive_fraction.sel(mcs_phase='Mature')\n",
    "bmean_init = 340*3/9.8*data_BL_features.BL_TOT_mcs.sel(mcs_phase='Mature')\n",
    "cp3 = ax3.scatter(bp_init, bp_frac, c=data_tracks.mcs_duration, s=10, vmin=0, vmax=40, cmap='jet')\n",
    "cbar = plt.colorbar(cp3, ax=ax3, shrink=0.6)\n",
    "cbar.set_label('MCS duration (hr)',fontsize=10)\n",
    "ax3.set_xlabel('Mean amplitude of Buoy.$^{+}$ (K)')\n",
    "ax3.set_ylabel('Fraction of Buoy.$^{+}$')\n",
    "ax3.set_title('MCS phase: Mature',fontsize=10.5)\n",
    "\n",
    "ax1.set_xlim([-0.01,1.01])\n",
    "ax2.set_xlim([-0.01,1.01])\n",
    "ax3.set_xlim([-0.01,1.01])\n",
    "\n",
    "ax1.set_ylim([0, 0.6])\n",
    "ax2.set_ylim([0, 0.6])\n",
    "ax3.set_ylim([0, 0.6])\n",
    "\n",
    "plt.tight_layout()"
   ]
  },
  {
   "cell_type": "code",
   "execution_count": null,
   "id": "d9e5f194-30c3-4ecd-a0ef-ac1604f09383",
   "metadata": {
    "tags": []
   },
   "outputs": [],
   "source": [
    "# scatter plot BL, mean; BL, pos-mean; mcs duration\n",
    "# science question: which matters more for longer durations?\n",
    "\n",
    "fig, (ax1,ax2,ax3) = plt.subplots(1,3,figsize=(12,3.5))\n",
    "\n",
    "bp_init = 340*3/9.8*data_BL_features.BL_TOT_bp.sel(mcs_phase='Init')\n",
    "bp_frac = data_BL_features.BL_positive_fraction.sel(mcs_phase='Init')\n",
    "bp_area = 625*data_BL_features.BL_positive_area.sel(mcs_phase='Init')\n",
    "bmean_init = 340*3/9.8*data_BL_features.BL_TOT_mcs.sel(mcs_phase='Init')\n",
    "mcs_duration = data_tracks\n",
    "cp1 = ax1.scatter(bp_area, bp_frac, c=data_tracks.mcs_duration, s=10, vmin=0, vmax=40, cmap='jet')\n",
    "cbar = plt.colorbar(cp1, ax=ax1, shrink=0.6)\n",
    "cbar.set_label('MCS duration (hr)',fontsize=10)\n",
    "ax1.set_xlabel('Area of Buoy.$^{+}$ (km$^2$)')\n",
    "ax1.set_ylabel('Fraction of Buoy.$^{+}$')\n",
    "ax1.set_title('MCS phase: Initial',fontsize=10.5)\n",
    "\n",
    "bp_init = 340*3/9.8*data_BL_features.BL_TOT_bp.sel(mcs_phase='Grow')\n",
    "bp_frac = data_BL_features.BL_positive_fraction.sel(mcs_phase='Grow')\n",
    "bp_area = 625*data_BL_features.BL_positive_area.sel(mcs_phase='Grow')\n",
    "bmean_init = 340*3/9.8*data_BL_features.BL_TOT_mcs.sel(mcs_phase='Grow')\n",
    "cp2 = ax2.scatter(bp_area, bp_frac, c=data_tracks.mcs_duration, s=10, vmin=0, vmax=40, cmap='jet')\n",
    "cbar = plt.colorbar(cp2, ax=ax2, shrink=0.6)\n",
    "cbar.set_label('MCS duration (hr)',fontsize=10)\n",
    "ax2.set_xlabel('Area of Buoy.$^{+}$ (km$^2$)')\n",
    "ax2.set_ylabel('Fraction of Buoy.$^{+}$')\n",
    "ax2.set_title('MCS phase: Growing',fontsize=10.5)\n",
    "\n",
    "bp_init = 340*3/9.8*data_BL_features.BL_TOT_bp.sel(mcs_phase='Mature')\n",
    "bp_frac = data_BL_features.BL_positive_fraction.sel(mcs_phase='Mature')\n",
    "bp_area = 625*data_BL_features.BL_positive_area.sel(mcs_phase='Mature')\n",
    "bmean_init = 340*3/9.8*data_BL_features.BL_TOT_mcs.sel(mcs_phase='Mature')\n",
    "cp3 = ax3.scatter(bp_area, bp_frac, c=data_tracks.mcs_duration, s=10, vmin=0, vmax=40, cmap='jet')\n",
    "cbar = plt.colorbar(cp3, ax=ax3, shrink=0.6)\n",
    "cbar.set_label('MCS duration (hr)',fontsize=10)\n",
    "ax3.set_xlabel('Area of Buoy.$^{+}$ (km$^2$)')\n",
    "ax3.set_ylabel('Fraction of Buoy.$^{+}$')\n",
    "ax3.set_title('MCS phase: Mature',fontsize=10.5)\n",
    "\n",
    "ax1.set_xlim([0, 140000])\n",
    "ax2.set_xlim([0, 140000])\n",
    "ax3.set_xlim([0, 140000])\n",
    "\n",
    "ax1.set_ylim([0, 0.6])\n",
    "ax2.set_ylim([0, 0.6])\n",
    "ax3.set_ylim([0, 0.6])\n",
    "\n",
    "plt.tight_layout()"
   ]
  },
  {
   "cell_type": "code",
   "execution_count": null,
   "id": "4898d040-2083-4af0-9047-c3b3d7f4043d",
   "metadata": {},
   "outputs": [],
   "source": []
  },
  {
   "cell_type": "code",
   "execution_count": null,
   "id": "3f23ca4a-89a8-4b48-b71a-c6327ed4324a",
   "metadata": {
    "tags": []
   },
   "outputs": [],
   "source": [
    "data_BL_init = data_BL_features.BL_TOT_mcs.sel(mcs_phase = 'Init')\n",
    "data_BL_init_sort = data_BL_init.sortby(data_BL_init)\n",
    "tracks_list = []\n",
    "\n",
    "for n in range(4):\n",
    "    tracks = data_BL_init_sort.tracks[n*len(data_BL_init_sort)//4:(n+1)*len(data_BL_init_sort)//4].values\n",
    "    tracks_list.append(tracks)\n",
    "    \n",
    "data_BL_init = data_BL_features.BL_TOT_bp.sel(mcs_phase = 'Init')\n",
    "data_BL_init_sort = data_BL_init.sortby(data_BL_init)\n",
    "tracks_list_bp = []\n",
    "\n",
    "for n in range(4):\n",
    "    tracks = data_BL_init_sort.tracks[n*len(data_BL_init_sort)//4:(n+1)*len(data_BL_init_sort)//4].values\n",
    "    tracks_list_bp.append(tracks)"
   ]
  },
  {
   "cell_type": "code",
   "execution_count": null,
   "id": "1787e57f-2ef3-44a4-bf85-af969626feda",
   "metadata": {
    "tags": []
   },
   "outputs": [],
   "source": [
    "# plot precip binned by different init. BL\n",
    "fig, (ax1,ax2) = plt.subplots(1,2,figsize=(10,3.5))\n",
    "\n",
    "for n, (tracks, q_label) in enumerate(zip(tracks_list, ['q4','q3','q2','q1'])):\n",
    "    \n",
    "    BL_init_mean = np.round(data_BL_features.BL_TOT_mcs.sel(tracks=tracks).mean().values*340/9.81*3,decimals=2)\n",
    "    \n",
    "    ax1.plot(data_precip_features.mcs_phase,\n",
    "             data_precip_features.sel(tracks=tracks).precipitationCal_mcs.mean('tracks'), '-o',\n",
    "             label='{} ({} K)'.format(q_label, BL_init_mean))\n",
    "ax1.legend()\n",
    "ax1.set_ylabel('MCS precipitation (mm/hr)', fontsize=10.5)\n",
    "ax1.set_title('Grouped by B$_{L,tot}$ at Init.', fontsize=10.5)\n",
    "\n",
    "for n, (tracks, q_label) in enumerate(zip(tracks_list_bp, ['q4','q3','q2','q1'])):\n",
    "    \n",
    "    BL_init_mean = np.round(data_BL_features.BL_TOT_bp.sel(tracks=tracks).mean().values*340/9.81*3,decimals=2)\n",
    "    \n",
    "    ax2.plot(data_precip_features.mcs_phase,\n",
    "             data_precip_features.sel(tracks=tracks).precipitationCal_mcs.mean('tracks'), '-o',\n",
    "             label='{} ({} K)'.format(q_label, BL_init_mean))\n",
    "ax2.legend()\n",
    "ax2.set_ylabel('MCS precipitation (mm/hr)', fontsize=10.5)\n",
    "ax2.set_title('Grouped by B$_{L,tot}$ (positive) at Init.', fontsize=10.5)"
   ]
  },
  {
   "cell_type": "code",
   "execution_count": null,
   "id": "e425c4d8-50a1-42ca-907c-99a469ddd31a",
   "metadata": {
    "tags": []
   },
   "outputs": [],
   "source": [
    "# higher buoyancy at init. longer duration?\n",
    "fig = plt.figure(figsize=(5,3))\n",
    "\n",
    "duration_list = []\n",
    "for tracks in tracks_list:\n",
    "    duration_list.append(data_tracks.sel(tracks=tracks).mcs_duration.values)\n",
    "    \n",
    "plt.boxplot(duration_list, labels=['q4','q3','q2','q1'], widths=0.3, showfliers=False, showmeans=True);\n",
    "plt.ylim([0,40])\n",
    "plt.ylabel('MCS duration', fontsize=10.5)\n",
    "plt.xlabel('Mean B$_{L,tot}$ at MCS-init.', fontsize=10.5)\n",
    "plt.grid(linestyle=':', linewidth=0.5)"
   ]
  },
  {
   "cell_type": "code",
   "execution_count": null,
   "id": "32df3354-929d-4bde-a5e2-d95802613b59",
   "metadata": {},
   "outputs": [],
   "source": []
  },
  {
   "cell_type": "code",
   "execution_count": null,
   "id": "766ad2c3-0da1-47c6-8ae0-993f2547c6cd",
   "metadata": {},
   "outputs": [],
   "source": []
  },
  {
   "cell_type": "code",
   "execution_count": null,
   "id": "11d431f4-7636-48a8-b0ac-4b68cc49eded",
   "metadata": {},
   "outputs": [],
   "source": []
  },
  {
   "cell_type": "code",
   "execution_count": null,
   "id": "0ba335ed-87f7-4422-a8a3-4da54995cc3a",
   "metadata": {
    "tags": []
   },
   "outputs": [],
   "source": [
    "%%time\n",
    "ds_bins_list = []\n",
    "# multiple-year stats\n",
    "for year in [2015,2016,2018]:\n",
    "    \n",
    "    # directory of the mcs_3dvars files\n",
    "    dir_envs_track = Path('/neelin2020/mcs_flextrkr/mcs_stats/envs_track/{}/tropics'.format(year))\n",
    "    files = sorted(list(dir_envs_track.glob('*.nc')))\n",
    "    track_list = [] # available mcs_envs\n",
    "    for file in files:\n",
    "        track_list.append(int(file.name[-8:-3]))\n",
    "\n",
    "    # track data\n",
    "    data_tracks = xr.open_dataset('/neelin2020/mcs_flextrkr/mcs_stats/mcs_tracks_non2mcs/mcs_tracks_non2mcs_{}.tropics30NS.nc'.format(year))\n",
    "\n",
    "    # calculate conditional mean\n",
    "    ds_bins_list.append(BL_fract_amp_condmn(files))\n",
    "    \n",
    "ds_bins_list = xr.concat(ds_bins_list, dim='new_dims').sum('new_dims')"
   ]
  },
  {
   "cell_type": "code",
   "execution_count": null,
   "id": "a8f91bc7-0db9-4d67-afec-7acf1cdec008",
   "metadata": {
    "tags": []
   },
   "outputs": [],
   "source": [
    "fig, (ax1,ax2,ax3,ax4,ax5) = plt.subplots(1,5,figsize=(15,3))\n",
    "\n",
    "for n, (mcs_phase,ax) in enumerate(zip(['Init','Grow','Mature','Decay','End'],[ax1,ax2,ax3,ax4,ax5])):\n",
    "    \n",
    "    # mean duration\n",
    "    tmp = (ds_bins_list.samples[n,:,:]/np.sum(ds_bins_list.samples[n,:,:])).values\n",
    "    tmp[tmp == 0] = np.nan\n",
    "    cp = ax.pcolormesh(ds_bins_list.bins_fract, ds_bins_list.bins_amp, tmp.T, \n",
    "                       vmin=0, vmax=0.04, cmap=mixedmap)\n",
    "    cbar = plt.colorbar(cp, ax=ax, shrink=0.6, pad=0.02)\n",
    "    cbar.set_label('occurrence')\n",
    "    \n",
    "    tmp2 = (ds_bins_list.samples[n,:,:]/np.sum(ds_bins_list.samples[n,:,:])).values\n",
    "    tmp2[tmp2 == 0] = np.nan\n",
    "    ax.contour(ds_bins_list.bins_fract, ds_bins_list.bins_amp, tmp2.T,\n",
    "              levels=[0.005, 0.01, 0.015, 0.02], colors=['k'], linewidths=1)\n",
    "    \n",
    "    ax.set_xlim([0,0.25])\n",
    "    ax.set_ylim([0,0.006])\n",
    "\n",
    "    ax.set_title(mcs_phase)\n",
    "    ax.set_xlabel('BL_FRAC',fontsize=12)\n",
    "    if n == 0:\n",
    "        ax.set_ylabel('BL_AMP (m/s$^2$)',fontsize=12)\n",
    "        \n",
    "plt.tight_layout()"
   ]
  },
  {
   "cell_type": "code",
   "execution_count": null,
   "id": "9b2626b0-75be-4371-a3fa-a7c7a18ae9b4",
   "metadata": {
    "tags": []
   },
   "outputs": [],
   "source": [
    "ds_bins_list"
   ]
  },
  {
   "cell_type": "code",
   "execution_count": null,
   "id": "7898a8bc-e081-43cf-91c7-5a657976d1e3",
   "metadata": {
    "tags": []
   },
   "outputs": [],
   "source": [
    "fig, (ax1,ax2,ax3,ax4,ax5) = plt.subplots(1,5,figsize=(15,3))\n",
    "\n",
    "for n, (mcs_phase,ax) in enumerate(zip(['Init','Grow','Mature','Decay','End'],[ax1,ax2,ax3,ax4,ax5])):\n",
    "    \n",
    "    # mean duration\n",
    "    tmp = (ds_bins_list.mcs_duration_sum[n,:,:]/ds_bins_list.samples[n,:,:]).values\n",
    "    tmp[tmp == 0] = np.nan\n",
    "    cp = ax.pcolormesh(ds_bins_list.bins_fract, 340*3/9.8*ds_bins_list.bins_amp, tmp.T, \n",
    "                       vmin=10, vmax=50, cmap=mixedmap)\n",
    "    cbar = plt.colorbar(cp, ax=ax, shrink=0.6, pad=0.02)\n",
    "    cbar.set_label('MCS duration (hr)')\n",
    "    \n",
    "    tmp2 = (ds_bins_list.samples[n,:,:]/np.sum(ds_bins_list.samples[n,:,:])).values\n",
    "    tmp2[tmp2 == 0] = np.nan\n",
    "    ax.contour(ds_bins_list.bins_fract, 340*3/9.8*ds_bins_list.bins_amp, tmp2.T,\n",
    "              levels=[0.005, 0.01, 0.015, 0.02], colors=['k'], linewidths=1)\n",
    "    \n",
    "    ax.set_xlim([0,0.25])\n",
    "    #ax.set_ylim([0,0.006])\n",
    "\n",
    "    ax.set_title(mcs_phase)\n",
    "    ax.set_xlabel('BL_FRAC',fontsize=12)\n",
    "    if n == 0:\n",
    "        ax.set_ylabel('BL_AMP (K)',fontsize=12)\n",
    "        \n",
    "plt.tight_layout()"
   ]
  },
  {
   "cell_type": "code",
   "execution_count": null,
   "id": "49d9ebd6-b6a6-4cc2-a28b-998c8ea27b78",
   "metadata": {},
   "outputs": [],
   "source": []
  },
  {
   "cell_type": "code",
   "execution_count": null,
   "id": "4f69b259-17d2-420b-8d67-379b81a50029",
   "metadata": {},
   "outputs": [],
   "source": []
  },
  {
   "cell_type": "code",
   "execution_count": null,
   "id": "166e4e4f-a230-4ae1-bb23-bd8ac09afff6",
   "metadata": {},
   "outputs": [],
   "source": []
  }
 ],
 "metadata": {
  "kernelspec": {
   "display_name": "Python 3 (ipykernel)",
   "language": "python",
   "name": "python3"
  },
  "language_info": {
   "codemirror_mode": {
    "name": "ipython",
    "version": 3
   },
   "file_extension": ".py",
   "mimetype": "text/x-python",
   "name": "python",
   "nbconvert_exporter": "python",
   "pygments_lexer": "ipython3",
   "version": "3.9.17"
  }
 },
 "nbformat": 4,
 "nbformat_minor": 5
}
