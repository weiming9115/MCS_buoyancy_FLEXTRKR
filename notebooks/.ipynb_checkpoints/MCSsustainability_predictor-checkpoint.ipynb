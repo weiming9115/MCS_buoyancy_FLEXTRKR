{
 "cells": [
  {
   "cell_type": "code",
   "execution_count": 1,
   "id": "79826074-e0cd-42d5-9312-a7e683e88277",
   "metadata": {
    "tags": []
   },
   "outputs": [],
   "source": [
    "import os\n",
    "import sys\n",
    "import xarray as xr\n",
    "import numpy as np\n",
    "import pandas as pd\n",
    "import matplotlib\n",
    "from matplotlib import pyplot as plt\n",
    "from matplotlib.colors import ListedColormap, LinearSegmentedColormap\n",
    "from datetime import datetime\n",
    "from pathlib import Path\n",
    "from matplotlib.lines import Line2D\n",
    "from matplotlib.patches import Patch\n",
    "from matplotlib.patches import Rectangle\n",
    "\n",
    "import cartopy.crs as ccrs\n",
    "import cartopy.feature as cfeat\n",
    "from cartopy.util import add_cyclic_point\n",
    "from cartopy.mpl.gridliner import LONGITUDE_FORMATTER, LATITUDE_FORMATTER\n",
    "\n",
    "import warnings"
   ]
  },
  {
   "cell_type": "code",
   "execution_count": 2,
   "id": "2f5560b6-fccf-41f1-b71b-27203beb8dc8",
   "metadata": {
    "tags": []
   },
   "outputs": [],
   "source": [
    "warnings.filterwarnings('ignore')"
   ]
  },
  {
   "cell_type": "code",
   "execution_count": 3,
   "id": "7efc3fb1-db6c-4978-bfa2-32468b063d8b",
   "metadata": {
    "tags": []
   },
   "outputs": [],
   "source": [
    "# set fonts configuration - Arial\n",
    "matplotlib.rcParams['font.family'] = \"Open Sans\"\n",
    "matplotlib.rcParams['font.sans-serif'] = \"Arial\""
   ]
  },
  {
   "cell_type": "code",
   "execution_count": 4,
   "id": "e1d7643b-ba05-4a03-959b-5b3dea17faf2",
   "metadata": {
    "tags": []
   },
   "outputs": [
    {
     "data": {
      "image/png": "[encoded data removed]",
      "text/html": [
       "<div style=\"vertical-align: middle;\"><strong>my_colormap</strong> </div><div class=\"cmap\"><img alt=\"my_colormap colormap\" title=\"my_colormap\" style=\"border: 1px solid #555;\" src=\"data:image/png;base64,iVBORw0KGgoAAAANSUhEUgAAAgAAAABACAYAAABsv8+/AAAAGnRFWHRUaXRsZQBteV9jb2xvcm1hcCBjb2xvcm1hcBJM2FsAAAAgdEVYdERlc2NyaXB0aW9uAG15X2NvbG9ybWFwIGNvbG9ybWFwg1KcDQAAADB0RVh0QXV0aG9yAE1hdHBsb3RsaWIgdjMuNy4xLCBodHRwczovL21hdHBsb3RsaWIub3JnKq/4TQAAADJ0RVh0U29mdHdhcmUATWF0cGxvdGxpYiB2My43LjEsIGh0dHBzOi8vbWF0cGxvdGxpYi5vcmcECWdqAAACPUlEQVR4nO3WTXLaQBSF0YeYZJJJNpDsf4MprL8M1JiigciAZ/ecyatugRpU2PUd/o7rWlU1zUtVVc3LWlVVU5tzNz/3553rD+bYzhmXbrb79fsfbf9jXq7ntO2f+v32+tN0ft1yd33Zv77/OM3bHM/rR3O+Wk/jtp6695/Xl+vtOY/TNqdufu7PV/s1fmxzOrXZ1uP99XAYq6rq15/hev4+Ptjf5o+f222GWt6ah53rx5v1/N/1cLN+bh67++ytL+9fv+V5PJ57n6d7Hmvbb39PQ/s7Geb1/n5bH7a3V7tNHZa6v9/NdvztfPX63n4/v3r93XP2znv1+z973rvP8dn3Pfs5X/3+Xzyv/WxrPc8H+0t3vf38q/0bv5lLf70dO9Vz6xe/1sP77J337s927/pQAEAcAQAAgQQAAAQSAAAQSAAAQCABAACBBAAABBIAABBIAABAIAEAAIEEAAAEEgAAEEgAAEAgAQAAgQQAAAQSAAAQSAAAQCABAACBBAAABBIAABBIAABAIAEAAIEEAAAEEgAAEEgAAEAgAQAAgQQAAAQSAAAQSAAAQCABAACBBAAABBIAABBIAABAIAEAAIEEAAAEEgAAEEgAAEAgAQAAgQQAAAQSAAAQSAAAQCABAACBBAAABBIAABBIAABAIAEAAIEEAAAEEgAAEEgAAEAgAQAAgQQAAAQSAAAQSAAAQCABAACBBAAABBIAABBIAABAIAEAAIEEAAAEEgAAEEgAAEAgAQAAgQQAAAT6B7kQfA3nac7oAAAAAElFTkSuQmCC\"></div><div style=\"vertical-align: middle; max-width: 514px; display: flex; justify-content: space-between;\"><div style=\"float: left;\"><div title=\"#f7fbffff\" style=\"display: inline-block; width: 1em; height: 1em; margin: 0; vertical-align: middle; border: 1px solid #555; background-color: #f7fbffff;\"></div> under</div><div style=\"margin: 0 auto; display: inline-block;\">bad <div title=\"#00000000\" style=\"display: inline-block; width: 1em; height: 1em; margin: 0; vertical-align: middle; border: 1px solid #555; background-color: #00000000;\"></div></div><div style=\"float: right;\">over <div title=\"#800000ff\" style=\"display: inline-block; width: 1em; height: 1em; margin: 0; vertical-align: middle; border: 1px solid #555; background-color: #800000ff;\"></div></div>"
      ],
      "text/plain": [
       "<matplotlib.colors.LinearSegmentedColormap at 0x7fb518155970>"
      ]
     },
     "execution_count": 4,
     "metadata": {},
     "output_type": "execute_result"
    }
   ],
   "source": [
    "colors1 = plt.cm.Blues(np.linspace(0., 1, 10))\n",
    "colors2 = plt.cm.jet(np.linspace(0.5, 1, 30))\n",
    "\n",
    "# combine them and build a new colormap\n",
    "colors = np.vstack((colors1, colors2))\n",
    "mixedmap = LinearSegmentedColormap.from_list('my_colormap', colors)\n",
    "mixedmap"
   ]
  },
  {
   "cell_type": "code",
   "execution_count": 24,
   "id": "092a649b-dad5-424a-bde4-37ff762f8c2e",
   "metadata": {
    "tags": []
   },
   "outputs": [],
   "source": [
    "# directory of the mcs_3dvars files\n",
    "\n",
    "year = 2014\n",
    "dir_envs_track = Path('/neelin2020/mcs_flextrkr/mcs_stats/envs_track/{}/totp_defined'.format(year))\n",
    "\n",
    "files = sorted(list(dir_envs_track.glob('*.nc')))\n",
    "\n",
    "# track data\n",
    "data_tracks = xr.open_dataset('/neelin2020/mcs_flextrkr/mcs_stats/mcs_tracks_non2mcs_2014.IndoPacific.nc')"
   ]
  },
  {
   "cell_type": "code",
   "execution_count": 7,
   "id": "b6db7f0a-6afb-4efa-829b-5e48123cab43",
   "metadata": {
    "tags": []
   },
   "outputs": [],
   "source": [
    "def BL_mcs_2dmap(fid_envs_track):\n",
    "    \"\"\"\n",
    "    input: processed envs_track file containing MCS feature mask and 2D/3D variables on ERA-5 coordinates\n",
    "    return BL componets within the tracked MCS feature\n",
    "    \"\"\"\n",
    "    \n",
    "    data = xr.open_dataset(fid_envs_track)\n",
    "    BL_TOT = data.BL_TOT\n",
    "    BL_CAPE = data.BL_CAPE\n",
    "    BL_SUBSAT = data.BL_SUBSAT\n",
    "    \n",
    "    # maskout grids not covered by MCS \n",
    "    mcs_mask = data.cloudtracknumber_nomergesplit # binary mask\n",
    "    BL_TOT_masked = BL_TOT.where(mcs_mask > 0)\n",
    "    BL_CAPE_masked = BL_CAPE.where(mcs_mask > 0)\n",
    "    BL_SUBSAT_masked = BL_SUBSAT.where(mcs_mask > 0)\n",
    "    \n",
    "    BL_TOT_env = BL_TOT.where(mcs_mask == 0)\n",
    "    BL_CAPE_env = BL_CAPE.where(mcs_mask == 0)\n",
    "    BL_SUBSAT_env = BL_SUBSAT.where(mcs_mask == 0)\n",
    "    \n",
    "    return BL_TOT_masked, BL_CAPE_masked, BL_SUBSAT_masked, BL_TOT_env, BL_CAPE_env, BL_SUBSAT_env"
   ]
  },
  {
   "cell_type": "code",
   "execution_count": 60,
   "id": "9cd14ea9-d4c0-470c-bd60-5fd1fcabb475",
   "metadata": {
    "tags": []
   },
   "outputs": [
    {
     "name": "stdout",
     "output_type": "stream",
     "text": [
      "CPU times: user 1min 53s, sys: 5.43 s, total: 1min 59s\n",
      "Wall time: 2min 9s\n"
     ]
    }
   ],
   "source": [
    "%%time\n",
    "bins_cape = np.linspace(0,8,17)\n",
    "bins_subsat = np.linspace(0,8,17)\n",
    "bins_samples = np.zeros((4, len(bins_cape)-1, len(bins_subsat)-1))\n",
    "bins_duration_sum = np.copy(bins_samples)\n",
    "\n",
    "for p,phase in enumerate(['Init','Grow','Mature','Decay']):\n",
    "    \n",
    "    cape_list = []\n",
    "    subsat_list = []\n",
    "    duration_list = []\n",
    "    \n",
    "    for n in range(len(files)):\n",
    "\n",
    "        (BL_TOT, BL_CAPE, BL_SUBSAT, BL_TOT_env, BL_CAPE_env, BL_SUBSAT_env) = BL_mcs_2dmap(files[n])\n",
    "\n",
    "        wb = 0.4\n",
    "        wl = 0.6\n",
    "        thetae_ref = 340\n",
    "\n",
    "        cape_list.append(BL_CAPE.sel(mcs_phase=phase).mean()/9.81/wb*thetae_ref)\n",
    "        subsat_list.append(BL_SUBSAT.sel(mcs_phase=phase).mean()/9.81/wl*thetae_ref)\n",
    "        duration_list.append(data_tracks.sel(tracks=int(files[n].name[-8:-3])).mcs_duration)\n",
    "    \n",
    "    # binning \n",
    "    cape_1d = np.asarray(cape_list)\n",
    "    subsat_1d = np.asarray(subsat_list)\n",
    "    duration_1d = np.asarray(duration_list)\n",
    "    \n",
    "    for i in range(len(bins_cape)-1):\n",
    "        idx = np.where(np.logical_and(cape_1d >= bins_cape[i], cape_1d < bins_cape[i+1]))[0]\n",
    "        for j in range(len(bins_subsat)-1):\n",
    "            idy = np.where(np.logical_and(subsat_1d >= bins_subsat[j], subsat_1d < bins_subsat[j+1]))[0]\n",
    "\n",
    "            idx_com = np.intersect1d(idx,idy)\n",
    "            bins_samples[p,i,j] += len(idx_com) \n",
    "            bins_duration_sum[p,i,j] += np.sum(duration_1d[idx_com])"
   ]
  },
  {
   "cell_type": "code",
   "execution_count": 65,
   "id": "a50fe0f2-0ed0-46a0-a36f-7ec66d86256c",
   "metadata": {
    "tags": []
   },
   "outputs": [],
   "source": [
    "ds_bins = xr.Dataset(data_vars = dict(samples = (['phase','bins_cape','bins_subsat'], bins_samples), \n",
    "                                      duration_sum = (['phase','bins_cape','bins_subsat'], bins_duration_sum)),                                     \n",
    "                     coords = dict(phase = (['phase'], ['Initial', 'Grow', 'Mature', 'Decay']),\n",
    "                                   bins_cape = (['bins_cape'], bins_cape[:-1]),\n",
    "                                   bins_subsat = (['bins_subsat'], bins_subsat[:-1])))"
   ]
  },
  {
   "cell_type": "code",
   "execution_count": 74,
   "id": "98c5c029-4118-4423-9a75-3eae2b1fafc4",
   "metadata": {
    "tags": []
   },
   "outputs": [
    {
     "data": {
      "image/png": "[encoded data removed]",
      "text/plain": [
       "<Figure size 1600x400 with 8 Axes>"
      ]
     },
     "metadata": {},
     "output_type": "display_data"
    }
   ],
   "source": [
    "fig,ax = plt.subplots(1,4,figsize=(16,4))\n",
    "\n",
    "for p,phase in enumerate(ds_bins.phase.values):\n",
    "\n",
    "    duration = ds_bins.isel(phase=p).duration_sum\n",
    "    samples = ds_bins.isel(phase=p).samples\n",
    "    duration_mean = duration/samples\n",
    "    duration_mean_mask = duration_mean.where(samples > 5) # screen out bins with fewer samples\n",
    "    \n",
    "    cp = ax[p].pcolormesh(bins_subsat, bins_cape, duration_mean_mask,\n",
    "                          cmap='jet', vmin=5, vmax=20)\n",
    "    cbar = plt.colorbar(cp, ax=ax[p], shrink=0.4, pad=0.02)\n",
    "    cbar.set_label('MCS duration (hr)')\n",
    "    \n",
    "    # buoyancy reference lines\n",
    "    ax[p].plot(np.linspace(-2,10,13), np.linspace(-2,10,13), marker=None, color='k',zorder=2, linewidth=1) # zero buoyancy\n",
    "    ax[p].plot(np.linspace(-2,10,13), np.linspace(-2,10,13)+2, marker=None, color='grey',zorder=2, linewidth=0.5) # +2 K \n",
    "    ax[p].plot(np.linspace(-2,10,13), np.linspace(-2,10,13)+1, marker=None, color='grey',zorder=2, linewidth=0.5) # +1 K \n",
    "    ax[p].plot(np.linspace(-2,10,13), np.linspace(-2,10,13)-1, marker=None, color='grey',zorder=2, linewidth=0.5) # -1 K \n",
    "    ax[p].plot(np.linspace(-2,10,13), np.linspace(-2,10,13)-2, marker=None, color='grey',zorder=2, linewidth=0.5) # -2 K     \n",
    "    \n",
    "    ax[p].set_ylim([0,7])\n",
    "    ax[p].set_xlim([0,9])\n",
    "    ax[p].grid(linestyle=':', linewidth=0.5)\n",
    "    ax[p].set_aspect('equal', 'box')\n",
    "    ax[p].set_title(phase)"
   ]
  },
  {
   "cell_type": "code",
   "execution_count": null,
   "id": "65454542-1cf6-4f59-84b1-5a5af08030f5",
   "metadata": {},
   "outputs": [],
   "source": [
    "%%time\n",
    "\n",
    "# bins for BL_CAPE and BL_SUBSAT\n",
    "\n",
    "bins_cape = np.linspace(-2,10,25)\n",
    "bins_subsat = np.linspace(-2,10,25)\n",
    "bins_samples = np.zeros((2, 5, len(bins_cape)-1, len(bins_subsat)-1)) # histograms for 5 MCS phases\n",
    "\n",
    "for file in files:\n",
    "        \n",
    "    (BL_TOT, BL_CAPE, BL_SUBSAT, BL_TOT_env, BL_CAPE_env, BL_SUBSAT_env) = BL_mcs_2dmap(file)\n",
    "\n",
    "    for p, phase in enumerate([\"Init\", \"Grow\", \"Mature\", \"Decay\", \"End\"]):\n",
    "\n",
    "        wb = 0.4\n",
    "        wl = 0.6\n",
    "        thetae_ref = 340\n",
    "        \n",
    "        # ===== for inside mcs ======\n",
    "        BL_CAPE_phase = BL_CAPE.sel(mcs_phase=phase) # 9.81*(wb*(thetae_bl-thetae_sat_lt)/thetae_sat_lt)\n",
    "        BL_CAPE_phase = BL_CAPE_phase/9.81/wb*thetae_ref\n",
    "        BL_SUBSAT_phase = BL_SUBSAT.sel(mcs_phase=phase) # 9.81*(wl*(thetae_sat_lt-thetae_lt)/thetae_sat_lt)\n",
    "        BL_SUBSAT_phase = BL_SUBSAT_phase/9.81/wl*thetae_ref\n",
    "        \n",
    "        # get 1-D CAPE and SUBSAT values associated with MCS\n",
    "        cape_1d = np.unique(BL_CAPE_phase)[:-1] # the last one is NaN\n",
    "        subsat_1d = np.unique(BL_SUBSAT_phase)[:-1] # the last one is NaN \n",
    "\n",
    "        for i in range(len(bins_cape)-1):\n",
    "            idx = np.where(np.logical_and(cape_1d >= bins_cape[i], cape_1d < bins_cape[i+1]))[0]\n",
    "            for j in range(len(bins_subsat)-1):\n",
    "                idy = np.where(np.logical_and(subsat_1d >= bins_subsat[j], subsat_1d < bins_subsat[j+1]))[0]\n",
    "\n",
    "                idx_com = np.intersect1d(idx,idy)\n",
    "                bins_samples[0,p,i,j] += len(idx_com)\n",
    "                \n",
    "        # ===== for outside mcs (environment) ======\n",
    "        BL_CAPE_phase_env = BL_CAPE_env.sel(mcs_phase=phase) # 9.81*(wb*(thetae_bl-thetae_sat_lt)/thetae_sat_lt)\n",
    "        BL_CAPE_phase_env = BL_CAPE_phase_env/9.81/wb*thetae_ref\n",
    "        BL_SUBSAT_phase_env = BL_SUBSAT_env.sel(mcs_phase=phase) # 9.81*(wl*(thetae_sat_lt-thetae_lt)/thetae_sat_lt)\n",
    "        BL_SUBSAT_phase_env = BL_SUBSAT_phase_env/9.81/wl*thetae_ref\n",
    "                \n",
    "        # get 1-D CAPE and SUBSAT values associated with the environment\n",
    "        cape_1d = np.unique(BL_CAPE_phase_env)[:-1] # the last one is NaN\n",
    "        subsat_1d = np.unique(BL_SUBSAT_phase_env)[:-1] # the last one is NaN \n",
    "                \n",
    "        for i in range(len(bins_cape)-1):\n",
    "            idx = np.where(np.logical_and(cape_1d >= bins_cape[i], cape_1d < bins_cape[i+1]))[0]\n",
    "            for j in range(len(bins_subsat)-1):\n",
    "                idy = np.where(np.logical_and(subsat_1d >= bins_subsat[j], subsat_1d < bins_subsat[j+1]))[0]\n",
    "\n",
    "                idx_com = np.intersect1d(idx,idy)\n",
    "                bins_samples[1,p,i,j] += len(idx_com)"
   ]
  },
  {
   "cell_type": "code",
   "execution_count": null,
   "id": "d82e464c-28d2-4c6c-b0ec-88898314761b",
   "metadata": {},
   "outputs": [],
   "source": [
    "# save bins into netcdf\n",
    "dir_out = Path('/neelin2020/mcs_flextrkr/mcs_stats/output_stats')\n",
    "ds_bins = xr.Dataset(data_vars = dict(samples = (['area','phase','bins_cape','bins_subsat'], bins_samples)),\n",
    "                     coords = dict(area = (['area'],['mcs','env']),\n",
    "                                   phase = (['phase'], ['Initial', 'Grow', 'Mature', 'Decay', 'End']),\n",
    "                                   bins_cape = (['bins_cape'], bins_cape[:-1]),\n",
    "                                   bins_subsat = (['bins_subsat'], bins_subsat[:-1])),\n",
    "                     attrs = dict(description = 'cape-subsat histogram. 2014'))\n",
    "ds_bins.to_netcdf(dir_out / 'mcs_cape_subsat_histogram_IndoPacific.nc')"
   ]
  },
  {
   "cell_type": "code",
   "execution_count": null,
   "id": "6e2fb201-913f-40ce-bcf0-70012bdd8826",
   "metadata": {},
   "outputs": [],
   "source": [
    "# read written output\n",
    "data_bins = xr.open_dataset(dir_out /  'mcs_cape_subsat_histogram_IndoPacific.nc')\n",
    "bins_cape = data_bins.bins_cape\n",
    "bins_subsat = data_bins.bins_subsat\n",
    "bins_sample = data_bins.sel(area='mcs').samples.values\n",
    "\n",
    "# plot histogram : fraction of occurrences at different MCS phases\n",
    "\n",
    "fig, ((ax1,ax2,ax3,ax4,ax5),(ax6,ax7,ax8,ax9,ax10)) = plt.subplots(2,5,figsize=(15,6))\n",
    "\n",
    "for n, (mcs_phase,ax) in enumerate(zip(['Init','Grow','Mature','Decay','End'],[ax1,ax2,ax3,ax4,ax5])):\n",
    "    \n",
    "    tmp = bins_sample[n,:,:]/np.sum(bins_sample[n,:,:])\n",
    "    tmp[tmp == 0] = np.nan\n",
    "    \n",
    "    cp = ax.pcolormesh(bins_subsat, bins_cape, tmp,\n",
    "                    vmin=0, vmax=0.02, cmap=mixedmap)\n",
    "    \n",
    "    # contour: fraction of occurrence\n",
    "    ax.contour(bins_subsat, bins_cape, tmp,\n",
    "              levels=[0.005, 0.01, 0.015, 0.02], colors=['k'], linewidths=1)\n",
    "    \n",
    "    if n == 4:\n",
    "        caxes = fig.add_axes([1, 0.62, 0.01, 0.3])\n",
    "        cbar = plt.colorbar(cp, cax=caxes)\n",
    "        cbar.set_label('Fraction')\n",
    "    ax.set_title(mcs_phase)\n",
    "    ax.set_xlabel('BL_SUBSAT (K)',fontsize=12)\n",
    "    ax.set_ylabel('BL_CAPE (K)',fontsize=12)    \n",
    "    ax.set_ylim([0, 7.5])\n",
    "    ax.set_xlim([0, 7.5])\n",
    "    \n",
    "    # buoyancy reference lines\n",
    "    ax.plot(np.linspace(-2,10,13), np.linspace(-2,10,13), marker=None, color='k',zorder=2, linewidth=1) # zero buoyancy\n",
    "    ax.plot(np.linspace(-2,10,13), np.linspace(-2,10,13)+2, marker=None, color='grey',zorder=2, linewidth=0.5) # +2 K \n",
    "    ax.plot(np.linspace(-2,10,13), np.linspace(-2,10,13)+1, marker=None, color='grey',zorder=2, linewidth=0.5) # +1 K \n",
    "    ax.plot(np.linspace(-2,10,13), np.linspace(-2,10,13)-1, marker=None, color='grey',zorder=2, linewidth=0.5) # -1 K \n",
    "    ax.plot(np.linspace(-2,10,13), np.linspace(-2,10,13)-2, marker=None, color='grey',zorder=2, linewidth=0.5) # -2 K \n",
    "\n",
    "    ax.grid(linestyle=':', linewidth=0.5)\n",
    "    \n",
    "    # plot mean states of BL_CAPE and BL_SUBSAT\n",
    "    mean_cape = np.sum(bins_cape*(np.sum(bins_sample[n,:,:],axis=1)/np.sum(bins_sample[n,:,:])))\n",
    "    mean_subsat = np.sum(bins_subsat*(np.sum(bins_sample[n,:,:],axis=0)/np.sum(bins_sample[n,:,:])))\n",
    "    ax.scatter(mean_subsat, mean_cape, s=100, marker='*', color='m', zorder=2, edgecolor='k')\n",
    "\n",
    "for n, (mcs_phase,ax) in enumerate(zip(['Init','Grow','Mature','Decay','End'],[ax6,ax7,ax8,ax9,ax10])):\n",
    "    \n",
    "    tmp = bins_sample[n,:,:]/np.sum(bins_sample[n,:,:]) - bins_sample[2,:,:]/np.sum(bins_sample[2,:,:])\n",
    "    tmp[tmp == 0] = np.nan\n",
    "    \n",
    "    cp = ax.pcolormesh(bins_subsat, bins_cape, tmp,\n",
    "                    vmin=-0.01, vmax=0.01, cmap='RdBu')\n",
    "    if n == 4:\n",
    "        caxes = fig.add_axes([1, 0.13, 0.01, 0.3])\n",
    "        cbar = plt.colorbar(cp, cax=caxes)\n",
    "        cbar.set_label('$\\Delta$Fraction (rel. to Mat.)')\n",
    "    ax.set_title(mcs_phase)\n",
    "    ax.set_xlabel('BL_SUBSAT (K)',fontsize=12)\n",
    "    ax.set_ylabel('BL_CAPE (K)',fontsize=12)\n",
    "    ax.set_ylim([0, 7.5])\n",
    "    ax.set_xlim([0, 7.5])\n",
    "    \n",
    "    # buoyancy reference lines\n",
    "    ax.plot(np.linspace(-2,10,13), np.linspace(-2,10,13), marker=None, color='k',zorder=2, linewidth=1) # zero buoyancy\n",
    "    ax.plot(np.linspace(-2,10,13), np.linspace(-2,10,13)+2, marker=None, color='grey',zorder=2, linewidth=0.5) # +2 K \n",
    "    ax.plot(np.linspace(-2,10,13), np.linspace(-2,10,13)+1, marker=None, color='grey',zorder=2, linewidth=0.5) # +1 K \n",
    "    ax.plot(np.linspace(-2,10,13), np.linspace(-2,10,13)-1, marker=None, color='grey',zorder=2, linewidth=0.5) # -1 K \n",
    "    ax.plot(np.linspace(-2,10,13), np.linspace(-2,10,13)-2, marker=None, color='grey',zorder=2, linewidth=0.5) # -2 K \n",
    "\n",
    "    # plot mean states of BL_CAPE and BL_SUBSAT\n",
    "    mean_cape = np.sum(bins_cape*(np.sum(bins_sample[n,:,:],axis=1)/np.sum(bins_sample[n,:,:])))\n",
    "    mean_subsat = np.sum(bins_subsat*(np.sum(bins_sample[n,:,:],axis=0)/np.sum(bins_sample[n,:,:])))\n",
    "    ax.scatter(mean_subsat, mean_cape, s=100, marker='*', color='m', zorder=2, edgecolor='k')\n",
    "    \n",
    "plt.tight_layout()\n",
    "plt.suptitle('Buoyancy CAPE-SUBSAT histogram at MCS phases', fontsize=16, fontweight='bold', y=1.05)"
   ]
  },
  {
   "cell_type": "code",
   "execution_count": null,
   "id": "2a22428d-adcd-4b82-afe7-7c61fbf2e743",
   "metadata": {},
   "outputs": [],
   "source": []
  }
 ],
 "metadata": {
  "kernelspec": {
   "display_name": "Python 3 (ipykernel)",
   "language": "python",
   "name": "python3"
  },
  "language_info": {
   "codemirror_mode": {
    "name": "ipython",
    "version": 3
   },
   "file_extension": ".py",
   "mimetype": "text/x-python",
   "name": "python",
   "nbconvert_exporter": "python",
   "pygments_lexer": "ipython3",
   "version": "3.9.17"
  }
 },
 "nbformat": 4,
 "nbformat_minor": 5
}
