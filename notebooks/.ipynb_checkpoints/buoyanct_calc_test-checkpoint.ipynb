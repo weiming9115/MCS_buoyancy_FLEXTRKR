{
 "cells": [
  {
   "cell_type": "code",
   "execution_count": 1,
   "id": "dcaf4858-8b2e-4081-8617-46c5cdf887da",
   "metadata": {
    "tags": []
   },
   "outputs": [],
   "source": [
    "import os\n",
    "import sys\n",
    "import xarray as xr\n",
    "import numpy as np\n",
    "import pandas as pd\n",
    "import matplotlib\n",
    "from matplotlib import pyplot as plt\n",
    "from matplotlib.colors import ListedColormap, LinearSegmentedColormap\n",
    "from datetime import datetime\n",
    "from pathlib import Path\n",
    "from matplotlib.lines import Line2D\n",
    "from matplotlib.patches import Patch\n",
    "from matplotlib.patches import Rectangle\n",
    "\n",
    "# for some conversion between thermodynamic variables\n",
    "from metpy.units import units\n",
    "from metpy.calc import thermo\n",
    "\n",
    "import cartopy.crs as ccrs\n",
    "import cartopy.feature as cfeat\n",
    "from cartopy.util import add_cyclic_point\n",
    "from cartopy.mpl.gridliner import LONGITUDE_FORMATTER, LATITUDE_FORMATTER\n",
    "\n",
    "import warnings"
   ]
  },
  {
   "cell_type": "code",
   "execution_count": 2,
   "id": "4b28c0c8-5a46-421d-aece-3da0199c5c88",
   "metadata": {
    "tags": []
   },
   "outputs": [],
   "source": [
    "warnings.filterwarnings('ignore')"
   ]
  },
  {
   "cell_type": "code",
   "execution_count": 3,
   "id": "4fada647-66e5-4b8d-be9c-f66dd99b1443",
   "metadata": {
    "tags": []
   },
   "outputs": [],
   "source": [
    "# data directoies\n",
    "dir_era5 = Path('/neelin2020/ERA-5/NC_FILES/')\n",
    "dir_buoy = Path('/neelin2020/ERA-5_buoy/layer_thetae/')"
   ]
  },
  {
   "cell_type": "code",
   "execution_count": 4,
   "id": "57c8900f-afdc-4a86-a366-b58f4e6d8d63",
   "metadata": {
    "tags": []
   },
   "outputs": [],
   "source": [
    "def find_pbl_top_level(sp, temp, pbl_depth=100):\n",
    "    \n",
    "    if len(sp.squeeze().dims) == 0: # 1-dimension, grid data\n",
    "    \n",
    "        p_level = temp.level # get era-5 standard pressure levels\n",
    "        idx = np.argmin(abs(level.values- (sp.values - pbl_depth)))\n",
    "        \n",
    "        pbl_top_level_xr = p_level[idx]\n",
    "                \n",
    "    elif len(sp.squeeze().dims) == 2: # 2-dimension (lat, lon)\n",
    "        \n",
    "        p_level_2d = (temp - temp + temp.level) \n",
    "        idx = np.argmin(abs(p_level_2d.values- (sp.values - pbl_depth)), axis=0)\n",
    "        \n",
    "        pbl_list = []\n",
    "        for n in idx.ravel():\n",
    "            pbl_list.append(p_level_2d.level[n])\n",
    "        pbl_list = np.asarray(pbl_list)\n",
    "        \n",
    "        pbl_top_level = pbl_list.reshape((len(sp.latitude), len(sp.longitude)))\n",
    "        #convert back into xarray\n",
    "        pbl_top_level_xr = xr.Dataset(data_vars=dict(pbl_top_level=(['latitude','longitude'],pbl_top_level)),\n",
    "                                      coords=dict(latitude=(['latitude'], sp.latitude.values),\n",
    "                                                  longitude=(['longitude'], sp.longitude.values)))\n",
    "            \n",
    "    return pbl_top_level_xr"
   ]
  },
  {
   "cell_type": "code",
   "execution_count": 5,
   "id": "5b4e9271-cc8b-4b57-a7eb-58d64df1558e",
   "metadata": {
    "tags": []
   },
   "outputs": [],
   "source": [
    "def es_calc_bolton(temp):\n",
    "    # in hPa\n",
    "\n",
    "    tmelt  = 273.15\n",
    "    tempc = temp - tmelt \n",
    "    es = 6.112*np.exp(17.67*tempc/(243.5+tempc))\n",
    "    \n",
    "    return es"
   ]
  },
  {
   "cell_type": "code",
   "execution_count": 6,
   "id": "ab708418-6149-4e61-a6ba-f6aa8cf58bd3",
   "metadata": {
    "tags": []
   },
   "outputs": [],
   "source": [
    "def es_calc(temp):\n",
    "\n",
    "    tmelt  = 273.15\n",
    "    \n",
    "    c0=0.6105851e+03\n",
    "    c1=0.4440316e+02\n",
    "    c2=0.1430341e+01\n",
    "    c3=0.2641412e-01\n",
    "    c4=0.2995057e-03\n",
    "    c5=0.2031998e-05\n",
    "    c6=0.6936113e-08\n",
    "    c7=0.2564861e-11\n",
    "    c8=-.3704404e-13\n",
    "\n",
    "    tempc = temp - tmelt \n",
    "    tempcorig = tempc\n",
    "        \n",
    "    #if tempc < -80:\n",
    "    es_ltn80c = es_calc_bolton(temp)\n",
    "    es_ltn80c = es_ltn80c.where(tempc < -80, 0)\n",
    "    #else:\n",
    "    es = c0+tempc*(c1+tempc*(c2+tempc*(c3+tempc*(c4+tempc*(c5+tempc*(c6+tempc*(c7+tempc*c8)))))))\n",
    "    es_gtn80c = es/100\n",
    "    es_gtn80c = es_gtn80c.where(tempc >= -80, 0)\n",
    "    \n",
    "    # complete es\n",
    "    es = es_ltn80c + es_gtn80c\n",
    "    \n",
    "    return es"
   ]
  },
  {
   "cell_type": "code",
   "execution_count": 7,
   "id": "83ced093-24ae-4967-91d3-b5e1454e1f71",
   "metadata": {
    "tags": []
   },
   "outputs": [],
   "source": [
    "def qs_calc(temp):\n",
    "\n",
    "    tmelt  = 273.15\n",
    "    RV=461.5\n",
    "    RD=287.04\n",
    "\n",
    "    EPS=RD/RV\n",
    "\n",
    "    press = temp.level * 100. # in Pa\n",
    "    tempc = temp - tmelt \n",
    "\n",
    "    es=es_calc(temp) \n",
    "    es=es * 100. #hPa\n",
    "    qs = (EPS * es) / (press + ((EPS-1.)*es))\n",
    "    \n",
    "    return qs"
   ]
  },
  {
   "cell_type": "code",
   "execution_count": 8,
   "id": "d7dbbb54-eb62-40ab-ab72-9d3ee0d4d764",
   "metadata": {
    "tags": []
   },
   "outputs": [],
   "source": [
    "def theta_e_calc(temp, q):\n",
    "    \n",
    "    # following the definitions in Bolton (1980): the calculation of equivalent potential temperature\n",
    "    \n",
    "    pref = 100000.\n",
    "    tmelt  = 273.15\n",
    "    CPD=1005.7\n",
    "    CPV=1870.0\n",
    "    CPVMCL=2320.0\n",
    "    RV=461.5\n",
    "    RD=287.04\n",
    "    EPS=RD/RV\n",
    "    ALV0=2.501E6\n",
    "\n",
    "    press = temp.level * 100. # in Pa\n",
    "    tempc = temp - tmelt # in C\n",
    "\n",
    "    r = q / (1. - q) \n",
    "\n",
    "    # get ev in hPa \n",
    "    ev_hPa = temp.level * r / (EPS + r) # hpa\n",
    "\n",
    "    #get TL\n",
    "    TL = (2840. / ((3.5*np.log(temp)) - (np.log(ev_hPa)) - 4.805)) + 55.\n",
    "\n",
    "    #calc chi_e:\n",
    "    chi_e = 0.2854 * (1. - (0.28 * r))\n",
    "\n",
    "    theta_e = temp * np.power((pref / press),chi_e) * np.exp(((3.376/TL) - 0.00254) * r * 1000 * (1. + (0.81 * r)))\n",
    "    \n",
    "    return theta_e"
   ]
  },
  {
   "cell_type": "code",
   "execution_count": 9,
   "id": "fdb75774-6a46-421b-871f-5846f9952edf",
   "metadata": {
    "tags": []
   },
   "outputs": [],
   "source": [
    "def BL_estimates_cal_new(T, q, sp, T2m, q2m):\n",
    "    \"\"\"\n",
    "    function for calcultinig the low-trospospheric buoyancy estimates\n",
    "    T, q : 3D xarray dataarray (level, lat, lon)\n",
    "    sp: surface pressure (lat, lon), unit: hPa\n",
    "    T2m, q2m: temperature, specific humidity at 2m (lat, lon) \n",
    "    \"\"\"\n",
    "    \n",
    "    T = T.drop('time')\n",
    "    q = q.drop('time')\n",
    "    T2m = T2m.drop('time')\n",
    "    q2m = q2m.drop('time')\n",
    "    sp = sp.drop('time')\n",
    "    \n",
    "    # constants\n",
    "    Lv = 2.5e6 # (J/kg)\n",
    "    g = 9.81 # (kg/m^2)\n",
    "    cpd = 1004 # (J/kg/K)\n",
    "    p0 = 1000  # (hPa)\n",
    "    Rd = 287.15 # (J/kg)\n",
    "\n",
    "    # find pbl top (100 hPa above the surface)\n",
    "    pbl_top_level = find_pbl_top_level(sp, T, pbl_depth=100)\n",
    "    \n",
    "    thetae_bl_list = []\n",
    "    thetae_lt_list = []\n",
    "    thetae_sat_lt_list = []\n",
    "    \n",
    "    # loop for lat-lon grids\n",
    "    for idx_lat in range(len(q2m.latitude)):\n",
    "        for idx_lon in range(len(q2m.longitude)):\n",
    "                        \n",
    "            try:\n",
    "                sf_p = sp.isel(latitude=idx_lat, longitude=idx_lon) # surface pressure \n",
    "                pbl_p = pbl_top_level.isel(latitude=idx_lat, longitude=idx_lon).pbl_top_level.values # pbl top pressure\n",
    "                T_sf = T2m.isel(latitude=idx_lat, longitude=idx_lon).values\n",
    "                q_sf = q2m.isel(latitude=idx_lat, longitude=idx_lon).values\n",
    "\n",
    "                T_at_sf = T2m.isel(latitude=idx_lat, longitude=idx_lon).values\n",
    "                q_at_sf = q2m.isel(latitude=idx_lat, longitude=idx_lon).values\n",
    "                T_above_sf = T.isel(latitude=idx_lat, longitude=idx_lon).sel(level=slice(100,int(sf_p))).values\n",
    "                q_above_sf = q.isel(latitude=idx_lat, longitude=idx_lon).sel(level=slice(100,int(sf_p))).values\n",
    "\n",
    "                # reconstruct T, q profile by adding surface quantities (decreasing pressure with np.flip)\n",
    "                T_1d = np.concatenate([np.array([T_at_sf]), np.flip(T_above_sf)])            \n",
    "                q_1d = np.concatenate([np.array([q_at_sf]), np.flip(q_above_sf)])\n",
    "                pressure_1d = np.concatenate([np.array([sf_p]), np.flip(T.sel(level=slice(100,int(sf_p))).level.values)])\n",
    "                T_1d_xr = xr.DataArray(data=T_1d,\n",
    "                                       dims=[\"level\"],\n",
    "                                       coords=dict(level=([\"level\"], pressure_1d)))\n",
    "                q_1d_xr = xr.DataArray(data=q_1d,\n",
    "                                       dims=[\"level\"],\n",
    "                                       coords=dict(level=([\"level\"], pressure_1d)))\n",
    "                \n",
    "                # interpolate T_1d, q_1d profiles \n",
    "                pint_levels= np.linspace(pressure_1d[0], pressure_1d[-1], 200)\n",
    "                T_1d_xr = T_1d_xr.interp(level=pint_levels)\n",
    "                q_1d_xr = q_1d_xr.interp(level=pint_levels)                \n",
    "\n",
    "                # splitting into boundary layer and lower free troposphere\n",
    "                # 1. boundary layer, bl\n",
    "                q_bl = q_1d_xr.sel(level=slice(int(sf_p), int(sf_p)-100))\n",
    "                T_bl = T_1d_xr.sel(level=slice(int(sf_p), int(sf_p)-100))\n",
    "                # 2. lower free troposphere, lt, from 100 mb above surface to 500 mb\n",
    "                #q_lt = q_1d_xr.sel(level=slice(pbl_p,pbl_p-400))\n",
    "                #T_lt = T_1d_xr.sel(level=slice(pbl_p,pbl_p-400))\n",
    "                q_lt = q_1d_xr.sel(level=slice(int(sf_p)-100,500))\n",
    "                T_lt = T_1d_xr.sel(level=slice(int(sf_p)-100,500)) \n",
    "\n",
    "                # calculating layer-averaged thetae components\n",
    "                thetae_bl = -theta_e_calc(T_bl, q_bl).integrate('level')/(T_bl.level[0]-T_bl.level[-1]) # negative sign b.c. decreasing p\n",
    "                thetae_lt = -theta_e_calc(T_lt, q_lt).integrate('level')/(T_lt.level[0]-T_lt.level[-1])\n",
    "                qsat_lt = qs_calc(T_lt)\n",
    "                thetae_sat_lt = -theta_e_calc(T_lt, qsat_lt).integrate('level')/(T_lt.level[0]-T_lt.level[-1]) \n",
    "\n",
    "                thetae_bl_list.append(thetae_bl.values)\n",
    "                thetae_lt_list.append(thetae_lt.values)\n",
    "                thetae_sat_lt_list.append(thetae_sat_lt.values)\n",
    "                \n",
    "            except:\n",
    "                \n",
    "                thetae_bl_list.append(np.nan)\n",
    "                thetae_lt_list.append(np.nan)\n",
    "                thetae_sat_lt_list.append(np.nan)\n",
    "            \n",
    "    # convert to geolocated xarray\n",
    "    thetae_bl_xr = xr.DataArray(data = np.asarray(thetae_bl_list).reshape((len(T.latitude), len(T.longitude))),\n",
    "                               dims = [\"latitude\",'longitude'],\n",
    "                               coords = dict(latitude=([\"latitude\"], T.latitude.values),\n",
    "                                           longitude=([\"longitude\"], T.longitude.values)))\n",
    "    thetae_lt_xr = xr.DataArray(data = np.asarray(thetae_lt_list).reshape((len(T.latitude), len(T.longitude))),\n",
    "                               dims = [\"latitude\",'longitude'],\n",
    "                               coords = dict(latitude=([\"latitude\"], T.latitude.values),\n",
    "                                           longitude=([\"longitude\"], T.longitude.values)))\n",
    "    thetae_sat_lt_xr = xr.DataArray(data = np.asarray(thetae_sat_lt_list).reshape((len(T.latitude), len(T.longitude))),\n",
    "                               dims = [\"latitude\",'longitude'],\n",
    "                               coords = dict(latitude=([\"latitude\"], T.latitude.values),\n",
    "                                           longitude=([\"longitude\"], T.longitude.values)))\n",
    "    # calculate buoyancy estimates\n",
    "    delta_pl=400\n",
    "    delta_pb=100\n",
    "    wb=(delta_pb/delta_pl)*np.log((delta_pl+delta_pb)/delta_pb)\n",
    "    wl=1-wb\n",
    "        \n",
    "    # calculate buoyancy estimate\n",
    "    Buoy_CAPE = (9.81/(340*3)) * wb * ((thetae_bl_xr-thetae_sat_lt_xr)/thetae_sat_lt_xr) * 340\n",
    "    Buoy_CAPE_xr = Buoy_CAPE.rename('Buoy_CAPE').to_dataset()\n",
    "    Buoy_SUBSAT = (9.81/(340*3))* wl * ((thetae_sat_lt_xr-thetae_lt_xr)/thetae_sat_lt_xr) * 340\n",
    "    Buoy_SUBSAT_xr = Buoy_SUBSAT.rename('Buoy_SUBSAT').to_dataset()\n",
    "    Buoy_TOT = Buoy_CAPE - Buoy_SUBSAT\n",
    "    Buoy_TOT_xr = Buoy_TOT.rename('Buoy_TOT').to_dataset()\n",
    "    \n",
    "    thetae_bl_xr  = thetae_bl_xr.rename('thetae_bl').to_dataset()\n",
    "    thetae_lt_xr  = thetae_lt_xr.rename('thetae_lt').to_dataset()\n",
    "    thetae_sat_lt_xr  = thetae_sat_lt_xr.rename('thetae_sat_lt').to_dataset()\n",
    "    \n",
    "    return xr.merge([Buoy_CAPE_xr, Buoy_SUBSAT_xr, Buoy_TOT_xr, thetae_bl_xr, thetae_lt_xr, thetae_sat_lt_xr])"
   ]
  },
  {
   "cell_type": "code",
   "execution_count": 29,
   "id": "f2f4947f-a1ae-4848-a8ef-f5aaffecae17",
   "metadata": {
    "tags": []
   },
   "outputs": [],
   "source": [
    "def BL_estimates_cal_mdtf(T, q, sp, T2m, q2m):\n",
    "    \"\"\"\n",
    "    function for calcultinig the low-trospospheric buoyancy estimates\n",
    "    T, q : 3D xarray dataarray (level, lat, lon)\n",
    "    sp: surface pressure (lat, lon), unit: hPa\n",
    "    T2m, q2m: temperature, specific humidity at 2m (lat, lon) \n",
    "    \"\"\"\n",
    "    \n",
    "    T = T.drop('time')\n",
    "    q = q.drop('time')\n",
    "    T2m = T2m.drop('time')\n",
    "    q2m = q2m.drop('time')\n",
    "    sp = sp.drop('time')\n",
    "    \n",
    "    # constants\n",
    "    Lv = 2.5e6 # (J/kg)\n",
    "    g = 9.81 # (kg/m^2)\n",
    "    cpd = 1004 # (J/kg/K)\n",
    "    p0 = 1000  # (hPa)\n",
    "    Rd = 287.15 # (J/kg)\n",
    "\n",
    "    # find pbl top (100 hPa above the surface)\n",
    "    pbl_top_level = find_pbl_top_level(sp, T, pbl_depth=100)\n",
    "    \n",
    "    thetae_bl_list = []\n",
    "    thetae_lt_list = []\n",
    "    thetae_sat_lt_list = []\n",
    "    \n",
    "    # loop for lat-lon grids\n",
    "    for idx_lat in range(len(q2m.latitude)):\n",
    "        for idx_lon in range(len(q2m.longitude)):\n",
    "                        \n",
    "            sf_p = sp.isel(latitude=idx_lat, longitude=idx_lon) # surface pressure \n",
    "            pbl_p = pbl_top_level.isel(latitude=idx_lat, longitude=idx_lon).pbl_top_level.values # pbl top pressure\n",
    "            T_sf = T2m.isel(latitude=idx_lat, longitude=idx_lon).values\n",
    "            q_sf = q2m.isel(latitude=idx_lat, longitude=idx_lon).values\n",
    "\n",
    "            T_at_sf = T2m.isel(latitude=idx_lat, longitude=idx_lon).values\n",
    "            q_at_sf = q2m.isel(latitude=idx_lat, longitude=idx_lon).values\n",
    "            T_above_sf = T.isel(latitude=idx_lat, longitude=idx_lon).sel(level=slice(100,int(sf_p))).values\n",
    "            q_above_sf = q.isel(latitude=idx_lat, longitude=idx_lon).sel(level=slice(100,int(sf_p))).values\n",
    "\n",
    "            # reconstruct T, q profile by adding surface quantities (decreasing pressure with np.flip)\n",
    "            T_1d = np.concatenate([np.array([T_at_sf]), np.flip(T_above_sf)])            \n",
    "            q_1d = np.concatenate([np.array([q_at_sf]), np.flip(q_above_sf)])\n",
    "            pressure_1d = np.concatenate([np.array([sf_p]), np.flip(T.sel(level=slice(100,int(sf_p))).level.values)])\n",
    "            T_1d_xr = xr.DataArray(data=T_1d,\n",
    "                                   dims=[\"level\"],\n",
    "                                   coords=dict(level=([\"level\"], pressure_1d)))\n",
    "            q_1d_xr = xr.DataArray(data=q_1d,\n",
    "                                   dims=[\"level\"],\n",
    "                                   coords=dict(level=([\"level\"], pressure_1d)))\n",
    "\n",
    "            pint_levels = pressure_1d\n",
    "            ind_pbl_top = np.argmin(abs(pint_levels - (int(sf_p)-100))) # index of pbl top\n",
    "            ind_pmid = np.argmin(abs(pint_levels - 500)) # index of 500 mb\n",
    "            pbl_thickness = pint_levels[0] - pint_levels[ind_pbl_top]\n",
    "            lt_thickness = pint_levels[ind_pbl_top] - pint_levels[ind_pmid]\n",
    "            thetae_bl = 0\n",
    "            thetae_lt = 0\n",
    "            thetae_sat_lt = 0\n",
    "\n",
    "            if (lt_thickness > 50): # larger than 50 mb\n",
    "\n",
    "                for i in range(len(pint_levels)):\n",
    "\n",
    "                    if (i <= ind_pmid): # only integrated below mid level (500hPa)\n",
    "\n",
    "                        qs = qs_calc(T_1d_xr.isel(level=i)).values\n",
    "                        thetae = theta_e_calc(T_1d_xr.isel(level=i), q_1d_xr.isel(level=i)).values\n",
    "\n",
    "                        dp1 = pint_levels[i] - pint_levels[i+1]\n",
    "\n",
    "                        if (i < ind_pbl_top):\n",
    "\n",
    "                            if (i==0):\n",
    "                                thetae_bl += thetae*dp1/2\n",
    "                            elif (i>0) & (i<ind_pbl_top):\n",
    "                                dp2 = pint_levels[i-1]-pint_levels[i]\n",
    "                                thetae_bl += thetae*(dp1+dp2)/2\n",
    "\n",
    "                        else:\n",
    "                            thetae_sat = theta_e_calc(T_1d_xr.isel(level=i),qs).values\n",
    "\n",
    "                            if (i==ind_pbl_top):\n",
    "\n",
    "                                dp2 = pint_levels[i-1]-pint_levels[i]\n",
    "                                thetae_bl += thetae*(dp2)/2\n",
    "\n",
    "                                thetae_lt += thetae*(dp1)/2\n",
    "                                thetae_sat_lt += thetae_sat*(dp1)/2\n",
    "\n",
    "                            elif (i>ind_pbl_top) & (i<ind_pmid):\n",
    "\n",
    "                                dp2 = pint_levels[i-1] - pint_levels[i]\n",
    "                                thetae_lt += thetae*(dp1+dp2)/2\n",
    "                                thetae_sat_lt += thetae_sat*(dp1+dp2)/2\n",
    "\n",
    "                            elif (i==ind_pmid):\n",
    "\n",
    "                                dp2 = pint_levels[i-1]-pint_levels[i]\n",
    "                                thetae_lt += thetae*(dp2)/2\n",
    "                                thetae_sat_lt += thetae_sat*(dp2)/2\n",
    "\n",
    "                thetae_bl = thetae_bl/(pbl_thickness)\n",
    "                thetae_lt = thetae_lt/(lt_thickness)\n",
    "                thetae_sat_lt = thetae_sat_lt/(lt_thickness)                \n",
    "\n",
    "            thetae_bl_list.append(thetae_bl)\n",
    "            thetae_lt_list.append(thetae_lt)\n",
    "            thetae_sat_lt_list.append(thetae_sat_lt)\n",
    "                \n",
    "    # convert to geolocated xarray\n",
    "    thetae_bl_xr = xr.DataArray(data = np.asarray(thetae_bl_list).reshape((len(T.latitude), len(T.longitude))),\n",
    "                               dims = [\"latitude\",'longitude'],\n",
    "                               coords = dict(latitude=([\"latitude\"], T.latitude.values),\n",
    "                                           longitude=([\"longitude\"], T.longitude.values)))\n",
    "    thetae_lt_xr = xr.DataArray(data = np.asarray(thetae_lt_list).reshape((len(T.latitude), len(T.longitude))),\n",
    "                               dims = [\"latitude\",'longitude'],\n",
    "                               coords = dict(latitude=([\"latitude\"], T.latitude.values),\n",
    "                                           longitude=([\"longitude\"], T.longitude.values)))\n",
    "    thetae_sat_lt_xr = xr.DataArray(data = np.asarray(thetae_sat_lt_list).reshape((len(T.latitude), len(T.longitude))),\n",
    "                               dims = [\"latitude\",'longitude'],\n",
    "                               coords = dict(latitude=([\"latitude\"], T.latitude.values),\n",
    "                                           longitude=([\"longitude\"], T.longitude.values)))\n",
    "    # calculate buoyancy estimates\n",
    "    delta_pl=400\n",
    "    delta_pb=100\n",
    "    wb=(delta_pb/delta_pl)*np.log((delta_pl+delta_pb)/delta_pb)\n",
    "    wl=1-wb\n",
    "        \n",
    "    # calculate buoyancy estimate\n",
    "    Buoy_CAPE = (9.81/(340*3)) * wb * ((thetae_bl_xr-thetae_sat_lt_xr)/thetae_sat_lt_xr) * 340\n",
    "    Buoy_CAPE_xr = Buoy_CAPE.rename('Buoy_CAPE').to_dataset()\n",
    "    Buoy_SUBSAT = (9.81/(340*3))* wl * ((thetae_sat_lt_xr-thetae_lt_xr)/thetae_sat_lt_xr) * 340\n",
    "    Buoy_SUBSAT_xr = Buoy_SUBSAT.rename('Buoy_SUBSAT').to_dataset()\n",
    "    Buoy_TOT = Buoy_CAPE - Buoy_SUBSAT\n",
    "    Buoy_TOT_xr = Buoy_TOT.rename('Buoy_TOT').to_dataset()\n",
    "    \n",
    "    thetae_bl_xr  = thetae_bl_xr.rename('thetae_bl').to_dataset()\n",
    "    thetae_lt_xr  = thetae_lt_xr.rename('thetae_lt').to_dataset()\n",
    "    thetae_sat_lt_xr  = thetae_sat_lt_xr.rename('thetae_sat_lt').to_dataset()\n",
    "    \n",
    "    return xr.merge([Buoy_CAPE_xr, Buoy_SUBSAT_xr, Buoy_TOT_xr, thetae_bl_xr, thetae_lt_xr, thetae_sat_lt_xr])"
   ]
  },
  {
   "cell_type": "code",
   "execution_count": 30,
   "id": "4d9636a8-2fba-49ac-b138-491c388412ad",
   "metadata": {
    "tags": []
   },
   "outputs": [
    {
     "name": "stdout",
     "output_type": "stream",
     "text": [
      "CPU times: user 3min 13s, sys: 1.6 s, total: 3min 15s\n",
      "Wall time: 3min 16s\n"
     ]
    }
   ],
   "source": [
    "%%time\n",
    "# calculate based on t2m, td2m, sp for boundary \n",
    "data_T = xr.open_dataset(dir_era5 / '2014/era-5.T.2014.01.nc')\n",
    "data_T = data_T.reindex(latitude=list(reversed(data_T.latitude)))\n",
    "data_T = data_T.t.sel(latitude=slice(-23,-13), longitude=slice(28.5,38.5))\n",
    "\n",
    "data_q = xr.open_dataset(dir_era5 / '2014/era-5.q.2014.01.nc')\n",
    "data_q = data_q.reindex(latitude=list(reversed(data_q.latitude)))\n",
    "data_q = data_q.q.sel(latitude=slice(-23,-13), longitude=slice(28.5,38.5))\n",
    "\n",
    "data_sp = xr.open_dataset(dir_era5/ '2014/era-5.sp.2014.01.nc')\n",
    "data_sp = data_sp.reindex(latitude=list(reversed(data_sp.latitude)))\n",
    "data_sp = data_sp.SP.sel(latitude=slice(-23,-13), longitude=slice(28.5,38.5))/100\n",
    "\n",
    "data_t2m = xr.open_dataset(dir_era5/ '2014/era-5.2t.2014.01.nc')\n",
    "data_t2m = data_t2m.reindex(latitude=list(reversed(data_t2m.latitude)))\n",
    "data_t2m = data_t2m.VAR_2T.sel(latitude=slice(-23,-13), longitude=slice(28.5,38.5))\n",
    "\n",
    "data_d2m = xr.open_dataset(dir_era5/ '2014/era-5.2d.2014.01.nc')\n",
    "data_d2m = data_d2m.reindex(latitude=list(reversed(data_d2m.latitude)))\n",
    "data_d2m = data_d2m.VAR_2D.sel(latitude=slice(-23,-13), longitude=slice(28.5,38.5))\n",
    "\n",
    "data_q2m = thermo.specific_humidity_from_dewpoint(data_sp*100 * units.pascal, data_d2m * units.kelvin) \n",
    "\n",
    "idt = 0\n",
    "# # derive low-tropospheric buoyancy estimates\n",
    "BL_merged = BL_estimates_cal_mdtf(data_T.isel(time=idt), data_q.isel(time=idt), data_sp.isel(time=idt)\n",
    "                                 , data_t2m.isel(time=idt), data_q2m.isel(time=idt))"
   ]
  },
  {
   "cell_type": "code",
   "execution_count": 38,
   "id": "f6f1526d-0a49-4383-824e-6f96d7dea0bd",
   "metadata": {
    "tags": []
   },
   "outputs": [],
   "source": [
    "BL_merged_old = BL_estimates_cal_new(data_T.isel(time=idt), data_q.isel(time=idt), data_sp.isel(time=idt)\n",
    "                                 , data_t2m.isel(time=idt), data_q2m.isel(time=idt))"
   ]
  },
  {
   "cell_type": "code",
   "execution_count": null,
   "id": "814fcff8-a3af-4fd2-bbcf-43d6f1f5e290",
   "metadata": {
    "tags": []
   },
   "outputs": [],
   "source": [
    "# fig, ax = plt.subplots(1,1,figsize=(5,5),subplot_kw={'projection': ccrs.PlateCarree()})\n",
    "    \n",
    "# ax.coastlines(color='k',linewidth=0.7)\n",
    "# ax.add_feature(cfeat.LAND,zorder=3,edgecolor='grey',facecolor='none',linewidth=0.3) # maskout LAND\n",
    "# ax.add_feature(cfeat.BORDERS,zorder=3,edgecolor='grey',facecolor='none',linewidth=0.3)\n",
    "# ax.add_feature(cfeat.STATES,zorder=3,edgecolor='grey',facecolor='none',linewidth=0.3) \n",
    "\n",
    "# cf = ax.pcolormesh(BL_merged.longitude, BL_merged.latitude, BL_merged.Buoy_TOT, vmin=-0.12,vmax=0.02, cmap='jet',\n",
    "#               transform=ccrs.PlateCarree())\n",
    "# plt.colorbar(cf,ax=ax,shrink=0.6)\n",
    "\n",
    "# gl = ax.gridlines(crs=ccrs.PlateCarree(), draw_labels=True,\n",
    "#                   linewidth=1, color='k', alpha=0.4, linestyle=':')\n",
    "# gl.xlabels_top = False\n",
    "# gl.ylabels_right = False\n",
    "# gl.xformatter = LONGITUDE_FORMATTER\n",
    "# gl.yformatter = LATITUDE_FORMATTER\n",
    "# gl.xlabel_style = {'size': 8, 'color': 'k'}\n",
    "# gl.ylabel_style = {'size': 8, 'color': 'k'}"
   ]
  },
  {
   "cell_type": "code",
   "execution_count": 19,
   "id": "e02c9d98-3744-4cec-8cb7-3007d64ed32d",
   "metadata": {
    "tags": []
   },
   "outputs": [],
   "source": [
    "# double check with previously processed data by Fiaz\n",
    "\n",
    "delta_pl=400\n",
    "delta_pb=100\n",
    "wb=(delta_pb/delta_pl)*np.log((delta_pl+delta_pb)/delta_pb)\n",
    "wl=1-wb\n",
    "\n",
    "BUOY_data = xr.open_dataset('/neelin2020/ERA-5_buoy/layer_thetae/era5_2layers_thetae_2014_01_01.nc')\n",
    "BUOY_sub = BUOY_data.sel(time=datetime(2014,1,1,0),method='nearest').sel(lat=slice(-23,-13), lon=slice(28.5,38.5))\n",
    "thetae_bl = BUOY_sub.thetae_bl\n",
    "thetae_sat_lt = BUOY_sub.thetae_sat_lt\n",
    "thetae_lt = BUOY_sub.thetae_lt\n",
    "\n",
    "BL_CAPE = (9.81/(340*3)) * wb * ((thetae_bl-thetae_sat_lt)/thetae_sat_lt) * 340\n",
    "BL_SUBSAT = (9.81/(340*3))* wl * ((thetae_sat_lt-thetae_lt)/thetae_sat_lt) * 340\n",
    "BL_TOT_ori= BL_CAPE - BL_SUBSAT"
   ]
  },
  {
   "cell_type": "code",
   "execution_count": 40,
   "id": "219249e6-8f55-4de4-9ede-bebbf728629d",
   "metadata": {
    "tags": []
   },
   "outputs": [
    {
     "data": {
      "text/plain": [
       "<matplotlib.collections.QuadMesh at 0x7efd003351f0>"
      ]
     },
     "execution_count": 40,
     "metadata": {},
     "output_type": "execute_result"
    },
    {
     "data": {
      "image/png": "[encoded data removed]",
      "text/plain": [
       "<Figure size 640x480 with 2 Axes>"
      ]
     },
     "metadata": {},
     "output_type": "display_data"
    }
   ],
   "source": [
    "(BL_merged.thetae_lt-BL_merged_old.thetae_lt).plot()"
   ]
  },
  {
   "cell_type": "code",
   "execution_count": 36,
   "id": "fe4b9931-5ed4-4f0d-996f-adcf23f5cc89",
   "metadata": {
    "tags": []
   },
   "outputs": [
    {
     "data": {
      "text/plain": [
       "<matplotlib.collections.QuadMesh at 0x7efd00554a30>"
      ]
     },
     "execution_count": 36,
     "metadata": {},
     "output_type": "execute_result"
    },
    {
     "data": {
      "image/png": "[encoded data removed]",
      "text/plain": [
       "<Figure size 640x480 with 2 Axes>"
      ]
     },
     "metadata": {},
     "output_type": "display_data"
    }
   ],
   "source": [
    "# check thetae_bl, thetae_lt, thetae_sat_lt\n",
    "BL_merged.thetae_lt.plot()"
   ]
  },
  {
   "cell_type": "code",
   "execution_count": 37,
   "id": "9a85ddb5-0a59-4b61-bea5-95ab35e8afbf",
   "metadata": {
    "tags": []
   },
   "outputs": [
    {
     "data": {
      "text/plain": [
       "<matplotlib.collections.QuadMesh at 0x7efd004ab280>"
      ]
     },
     "execution_count": 37,
     "metadata": {},
     "output_type": "execute_result"
    },
    {
     "data": {
      "image/png": "[encoded data removed]",
      "text/plain": [
       "<Figure size 640x480 with 2 Axes>"
      ]
     },
     "metadata": {},
     "output_type": "display_data"
    }
   ],
   "source": [
    "# check thetae_bl, thetae_lt, thetae_sat_lt\n",
    "BUOY_sub.thetae_lt.plot()"
   ]
  },
  {
   "cell_type": "code",
   "execution_count": 35,
   "id": "7c7b525c-751d-4731-b07f-0dffa93e08d4",
   "metadata": {
    "tags": []
   },
   "outputs": [
    {
     "data": {
      "text/plain": [
       "<matplotlib.colorbar.Colorbar at 0x7efd01b1d1c0>"
      ]
     },
     "execution_count": 35,
     "metadata": {},
     "output_type": "execute_result"
    },
    {
     "data": {
      "image/png": "[encoded data removed]",
      "text/plain": [
       "<Figure size 640x480 with 2 Axes>"
      ]
     },
     "metadata": {},
     "output_type": "display_data"
    }
   ],
   "source": [
    "plt.pcolor(BL_merged.thetae_bl[:-1,:-1].values-BUOY_sub.thetae_bl.values)\n",
    "plt.colorbar()"
   ]
  },
  {
   "cell_type": "code",
   "execution_count": null,
   "id": "2dee01a2-bf46-4e6a-ba82-283a7b03228f",
   "metadata": {
    "tags": []
   },
   "outputs": [],
   "source": [
    "fig, (ax1,ax2,ax3) = plt.subplots(1,3,figsize=(10,3))\n",
    "# thetae_BL\n",
    "tmp = (BL_merged.thetae_bl.values[:-1,:-1]-thetae_bl.values)\n",
    "cp1 = ax1.pcolormesh(thetae_bl.lon, thetae_bl.lat, tmp, vmin=-2, vmax=2, cmap='RdBu')\n",
    "plt.colorbar(cp1, ax=ax1)\n",
    "# thetae_LT\n",
    "tmp = (BL_merged.thetae_lt.values[:-1,:-1]-thetae_lt.values)\n",
    "cp2 = ax2.pcolormesh(thetae_lt.lon, thetae_lt.lat, tmp , vmin=-2, vmax=2, cmap='RdBu')\n",
    "plt.colorbar(cp2, ax=ax2)\n",
    "# thetae_SAT_LT\n",
    "tmp = (BL_merged.thetae_sat_lt.values[:-1,:-1]-thetae_sat_lt.values)\n",
    "cp3 = ax3.pcolormesh(thetae_sat_lt.lon, thetae_sat_lt.lat, tmp, vmin=-2, vmax=2, cmap='RdBu')\n",
    "plt.colorbar(cp3, ax=ax3)"
   ]
  },
  {
   "cell_type": "code",
   "execution_count": null,
   "id": "a76211f0-7f06-4044-9465-157571facbb2",
   "metadata": {},
   "outputs": [],
   "source": []
  },
  {
   "cell_type": "code",
   "execution_count": null,
   "id": "920198d6-be3d-499f-a9f6-faf3c498ac23",
   "metadata": {},
   "outputs": [],
   "source": []
  },
  {
   "cell_type": "code",
   "execution_count": null,
   "id": "74877efc-4131-4bef-b8bb-a9d34c215c16",
   "metadata": {
    "tags": []
   },
   "outputs": [],
   "source": [
    "BL_merged.Buoy_TOT.mean()*340*3/9.81"
   ]
  },
  {
   "cell_type": "code",
   "execution_count": null,
   "id": "91376bf5-a2c4-4a5a-a261-8d3ad3ff0b13",
   "metadata": {
    "tags": []
   },
   "outputs": [],
   "source": [
    "BL_TOT_ori.mean()*340*3/9.81"
   ]
  },
  {
   "cell_type": "code",
   "execution_count": null,
   "id": "adca4800-fce1-4656-8223-e11d747cea89",
   "metadata": {
    "tags": []
   },
   "outputs": [],
   "source": [
    "fig, ax = plt.subplots(1,1,figsize=(5,5),subplot_kw={'projection': ccrs.PlateCarree()})\n",
    "    \n",
    "ax.coastlines(color='k',linewidth=0.7)\n",
    "ax.add_feature(cfeat.LAND,zorder=3,edgecolor='grey',facecolor='none',linewidth=0.3) # maskout LAND\n",
    "ax.add_feature(cfeat.BORDERS,zorder=3,edgecolor='grey',facecolor='none',linewidth=0.3)\n",
    "ax.add_feature(cfeat.STATES,zorder=3,edgecolor='grey',facecolor='none',linewidth=0.3) \n",
    "\n",
    "cf = ax.pcolormesh(BL_TOT_ori.lon, BL_TOT_ori.lat, BL_TOT_ori, vmin=-0.12,vmax=0.02, cmap='jet',\n",
    "              transform=ccrs.PlateCarree())\n",
    "plt.colorbar(cf,ax=ax,shrink=0.6)\n",
    "\n",
    "gl = ax.gridlines(crs=ccrs.PlateCarree(), draw_labels=True,\n",
    "                  linewidth=1, color='k', alpha=0.4, linestyle=':')\n",
    "gl.xlabels_top = False\n",
    "gl.ylabels_right = False\n",
    "gl.xformatter = LONGITUDE_FORMATTER\n",
    "gl.yformatter = LATITUDE_FORMATTER\n",
    "gl.xlabel_style = {'size': 8, 'color': 'k'}\n",
    "gl.ylabel_style = {'size': 8, 'color': 'k'}"
   ]
  },
  {
   "cell_type": "code",
   "execution_count": null,
   "id": "a50b54a5-0fba-4abb-9283-4fcc222c4a86",
   "metadata": {},
   "outputs": [],
   "source": []
  },
  {
   "cell_type": "markdown",
   "id": "0efaa613-24c7-4258-b409-1b70fb7277f3",
   "metadata": {},
   "source": [
    "### test playground"
   ]
  },
  {
   "cell_type": "code",
   "execution_count": 12,
   "id": "3d2217f7-34dd-430b-bba4-e45c6e5bb755",
   "metadata": {
    "tags": []
   },
   "outputs": [],
   "source": [
    "year = 2014\n",
    "idt = 0 "
   ]
  },
  {
   "cell_type": "code",
   "execution_count": 20,
   "id": "31a02c94-b0b3-439a-8c28-ed02b2037a24",
   "metadata": {
    "tags": []
   },
   "outputs": [],
   "source": [
    "sp = data_sp.isel(time=idt)\n",
    "T2m = data_t2m.isel(time=idt)\n",
    "q2m = data_q2m.isel(time=idt)\n",
    "T = data_T.isel(time=idt)\n",
    "q = data_q.isel(time=idt)\n",
    "\n",
    "idx_lat = 0\n",
    "idx_lon = 0\n",
    "\n",
    "pbl_top_level = find_pbl_top_level(sp, T, pbl_depth=100)\n",
    "\n",
    "sf_p = sp.isel(latitude=idx_lat, longitude=idx_lon) # surface pressure \n",
    "pbl_p = pbl_top_level.isel(latitude=idx_lat, longitude=idx_lon).pbl_top_level.values # pbl top pressure\n",
    "T_sf = T2m.isel(latitude=idx_lat, longitude=idx_lon).values\n",
    "q_sf = q2m.isel(latitude=idx_lat, longitude=idx_lon).values\n",
    "\n",
    "T_at_sf = T2m.isel(latitude=idx_lat, longitude=idx_lon).values\n",
    "q_at_sf = q2m.isel(latitude=idx_lat, longitude=idx_lon).values\n",
    "T_above_sf = T.isel(latitude=idx_lat, longitude=idx_lon).sel(level=slice(100,int(sf_p))).values\n",
    "q_above_sf = q.isel(latitude=idx_lat, longitude=idx_lon).sel(level=slice(100,int(sf_p))).values\n",
    "\n",
    "# reconstruct T, q profile by adding surface quantities\n",
    "T_1d = np.concatenate([np.array([T_at_sf]), np.flip(T_above_sf)])            \n",
    "q_1d = np.concatenate([np.array([q_at_sf]), np.flip(q_above_sf)])                \n",
    "pressure_1d = np.concatenate([np.array([sf_p]), np.flip(T.sel(level=slice(100,int(sf_p))).level.values)])\n",
    "T_1d_xr = xr.DataArray(data=T_1d,\n",
    "                       dims=[\"level\"],\n",
    "                       coords=dict(level=([\"level\"], pressure_1d)))\n",
    "q_1d_xr = xr.DataArray(data=q_1d,\n",
    "                       dims=[\"level\"],\n",
    "                       coords=dict(level=([\"level\"], pressure_1d)))\n",
    "\n",
    "pint_levels = pressure_1d\n",
    "\n",
    "ind_pbl_top = np.argmin(abs(pint_levels - (int(sf_p)-100))) # index of pbl top\n",
    "ind_pmid = np.argmin(abs(pint_levels - 500)) # index of 500 mb\n",
    "pbl_thickness = pint_levels[0] - pint_levels[ind_pbl_top]\n",
    "lt_thickness = pint_levels[ind_pbl_top] - pint_levels[ind_pmid]\n",
    "thetae_bl = 0\n",
    "thetae_lt = 0\n",
    "thetae_sat_lt = 0\n",
    "\n",
    "if (lt_thickness > 50): # larger than 50 mb\n",
    "\n",
    "    for i in range(len(pint_levels)):\n",
    "        \n",
    "        if (i <= ind_pmid): # only integrated below mid level (500hPa)\n",
    "        \n",
    "            qs = qs_calc(T_1d_xr.isel(level=i)).values\n",
    "            thetae = theta_e_calc(T_1d_xr.isel(level=i), q_1d_xr.isel(level=i)).values\n",
    "            \n",
    "            dp1 = pint_levels[i] - pint_levels[i+1]\n",
    "            \n",
    "            if (i < ind_pbl_top):\n",
    "                \n",
    "                if (i==0):\n",
    "                    thetae_bl += thetae*dp1/2\n",
    "                elif (i>0) & (i<ind_pbl_top):\n",
    "                    dp2 = pint_levels[i-1]-pint_levels[i]\n",
    "                    thetae_bl += thetae*(dp1+dp2)/2\n",
    "                    \n",
    "            else:\n",
    "                thetae_sat = theta_e_calc(T_1d_xr.isel(level=i),qs).values\n",
    "                \n",
    "                if (i==ind_pbl_top):\n",
    "                    \n",
    "                    dp2 = pint_levels[i-1]-pint_levels[i]\n",
    "                    thetae_bl += thetae*(dp2)/2\n",
    "                    \n",
    "                    thetae_lt += thetae*(dp1)/2\n",
    "                    thetae_sat_lt += thetae_sat*(dp1)/2\n",
    "                    \n",
    "                elif (i>ind_pbl_top) & (i<ind_pmid):\n",
    "                    \n",
    "                    dp2 = pint_levels[i-1] - pint_levels[i]\n",
    "                    thetae_lt += thetae*(dp1+dp2)/2\n",
    "                    thetae_sat_lt += thetae_sat*(dp1+dp2)/2\n",
    "                    \n",
    "                elif (i==ind_pmid):\n",
    "                    \n",
    "                    dp2 = pint_levels[i-1]-pint_levels[i]\n",
    "                    thetae_lt += thetae*(dp2)/2\n",
    "                    thetae_sat_lt += thetae_sat*(dp2)/2\n",
    "                    \n",
    "    thetae_bl = thetae_bl/(pbl_thickness)\n",
    "    thetae_lt = thetae_lt/(lt_thickness)\n",
    "    thetae_sat_lt = thetae_sat_lt/(lt_thickness)\n",
    "    \n",
    "# splitting into boundary layer and lower free troposphere\n",
    "# 1. boundary layer, bl\n",
    "# q_bl = q_1d_xr.sel(level=slice(int(sf_p), pbl_p))\n",
    "# T_bl = T_1d_xr.sel(level=slice(int(sf_p), pbl_p))\n",
    "# # 2. lower free troposphere, lt\n",
    "# q_lt = q_1d_xr.sel(level=slice(pbl_p,pbl_p-400))\n",
    "# T_lt = T_1d_xr.sel(level=slice(pbl_p,pbl_p-400))     \n",
    "\n",
    "# # calculating layer-averaged thetae components\n",
    "# thetae_bl = -theta_e_calc(T_bl, q_bl).integrate('level')/(T_bl.level[0]-T_bl.level[-1]) # negative sign b.c. decreasing p\n",
    "# thetae_lt = -theta_e_calc(T_lt, q_lt).integrate('level')/(T_lt.level[0]-T_lt.level[-1])\n",
    "# qsat_lt = qs_calc(T_lt)\n",
    "# thetae_sat_lt = -theta_e_calc(T_lt, qsat_lt).integrate('level')/(T_lt.level[0]-T_lt.level[-1]) "
   ]
  },
  {
   "cell_type": "code",
   "execution_count": 24,
   "id": "b8f81f20-44a7-4667-b0d7-e2bb15e7b98c",
   "metadata": {
    "tags": []
   },
   "outputs": [
    {
     "data": {
      "text/plain": [
       "329.8068617854048"
      ]
     },
     "execution_count": 24,
     "metadata": {},
     "output_type": "execute_result"
    }
   ],
   "source": []
  },
  {
   "cell_type": "code",
   "execution_count": null,
   "id": "822b251f-380f-47cd-a5fe-65f04d3cd684",
   "metadata": {
    "tags": []
   },
   "outputs": [],
   "source": [
    "for i in range(10):\n",
    "    print(theta_e_calc(T_1d_xr.isel(level=i), q_1d_xr.isel(level=i)).values)"
   ]
  },
  {
   "cell_type": "code",
   "execution_count": null,
   "id": "a3477e18-893f-4055-a65e-59160cfa1c8f",
   "metadata": {
    "tags": []
   },
   "outputs": [],
   "source": [
    "ind_pbl_top"
   ]
  },
  {
   "cell_type": "code",
   "execution_count": null,
   "id": "efc39efe-e008-4709-a154-bf4065d6f976",
   "metadata": {
    "tags": []
   },
   "outputs": [],
   "source": [
    "thetae_lt"
   ]
  },
  {
   "cell_type": "code",
   "execution_count": null,
   "id": "e34e6d16-5bf0-4cea-a722-b4b334fe38e3",
   "metadata": {
    "tags": []
   },
   "outputs": [],
   "source": [
    "plt.plot(T_1d_xr, T_1d_xr.level)\n",
    "plt.ylim([1000,100])"
   ]
  },
  {
   "cell_type": "code",
   "execution_count": null,
   "id": "b7e24e37-5d69-4084-bf9d-b767cec6b4de",
   "metadata": {},
   "outputs": [],
   "source": []
  }
 ],
 "metadata": {
  "kernelspec": {
   "display_name": "Python 3 (ipykernel)",
   "language": "python",
   "name": "python3"
  },
  "language_info": {
   "codemirror_mode": {
    "name": "ipython",
    "version": 3
   },
   "file_extension": ".py",
   "mimetype": "text/x-python",
   "name": "python",
   "nbconvert_exporter": "python",
   "pygments_lexer": "ipython3",
   "version": "3.9.17"
  }
 },
 "nbformat": 4,
 "nbformat_minor": 5
}
