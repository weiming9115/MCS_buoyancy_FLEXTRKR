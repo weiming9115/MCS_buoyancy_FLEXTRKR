{
 "cells": [
  {
   "cell_type": "code",
   "execution_count": 44,
   "id": "dcaf4858-8b2e-4081-8617-46c5cdf887da",
   "metadata": {
    "tags": []
   },
   "outputs": [],
   "source": [
    "import os\n",
    "import sys\n",
    "import xarray as xr\n",
    "import numpy as np\n",
    "import pandas as pd\n",
    "import matplotlib\n",
    "from matplotlib import pyplot as plt\n",
    "from matplotlib.colors import ListedColormap, LinearSegmentedColormap\n",
    "from datetime import datetime\n",
    "from pathlib import Path\n",
    "from matplotlib.lines import Line2D\n",
    "from matplotlib.patches import Patch\n",
    "from matplotlib.patches import Rectangle\n",
    "\n",
    "# for some conversion between thermodynamic variables\n",
    "from metpy.units import units\n",
    "from metpy.calc import thermo\n",
    "\n",
    "import warnings"
   ]
  },
  {
   "cell_type": "code",
   "execution_count": 2,
   "id": "4b28c0c8-5a46-421d-aece-3da0199c5c88",
   "metadata": {
    "tags": []
   },
   "outputs": [],
   "source": [
    "warnings.filterwarnings('ignore')"
   ]
  },
  {
   "cell_type": "code",
   "execution_count": 3,
   "id": "4fada647-66e5-4b8d-be9c-f66dd99b1443",
   "metadata": {
    "tags": []
   },
   "outputs": [],
   "source": [
    "# data directoies\n",
    "dir_era5 = Path('/neelin2020/ERA-5/NC_FILES/')\n",
    "dir_buoy = Path('/neelin2020/ERA-5_buoy/layer_thetae/')"
   ]
  },
  {
   "cell_type": "code",
   "execution_count": 15,
   "id": "57c8900f-afdc-4a86-a366-b58f4e6d8d63",
   "metadata": {
    "tags": []
   },
   "outputs": [],
   "source": [
    "def find_pbl_top_level(sp, temp, pbl_depth=100):\n",
    "    \n",
    "    if len(sp.squeeze().dims) == 0: # 1-dimension, grid data\n",
    "    \n",
    "        p_level = temp.level # get era-5 standard pressure levels\n",
    "        idx = np.argmin(abs(level.values- (sp.values - pbl_depth)))\n",
    "        \n",
    "        pbl_top_level_xr = p_level[idx]\n",
    "                \n",
    "    elif len(sp.squeeze().dims) == 2: # 2-dimension (lat, lon)\n",
    "        \n",
    "        p_level_2d = (temp - temp + temp.level) \n",
    "        idx = np.argmin(abs(p_level_2d.values- (sp.values - pbl_depth)), axis=0)\n",
    "        \n",
    "        pbl_list = []\n",
    "        for n in idx.ravel():\n",
    "            pbl_list.append(p_level_2d.level[n])\n",
    "        pbl_list = np.asarray(pbl_list)\n",
    "        \n",
    "        pbl_top_level = pbl_list.reshape((len(sp.latitude), len(sp.longitude)))\n",
    "        #convert back into xarray\n",
    "        pbl_top_level_xr = xr.Dataset(data_vars=dict(pbl_top_level=(['latitude','longitude'],pbl_top_level)),\n",
    "                                      coords=dict(latitude=(['latitude'], sp.latitude.values),\n",
    "                                                  longitude=(['longitude'], sp.longitude.values)))\n",
    "            \n",
    "    return pbl_top_level_xr"
   ]
  },
  {
   "cell_type": "code",
   "execution_count": 5,
   "id": "5b4e9271-cc8b-4b57-a7eb-58d64df1558e",
   "metadata": {
    "tags": []
   },
   "outputs": [],
   "source": [
    "def es_calc_bolton(temp):\n",
    "    # in hPa\n",
    "\n",
    "    tmelt  = 273.15\n",
    "    tempc = temp - tmelt \n",
    "    es = 6.112*np.exp(17.67*tempc/(243.5+tempc))\n",
    "    \n",
    "    return es"
   ]
  },
  {
   "cell_type": "code",
   "execution_count": 6,
   "id": "ab708418-6149-4e61-a6ba-f6aa8cf58bd3",
   "metadata": {
    "tags": []
   },
   "outputs": [],
   "source": [
    "def es_calc(temp):\n",
    "\n",
    "    tmelt  = 273.15\n",
    "    \n",
    "    c0=0.6105851e+03\n",
    "    c1=0.4440316e+02\n",
    "    c2=0.1430341e+01\n",
    "    c3=0.2641412e-01\n",
    "    c4=0.2995057e-03\n",
    "    c5=0.2031998e-05\n",
    "    c6=0.6936113e-08\n",
    "    c7=0.2564861e-11\n",
    "    c8=-.3704404e-13\n",
    "\n",
    "    tempc = temp - tmelt \n",
    "    tempcorig = tempc\n",
    "        \n",
    "    #if tempc < -80:\n",
    "    es_ltn80c = es_calc_bolton(temp)\n",
    "    es_ltn80c = es_ltn80c.where(tempc < -80, 0)\n",
    "    #else:\n",
    "    es = c0+tempc*(c1+tempc*(c2+tempc*(c3+tempc*(c4+tempc*(c5+tempc*(c6+tempc*(c7+tempc*c8)))))))\n",
    "    es_gtn80c = es/100\n",
    "    es_gtn80c = es_gtn80c.where(tempc >= -80, 0)\n",
    "    \n",
    "    # complete es\n",
    "    es = es_ltn80c + es_gtn80c\n",
    "    \n",
    "    return es"
   ]
  },
  {
   "cell_type": "code",
   "execution_count": 7,
   "id": "83ced093-24ae-4967-91d3-b5e1454e1f71",
   "metadata": {
    "tags": []
   },
   "outputs": [],
   "source": [
    "def qs_calc(temp):\n",
    "\n",
    "    tmelt  = 273.15\n",
    "    RV=461.5\n",
    "    RD=287.04\n",
    "\n",
    "    EPS=RD/RV\n",
    "\n",
    "    press = temp.level * 100. # in Pa\n",
    "    tempc = temp - tmelt \n",
    "\n",
    "    es=es_calc(temp) \n",
    "    es=es * 100. #hPa\n",
    "    qs = (EPS * es) / (press + ((EPS-1.)*es))\n",
    "    \n",
    "    return qs"
   ]
  },
  {
   "cell_type": "code",
   "execution_count": 8,
   "id": "d7dbbb54-eb62-40ab-ab72-9d3ee0d4d764",
   "metadata": {
    "tags": []
   },
   "outputs": [],
   "source": [
    "def theta_e_calc(temp, q):\n",
    "    \n",
    "    # following the definitions in Bolton (1980): the calculation of equivalent potential temperature\n",
    "    \n",
    "    pref = 100000.\n",
    "    tmelt  = 273.15\n",
    "    CPD=1005.7\n",
    "    CPV=1870.0\n",
    "    CPVMCL=2320.0\n",
    "    RV=461.5\n",
    "    RD=287.04\n",
    "    EPS=RD/RV\n",
    "    ALV0=2.501E6\n",
    "\n",
    "    press = temp.level * 100. # in Pa\n",
    "    tempc = temp - tmelt # in C\n",
    "\n",
    "    r = q / (1. - q) \n",
    "\n",
    "    # get ev in hPa \n",
    "    ev_hPa = temp.level * r / (EPS + r) # hpa\n",
    "\n",
    "    #get TL\n",
    "    TL = (2840. / ((3.5*np.log(temp)) - (np.log(ev_hPa)) - 4.805)) + 55.\n",
    "\n",
    "    #calc chi_e:\n",
    "    chi_e = 0.2854 * (1. - (0.28 * r))\n",
    "\n",
    "    theta_e = temp * np.power((pref / press),chi_e) * np.exp(((3.376/TL) - 0.00254) * r * 1000 * (1. + (0.81 * r)))\n",
    "    \n",
    "    return theta_e"
   ]
  },
  {
   "cell_type": "code",
   "execution_count": 32,
   "id": "fdb75774-6a46-421b-871f-5846f9952edf",
   "metadata": {
    "tags": []
   },
   "outputs": [],
   "source": [
    "def BL_estimates_cal_new(T, q, sp, T2m, q2m):\n",
    "    \"\"\"\n",
    "    function for calcultinig the low-trospospheric buoyancy estimates\n",
    "    T, q : 3D xarray dataarray (level, lat, lon)\n",
    "    sp: surface pressure (lat, lon), unit: hPa\n",
    "    T2m, q2m: temperature, specific humidity at 2m (lat, lon) \n",
    "    \"\"\"\n",
    "    \n",
    "    T = T.drop('time')\n",
    "    q = q.drop('time')\n",
    "    T2m = T2m.drop('time')\n",
    "    q2m = q2m.drop('time')\n",
    "    sp = sp.drop('time')\n",
    "    \n",
    "    # constants\n",
    "    Lv = 2.5e6 # (J/kg)\n",
    "    g = 9.81 # (kg/m^2)\n",
    "    cpd = 1004 # (J/kg/K)\n",
    "    p0 = 1000  # (hPa)\n",
    "    Rd = 287.15 # (J/kg)\n",
    "\n",
    "    # find pbl top (100 hPa above the surface)\n",
    "    pbl_top_level = find_pbl_top_level(sp, T, pbl_depth=100)\n",
    "    \n",
    "    thetae_bl_list = []\n",
    "    thetae_lt_list = []\n",
    "    thetae_sat_lt_list = []\n",
    "    \n",
    "    # loop for lat-lon grids\n",
    "    for idx_lat in range(len(q2m.latitude)):\n",
    "        for idx_lon in range(len(q2m.longitude)):\n",
    "                        \n",
    "            try:\n",
    "                sf_p = sp.isel(latitude=idx_lat, longitude=idx_lon) # surface pressure \n",
    "                pbl_p = pbl_top_level.isel(latitude=idx_lat, longitude=idx_lon).pbl_top_level.values # pbl top pressure\n",
    "                T_sf = T2m.isel(latitude=idx_lat, longitude=idx_lon).values\n",
    "                q_sf = q2m.isel(latitude=idx_lat, longitude=idx_lon).values\n",
    "                T_above_sf = T.isel(latitude=idx_lat, longitude=idx_lon).values\n",
    "                q_above_sf = q.isel(latitude=idx_lat, longitude=idx_lon).values\n",
    "                T_at_sf = T2m.isel(latitude=idx_lat, longitude=idx_lon).values\n",
    "                q_at_sf = q2m.isel(latitude=idx_lat, longitude=idx_lon).values\n",
    "\n",
    "                # reconstruct T, q profile by adding surface quantities\n",
    "                T_1d = np.concatenate([np.array([T_at_sf]), np.flip(T_above_sf)])            \n",
    "                q_1d = np.concatenate([np.array([q_at_sf]), np.flip(q_above_sf)])\n",
    "                pressure_1d = np.concatenate([np.array([sf_p]), np.flip(T.level.values)])\n",
    "                T_1d_xr = xr.DataArray(data=T_1d,\n",
    "                                       dims=[\"level\"],\n",
    "                                       coords=dict(level=([\"level\"], pressure_1d)))\n",
    "                q_1d_xr = xr.DataArray(data=q_1d,\n",
    "                                       dims=[\"level\"],\n",
    "                                       coords=dict(level=([\"level\"], pressure_1d)))\n",
    "\n",
    "                # splitting into boundary layer and lower free troposphere\n",
    "                # 1. boundary layer, bl\n",
    "                q_bl = q_1d_xr.sel(level=slice(int(sf_p), pbl_p))\n",
    "                T_bl = T_1d_xr.sel(level=slice(int(sf_p), pbl_p))\n",
    "                # 2. lower free troposphere, lt\n",
    "                q_lt = q_1d_xr.sel(level=slice(pbl_p,pbl_p-400))\n",
    "                T_lt = T_1d_xr.sel(level=slice(pbl_p,pbl_p-400))     \n",
    "\n",
    "                # calculating layer-averaged thetae components\n",
    "                thetae_bl = -theta_e_calc(T_bl, q_bl).integrate('level')/(T_bl.level[0]-T_bl.level[-1]) # negative sign b.c. decreasing p\n",
    "                thetae_lt = -theta_e_calc(T_lt, q_lt).integrate('level')/(T_lt.level[0]-T_lt.level[-1])\n",
    "                qsat_lt = qs_calc(T_lt)\n",
    "                thetae_sat_lt = -theta_e_calc(T_lt, qsat_lt).integrate('level')/(T_lt.level[0]-T_lt.level[-1]) \n",
    "\n",
    "                thetae_bl_list.append(thetae_bl.values)\n",
    "                thetae_lt_list.append(thetae_lt.values)\n",
    "                thetae_sat_lt_list.append(thetae_sat_lt.values)\n",
    "                \n",
    "            except:\n",
    "                \n",
    "                thetae_bl_list.append(np.nan)\n",
    "                thetae_lt_list.append(np.nan)\n",
    "                thetae_sat_lt_list.append(np.nan)\n",
    "            \n",
    "    # convert to geolocated xarray\n",
    "    thetae_bl_xr = xr.DataArray(data = np.asarray(thetae_bl_list).reshape((len(T.latitude), len(T.longitude))),\n",
    "                               dims = [\"latitude\",'longitude'],\n",
    "                               coords = dict(latitude=([\"latitude\"], T.latitude.values),\n",
    "                                           longitude=([\"longitude\"], T.longitude.values)))\n",
    "    thetae_lt_xr = xr.DataArray(data = np.asarray(thetae_lt_list).reshape((len(T.latitude), len(T.longitude))),\n",
    "                               dims = [\"latitude\",'longitude'],\n",
    "                               coords = dict(latitude=([\"latitude\"], T.latitude.values),\n",
    "                                           longitude=([\"longitude\"], T.longitude.values)))\n",
    "    thetae_sat_lt_xr = xr.DataArray(data = np.asarray(thetae_sat_lt_list).reshape((len(T.latitude), len(T.longitude))),\n",
    "                               dims = [\"latitude\",'longitude'],\n",
    "                               coords = dict(latitude=([\"latitude\"], T.latitude.values),\n",
    "                                           longitude=([\"longitude\"], T.longitude.values)))\n",
    "    # calculate buoyancy estimates\n",
    "    delta_pl=400\n",
    "    delta_pb=100\n",
    "    wb=(delta_pb/delta_pl)*np.log((delta_pl+delta_pb)/delta_pb)\n",
    "    wl=1-wb\n",
    "    \n",
    "    # calculate buoyancy estimate\n",
    "    Buoy_CAPE = ((thetae_bl_xr-thetae_sat_lt_xr)/thetae_sat_lt_xr)*340\n",
    "    Buoy_CAPE_xr = Buoy_CAPE.rename('Buoy_CAPE').to_dataset()\n",
    "    Buoy_SUBSAT = ((thetae_sat_lt_xr-thetae_lt_xr)/thetae_sat_lt_xr)*340\n",
    "    Buoy_SUBSAT_xr = Buoy_SUBSAT.rename('Buoy_SUBSAT').to_dataset()\n",
    "    Buoy_TOT = (9.81/(340*3))*((wb*Buoy_CAPE)-(wl*Buoy_SUBSAT))\n",
    "    Buoy_TOT_xr = Buoy_TOT.rename('Buoy_TOT').to_dataset()\n",
    "    \n",
    "    thetae_bl_xr  = thetae_bl_xr.rename('thetae_bl').to_dataset()\n",
    "    thetae_lt_xr  = thetae_lt_xr.rename('thetae_lt').to_dataset()\n",
    "    thetae_sat_lt_xr  = thetae_sat_lt_xr.rename('thetae_sat_lt').to_dataset()\n",
    "    \n",
    "    return xr.merge([Buoy_CAPE_xr, Buoy_SUBSAT_xr, Buoy_TOT_xr, thetae_bl_xr, thetae_lt_xr, thetae_sat_lt_xr])"
   ]
  },
  {
   "cell_type": "code",
   "execution_count": 33,
   "id": "4d9636a8-2fba-49ac-b138-491c388412ad",
   "metadata": {
    "tags": []
   },
   "outputs": [],
   "source": [
    "# calculate based on t2m, td2m, sp for boundary \n",
    "data_T = xr.open_dataset(dir_era5 / '2014/era-5.T.2014.01.nc')\n",
    "data_T = data_T.reindex(latitude=list(reversed(data_T.latitude)))\n",
    "data_T = data_T.t.sel(latitude=slice(0,5), longitude=slice(80,85))\n",
    "\n",
    "data_q = xr.open_dataset(dir_era5 / '2014/era-5.q.2014.01.nc')\n",
    "data_q = data_q.reindex(latitude=list(reversed(data_q.latitude)))\n",
    "data_q = data_q.q.sel(latitude=slice(0,5), longitude=slice(80,85))\n",
    "\n",
    "data_surface = xr.open_dataset('/neelin2020/mcs_flextrkr/mcs_stats/era5.surface.2014.010100.nc')\n",
    "data_surface = data_surface.reindex(latitude=list(reversed(data_surface.latitude)))\n",
    "data_surface = data_surface.sel(latitude=slice(0,5), longitude=slice(80,85))\n",
    "\n",
    "data_sp = data_surface.sp/100\n",
    "data_t2m = data_surface.t2m\n",
    "data_d2m = data_surface.d2m\n",
    "data_q2m = thermo.specific_humidity_from_dewpoint(data_sp*100 * units.pascal, data_d2m * units.kelvin) \n",
    "\n",
    "idt = 0\n",
    "# # derive low-tropospheric buoyancy estimates\n",
    "BL_merged = BL_estimates_cal_new(data_T.isel(time=idt), data_q.isel(time=idt), data_sp.isel(time=idt)\n",
    "                                 , data_t2m.isel(time=idt), data_q2m.isel(time=idt))\n",
    "\n",
    "# BL_CAPE = BL_merged.Buoy_CAPE\n",
    "# BL_SUBSAT = BL_merged.Buoy_SUBSAT\n",
    "# BL_TOT = BL_merged.Buoy_TOT"
   ]
  },
  {
   "cell_type": "code",
   "execution_count": 40,
   "id": "99f41663-a999-4673-9127-0ef120d8c66e",
   "metadata": {
    "tags": []
   },
   "outputs": [
    {
     "data": {
      "text/plain": [
       "<matplotlib.collections.QuadMesh at 0x7fad9cf9c070>"
      ]
     },
     "execution_count": 40,
     "metadata": {},
     "output_type": "execute_result"
    },
    {
     "data": {
      "image/png": "[encoded data removed]",
      "text/plain": [
       "<Figure size 640x480 with 2 Axes>"
      ]
     },
     "metadata": {},
     "output_type": "display_data"
    }
   ],
   "source": [
    "BL_merged.Buoy_TOT.plot(vmin=-0.09, vmax=-0.02, cmap='jet')"
   ]
  },
  {
   "cell_type": "code",
   "execution_count": 36,
   "id": "e02c9d98-3744-4cec-8cb7-3007d64ed32d",
   "metadata": {
    "tags": []
   },
   "outputs": [],
   "source": [
    "delta_pl=400\n",
    "delta_pb=100\n",
    "wb=(delta_pb/delta_pl)*np.log((delta_pl+delta_pb)/delta_pb)\n",
    "wl=1-wb\n",
    "\n",
    "BUOY_data = xr.open_dataset('/neelin2020/ERA-5_buoy/layer_thetae/era5_2layers_thetae_2014_01_01.nc')\n",
    "BUOY_sub = BUOY_data.sel(time=datetime(2014,1,1,0),lon=slice(80,85), lat=slice(0,5))\n",
    "thetae_bl = BUOY_sub.thetae_bl\n",
    "thetae_sat_lt = BUOY_sub.thetae_sat_lt\n",
    "thetae_lt = BUOY_sub.thetae_lt\n",
    "BL_ori=(9.81/3)*(wb*(thetae_bl-thetae_sat_lt)/thetae_sat_lt-wl*(thetae_sat_lt-thetae_lt)/thetae_sat_lt)"
   ]
  },
  {
   "cell_type": "code",
   "execution_count": 41,
   "id": "adca4800-fce1-4656-8223-e11d747cea89",
   "metadata": {
    "tags": []
   },
   "outputs": [
    {
     "data": {
      "text/plain": [
       "<matplotlib.collections.QuadMesh at 0x7fad9ce70790>"
      ]
     },
     "execution_count": 41,
     "metadata": {},
     "output_type": "execute_result"
    },
    {
     "data": {
      "image/png": "[encoded data removed]",
      "text/plain": [
       "<Figure size 640x480 with 2 Axes>"
      ]
     },
     "metadata": {},
     "output_type": "display_data"
    }
   ],
   "source": [
    "BL_ori.plot(vmin=-0.09, vmax=-0.02, cmap='jet')"
   ]
  },
  {
   "cell_type": "code",
   "execution_count": null,
   "id": "ada3ed67-2f4c-47e3-a22d-29c88fd0d045",
   "metadata": {
    "tags": []
   },
   "outputs": [],
   "source": [
    "thetae_lt.plot()"
   ]
  },
  {
   "cell_type": "code",
   "execution_count": null,
   "id": "1f91e0bd-4677-4214-9305-13549f1a95ee",
   "metadata": {},
   "outputs": [],
   "source": []
  }
 ],
 "metadata": {
  "kernelspec": {
   "display_name": "Python 3 (ipykernel)",
   "language": "python",
   "name": "python3"
  },
  "language_info": {
   "codemirror_mode": {
    "name": "ipython",
    "version": 3
   },
   "file_extension": ".py",
   "mimetype": "text/x-python",
   "name": "python",
   "nbconvert_exporter": "python",
   "pygments_lexer": "ipython3",
   "version": "3.9.17"
  }
 },
 "nbformat": 4,
 "nbformat_minor": 5
}
