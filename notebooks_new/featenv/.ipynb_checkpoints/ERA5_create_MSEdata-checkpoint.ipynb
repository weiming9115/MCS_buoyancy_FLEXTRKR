{
 "cells": [
  {
   "cell_type": "markdown",
   "id": "02390537-447e-4b0c-a699-397d957e9440",
   "metadata": {},
   "source": [
    "#### Create ERA-5 MSE componets under /neelin2020/ERA-5_mse"
   ]
  },
  {
   "cell_type": "code",
   "execution_count": 1,
   "id": "c59bbd01-1041-42fb-8796-fcdb1107e57d",
   "metadata": {
    "tags": []
   },
   "outputs": [],
   "source": [
    "import os\n",
    "import sys\n",
    "import xarray as xr\n",
    "import numpy as np\n",
    "import pandas as pd\n",
    "from matplotlib import pyplot as plt\n",
    "from datetime import datetime, date\n",
    "from pathlib import Path\n",
    "from numba import jit, vectorize, float64\n",
    "\n",
    "import cartopy.crs as ccrs\n",
    "import cartopy.feature as cfeat\n",
    "from cartopy.util import add_cyclic_point\n",
    "from cartopy.mpl.gridliner import LONGITUDE_FORMATTER, LATITUDE_FORMATTER\n",
    "\n",
    "import warnings"
   ]
  },
  {
   "cell_type": "code",
   "execution_count": 2,
   "id": "648313a2-abba-49eb-8949-0cc29bc6df8c",
   "metadata": {
    "tags": []
   },
   "outputs": [],
   "source": [
    "warnings.filterwarnings('ignore')"
   ]
  },
  {
   "cell_type": "code",
   "execution_count": null,
   "id": "39fac6da-faa1-4c79-94cc-8da7c3cc733a",
   "metadata": {
    "tags": []
   },
   "outputs": [],
   "source": [
    "@jit(nopython=False)\n",
    "def es_calc_bolton(temp):\n",
    "    # in hPa\n",
    "\n",
    "    tmelt  = 273.15\n",
    "    tempc = temp - tmelt\n",
    "    es = 6.112*np.exp(17.67*tempc/(243.5+tempc))\n",
    "\n",
    "    return es"
   ]
  },
  {
   "cell_type": "code",
   "execution_count": null,
   "id": "2d13c376-fbd9-451a-a4e7-9be3bf90596a",
   "metadata": {
    "tags": []
   },
   "outputs": [],
   "source": [
    "@jit(nopython=False)\n",
    "def es_calc(temp):\n",
    "    \"\"\"\n",
    "    temp [x,p]\n",
    "    \"\"\"\n",
    "    tmelt  = 273.15\n",
    "\n",
    "    c0=0.6105851e+03\n",
    "    c1=0.4440316e+02\n",
    "    c2=0.1430341e+01\n",
    "    c3=0.2641412e-01\n",
    "    c4=0.2995057e-03\n",
    "    c5=0.2031998e-05\n",
    "    c6=0.6936113e-08\n",
    "    c7=0.2564861e-11\n",
    "    c8=-.3704404e-13\n",
    "\n",
    "    tempc = temp - tmelt\n",
    "    tempcorig = tempc\n",
    "\n",
    "    #if tempc < -80:\n",
    "    es_ltn80c = es_calc_bolton(temp)\n",
    "    es_ltn80c = np.where(tempc < -80, es_ltn80c, 0)\n",
    "    \n",
    "    #else:\n",
    "    es = c0+tempc*(c1+tempc*(c2+tempc*(c3+tempc*(c4+tempc*(c5+tempc*(c6+tempc*(c7+tempc*c8)))))))\n",
    "    es_gtn80c = es/100\n",
    "    es_gtn80c = np.where(tempc >= -80, es_gtn80c, 0)\n",
    "\n",
    "    # complete es\n",
    "    es = es_ltn80c + es_gtn80c\n",
    "\n",
    "    return es"
   ]
  },
  {
   "cell_type": "code",
   "execution_count": null,
   "id": "124ad025-c51c-41ff-a0cd-54fa2dfbbad2",
   "metadata": {
    "tags": []
   },
   "outputs": [],
   "source": [
    "@jit(nopython=False)\n",
    "def qs_calc(temp, p_level):\n",
    "\n",
    "    tmelt  = 273.15\n",
    "    RV=461.5\n",
    "    RD=287.04\n",
    "\n",
    "    EPS=RD/RV\n",
    "\n",
    "    press = p_level * 100. # in Pa\n",
    "    tempc = temp - tmelt\n",
    "\n",
    "    es=es_calc(temp) # [x,y,p]\n",
    "    es=es * 100. #hPa\n",
    "    \n",
    "    qs = (EPS * es) / (press + ((EPS-1.)*es))\n",
    "\n",
    "    return qs"
   ]
  },
  {
   "cell_type": "code",
   "execution_count": null,
   "id": "ff9dec84-aec6-4154-b54b-1bb8ba5384b9",
   "metadata": {
    "tags": []
   },
   "outputs": [],
   "source": [
    "year_list = np.arange(2001,2010)\n",
    "\n",
    "for year in year_list[:1]:\n",
    "\n",
    "    era5_dir = Path('/neelin2020/ERA-5/NC_FILES/{}'.format(year))\n",
    "    out_dir = Path('/neelin2020/ERA-5_mse/{}'.format(year))\n",
    "    if out_dir.exists() == False:\n",
    "        os.system('mkdir -p {}'.format(out_dir))\n",
    "        print('Create new directory: {}'.format(out_dir))\n",
    "\n",
    "    for mon in np.arange(1,13):\n",
    "\n",
    "        ds_z = xr.open_dataset(era5_dir / 'era-5.z.{}.{}.nc'.format(year,str(mon).zfill(2))).rename({'valid_time':'time'})\n",
    "        ds_t = xr.open_dataset(era5_dir / 'era-5.T.{}.{}.nc'.format(year,str(mon).zfill(2)))\n",
    "        ds_q = xr.open_dataset(era5_dir / 'era-5.q.{}.{}.nc'.format(year,str(mon).zfill(2)))\n",
    "\n",
    "        # calculate MSE at 850hPa and MSE_sat 500hPa \n",
    "        cp = 1004.\n",
    "        Lv = 2.5e6\n",
    "\n",
    "        # get qsat at 500hPa\n",
    "        p_level = 500 \n",
    "        T_500 = ds_t.t.sel(level=500).values\n",
    "        qsat_500 = qs_calc(T_500, p_level)    \n",
    "\n",
    "        # MSE at 850hPa \n",
    "        mse_850 = ( cp*ds_t.t.sel(level=850) + Lv*ds_q.q.sel(level=850) + ds_z.z.sel(pressure_level=850) )/1000 # KJ/kg\n",
    "        # MSE_sat at 500hPa\n",
    "        mse_sat_500 = ( cp*ds_t.t.sel(level=500) + Lv*qsat_500 + ds_z.z.sel(pressure_level=500) )/1000 # KJ/kg\n",
    "        mse_850 = mse_850.rename('mse_850')\n",
    "        mse_sat_500 = mse_sat_500.rename('mse_sat_500')\n",
    "\n",
    "        # save into the directory\n",
    "        ds_merged = xr.merge([mse_850, mse_sat_500],compat='override').drop(['level','pressure_level','expver','number']) # only avialable regions\n",
    "        ds_merged.attrs['unit'] = 'KJ/kg' \n",
    "        ds_merged.attrs['created date'] = str(date.today())\n",
    "\n",
    "        ds_merged.to_netcdf(out_dir / 'ERA-5.mse.{}.{}.nc'.format(year,str(mon).zfill(2)) )\n",
    "        print(out_dir / 'ERA-5.mse.{}.{}.nc'.format(year,str(mon).zfill(2)))"
   ]
  },
  {
   "cell_type": "code",
   "execution_count": 3,
   "id": "4ea1905f-0ea2-439c-91e1-b7cad2b873ef",
   "metadata": {},
   "outputs": [],
   "source": [
    "test = xr.open_dataset('/neelin2020/ERA-5/NC_FILES/2002/era-5.z.2002.01.nc')"
   ]
  },
  {
   "cell_type": "code",
   "execution_count": 6,
   "id": "bd942016-640a-4b76-802c-2506a9f3c246",
   "metadata": {
    "tags": []
   },
   "outputs": [],
   "source": [
    "dim_vars = [i for i in test.dims]"
   ]
  },
  {
   "cell_type": "code",
   "execution_count": 9,
   "id": "301b90da-c05d-434c-8363-235ae4a9d2a9",
   "metadata": {
    "tags": []
   },
   "outputs": [],
   "source": [
    "if 'test' in dim_vars:\n",
    "    print('yes')"
   ]
  },
  {
   "cell_type": "code",
   "execution_count": null,
   "id": "43af3beb-185d-4188-ba28-da03d688abd4",
   "metadata": {
    "tags": []
   },
   "outputs": [],
   "source": [
    "test = xr.open_dataset(out_dir / 'ERA-5.mse.{}.{}.nc'.format(year,str(mon).zfill(2)))"
   ]
  },
  {
   "cell_type": "code",
   "execution_count": null,
   "id": "66a89ce0-dbff-4b33-bee8-cd5b31f4fed0",
   "metadata": {
    "tags": []
   },
   "outputs": [],
   "source": [
    "test.mse_850.isel(time=0).plot()"
   ]
  },
  {
   "cell_type": "code",
   "execution_count": null,
   "id": "9299a57c-78e9-4f8a-8094-df1596021277",
   "metadata": {},
   "outputs": [],
   "source": []
  }
 ],
 "metadata": {
  "kernelspec": {
   "display_name": "base_kernel",
   "language": "python",
   "name": "base_kernel"
  },
  "language_info": {
   "codemirror_mode": {
    "name": "ipython",
    "version": 3
   },
   "file_extension": ".py",
   "mimetype": "text/x-python",
   "name": "python",
   "nbconvert_exporter": "python",
   "pygments_lexer": "ipython3",
   "version": "3.11.4"
  }
 },
 "nbformat": 4,
 "nbformat_minor": 5
}
