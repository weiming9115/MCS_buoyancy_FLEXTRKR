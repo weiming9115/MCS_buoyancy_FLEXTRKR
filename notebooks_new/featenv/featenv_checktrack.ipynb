{
 "cells": [
  {
   "cell_type": "code",
   "execution_count": 1,
   "id": "a70d26c2-8f9b-40c4-9ab4-60fb4c38a851",
   "metadata": {},
   "outputs": [],
   "source": [
    "import os\n",
    "import sys\n",
    "import json\n",
    "import xarray as xr\n",
    "import numpy as np\n",
    "import pandas as pd\n",
    "from datetime import datetime\n",
    "from pathlib import Path\n",
    "from functools import partial\n",
    "import warnings\n",
    "\n",
    "warnings.filterwarnings('ignore')"
   ]
  },
  {
   "cell_type": "code",
   "execution_count": 2,
   "id": "e48b3d6a-f128-4442-a001-b0d982af8178",
   "metadata": {},
   "outputs": [],
   "source": [
    "def process_vars_env_writeout(track, var):\n",
    "\n",
    "    ds_env_vars = featenv.get_environment_vars_track(var_name=var, track_id=track,\n",
    "                                                     lat_range=featenv.box_size_degree, lon_range=featenv.box_size_degree)\n",
    "    return ds_env_vars"
   ]
  },
  {
   "cell_type": "code",
   "execution_count": 3,
   "id": "c8fdc72b-ea4b-43f9-a43c-d01b4fbb622a",
   "metadata": {},
   "outputs": [],
   "source": [
    "year_process = 2014 # year of tracks\n",
    "\n",
    "start_time = datetime.now()\n",
    "\n",
    "os.chdir('/scratch/wmtsai/featenv_analysis/script')\n",
    "from feature_environment_module import *\n",
    "from multiprocessing import Pool\n",
    "\n",
    "config_dir = Path('/scratch/wmtsai/featenv_analysis/config/')\n",
    "# read feature and variable settings from .json files\n",
    "feature_json = open(config_dir / 'feature_list.jsonc')\n",
    "variable_json = open(config_dir / 'varible_list.jsonc')\n",
    "feature_settings = json.load(feature_json)\n",
    "variable_settings = json.load(variable_json)"
   ]
  },
  {
   "cell_type": "code",
   "execution_count": 4,
   "id": "d5804aea-0d0a-4cb3-a89f-65aa710aa520",
   "metadata": {},
   "outputs": [
    {
     "name": "stdout",
     "output_type": "stream",
     "text": [
      "version:  1.0beta\n",
      "generate feature-environment data directory...\n",
      "Create main directoy: /scratch/wmtsai/featenv_analysis/dataset/MCS_FLEXTRKR_test/2014\n",
      "/scratch/wmtsai/featenv_analysis/dataset/MCS_FLEXTRKR_test/2014/feature_catalogs\n",
      "/scratch/wmtsai/featenv_analysis/dataset/MCS_FLEXTRKR_test/2014/environment_catalogs\n",
      "/scratch/wmtsai/featenv_analysis/dataset/MCS_FLEXTRKR_test/2014/feature_catalogs/track\n",
      "/scratch/wmtsai/featenv_analysis/dataset/MCS_FLEXTRKR_test/2014/environment_catalogs\n",
      "/scratch/wmtsai/featenv_analysis/dataset/MCS_FLEXTRKR_test/2014/environment_catalogs/VARS_2D\n",
      "/scratch/wmtsai/featenv_analysis/dataset/MCS_FLEXTRKR_test/2014/environment_catalogs/VARS_derived\n",
      "/scratch/wmtsai/featenv_analysis/dataset/MCS_FLEXTRKR_test/2014/environment_catalogs/VARS_3D\n"
     ]
    }
   ],
   "source": [
    "# call the feature-environemnt module\n",
    "featenv = ds_feature_environment()\n",
    "print('version: ', featenv.__version__)\n",
    "featenv.name = feature_settings['feature'][0]['name']\n",
    "featenv.feature_data_sources = feature_settings['feature'][0]['feature_sources']\n",
    "featenv.environmental_data_sources = feature_settings['feature'][0]['feature_environment_sources']\n",
    "featenv.track_frequency = feature_settings['feature'][0]['track_frequency']\n",
    "featenv.env_frequency = feature_settings['feature'][0]['track_frequency']\n",
    "featenv.feature_track = eval(feature_settings['feature'][0]['is_feature_track'])\n",
    "featenv.feature_mask = eval(feature_settings['feature'][0]['is_feature_mask'])\n",
    "featenv.box_size_degree = int(feature_settings['feature'][0]['box_size_degree'])\n",
    "\n",
    "# matching default ERA-5\n",
    "featenv.lon_env = np.arange(0,360,0.25)\n",
    "featenv.lat_env = np.arange(-90,90.25,0.25)\n",
    "\n",
    "# create directories according to the above descriptions\n",
    "main_dir = '/scratch/wmtsai/featenv_analysis/dataset/{}/{}/'.format(featenv.name, year_process)\n",
    "featenv.create_featenv_directory(main_dir)\n",
    "\n",
    "# locate and read the preprocessed track file\n",
    "featenv.track_data =  xr.open_dataset(feature_settings['feature'][0]['track_data'])\n",
    "# check dimensions: coords=[ tracks, time ] variables=[ base_time, meanlat, meanlon ]\n",
    "coords_track = []\n",
    "vars_track = []\n",
    "for i in featenv.track_data.dims:\n",
    "    coords_track.append(i)\n",
    "for i in featenv.track_data.keys():\n",
    "    vars_track.append(i)"
   ]
  },
  {
   "cell_type": "code",
   "execution_count": 7,
   "id": "1fa58e84-1eb3-4ccc-a15a-319d2850fcb0",
   "metadata": {},
   "outputs": [
    {
     "name": "stdout",
     "output_type": "stream",
     "text": [
      "Track data...ready: /scratch/wmtsai/temp_mcs/mcs_stats/mcs_tracks_non2mcs/featenv_track_input/MCS_FLEXTRKR_tropics30NS.2014.nc\n"
     ]
    }
   ],
   "source": [
    "# check dimensions: coords=[ tracks, time ] variables=[ base_time, meanlat, meanlon ]\n",
    "coords_track = []\n",
    "vars_track = []\n",
    "for i in featenv.track_data.dims:\n",
    "    coords_track.append(i)\n",
    "for i in featenv.track_data.keys():\n",
    "    vars_track.append(i)\n",
    "\n",
    "a = set(coords_track)\n",
    "b = set(['tracks','time'])\n",
    "c = set(vars_track)\n",
    "d = set(['base_time','meanlon','meanlat'])\n",
    "if (a & b) == {'time','tracks'} and (c & d) == {'base_time','meanlon','meanlat'}:\n",
    "    print('Track data...ready: {}'.format(feature_settings['feature'][0]['track_data']))\n",
    "else:\n",
    "    sys.exit('Incorret input format...Check the input file') # exit due to an incorrect track file\n",
    "\n",
    "(featenv.track_data).to_netcdf(featenv.track_dir / 'track_geoinfo.nc')"
   ]
  },
  {
   "cell_type": "code",
   "execution_count": 5,
   "id": "a8bc0670-28ea-41a4-af3a-596b3a98f356",
   "metadata": {},
   "outputs": [],
   "source": [
    "# extract feat-env data for individual tracks using multiprocessing\n",
    "track_sel = featenv.track_data.tracks.values\n",
    "\n",
    "# set up dictionary for variables, paths, and file strings informed from .json\n",
    "for n,var in enumerate(variable_settings['variable_inputs']):\n",
    "    if n == 0:\n",
    "        featenv.locate_env_data(var['var_name'], var['var_dir'])\n",
    "    else:\n",
    "        featenv.locate_env_data.update({var['var_name']: var['var_dir']})\n",
    "\n",
    "for n,var in enumerate(variable_settings['variable_inputs']):\n",
    "    if n == 0:\n",
    "        featenv.variable_format(var['var_name'], var['file_str'])\n",
    "    else:\n",
    "        featenv.variable_format.update({var['var_name']: var['file_str']})\n",
    "\n",
    "for n,var in enumerate(variable_settings['variable_inputs']):\n",
    "    if n == 0:\n",
    "        featenv.variable_infile(var['var_name'], var['varname_infile'])\n",
    "    else:\n",
    "        featenv.variable_infile.update({var['var_name']: var['varname_infile']})"
   ]
  },
  {
   "cell_type": "code",
   "execution_count": 16,
   "id": "def42122-fcbb-49b0-84c5-51724da7cb90",
   "metadata": {},
   "outputs": [],
   "source": [
    "# check tracks that were missing \n",
    "track_input = xr.open_dataset(featenv.track_dir / 'track_geoinfo.nc')"
   ]
  },
  {
   "cell_type": "code",
   "execution_count": 20,
   "id": "1e1aaa53-cef6-4d9d-b646-3d32c3998e43",
   "metadata": {},
   "outputs": [
    {
     "name": "stdout",
     "output_type": "stream",
     "text": [
      "current variable: T\n",
      "/scratch/wmtsai/featenv_analysis/dataset/MCS_FLEXTRKR_test/2014/environment_catalogs/VARS_3D/MCS_FLEXTRKR_test_T.merged.nc....saved\n",
      "current variable: q\n",
      "/scratch/wmtsai/featenv_analysis/dataset/MCS_FLEXTRKR_test/2014/environment_catalogs/VARS_3D/MCS_FLEXTRKR_test_q.merged.nc....saved\n",
      "current variable: omega\n",
      "/scratch/wmtsai/featenv_analysis/dataset/MCS_FLEXTRKR_test/2014/environment_catalogs/VARS_3D/MCS_FLEXTRKR_test_omega.merged.nc....saved\n",
      "current variable: 2t\n",
      "/scratch/wmtsai/featenv_analysis/dataset/MCS_FLEXTRKR_test/2014/environment_catalogs/VARS_2D/MCS_FLEXTRKR_test_2t.merged.nc....saved\n",
      "current variable: 2d\n",
      "/scratch/wmtsai/featenv_analysis/dataset/MCS_FLEXTRKR_test/2014/environment_catalogs/VARS_2D/MCS_FLEXTRKR_test_2d.merged.nc....saved\n",
      "current variable: sp\n",
      "/scratch/wmtsai/featenv_analysis/dataset/MCS_FLEXTRKR_test/2014/environment_catalogs/VARS_2D/MCS_FLEXTRKR_test_sp.merged.nc....saved\n",
      "current variable: precipitation\n"
     ]
    },
    {
     "ename": "KeyError",
     "evalue": "359.34999990463257",
     "output_type": "error",
     "traceback": [
      "\u001b[0;31m---------------------------------------------------------------------------\u001b[0m",
      "\u001b[0;31mRemoteTraceback\u001b[0m                           Traceback (most recent call last)",
      "\u001b[0;31mRemoteTraceback\u001b[0m: \n\"\"\"\nTraceback (most recent call last):\n  File \"/home/wmtsai/.conda/envs/wm_base/lib/python3.11/site-packages/pandas/core/indexes/base.py\", line 3621, in get_loc\n    return self._engine.get_loc(casted_key)\n           ^^^^^^^^^^^^^^^^^^^^^^^^^^^^^^^^\n  File \"pandas/_libs/index.pyx\", line 136, in pandas._libs.index.IndexEngine.get_loc\n  File \"pandas/_libs/index.pyx\", line 163, in pandas._libs.index.IndexEngine.get_loc\n  File \"pandas/_libs/hashtable_class_helper.pxi\", line 1533, in pandas._libs.hashtable.Float64HashTable.get_item\n  File \"pandas/_libs/hashtable_class_helper.pxi\", line 1542, in pandas._libs.hashtable.Float64HashTable.get_item\nKeyError: 359.34999990463257\n\nThe above exception was the direct cause of the following exception:\n\nTraceback (most recent call last):\n  File \"/home/wmtsai/.conda/envs/wm_base/lib/python3.11/multiprocessing/pool.py\", line 125, in worker\n    result = (True, func(*args, **kwds))\n                    ^^^^^^^^^^^^^^^^^^^\n  File \"/home/wmtsai/.conda/envs/wm_base/lib/python3.11/multiprocessing/pool.py\", line 48, in mapstar\n    return list(map(*args))\n           ^^^^^^^^^^^^^^^^\n  File \"/tmp/ipykernel_300746/598550933.py\", line 3, in process_vars_env_writeout\n    ds_env_vars = featenv.get_environment_vars_track(var_name=var, track_id=track,\n                  ^^^^^^^^^^^^^^^^^^^^^^^^^^^^^^^^^^^^^^^^^^^^^^^^^^^^^^^^^^^^^^^^\n  File \"/scratch/wmtsai/featenv_analysis/script/feature_environment_module.py\", line 252, in get_environment_vars_track\n    data_extract = data_shift.sel(lat=slice(lat_min, lat_max),\n                   ^^^^^^^^^^^^^^^^^^^^^^^^^^^^^^^^^^^^^^^^^^^\n  File \"/home/wmtsai/.conda/envs/wm_base/lib/python3.11/site-packages/xarray/core/dataarray.py\", line 1644, in sel\n    ds = self._to_temp_dataset().sel(\n         ^^^^^^^^^^^^^^^^^^^^^^^^^^^^\n  File \"/home/wmtsai/.conda/envs/wm_base/lib/python3.11/site-packages/xarray/core/dataset.py\", line 3126, in sel\n    query_results = map_index_queries(\n                    ^^^^^^^^^^^^^^^^^^\n  File \"/home/wmtsai/.conda/envs/wm_base/lib/python3.11/site-packages/xarray/core/indexing.py\", line 192, in map_index_queries\n    results.append(index.sel(labels, **options))\n                   ^^^^^^^^^^^^^^^^^^^^^^^^^^^^\n  File \"/home/wmtsai/.conda/envs/wm_base/lib/python3.11/site-packages/xarray/core/indexes.py\", line 758, in sel\n    indexer = _query_slice(self.index, label, coord_name, method, tolerance)\n              ^^^^^^^^^^^^^^^^^^^^^^^^^^^^^^^^^^^^^^^^^^^^^^^^^^^^^^^^^^^^^^\n  File \"/home/wmtsai/.conda/envs/wm_base/lib/python3.11/site-packages/xarray/core/indexes.py\", line 497, in _query_slice\n    indexer = index.slice_indexer(\n              ^^^^^^^^^^^^^^^^^^^^\n  File \"/home/wmtsai/.conda/envs/wm_base/lib/python3.11/site-packages/pandas/core/indexes/base.py\", line 6274, in slice_indexer\n    start_slice, end_slice = self.slice_locs(start, end, step=step)\n                             ^^^^^^^^^^^^^^^^^^^^^^^^^^^^^^^^^^^^^^\n  File \"/home/wmtsai/.conda/envs/wm_base/lib/python3.11/site-packages/pandas/core/indexes/base.py\", line 6484, in slice_locs\n    start_slice = self.get_slice_bound(start, \"left\")\n                  ^^^^^^^^^^^^^^^^^^^^^^^^^^^^^^^^^^^\n  File \"/home/wmtsai/.conda/envs/wm_base/lib/python3.11/site-packages/pandas/core/indexes/base.py\", line 6403, in get_slice_bound\n    raise err\n  File \"/home/wmtsai/.conda/envs/wm_base/lib/python3.11/site-packages/pandas/core/indexes/base.py\", line 6397, in get_slice_bound\n    slc = self.get_loc(label)\n          ^^^^^^^^^^^^^^^^^^^\n  File \"/home/wmtsai/.conda/envs/wm_base/lib/python3.11/site-packages/pandas/core/indexes/base.py\", line 3623, in get_loc\n    raise KeyError(key) from err\nKeyError: 359.34999990463257\n\"\"\"",
      "\nThe above exception was the direct cause of the following exception:\n",
      "\u001b[0;31mKeyError\u001b[0m                                  Traceback (most recent call last)",
      "File \u001b[0;32m<timed exec>:12\u001b[0m\n",
      "File \u001b[0;32m~/.conda/envs/wm_base/lib/python3.11/multiprocessing/pool.py:774\u001b[0m, in \u001b[0;36mApplyResult.get\u001b[0;34m(self, timeout)\u001b[0m\n\u001b[1;32m    772\u001b[0m     \u001b[38;5;28;01mreturn\u001b[39;00m \u001b[38;5;28mself\u001b[39m\u001b[38;5;241m.\u001b[39m_value\n\u001b[1;32m    773\u001b[0m \u001b[38;5;28;01melse\u001b[39;00m:\n\u001b[0;32m--> 774\u001b[0m     \u001b[38;5;28;01mraise\u001b[39;00m \u001b[38;5;28mself\u001b[39m\u001b[38;5;241m.\u001b[39m_value\n",
      "File \u001b[0;32m~/.conda/envs/wm_base/lib/python3.11/multiprocessing/pool.py:125\u001b[0m, in \u001b[0;36mworker\u001b[0;34m()\u001b[0m\n\u001b[1;32m    123\u001b[0m job, i, func, args, kwds \u001b[38;5;241m=\u001b[39m task\n\u001b[1;32m    124\u001b[0m \u001b[38;5;28;01mtry\u001b[39;00m:\n\u001b[0;32m--> 125\u001b[0m     result \u001b[38;5;241m=\u001b[39m (\u001b[38;5;28;01mTrue\u001b[39;00m, func(\u001b[38;5;241m*\u001b[39margs, \u001b[38;5;241m*\u001b[39m\u001b[38;5;241m*\u001b[39mkwds))\n\u001b[1;32m    126\u001b[0m \u001b[38;5;28;01mexcept\u001b[39;00m \u001b[38;5;167;01mException\u001b[39;00m \u001b[38;5;28;01mas\u001b[39;00m e:\n\u001b[1;32m    127\u001b[0m     \u001b[38;5;28;01mif\u001b[39;00m wrap_exception \u001b[38;5;129;01mand\u001b[39;00m func \u001b[38;5;129;01mis\u001b[39;00m \u001b[38;5;129;01mnot\u001b[39;00m _helper_reraises_exception:\n",
      "File \u001b[0;32m~/.conda/envs/wm_base/lib/python3.11/multiprocessing/pool.py:48\u001b[0m, in \u001b[0;36mmapstar\u001b[0;34m()\u001b[0m\n\u001b[1;32m     47\u001b[0m \u001b[38;5;28;01mdef\u001b[39;00m \u001b[38;5;21mmapstar\u001b[39m(args):\n\u001b[0;32m---> 48\u001b[0m     \u001b[38;5;28;01mreturn\u001b[39;00m \u001b[38;5;28mlist\u001b[39m(\u001b[38;5;28mmap\u001b[39m(\u001b[38;5;241m*\u001b[39margs))\n",
      "Cell \u001b[0;32mIn[2], line 3\u001b[0m, in \u001b[0;36mprocess_vars_env_writeout\u001b[0;34m()\u001b[0m\n\u001b[1;32m      1\u001b[0m \u001b[38;5;28;01mdef\u001b[39;00m \u001b[38;5;21mprocess_vars_env_writeout\u001b[39m(track, var):\n\u001b[0;32m----> 3\u001b[0m     ds_env_vars \u001b[38;5;241m=\u001b[39m featenv\u001b[38;5;241m.\u001b[39mget_environment_vars_track(var_name\u001b[38;5;241m=\u001b[39mvar, track_id\u001b[38;5;241m=\u001b[39mtrack,\n\u001b[1;32m      4\u001b[0m                                                      lat_range\u001b[38;5;241m=\u001b[39mfeatenv\u001b[38;5;241m.\u001b[39mbox_size_degree, lon_range\u001b[38;5;241m=\u001b[39mfeatenv\u001b[38;5;241m.\u001b[39mbox_size_degree)\n\u001b[1;32m      5\u001b[0m     \u001b[38;5;28;01mreturn\u001b[39;00m ds_env_vars\n",
      "File \u001b[0;32m/scratch/wmtsai/featenv_analysis/script/feature_environment_module.py:252\u001b[0m, in \u001b[0;36mget_environment_vars_track\u001b[0;34m()\u001b[0m\n\u001b[1;32m    250\u001b[0m     dlon \u001b[38;5;241m=\u001b[39m (data_file\u001b[38;5;241m.\u001b[39mlon[\u001b[38;5;241m1\u001b[39m] \u001b[38;5;241m-\u001b[39m data_file\u001b[38;5;241m.\u001b[39mlon[\u001b[38;5;241m0\u001b[39m])\u001b[38;5;241m.\u001b[39mvalues\n\u001b[1;32m    251\u001b[0m     data_shift \u001b[38;5;241m=\u001b[39m data_file\u001b[38;5;241m.\u001b[39mroll(lon\u001b[38;5;241m=\u001b[39m\u001b[38;5;241m2\u001b[39m\u001b[38;5;241m*\u001b[39m\u001b[38;5;28mint\u001b[39m(\u001b[38;5;241m-\u001b[39mlon_min\u001b[38;5;241m/\u001b[39mdlon), roll_coords\u001b[38;5;241m=\u001b[39m\u001b[38;5;28;01mTrue\u001b[39;00m)\n\u001b[0;32m--> 252\u001b[0m     data_extract \u001b[38;5;241m=\u001b[39m data_shift\u001b[38;5;241m.\u001b[39msel(lat\u001b[38;5;241m=\u001b[39m\u001b[38;5;28mslice\u001b[39m(lat_min, lat_max),\n\u001b[1;32m    253\u001b[0m                                   lon\u001b[38;5;241m=\u001b[39m\u001b[38;5;28mslice\u001b[39m(lon_min\u001b[38;5;241m+\u001b[39m\u001b[38;5;241m360\u001b[39m, lon_max))\n\u001b[1;32m    255\u001b[0m \u001b[38;5;28;01melif\u001b[39;00m (lon_min \u001b[38;5;241m<\u001b[39m\u001b[38;5;241m=\u001b[39m data_file\u001b[38;5;241m.\u001b[39mlon[\u001b[38;5;241m-\u001b[39m\u001b[38;5;241m1\u001b[39m]) \u001b[38;5;129;01mand\u001b[39;00m (lon_max \u001b[38;5;241m>\u001b[39m data_file\u001b[38;5;241m.\u001b[39mlon[\u001b[38;5;241m-\u001b[39m\u001b[38;5;241m1\u001b[39m]):\n\u001b[1;32m    256\u001b[0m     dlon \u001b[38;5;241m=\u001b[39m (data_file\u001b[38;5;241m.\u001b[39mlon[\u001b[38;5;241m1\u001b[39m] \u001b[38;5;241m-\u001b[39m data_file\u001b[38;5;241m.\u001b[39mlon[\u001b[38;5;241m0\u001b[39m])\u001b[38;5;241m.\u001b[39mvalues\n",
      "File \u001b[0;32m~/.conda/envs/wm_base/lib/python3.11/site-packages/xarray/core/dataarray.py:1644\u001b[0m, in \u001b[0;36msel\u001b[0;34m()\u001b[0m\n\u001b[1;32m   1528\u001b[0m \u001b[38;5;28;01mdef\u001b[39;00m \u001b[38;5;21msel\u001b[39m(\n\u001b[1;32m   1529\u001b[0m     \u001b[38;5;28mself\u001b[39m,\n\u001b[1;32m   1530\u001b[0m     indexers: Mapping[Any, Any] \u001b[38;5;241m|\u001b[39m \u001b[38;5;28;01mNone\u001b[39;00m \u001b[38;5;241m=\u001b[39m \u001b[38;5;28;01mNone\u001b[39;00m,\n\u001b[0;32m   (...)\u001b[0m\n\u001b[1;32m   1534\u001b[0m     \u001b[38;5;241m*\u001b[39m\u001b[38;5;241m*\u001b[39mindexers_kwargs: Any,\n\u001b[1;32m   1535\u001b[0m ) \u001b[38;5;241m-\u001b[39m\u001b[38;5;241m>\u001b[39m Self:\n\u001b[1;32m   1536\u001b[0m \u001b[38;5;250m    \u001b[39m\u001b[38;5;124;03m\"\"\"Return a new DataArray whose data is given by selecting index\u001b[39;00m\n\u001b[1;32m   1537\u001b[0m \u001b[38;5;124;03m    labels along the specified dimension(s).\u001b[39;00m\n\u001b[1;32m   1538\u001b[0m \n\u001b[0;32m   (...)\u001b[0m\n\u001b[1;32m   1642\u001b[0m \u001b[38;5;124;03m    Dimensions without coordinates: points\u001b[39;00m\n\u001b[1;32m   1643\u001b[0m \u001b[38;5;124;03m    \"\"\"\u001b[39;00m\n\u001b[0;32m-> 1644\u001b[0m     ds \u001b[38;5;241m=\u001b[39m \u001b[38;5;28mself\u001b[39m\u001b[38;5;241m.\u001b[39m_to_temp_dataset()\u001b[38;5;241m.\u001b[39msel(\n\u001b[1;32m   1645\u001b[0m         indexers\u001b[38;5;241m=\u001b[39mindexers,\n\u001b[1;32m   1646\u001b[0m         drop\u001b[38;5;241m=\u001b[39mdrop,\n\u001b[1;32m   1647\u001b[0m         method\u001b[38;5;241m=\u001b[39mmethod,\n\u001b[1;32m   1648\u001b[0m         tolerance\u001b[38;5;241m=\u001b[39mtolerance,\n\u001b[1;32m   1649\u001b[0m         \u001b[38;5;241m*\u001b[39m\u001b[38;5;241m*\u001b[39mindexers_kwargs,\n\u001b[1;32m   1650\u001b[0m     )\n\u001b[1;32m   1651\u001b[0m     \u001b[38;5;28;01mreturn\u001b[39;00m \u001b[38;5;28mself\u001b[39m\u001b[38;5;241m.\u001b[39m_from_temp_dataset(ds)\n",
      "File \u001b[0;32m~/.conda/envs/wm_base/lib/python3.11/site-packages/xarray/core/dataset.py:3126\u001b[0m, in \u001b[0;36msel\u001b[0;34m()\u001b[0m\n\u001b[1;32m   3058\u001b[0m \u001b[38;5;250m\u001b[39m\u001b[38;5;124;03m\"\"\"Returns a new dataset with each array indexed by tick labels\u001b[39;00m\n\u001b[1;32m   3059\u001b[0m \u001b[38;5;124;03malong the specified dimension(s).\u001b[39;00m\n\u001b[1;32m   3060\u001b[0m \n\u001b[0;32m   (...)\u001b[0m\n\u001b[1;32m   3123\u001b[0m \n\u001b[1;32m   3124\u001b[0m \u001b[38;5;124;03m\"\"\"\u001b[39;00m\n\u001b[1;32m   3125\u001b[0m indexers \u001b[38;5;241m=\u001b[39m either_dict_or_kwargs(indexers, indexers_kwargs, \u001b[38;5;124m\"\u001b[39m\u001b[38;5;124msel\u001b[39m\u001b[38;5;124m\"\u001b[39m)\n\u001b[0;32m-> 3126\u001b[0m query_results \u001b[38;5;241m=\u001b[39m map_index_queries(\n\u001b[1;32m   3127\u001b[0m     \u001b[38;5;28mself\u001b[39m, indexers\u001b[38;5;241m=\u001b[39mindexers, method\u001b[38;5;241m=\u001b[39mmethod, tolerance\u001b[38;5;241m=\u001b[39mtolerance\n\u001b[1;32m   3128\u001b[0m )\n\u001b[1;32m   3130\u001b[0m \u001b[38;5;28;01mif\u001b[39;00m drop:\n\u001b[1;32m   3131\u001b[0m     no_scalar_variables \u001b[38;5;241m=\u001b[39m {}\n",
      "File \u001b[0;32m~/.conda/envs/wm_base/lib/python3.11/site-packages/xarray/core/indexing.py:192\u001b[0m, in \u001b[0;36mmap_index_queries\u001b[0;34m()\u001b[0m\n\u001b[1;32m    190\u001b[0m         results\u001b[38;5;241m.\u001b[39mappend(IndexSelResult(labels))\n\u001b[1;32m    191\u001b[0m     \u001b[38;5;28;01melse\u001b[39;00m:\n\u001b[0;32m--> 192\u001b[0m         results\u001b[38;5;241m.\u001b[39mappend(index\u001b[38;5;241m.\u001b[39msel(labels, \u001b[38;5;241m*\u001b[39m\u001b[38;5;241m*\u001b[39moptions))\n\u001b[1;32m    194\u001b[0m merged \u001b[38;5;241m=\u001b[39m merge_sel_results(results)\n\u001b[1;32m    196\u001b[0m \u001b[38;5;66;03m# drop dimension coordinates found in dimension indexers\u001b[39;00m\n\u001b[1;32m    197\u001b[0m \u001b[38;5;66;03m# (also drop multi-index if any)\u001b[39;00m\n\u001b[1;32m    198\u001b[0m \u001b[38;5;66;03m# (.sel() already ensures alignment)\u001b[39;00m\n",
      "File \u001b[0;32m~/.conda/envs/wm_base/lib/python3.11/site-packages/xarray/core/indexes.py:758\u001b[0m, in \u001b[0;36msel\u001b[0;34m()\u001b[0m\n\u001b[1;32m    755\u001b[0m coord_name, label \u001b[38;5;241m=\u001b[39m \u001b[38;5;28mnext\u001b[39m(\u001b[38;5;28miter\u001b[39m(labels\u001b[38;5;241m.\u001b[39mitems()))\n\u001b[1;32m    757\u001b[0m \u001b[38;5;28;01mif\u001b[39;00m \u001b[38;5;28misinstance\u001b[39m(label, \u001b[38;5;28mslice\u001b[39m):\n\u001b[0;32m--> 758\u001b[0m     indexer \u001b[38;5;241m=\u001b[39m _query_slice(\u001b[38;5;28mself\u001b[39m\u001b[38;5;241m.\u001b[39mindex, label, coord_name, method, tolerance)\n\u001b[1;32m    759\u001b[0m \u001b[38;5;28;01melif\u001b[39;00m is_dict_like(label):\n\u001b[1;32m    760\u001b[0m     \u001b[38;5;28;01mraise\u001b[39;00m \u001b[38;5;167;01mValueError\u001b[39;00m(\n\u001b[1;32m    761\u001b[0m         \u001b[38;5;124m\"\u001b[39m\u001b[38;5;124mcannot use a dict-like object for selection on \u001b[39m\u001b[38;5;124m\"\u001b[39m\n\u001b[1;32m    762\u001b[0m         \u001b[38;5;124m\"\u001b[39m\u001b[38;5;124ma dimension that does not have a MultiIndex\u001b[39m\u001b[38;5;124m\"\u001b[39m\n\u001b[1;32m    763\u001b[0m     )\n",
      "File \u001b[0;32m~/.conda/envs/wm_base/lib/python3.11/site-packages/xarray/core/indexes.py:497\u001b[0m, in \u001b[0;36m_query_slice\u001b[0;34m()\u001b[0m\n\u001b[1;32m    493\u001b[0m \u001b[38;5;28;01mif\u001b[39;00m method \u001b[38;5;129;01mis\u001b[39;00m \u001b[38;5;129;01mnot\u001b[39;00m \u001b[38;5;28;01mNone\u001b[39;00m \u001b[38;5;129;01mor\u001b[39;00m tolerance \u001b[38;5;129;01mis\u001b[39;00m \u001b[38;5;129;01mnot\u001b[39;00m \u001b[38;5;28;01mNone\u001b[39;00m:\n\u001b[1;32m    494\u001b[0m     \u001b[38;5;28;01mraise\u001b[39;00m \u001b[38;5;167;01mNotImplementedError\u001b[39;00m(\n\u001b[1;32m    495\u001b[0m         \u001b[38;5;124m\"\u001b[39m\u001b[38;5;124mcannot use ``method`` argument if any indexers are slice objects\u001b[39m\u001b[38;5;124m\"\u001b[39m\n\u001b[1;32m    496\u001b[0m     )\n\u001b[0;32m--> 497\u001b[0m indexer \u001b[38;5;241m=\u001b[39m index\u001b[38;5;241m.\u001b[39mslice_indexer(\n\u001b[1;32m    498\u001b[0m     _sanitize_slice_element(label\u001b[38;5;241m.\u001b[39mstart),\n\u001b[1;32m    499\u001b[0m     _sanitize_slice_element(label\u001b[38;5;241m.\u001b[39mstop),\n\u001b[1;32m    500\u001b[0m     _sanitize_slice_element(label\u001b[38;5;241m.\u001b[39mstep),\n\u001b[1;32m    501\u001b[0m )\n\u001b[1;32m    502\u001b[0m \u001b[38;5;28;01mif\u001b[39;00m \u001b[38;5;129;01mnot\u001b[39;00m \u001b[38;5;28misinstance\u001b[39m(indexer, \u001b[38;5;28mslice\u001b[39m):\n\u001b[1;32m    503\u001b[0m     \u001b[38;5;66;03m# unlike pandas, in xarray we never want to silently convert a\u001b[39;00m\n\u001b[1;32m    504\u001b[0m     \u001b[38;5;66;03m# slice indexer into an array indexer\u001b[39;00m\n\u001b[1;32m    505\u001b[0m     \u001b[38;5;28;01mraise\u001b[39;00m \u001b[38;5;167;01mKeyError\u001b[39;00m(\n\u001b[1;32m    506\u001b[0m         \u001b[38;5;124m\"\u001b[39m\u001b[38;5;124mcannot represent labeled-based slice indexer for coordinate \u001b[39m\u001b[38;5;124m\"\u001b[39m\n\u001b[1;32m    507\u001b[0m         \u001b[38;5;124mf\u001b[39m\u001b[38;5;124m\"\u001b[39m\u001b[38;5;132;01m{\u001b[39;00mcoord_name\u001b[38;5;132;01m!r}\u001b[39;00m\u001b[38;5;124m with a slice over integer positions; the index is \u001b[39m\u001b[38;5;124m\"\u001b[39m\n\u001b[1;32m    508\u001b[0m         \u001b[38;5;124m\"\u001b[39m\u001b[38;5;124munsorted or non-unique\u001b[39m\u001b[38;5;124m\"\u001b[39m\n\u001b[1;32m    509\u001b[0m     )\n",
      "File \u001b[0;32m~/.conda/envs/wm_base/lib/python3.11/site-packages/pandas/core/indexes/base.py:6274\u001b[0m, in \u001b[0;36mslice_indexer\u001b[0;34m()\u001b[0m\n\u001b[1;32m   6231\u001b[0m \u001b[38;5;250m\u001b[39m\u001b[38;5;124;03m\"\"\"\u001b[39;00m\n\u001b[1;32m   6232\u001b[0m \u001b[38;5;124;03mCompute the slice indexer for input labels and step.\u001b[39;00m\n\u001b[1;32m   6233\u001b[0m \n\u001b[0;32m   (...)\u001b[0m\n\u001b[1;32m   6270\u001b[0m \u001b[38;5;124;03mslice(1, 3, None)\u001b[39;00m\n\u001b[1;32m   6271\u001b[0m \u001b[38;5;124;03m\"\"\"\u001b[39;00m\n\u001b[1;32m   6272\u001b[0m \u001b[38;5;28mself\u001b[39m\u001b[38;5;241m.\u001b[39m_deprecated_arg(kind, \u001b[38;5;124m\"\u001b[39m\u001b[38;5;124mkind\u001b[39m\u001b[38;5;124m\"\u001b[39m, \u001b[38;5;124m\"\u001b[39m\u001b[38;5;124mslice_indexer\u001b[39m\u001b[38;5;124m\"\u001b[39m)\n\u001b[0;32m-> 6274\u001b[0m start_slice, end_slice \u001b[38;5;241m=\u001b[39m \u001b[38;5;28mself\u001b[39m\u001b[38;5;241m.\u001b[39mslice_locs(start, end, step\u001b[38;5;241m=\u001b[39mstep)\n\u001b[1;32m   6276\u001b[0m \u001b[38;5;66;03m# return a slice\u001b[39;00m\n\u001b[1;32m   6277\u001b[0m \u001b[38;5;28;01mif\u001b[39;00m \u001b[38;5;129;01mnot\u001b[39;00m is_scalar(start_slice):\n",
      "File \u001b[0;32m~/.conda/envs/wm_base/lib/python3.11/site-packages/pandas/core/indexes/base.py:6484\u001b[0m, in \u001b[0;36mslice_locs\u001b[0;34m()\u001b[0m\n\u001b[1;32m   6482\u001b[0m start_slice \u001b[38;5;241m=\u001b[39m \u001b[38;5;28;01mNone\u001b[39;00m\n\u001b[1;32m   6483\u001b[0m \u001b[38;5;28;01mif\u001b[39;00m start \u001b[38;5;129;01mis\u001b[39;00m \u001b[38;5;129;01mnot\u001b[39;00m \u001b[38;5;28;01mNone\u001b[39;00m:\n\u001b[0;32m-> 6484\u001b[0m     start_slice \u001b[38;5;241m=\u001b[39m \u001b[38;5;28mself\u001b[39m\u001b[38;5;241m.\u001b[39mget_slice_bound(start, \u001b[38;5;124m\"\u001b[39m\u001b[38;5;124mleft\u001b[39m\u001b[38;5;124m\"\u001b[39m)\n\u001b[1;32m   6485\u001b[0m \u001b[38;5;28;01mif\u001b[39;00m start_slice \u001b[38;5;129;01mis\u001b[39;00m \u001b[38;5;28;01mNone\u001b[39;00m:\n\u001b[1;32m   6486\u001b[0m     start_slice \u001b[38;5;241m=\u001b[39m \u001b[38;5;241m0\u001b[39m\n",
      "File \u001b[0;32m~/.conda/envs/wm_base/lib/python3.11/site-packages/pandas/core/indexes/base.py:6403\u001b[0m, in \u001b[0;36mget_slice_bound\u001b[0;34m()\u001b[0m\n\u001b[1;32m   6400\u001b[0m         \u001b[38;5;28;01mreturn\u001b[39;00m \u001b[38;5;28mself\u001b[39m\u001b[38;5;241m.\u001b[39m_searchsorted_monotonic(label, side)\n\u001b[1;32m   6401\u001b[0m     \u001b[38;5;28;01mexcept\u001b[39;00m \u001b[38;5;167;01mValueError\u001b[39;00m:\n\u001b[1;32m   6402\u001b[0m         \u001b[38;5;66;03m# raise the original KeyError\u001b[39;00m\n\u001b[0;32m-> 6403\u001b[0m         \u001b[38;5;28;01mraise\u001b[39;00m err\n\u001b[1;32m   6405\u001b[0m \u001b[38;5;28;01mif\u001b[39;00m \u001b[38;5;28misinstance\u001b[39m(slc, np\u001b[38;5;241m.\u001b[39mndarray):\n\u001b[1;32m   6406\u001b[0m     \u001b[38;5;66;03m# get_loc may return a boolean array, which\u001b[39;00m\n\u001b[1;32m   6407\u001b[0m     \u001b[38;5;66;03m# is OK as long as they are representable by a slice.\u001b[39;00m\n\u001b[1;32m   6408\u001b[0m     \u001b[38;5;28;01massert\u001b[39;00m is_bool_dtype(slc\u001b[38;5;241m.\u001b[39mdtype)\n",
      "File \u001b[0;32m~/.conda/envs/wm_base/lib/python3.11/site-packages/pandas/core/indexes/base.py:6397\u001b[0m, in \u001b[0;36mget_slice_bound\u001b[0;34m()\u001b[0m\n\u001b[1;32m   6395\u001b[0m \u001b[38;5;66;03m# we need to look up the label\u001b[39;00m\n\u001b[1;32m   6396\u001b[0m \u001b[38;5;28;01mtry\u001b[39;00m:\n\u001b[0;32m-> 6397\u001b[0m     slc \u001b[38;5;241m=\u001b[39m \u001b[38;5;28mself\u001b[39m\u001b[38;5;241m.\u001b[39mget_loc(label)\n\u001b[1;32m   6398\u001b[0m \u001b[38;5;28;01mexcept\u001b[39;00m \u001b[38;5;167;01mKeyError\u001b[39;00m \u001b[38;5;28;01mas\u001b[39;00m err:\n\u001b[1;32m   6399\u001b[0m     \u001b[38;5;28;01mtry\u001b[39;00m:\n",
      "File \u001b[0;32m~/.conda/envs/wm_base/lib/python3.11/site-packages/pandas/core/indexes/base.py:3623\u001b[0m, in \u001b[0;36mget_loc\u001b[0;34m()\u001b[0m\n\u001b[1;32m   3621\u001b[0m     \u001b[38;5;28;01mreturn\u001b[39;00m \u001b[38;5;28mself\u001b[39m\u001b[38;5;241m.\u001b[39m_engine\u001b[38;5;241m.\u001b[39mget_loc(casted_key)\n\u001b[1;32m   3622\u001b[0m \u001b[38;5;28;01mexcept\u001b[39;00m \u001b[38;5;167;01mKeyError\u001b[39;00m \u001b[38;5;28;01mas\u001b[39;00m err:\n\u001b[0;32m-> 3623\u001b[0m     \u001b[38;5;28;01mraise\u001b[39;00m \u001b[38;5;167;01mKeyError\u001b[39;00m(key) \u001b[38;5;28;01mfrom\u001b[39;00m \u001b[38;5;21;01merr\u001b[39;00m\n\u001b[1;32m   3624\u001b[0m \u001b[38;5;28;01mexcept\u001b[39;00m \u001b[38;5;167;01mTypeError\u001b[39;00m:\n\u001b[1;32m   3625\u001b[0m     \u001b[38;5;66;03m# If we have a listlike key, _check_indexing_error will raise\u001b[39;00m\n\u001b[1;32m   3626\u001b[0m     \u001b[38;5;66;03m#  InvalidIndexError. Otherwise we fall through and re-raise\u001b[39;00m\n\u001b[1;32m   3627\u001b[0m     \u001b[38;5;66;03m#  the TypeError.\u001b[39;00m\n\u001b[1;32m   3628\u001b[0m     \u001b[38;5;28mself\u001b[39m\u001b[38;5;241m.\u001b[39m_check_indexing_error(key)\n",
      "\u001b[0;31mKeyError\u001b[0m: 359.34999990463257"
     ]
    }
   ],
   "source": [
    "%%time\n",
    "# loops for designated variables:\n",
    "for var in [i for i in featenv.locate_env_data.keys()]:\n",
    "\n",
    "    print('current variable: {}'.format(var))\n",
    "    num_process = 12 # assign number of preocesses for this task\n",
    "    pool = Pool(processes=num_process)\n",
    "    result_list = pool.map_async(partial(process_vars_env_writeout, var=var), track_sel[:200])\n",
    "    pool.close()\n",
    "    pool.join()\n",
    "\n",
    "    results = result_list.get()\n",
    "    # merge all tracks\n",
    "    data_merged = xr.concat(results, dim='tracks')\n",
    "    data_merged = data_merged.sortby('tracks')\n",
    "\n",
    "    # writeout datasets\n",
    "    check3d = [i for i in data_merged.dims if i == 'level']\n",
    "    if check3d and len(data_merged.dims) > 2:\n",
    "        out_dir = featenv.env3d_dir\n",
    "    elif len(data_merged.dims) > 2:\n",
    "        out_dir = featenv.env2d_dir\n",
    "    data_merged.to_netcdf(out_dir / '{}_{}.merged.nc'.format(featenv.name, var), encoding={featenv.variable_infile[var]: {'dtype': 'float32'}})\n",
    "    print(str(out_dir / '{}_{}.merged.nc'.format(featenv.name, var)) + '....saved')"
   ]
  },
  {
   "cell_type": "code",
   "execution_count": null,
   "id": "7a01cc97-0048-46e3-bda2-89bec1e2f5cf",
   "metadata": {},
   "outputs": [],
   "source": []
  }
 ],
 "metadata": {
  "kernelspec": {
   "display_name": "base_kernel",
   "language": "python",
   "name": "base_kernel"
  },
  "language_info": {
   "codemirror_mode": {
    "name": "ipython",
    "version": 3
   },
   "file_extension": ".py",
   "mimetype": "text/x-python",
   "name": "python",
   "nbconvert_exporter": "python",
   "pygments_lexer": "ipython3",
   "version": "3.11.4"
  }
 },
 "nbformat": 4,
 "nbformat_minor": 5
}
