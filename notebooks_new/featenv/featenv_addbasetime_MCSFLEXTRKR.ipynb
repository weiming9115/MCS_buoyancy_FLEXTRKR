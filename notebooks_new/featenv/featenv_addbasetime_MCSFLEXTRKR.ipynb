{
 "cells": [
  {
   "cell_type": "code",
   "execution_count": 1,
   "id": "efb19010-a87f-4df7-84e2-e03d579844e6",
   "metadata": {
    "tags": []
   },
   "outputs": [],
   "source": [
    "import os\n",
    "import sys\n",
    "import xarray as xr\n",
    "import numpy as np\n",
    "import pandas as pd\n",
    "from pathlib import Path\n",
    "import warnings"
   ]
  },
  {
   "cell_type": "code",
   "execution_count": 2,
   "id": "5be35807-0736-47e6-99b9-53e0507425f3",
   "metadata": {
    "tags": []
   },
   "outputs": [],
   "source": [
    "warnings.filterwarnings('ignore')"
   ]
  },
  {
   "cell_type": "code",
   "execution_count": 7,
   "id": "9d000590-372d-4a7a-8ae0-e35c214177e0",
   "metadata": {
    "tags": []
   },
   "outputs": [
    {
     "name": "stdout",
     "output_type": "stream",
     "text": [
      "/scratch/wmtsai/featenv_analysis/dataset/MCS_FLEXTRKR_tropics/2011/environment_catalogs/VARS_derived/MCS_FLEXTRKR_tropics_buoyancy.30NS.nc\n",
      "/scratch/wmtsai/featenv_analysis/dataset/MCS_FLEXTRKR_tropics/2012/environment_catalogs/VARS_derived/MCS_FLEXTRKR_tropics_buoyancy.30NS.nc\n",
      "/scratch/wmtsai/featenv_analysis/dataset/MCS_FLEXTRKR_tropics/2013/environment_catalogs/VARS_derived/MCS_FLEXTRKR_tropics_buoyancy.30NS.nc\n",
      "/scratch/wmtsai/featenv_analysis/dataset/MCS_FLEXTRKR_tropics/2014/environment_catalogs/VARS_derived/MCS_FLEXTRKR_tropics_buoyancy.30NS.nc\n",
      "/scratch/wmtsai/featenv_analysis/dataset/MCS_FLEXTRKR_tropics/2015/environment_catalogs/VARS_derived/MCS_FLEXTRKR_tropics_buoyancy.30NS.nc\n",
      "/scratch/wmtsai/featenv_analysis/dataset/MCS_FLEXTRKR_tropics/2016/environment_catalogs/VARS_derived/MCS_FLEXTRKR_tropics_buoyancy.30NS.nc\n",
      "/scratch/wmtsai/featenv_analysis/dataset/MCS_FLEXTRKR_tropics/2017/environment_catalogs/VARS_derived/MCS_FLEXTRKR_tropics_buoyancy.30NS.nc\n",
      "/scratch/wmtsai/featenv_analysis/dataset/MCS_FLEXTRKR_tropics/2018/environment_catalogs/VARS_derived/MCS_FLEXTRKR_tropics_buoyancy.30NS.nc\n",
      "/scratch/wmtsai/featenv_analysis/dataset/MCS_FLEXTRKR_tropics/2019/environment_catalogs/VARS_derived/MCS_FLEXTRKR_tropics_buoyancy.30NS.nc\n",
      "/scratch/wmtsai/featenv_analysis/dataset/MCS_FLEXTRKR_tropics/2020/environment_catalogs/VARS_derived/MCS_FLEXTRKR_tropics_buoyancy.30NS.nc\n"
     ]
    }
   ],
   "source": [
    "year_list = np.arange(2011,2021)\n",
    "for year in year_list:\n",
    "    \n",
    "    track_dir = Path('/scratch/wmtsai/temp_mcs/mcs_stats/mcs_tracks_non2mcs/featenv_track_input')\n",
    "    data_dir = Path('/scratch/wmtsai/featenv_analysis/dataset/MCS_FLEXTRKR_tropics/{}/environment_catalogs/VARS_derived/'.format(year))\n",
    "    \n",
    "    data_track = xr.open_dataset(track_dir / 'MCS_FLEXTRKR_tropics30NS.{}.nc'.format(year))\n",
    "    data_buoy = xr.open_dataset(data_dir / 'MCS_FLEXTRKR_tropics_buoyancy.merged.nc')\n",
    "    data_merged = xr.merge([data_track, data_buoy])\n",
    "    data_merged.to_netcdf(data_dir / 'MCS_FLEXTRKR_tropics_buoyancy.30NS.nc')\n",
    "    print(data_dir / 'MCS_FLEXTRKR_tropics_buoyancy.30NS.nc')"
   ]
  },
  {
   "cell_type": "code",
   "execution_count": null,
   "id": "7cf200c5-0084-4f00-9b81-fd8bab74a908",
   "metadata": {},
   "outputs": [],
   "source": []
  },
  {
   "cell_type": "code",
   "execution_count": 8,
   "id": "e92214e7-2d24-4bf3-ae0d-6f95ea6b94ab",
   "metadata": {
    "tags": []
   },
   "outputs": [],
   "source": [
    "out_dir = Path('/scratch/wmtsai/MCSFLEXTRKR_tropics_buoyancy')\n",
    "os.chdir(out_dir)\n",
    "year_list = np.arange(2001,2021)\n",
    "for year in year_list:\n",
    "    file = '/scratch/wmtsai/featenv_analysis/dataset/MCS_FLEXTRKR_tropics/{}/environment_catalogs/VARS_derived/MCS_FLEXTRKR_tropics_buoyancy.30NS.nc'.format(year)\n",
    "    os.system('cp {} MCS_FLEXTRKR_tropics_buoyancy.30NS.{}.nc'.format(file, year))"
   ]
  },
  {
   "cell_type": "code",
   "execution_count": null,
   "id": "da3815fd-da25-4020-a257-71f9ff717a14",
   "metadata": {
    "tags": []
   },
   "outputs": [],
   "source": [
    "test = xr.open_dataset(track_dir / 'MCS_FLEXTRKR_tropics30NS.2009.nc')"
   ]
  },
  {
   "cell_type": "code",
   "execution_count": null,
   "id": "d7ba7bcf-9af8-4cc9-a60b-65a289dc9f4e",
   "metadata": {
    "tags": []
   },
   "outputs": [],
   "source": [
    "data_merged"
   ]
  },
  {
   "cell_type": "code",
   "execution_count": null,
   "id": "8a280731-83c4-4851-bab5-17b686369182",
   "metadata": {
    "tags": []
   },
   "outputs": [],
   "source": [
    "base_time = test.sel(tracks=22054).base_time\n",
    "lon_cen = test.sel(tracks=22054).meanlon\n",
    "lon_array = lon_cen \n",
    "lat_cen = test.sel(tracks=22054).meanlat"
   ]
  },
  {
   "cell_type": "code",
   "execution_count": null,
   "id": "56c8c306-8e62-40bd-b38d-2b7fd4dc10ae",
   "metadata": {
    "tags": []
   },
   "outputs": [],
   "source": [
    "nlat_grid = 41\n",
    "nlon_grid = 41\n",
    "length_t = 6\n",
    "\n",
    "data_track = test.sel(tracks=22054)\n",
    "base_time = data_track['base_time'].values\n",
    "\n",
    "ds_env_vars = xr.Dataset(data_vars=dict(var_tmp=(['time','y','x'], np.zeros((length_t,nlat_grid,nlon_grid))*np.nan),\n",
    "                                base_time=(['time'],base_time)),\n",
    "                 coords=dict(y=(['y'],np.arange(nlat_grid)),\n",
    "                             x=(['x'],np.arange(nlon_grid)),\n",
    "                             time=(['time'],np.arange(length_t)),\n",
    "                             lon=(['time','x'],np.zeros((length_t,nlon_grid))*np.nan),\n",
    "                             lat=(['time','x'],np.zeros((length_t,nlat_grid))*np.nan))\n",
    "                )\n",
    "ds_env_vars = ds_env_vars.rename_vars({'var_tmp':'rainfall'})\n",
    "ds_env_vars.coords['tracks'] = [22054]"
   ]
  },
  {
   "cell_type": "code",
   "execution_count": null,
   "id": "89f52180-c62e-4e7a-a078-235434b8ef73",
   "metadata": {
    "tags": []
   },
   "outputs": [],
   "source": [
    "ds_env_vars"
   ]
  },
  {
   "cell_type": "code",
   "execution_count": null,
   "id": "1b07b4aa-d31f-4cfb-8b3c-9703fa8b8201",
   "metadata": {
    "tags": []
   },
   "outputs": [],
   "source": [
    "tmp2 = xr.open_dataset('/scratch/wmtsai/featenv_analysis/runscripts/test.nc')"
   ]
  },
  {
   "cell_type": "code",
   "execution_count": null,
   "id": "9bc07377-b89e-47bc-a3af-b554291c11c2",
   "metadata": {},
   "outputs": [],
   "source": [
    "era5_dir = Path('/scratch/wmtsai/featenv_analysis/dataset/MCS_FLEXTRKR_tropics/')\n",
    "year_list = np.arange(2001,2021)\n",
    "\n",
    "n=0\n",
    "for year in year_list:\n",
    "    \n",
    "    data_dir = era5_dir / '{}//environment_catalogs/VARS_derived'.format(year)\n",
    "    files = list(data_dir.glob('MCS_FLEXTRKR_tropics_buoyancy.merged.nc'))\n",
    "    \n",
    "    if len(files) == 1:\n",
    "        print('year: {} ... ok'.format(year))\n",
    "        n+=1\n",
    "print('number of year: {}'.format(n))"
   ]
  },
  {
   "cell_type": "code",
   "execution_count": null,
   "id": "dfbdc027-0fd7-4bae-b855-77bfc2e796fb",
   "metadata": {},
   "outputs": [],
   "source": []
  },
  {
   "cell_type": "code",
   "execution_count": null,
   "id": "9b032a3c-a165-4a36-8e6a-a3fb74c66d5e",
   "metadata": {},
   "outputs": [],
   "source": []
  }
 ],
 "metadata": {
  "kernelspec": {
   "display_name": "base_kernel",
   "language": "python",
   "name": "base_kernel"
  },
  "language_info": {
   "codemirror_mode": {
    "name": "ipython",
    "version": 3
   },
   "file_extension": ".py",
   "mimetype": "text/x-python",
   "name": "python",
   "nbconvert_exporter": "python",
   "pygments_lexer": "ipython3",
   "version": "3.11.4"
  }
 },
 "nbformat": 4,
 "nbformat_minor": 5
}
