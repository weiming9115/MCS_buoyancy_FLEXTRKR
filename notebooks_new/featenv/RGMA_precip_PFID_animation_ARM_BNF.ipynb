{
 "cells": [
  {
   "cell_type": "code",
   "execution_count": 1,
   "id": "d7e0dcd6-b87c-46d0-b783-4a69a0e18570",
   "metadata": {
    "tags": []
   },
   "outputs": [],
   "source": [
    "import os\n",
    "import sys\n",
    "import xarray as xr\n",
    "import numpy as np\n",
    "import pandas as pd\n",
    "import matplotlib\n",
    "from matplotlib import pyplot as plt\n",
    "from matplotlib.colors import ListedColormap, LinearSegmentedColormap\n",
    "from datetime import datetime\n",
    "from pathlib import Path\n",
    "from matplotlib.lines import Line2D\n",
    "from matplotlib.patches import Patch, Rectangle\n",
    "\n",
    "import cartopy.crs as ccrs\n",
    "import cartopy.feature as cfeat\n",
    "from cartopy.util import add_cyclic_point\n",
    "from cartopy.mpl.gridliner import LONGITUDE_FORMATTER, LATITUDE_FORMATTER\n",
    "\n",
    "import warnings\n",
    "import cv2 # by pip install opencv-python"
   ]
  },
  {
   "cell_type": "code",
   "execution_count": 2,
   "id": "d9f0b439-3cc1-4bfc-ad50-517f16453038",
   "metadata": {
    "tags": []
   },
   "outputs": [],
   "source": [
    "warnings.filterwarnings('ignore')"
   ]
  },
  {
   "cell_type": "code",
   "execution_count": 3,
   "id": "aa643198-e92d-48b2-b10c-ccb2996a0517",
   "metadata": {
    "tags": []
   },
   "outputs": [],
   "source": [
    "# # set fonts configuration - Arial\n",
    "# matplotlib.rcParams['font.family'] = \"Open Sans\"\n",
    "# matplotlib.rcParams['font.sans-serif'] = \"Arial\""
   ]
  },
  {
   "cell_type": "code",
   "execution_count": 4,
   "id": "f391d5ff-dbed-44c4-af2b-9184345f3f28",
   "metadata": {
    "tags": []
   },
   "outputs": [],
   "source": [
    "def coordinates_processors(data):\n",
    "    \"\"\"\n",
    "    converting longitude/latitude into lon/lat\n",
    "    data: xarray.dataset coordinated horizontally in lat/lon\n",
    "    \"\"\"\n",
    "\n",
    "    coord_names = []\n",
    "    for coord_name in data.coords:\n",
    "        coord_names.append(coord_name)\n",
    "\n",
    "    if (set(coord_names) & set(['lon','lat'])): # if coordinates set this way...\n",
    "\n",
    "        data2 = data.rename({'lat': 'latitude'})\n",
    "        data2 = data2.rename({'lon': 'longitude'})\n",
    "\n",
    "    else:\n",
    "        data2 = data\n",
    "\n",
    "    # check if lon from -180\n",
    "    if data2.longitude[0] != 0: # -180 to 180\n",
    "\n",
    "        lon_reset = data2.longitude\n",
    "        lon_reset = lon_reset.where(lon_reset > 0, 360+lon_reset) # converting lon as 0 to 359.75\n",
    "        data2.coords['longitude'] = lon_reset # converting lon as -180 to 180\n",
    "        data2= data2.sortby('longitude')\n",
    "\n",
    "    # check if latitutde is decreasing\n",
    "    if (data2.latitude[1] - data2.latitude[0]) < 0:\n",
    "        data2 = data2.isel(latitude=slice(None, None, -1)) # flipping latitude accoordingly\n",
    "\n",
    "    return data2"
   ]
  },
  {
   "cell_type": "code",
   "execution_count": 5,
   "id": "a1aa1f6e-c950-499a-a65c-3498f6110cb1",
   "metadata": {
    "tags": []
   },
   "outputs": [],
   "source": [
    "def process_data_fid_update(data_fid_mask, front_replace=False):\n",
    "    \n",
    "    \"\"\" updating the origional FID data by adding DC and CG\n",
    "        set front_replace = True to replace FT and FT-associated labels over the tropics\n",
    "        input: data_fid_mask (time, lat, lon), feat_comb_label\n",
    "    \"\"\"\n",
    "\n",
    "    data_fid_label = data_fid_mask.feat_comb_label\n",
    "    data_dc_mask = data_fid_mask.deep_conv_mask # (0,1)\n",
    "    data_cg_mask = data_fid_mask.nondeep_conv_mask + 1 # now is (1,2) 2 indicates cg_mask = true\n",
    "    data_anvil_mask = data_fid_mask.anvil_mask + 2     # (2,3), 3 indicates \"\" \n",
    "    data_shallow_mask = data_fid_mask.shallow_mask + 3 # (3,4)\n",
    "        \n",
    "    data_dc_label = data_dc_mask.where((data_dc_mask == 1) & (data_fid_label == 16), 0)\n",
    "    data_cg_label = data_cg_mask.where((data_cg_mask == 2) & (data_fid_label == 16), 0)\n",
    "    data_anvil_label = data_anvil_mask.where((data_anvil_mask == 3) & (data_fid_label == 16), 0)\n",
    "    data_shallow_label = data_shallow_mask.where((data_shallow_mask == 4) & (data_fid_label == 16), 0)        \n",
    "\n",
    "    data_fid_final = (data_fid_label + data_dc_label + data_cg_label + \n",
    "                      data_anvil_label + data_shallow_label) # now ranges from 1 to 20\n",
    "    \n",
    "    return data_fid_final"
   ]
  },
  {
   "cell_type": "code",
   "execution_count": 6,
   "id": "7928617f-7512-4f2c-8dfe-6fd3cbdcd075",
   "metadata": {
    "tags": []
   },
   "outputs": [
    {
     "data": {
      "image/png": "[encoded data removed]",
      "text/html": [
       "<div style=\"vertical-align: middle;\"><strong>my_colormap</strong> </div><div class=\"cmap\"><img alt=\"my_colormap colormap\" title=\"my_colormap\" style=\"border: 1px solid #555;\" src=\"data:image/png;base64,iVBORw0KGgoAAAANSUhEUgAAAgAAAABACAYAAABsv8+/AAAAGnRFWHRUaXRsZQBteV9jb2xvcm1hcCBjb2xvcm1hcBJM2FsAAAAgdEVYdERlc2NyaXB0aW9uAG15X2NvbG9ybWFwIGNvbG9ybWFwg1KcDQAAADB0RVh0QXV0aG9yAE1hdHBsb3RsaWIgdjMuOS4yLCBodHRwczovL21hdHBsb3RsaWIub3JnYZnFUwAAADJ0RVh0U29mdHdhcmUATWF0cGxvdGxpYiB2My45LjIsIGh0dHBzOi8vbWF0cGxvdGxpYi5vcmdPP1p0AAACG0lEQVR4nO3WQW6bUBSG0WtMdtLsf0/eQjOKAXeAsQTpCzi1OvnPmVxdDPgpspTvdLlcblVV4zhWVdU0TfXdvne9NYdh+Pb6s3Pv+dbnrfPs7c8+t53X63W1f45dVVV9dO/zPL+v9t/nX6u9+u4+51HnWu9786f3v22ut/Zlvvxct0PPnfr599i9Dat57pd9XO3nbjw2a5nDau9r+/mx2T/eM6ze0z/24eD7XnOevfe1zvX1nP/nPK372ucddp7fzOngHOff5Wleq5u/5rGfhvX1as3rZh8b922vP7s/e9/2XK35qu89+ty//j03++2+T8t+n9Pm+rIP0/1rNvvj+jLr7/Ozccy9/dnrR++7/1cBAJIIAAAIJAAAIJAAAIBAAgAAAgkAAAgkAAAgkAAAgEACAAACCQAACCQAACCQAACAQAIAAAIJAAAIJAAAIJAAAIBAAgAAAgkAAAgkAAAgkAAAgEACAAACCQAACCQAACCQAACAQAIAAAIJAAAIJAAAIJAAAIBAAgAAAgkAAAgkAAAgkAAAgEACAAACCQAACCQAACCQAACAQAIAAAIJAAAIJAAAIJAAAIBAAgAAAgkAAAgkAAAgkAAAgEACAAACCQAACCQAACCQAACAQAIAAAIJAAAIJAAAIJAAAIBAAgAAAgkAAAgkAAAgkAAAgEACAAACCQAACCQAACCQAACAQAIAAAIJAAAIJAAAINAfxdpMDZVLXGIAAAAASUVORK5CYII=\"></div><div style=\"vertical-align: middle; max-width: 514px; display: flex; justify-content: space-between;\"><div style=\"float: left;\"><div title=\"#e2e2e2ff\" style=\"display: inline-block; width: 1em; height: 1em; margin: 0; vertical-align: middle; border: 1px solid #555; background-color: #e2e2e2ff;\"></div> under</div><div style=\"margin: 0 auto; display: inline-block;\">bad <div title=\"#00000000\" style=\"display: inline-block; width: 1em; height: 1em; margin: 0; vertical-align: middle; border: 1px solid #555; background-color: #00000000;\"></div></div><div style=\"float: right;\">over <div title=\"#800000ff\" style=\"display: inline-block; width: 1em; height: 1em; margin: 0; vertical-align: middle; border: 1px solid #555; background-color: #800000ff;\"></div></div></div>"
      ],
      "text/plain": [
       "<matplotlib.colors.LinearSegmentedColormap at 0x7f6879e45d50>"
      ]
     },
     "execution_count": 6,
     "metadata": {},
     "output_type": "execute_result"
    }
   ],
   "source": [
    "colors1 = plt.cm.Greys(np.linspace(0.2, 0.8, 10))\n",
    "colors2 = plt.cm.jet(np.linspace(0.2, 1, 40))\n",
    "\n",
    "# combine them and build a new colormap\n",
    "colors = np.vstack((colors1, colors2))\n",
    "mixedmap = LinearSegmentedColormap.from_list('my_colormap', colors)\n",
    "mixedmap"
   ]
  },
  {
   "cell_type": "code",
   "execution_count": 7,
   "id": "17e33efb-ffdd-4910-b00a-ffc11d122011",
   "metadata": {
    "tags": []
   },
   "outputs": [
    {
     "name": "stdout",
     "output_type": "stream",
     "text": [
      "CPU times: user 1.47 s, sys: 346 ms, total: 1.81 s\n",
      "Wall time: 5.4 s\n"
     ]
    }
   ],
   "source": [
    "%%time \n",
    "\n",
    "year = 2019\n",
    "\n",
    "data_dir = Path('/neelin2020/RGMA_feature_mask/data_product/{}/MERGED_FP'.format(year))\n",
    "\n",
    "# load individual masks and gpm precipitation\n",
    "files = sorted(list(data_dir.glob('GPM_feature_merged_*_v4.nc')))\n",
    "data_fid = xr.open_mfdataset(files)\n",
    "data_mcs = data_fid.mcs_tag\n",
    "data_ar = data_fid.ar_tag\n",
    "data_lps = data_fid.lps_tag\n",
    "data_gpm = data_fid.precipitationCal\n",
    "\n",
    "# load origional front masks\n",
    "ft_dir = Path('/neelin2020/RGMA_feature_mask/data_product/{}/Front'.format(year))\n",
    "files = sorted(list(ft_dir.glob('Front_cold_ERA5feature_mask_{}_*_6hrly.compress.nc'.format(year))))\n",
    "data_front_c = xr.open_mfdataset(files).fronts.sel(latitude=slice(-60,60))\n",
    "data_front_c = coordinates_processors(data_front_c)\n",
    "files = sorted(list(ft_dir.glob('Front_warm_ERA5feature_mask_{}_*_6hrly.compress.nc'.format(year))))\n",
    "data_front_w = xr.open_mfdataset(files).fronts.sel(latitude=slice(-60,60))\n",
    "data_front_w = coordinates_processors(data_front_w)\n",
    "files = sorted(list(ft_dir.glob('Front_stat_ERA5feature_mask_{}_*_6hrly.compress.nc'.format(year))))\n",
    "data_front_s = xr.open_mfdataset(files).fronts.sel(latitude=slice(-60,60))\n",
    "data_front_s = coordinates_processors(data_front_s)\n",
    "\n",
    "# load feature-associated precipitation\n",
    "files = sorted(list(data_dir.glob('FeatureOverlap_indicator_map_*_v4.nc')))\n",
    "data_fid = xr.open_mfdataset(files)\n",
    "data_fid_update = process_data_fid_update(data_fid)"
   ]
  },
  {
   "cell_type": "code",
   "execution_count": 8,
   "id": "127bb270-72b4-4794-bfcb-8558b1829da3",
   "metadata": {
    "tags": []
   },
   "outputs": [],
   "source": [
    "# load elevation data\n",
    "data_elev = xr.open_dataset('/neelin2020/RGMA_feature_mask/data_product/multi_year_stats/elev.0.25-deg.nc')\n",
    "elev = data_elev.data.isel(time=0) # (meter)"
   ]
  },
  {
   "cell_type": "code",
   "execution_count": 9,
   "id": "1ee19b44-f32f-49a7-b890-4fb95513a7d5",
   "metadata": {
    "tags": []
   },
   "outputs": [],
   "source": [
    "FIG_DIR = Path('/neelin2020/RGMA_feature_mask/analysis/figs/animation_figs')"
   ]
  },
  {
   "cell_type": "code",
   "execution_count": 10,
   "id": "41f9fa87-bac9-4fc9-af3c-437ff9a66610",
   "metadata": {
    "tags": []
   },
   "outputs": [],
   "source": [
    "def plot_precipitation_feature(timestamp, fig_save=False, fig_dir=None):\n",
    "    \n",
    "    data_gpm_sel = data_gpm.sel(time=timestamp)\n",
    "    data_gpm_sel = data_gpm_sel.where(data_gpm_sel > 0)\n",
    "    data_mcs_sel = data_mcs.sel(time=timestamp)\n",
    "    data_mcs_sel = data_mcs_sel.where(data_mcs_sel > 0)\n",
    "    data_ar_sel = data_ar.sel(time=timestamp)\n",
    "    data_ar_sel = data_ar_sel.where(data_ar_sel > 0)\n",
    "    data_ftc_sel = data_front_c.sel(time=timestamp)\n",
    "    data_ftc_sel = data_ftc_sel.where(data_ftc_sel > 0)\n",
    "    data_ftw_sel = data_front_w.sel(time=timestamp)\n",
    "    data_ftw_sel = data_ftw_sel.where(data_ftw_sel > 0)\n",
    "    data_fts_sel = data_front_s.sel(time=timestamp)\n",
    "    data_fts_sel = data_fts_sel.where(data_fts_sel > 0)\n",
    "    data_lps_sel = data_lps.sel(time=timestamp)\n",
    "    data_lps_sel = data_lps_sel.where(data_lps_sel > 0)    \n",
    "    \n",
    "    fig, ax = plt.subplots(1,1,figsize=(12,4),subplot_kw={'projection': ccrs.Robinson(180)})\n",
    "    ax.coastlines(resolution='50m', color='k',linewidth=0.5)\n",
    "    ax.add_feature(cfeat.LAND,zorder=3,edgecolor='grey',facecolor='none',linewidth=0.3) # maskout LAND\n",
    "    ax.add_feature(cfeat.BORDERS,zorder=3,edgecolor='grey',facecolor='none',linewidth=0.3)\n",
    "    ax.add_feature(cfeat.STATES,zorder=3,edgecolor='grey',facecolor='none',linewidth=0.25) \n",
    "\n",
    "    # plot feature masks\n",
    "    ax.contourf(data_mcs_sel.longitude, data_mcs_sel.latitude, data_mcs_sel, cmap=ListedColormap(['olivedrab']), \n",
    "               alpha=0.5, transform=ccrs.PlateCarree(), zorder=2) # mcs\n",
    "    ax.contourf(data_lps_sel.longitude, data_lps_sel.latitude, data_lps_sel, cmap=ListedColormap(['r']), \n",
    "               alpha=0.3, transform=ccrs.PlateCarree(), zorder=2) # lps\n",
    "    ax.contourf(data_ar_sel.longitude, data_ar_sel.latitude, data_ar_sel, cmap=ListedColormap(['skyblue']), \n",
    "               alpha=0.5, transform=ccrs.PlateCarree(), zorder=2) # ar\n",
    "    ax.pcolormesh(data_ftc_sel.longitude, data_ftc_sel.latitude, data_ftc_sel, cmap=ListedColormap(['navy']), \n",
    "               transform=ccrs.PlateCarree(), zorder=3) # cold front\n",
    "    ax.pcolormesh(data_ftw_sel.longitude, data_ftw_sel.latitude, data_ftw_sel, cmap=ListedColormap(['r']), \n",
    "               transform=ccrs.PlateCarree(), zorder=3) # warm front\n",
    "    ax.pcolormesh(data_fts_sel.longitude, data_fts_sel.latitude, data_fts_sel, cmap=ListedColormap(['chocolate']), \n",
    "               transform=ccrs.PlateCarree(), zorder=3) # stationary front\n",
    "\n",
    "    #plot gpm precipitation\n",
    "    cp = ax.pcolormesh(data_gpm_sel.longitude, data_gpm_sel.latitude,\n",
    "                       data_gpm_sel, vmin=0, vmax=8, cmap=mixedmap, transform=ccrs.PlateCarree(),zorder=1)\n",
    "    cbar = plt.colorbar(cp,ax=ax, pad=0.01, shrink=0.8)\n",
    "    cbar.set_label('(mm hr$^{-1}$)',fontsize=10)\n",
    "\n",
    "    gl = ax.gridlines(crs=ccrs.PlateCarree(), draw_labels=True,\n",
    "                      linewidth=0, color='gray', alpha=0.4, linestyle=':')\n",
    "    gl.xlabels_top = False\n",
    "    gl.ylabels_right = False\n",
    "    gl.xformatter = LONGITUDE_FORMATTER\n",
    "    gl.yformatter = LATITUDE_FORMATTER\n",
    "    gl.xlabel_style = {'size':9}\n",
    "    gl.ylabel_style = {'size':9}\n",
    "\n",
    "    # add feature mask legend\n",
    "    legend_elements = [Patch(facecolor='skyblue', edgecolor=None, alpha=0.5,\n",
    "                             label='AR'),\n",
    "                       Patch(facecolor='olivedrab', edgecolor=None, alpha=0.5,\n",
    "                             label='MCS'),\n",
    "                       Patch(facecolor='red', edgecolor=None, alpha=0.3,\n",
    "                             label='LPS'),\n",
    "                       Line2D([1], [1], color='navy', lw=3, label='Cold front'),\n",
    "                       Line2D([1], [1], color='r', lw=3, label='Warm front'),\n",
    "                       Line2D([1], [1], color='chocolate', lw=3, label='Stat. front')]\n",
    "\n",
    "    ax.legend(handles=legend_elements, loc='center', ncols=6, bbox_to_anchor=(0.5, 1.1)\n",
    "              ,frameon=False, prop={'weight':'bold'})\n",
    "    ax.set_title('Global Precipitation Map & Atmospheric Features \\n' + '{}'.format(str(data_gpm_sel.time.values)[:13])\n",
    "                 , fontsize=11, y=1.15, fontweight='bold');\n",
    "    \n",
    "    if fig_save == True:\n",
    "        fig.savefig(fig_dir / 'precip_features_{}.png'.format(str(data_gpm_sel.time.values)[:13]),\n",
    "                    dpi=600 ,bbox_inches='tight', transparent=False)\n",
    "        print('{}'.format(str(data_gpm_sel.time.values)[:13]))\n",
    "        plt.close()\n",
    "        \n",
    "    return fig, ax"
   ]
  },
  {
   "cell_type": "code",
   "execution_count": 22,
   "id": "fc32fea6-b94d-4442-b2b9-1129aba232c1",
   "metadata": {
    "tags": []
   },
   "outputs": [],
   "source": [
    "def plot_precipitation_feature_regional(timestamp, lon_sel, lat_sel, fig_save=False, fig_dir=None):\n",
    "    \n",
    "    data_gpm_sel = data_gpm.sel(time=timestamp, latitude=slice(lat_sel[0],lat_sel[1]), longitude=slice(lon_sel[0],lon_sel[1]))\n",
    "    data_gpm_sel = data_gpm_sel.where(data_gpm_sel > 0)\n",
    "    data_mcs_sel = data_mcs.sel(time=timestamp, latitude=slice(lat_sel[0],lat_sel[1]), longitude=slice(lon_sel[0],lon_sel[1]))\n",
    "    data_mcs_sel = data_mcs_sel.where(data_mcs_sel > 0)\n",
    "    data_ar_sel = data_ar.sel(time=timestamp, latitude=slice(lat_sel[0],lat_sel[1]), longitude=slice(lon_sel[0],lon_sel[1]))\n",
    "    data_ar_sel = data_ar_sel.where(data_ar_sel > 0)\n",
    "    data_ftc_sel = data_front_c.sel(time=timestamp, latitude=slice(lat_sel[0],lat_sel[1]), longitude=slice(lon_sel[0],lon_sel[1]))\n",
    "    data_ftc_sel = data_ftc_sel.where(data_ftc_sel > 0)\n",
    "    data_ftw_sel = data_front_w.sel(time=timestamp, latitude=slice(lat_sel[0],lat_sel[1]), longitude=slice(lon_sel[0],lon_sel[1]))\n",
    "    data_ftw_sel = data_ftw_sel.where(data_ftw_sel > 0)\n",
    "    data_fts_sel = data_front_s.sel(time=timestamp, latitude=slice(lat_sel[0],lat_sel[1]), longitude=slice(lon_sel[0],lon_sel[1]))\n",
    "    data_fts_sel = data_fts_sel.where(data_fts_sel > 0)\n",
    "    data_lps_sel = data_lps.sel(time=timestamp, latitude=slice(lat_sel[0],lat_sel[1]), longitude=slice(lon_sel[0],lon_sel[1]))\n",
    "    data_lps_sel = data_lps_sel.where(data_lps_sel > 0)    \n",
    "    \n",
    "    fig, ax = plt.subplots(1,1,figsize=(6,6),subplot_kw={'projection': ccrs.PlateCarree(180)})\n",
    "    ax.coastlines(resolution='50m',zorder=3,color='k',linewidth=0.5)\n",
    "    ax.add_feature(cfeat.LAND,zorder=3,edgecolor='k',facecolor='none',linewidth=0.4) # maskout LAND\n",
    "    ax.add_feature(cfeat.BORDERS,zorder=3,edgecolor='k',facecolor='none',linewidth=0.4)\n",
    "    ax.add_feature(cfeat.STATES,zorder=3,edgecolor='k',facecolor='none',linewidth=0.4)\n",
    "\n",
    "    # plot feature masks\n",
    "    ax.pcolormesh(data_mcs_sel.longitude, data_mcs_sel.latitude, data_mcs_sel, cmap=ListedColormap(['olivedrab']), \n",
    "               alpha=0.5, transform=ccrs.PlateCarree(), zorder=2) # mcs\n",
    "    ax.pcolormesh(data_lps_sel.longitude, data_lps_sel.latitude, data_lps_sel, cmap=ListedColormap(['r']), \n",
    "               alpha=0.3, transform=ccrs.PlateCarree(), zorder=2) # lps\n",
    "    ax.pcolormesh(data_ar_sel.longitude, data_ar_sel.latitude, data_ar_sel, cmap=ListedColormap(['skyblue']), \n",
    "               alpha=0.5, transform=ccrs.PlateCarree(), zorder=2) # ar\n",
    "    ax.pcolormesh(data_ftc_sel.longitude, data_ftc_sel.latitude, data_ftc_sel, cmap=ListedColormap(['navy']), \n",
    "               transform=ccrs.PlateCarree(), zorder=3) # cold front\n",
    "    ax.pcolormesh(data_ftw_sel.longitude, data_ftw_sel.latitude, data_ftw_sel, cmap=ListedColormap(['r']), \n",
    "               transform=ccrs.PlateCarree(), zorder=3) # warm front\n",
    "    ax.pcolormesh(data_fts_sel.longitude, data_fts_sel.latitude, data_fts_sel, cmap=ListedColormap(['chocolate']), \n",
    "               transform=ccrs.PlateCarree(), zorder=3) # stationary front\n",
    "    \n",
    "    # add contour to hightlight feature boundaries\n",
    "    data_ar_con = data_ar.sel(time=timestamp, latitude=slice(lat_sel[0],lat_sel[1]), longitude=slice(lon_sel[0],lon_sel[1]))\n",
    "    data_mcs_con = data_mcs.sel(time=timestamp, latitude=slice(lat_sel[0],lat_sel[1]), longitude=slice(lon_sel[0],lon_sel[1]))\n",
    "\n",
    "    ax.contour(data_ar_con.longitude, data_ar_con.latitude, data_ar_con, colors=['k'], \n",
    "               transform=ccrs.PlateCarree(), zorder=3, linewidths=0.1) # ar\n",
    "    ax.contour(data_mcs_con.longitude, data_mcs_con.latitude, data_mcs_con, colors=['k'], \n",
    "               transform=ccrs.PlateCarree(), zorder=3, linewidths=0.1) # mcs    \n",
    "    \n",
    "    #plot gpm precipitation\n",
    "    cp = ax.pcolormesh(data_gpm_sel.longitude, data_gpm_sel.latitude,\n",
    "                       data_gpm_sel, vmin=0, vmax=8, cmap=mixedmap, transform=ccrs.PlateCarree(),zorder=1)\n",
    "    cbar = plt.colorbar(cp,ax=ax, pad=0.02, shrink=0.7)\n",
    "    cbar.set_label('precipitation (mm hr$^{-1}$)',fontsize=10)\n",
    "\n",
    "    gl = ax.gridlines(crs=ccrs.PlateCarree(), draw_labels=True,\n",
    "                      linewidth=1, color='gray', alpha=0.4, linestyle=':')\n",
    "    gl.xlabels_top = False\n",
    "    gl.ylabels_right = False\n",
    "    gl.xformatter = LONGITUDE_FORMATTER\n",
    "    gl.yformatter = LATITUDE_FORMATTER\n",
    "    gl.xlabel_style = {'size':9}\n",
    "    gl.ylabel_style = {'size':9}\n",
    "\n",
    "    # add feature mask legend\n",
    "    legend_elements = [Patch(facecolor='skyblue', edgecolor=None, alpha=0.5,\n",
    "                             label='AR'),\n",
    "                       Line2D([1], [1], color='navy', lw=3, label='Cold front'),\n",
    "                       Patch(facecolor='olivedrab', edgecolor=None, alpha=0.5,\n",
    "                             label='MCS'),\n",
    "                       Line2D([1], [1], color='r', lw=3, label='Warm front'),\n",
    "                       Patch(facecolor='red', edgecolor=None, alpha=0.3,\n",
    "                             label='LPS'),\n",
    "                       Line2D([1], [1], color='chocolate', lw=3, label='Stat. front')]\n",
    "\n",
    "    ax.legend(handles=legend_elements, loc='center', ncols=3, bbox_to_anchor=(0.5, 1.1)\n",
    "              ,frameon=False, prop={'weight':'bold'})\n",
    "    ax.set_title('GPM-IMERG & Atmospheric Features \\n' + '{}'.format(str(data_gpm_sel.time.values)[:13])\n",
    "                 , fontsize=11, y=1.15, fontweight='bold');\n",
    "    \n",
    "    # plot inner box \n",
    "    # rect = Rectangle((294.25-180, -33.25), width=2, height=2, fc ='none', ec ='magenta', linewidth=1,\n",
    "    #                 zorder=2)\n",
    "    # ax.add_patch(rect)\n",
    "    \n",
    "    # add CACTI campaign region\n",
    "    #ax.text(309-180, 11.3, 'xxx', color='w', \n",
    "    #        bbox=dict(facecolor='w', edgecolor='magenta'), fontsize=4)\n",
    "    #ax.text(312-180, 11, 'CACTI Domain', color='k', \n",
    "    #        bbox=dict(facecolor='none', edgecolor='none'), fontsize=10, fontweight='bold')\n",
    "    lon_cen = (lon_sel[0]+lon_sel[1])/2\n",
    "    lat_cen = (lat_sel[0]+lat_sel[1])/2\n",
    "    ax.plot(lon_cen-180, lat_cen, 'x', ms=5, color='r')\n",
    "    \n",
    "    if fig_save == True:\n",
    "        fig.savefig(fig_dir / 'precip_features_{}.png'.format(str(data_gpm_sel.time.values)[:13]),\n",
    "                    dpi=600 ,bbox_inches='tight', transparent=False)\n",
    "        print('{}'.format(str(data_gpm_sel.time.values)[:13]))\n",
    "        plt.close()\n",
    "        \n",
    "    return fig, ax"
   ]
  },
  {
   "cell_type": "code",
   "execution_count": 23,
   "id": "1e3af03b-86a4-42ad-9d08-22970c11dee3",
   "metadata": {
    "tags": []
   },
   "outputs": [],
   "source": [
    "tmp = data_gpm.isel(time=0).compute()\n",
    "lat_cen = 34.34\n",
    "lon_cen = 180 + (180-87.34)\n",
    "deg_width = 10\n",
    "\n",
    "tmp = tmp.sel(longitude=slice(lon_cen-deg_width,lon_cen+deg_width)\n",
    "             ,latitude=slice(lat_cen-deg_width,lat_cen+deg_width))\n",
    "tmp = tmp.where(tmp > 0) # remove zero and replaced with nan\n",
    "\n",
    "#tmp2 = elev.sel(lon=slice(lon_cen-deg_width,lon_cen+deg_width)\n",
    "#             ,lat=slice(lat_cen-deg_width,lat_cen+deg_width))"
   ]
  },
  {
   "cell_type": "code",
   "execution_count": 24,
   "id": "7f6db2b7-cc2c-4094-9f53-e58c3a9d5409",
   "metadata": {
    "tags": []
   },
   "outputs": [
    {
     "data": {
      "image/png": "[encoded data removed]",
      "text/plain": [
       "<Figure size 600x600 with 2 Axes>"
      ]
     },
     "metadata": {},
     "output_type": "display_data"
    }
   ],
   "source": [
    "# Outer domain: South America, Inner domain: CACTI campaign region\n",
    "# 2018-10-01 - 2019-04-30\n",
    "# 31.25S-33.25S; 65.75W-63.5W\n",
    "\n",
    "lat_cen = 34.34\n",
    "lon_cen = 180 + (180-87.34)\n",
    "deg_width = 5\n",
    "\n",
    "fig_plt, ax_plt = plot_precipitation_feature_regional(timestamp=datetime(2019,7,1,0),\n",
    "                                                      lon_sel=[lon_cen-deg_width,lon_cen+deg_width],\n",
    "                                                      lat_sel=[lat_cen-deg_width,lat_cen+deg_width],\n",
    "                                                      fig_save=False)\n",
    "#fig_plt.savefig('/neelin2020/RGMA_feature_mask/analysis/figs/CACTI_figs/precip_feature_CACTI_test.png',\n",
    "#            dpi=600, bbox_inches='tight', transparent=False)"
   ]
  },
  {
   "cell_type": "code",
   "execution_count": 25,
   "id": "7eb1d1f1-7e3e-4a19-8eb7-cc1358b507d6",
   "metadata": {
    "scrolled": true,
    "tags": []
   },
   "outputs": [
    {
     "name": "stdout",
     "output_type": "stream",
     "text": [
      "2019-12-01T00\n",
      "2019-12-01T06\n",
      "2019-12-01T12\n",
      "2019-12-01T18\n",
      "2019-12-02T00\n",
      "2019-12-02T06\n",
      "2019-12-02T12\n",
      "2019-12-02T18\n",
      "2019-12-03T00\n",
      "2019-12-03T06\n",
      "2019-12-03T12\n",
      "2019-12-03T18\n",
      "2019-12-04T00\n",
      "2019-12-04T06\n",
      "2019-12-04T12\n",
      "2019-12-04T18\n",
      "2019-12-05T00\n",
      "2019-12-05T06\n",
      "2019-12-05T12\n",
      "2019-12-05T18\n",
      "2019-12-06T00\n",
      "2019-12-06T06\n",
      "2019-12-06T12\n",
      "2019-12-06T18\n",
      "2019-12-07T00\n",
      "2019-12-07T06\n",
      "2019-12-07T12\n",
      "2019-12-07T18\n",
      "2019-12-08T00\n",
      "2019-12-08T06\n",
      "2019-12-08T12\n",
      "2019-12-08T18\n",
      "2019-12-09T00\n",
      "2019-12-09T06\n",
      "2019-12-09T12\n",
      "2019-12-09T18\n",
      "2019-12-10T00\n",
      "2019-12-10T06\n",
      "2019-12-10T12\n",
      "2019-12-10T18\n",
      "2019-12-11T00\n",
      "2019-12-11T06\n",
      "2019-12-11T12\n",
      "2019-12-11T18\n",
      "2019-12-12T00\n",
      "2019-12-12T06\n",
      "2019-12-12T12\n",
      "2019-12-12T18\n",
      "2019-12-13T00\n",
      "2019-12-13T06\n",
      "2019-12-13T12\n",
      "2019-12-13T18\n",
      "2019-12-14T00\n",
      "2019-12-14T06\n",
      "2019-12-14T12\n",
      "2019-12-14T18\n",
      "2019-12-15T00\n",
      "2019-12-15T06\n",
      "2019-12-15T12\n",
      "2019-12-15T18\n",
      "2019-12-16T00\n",
      "2019-12-16T06\n",
      "2019-12-16T12\n",
      "2019-12-16T18\n",
      "2019-12-17T00\n",
      "2019-12-17T06\n",
      "2019-12-17T12\n",
      "2019-12-17T18\n",
      "2019-12-18T00\n",
      "2019-12-18T06\n",
      "2019-12-18T12\n",
      "2019-12-18T18\n",
      "2019-12-19T00\n",
      "2019-12-19T06\n",
      "2019-12-19T12\n",
      "2019-12-19T18\n",
      "2019-12-20T00\n",
      "2019-12-20T06\n",
      "2019-12-20T12\n",
      "2019-12-20T18\n",
      "2019-12-21T00\n",
      "2019-12-21T06\n",
      "2019-12-21T12\n",
      "2019-12-21T18\n",
      "2019-12-22T00\n",
      "2019-12-22T06\n",
      "2019-12-22T12\n",
      "2019-12-22T18\n",
      "2019-12-23T00\n",
      "2019-12-23T06\n",
      "2019-12-23T12\n",
      "2019-12-23T18\n",
      "2019-12-24T00\n",
      "2019-12-24T06\n",
      "2019-12-24T12\n",
      "2019-12-24T18\n",
      "2019-12-25T00\n",
      "2019-12-25T06\n",
      "2019-12-25T12\n",
      "2019-12-25T18\n",
      "2019-12-26T00\n",
      "2019-12-26T06\n",
      "2019-12-26T12\n",
      "2019-12-26T18\n",
      "2019-12-27T00\n",
      "2019-12-27T06\n",
      "2019-12-27T12\n",
      "2019-12-27T18\n",
      "2019-12-28T00\n",
      "2019-12-28T06\n",
      "2019-12-28T12\n",
      "2019-12-28T18\n",
      "2019-12-29T00\n",
      "2019-12-29T06\n",
      "2019-12-29T12\n",
      "2019-12-29T18\n",
      "2019-12-30T00\n",
      "2019-12-30T06\n",
      "2019-12-30T12\n",
      "2019-12-30T18\n",
      "2019-12-31T00\n",
      "2019-12-31T06\n",
      "2019-12-31T12\n",
      "2019-12-31T18\n",
      "CPU times: user 2min 32s, sys: 49.4 s, total: 3min 21s\n",
      "Wall time: 2min 32s\n"
     ]
    }
   ],
   "source": [
    "%%time\n",
    "time_list = pd.date_range(datetime(2019,12,1,0), datetime(2019,12,31,18), freq='6H')\n",
    "\n",
    "for t in time_list:\n",
    "    fig_dir = Path('/neelin2020/RGMA_feature_mask/analysis/figs/ARM_BNF/')\n",
    "    if fig_dir.exists() == False:\n",
    "        os.system('mkdir -p {}'.format(fig_dir))\n",
    "    # CACTI campaign region\n",
    "    plot_precipitation_feature_regional(timestamp=t,\n",
    "                                        lon_sel=[lon_cen-deg_width,lon_cen+deg_width],\n",
    "                                        lat_sel=[lat_cen-deg_width,lat_cen+deg_width],\n",
    "                                        fig_save=True, fig_dir=fig_dir)"
   ]
  },
  {
   "cell_type": "markdown",
   "id": "3339d02c-8ade-48e3-a23a-68685e02e5b3",
   "metadata": {},
   "source": [
    "### Generate MP4 files"
   ]
  },
  {
   "cell_type": "code",
   "execution_count": 26,
   "id": "a38fe0c1-0cb0-4a3a-af0b-ad4955c43919",
   "metadata": {},
   "outputs": [
    {
     "name": "stderr",
     "output_type": "stream",
     "text": [
      "OpenCV: FFMPEG: tag 0x5634504d/'MP4V' is not supported with codec id 12 and format 'mp4 / MP4 (MPEG-4 Part 14)'\n",
      "OpenCV: FFMPEG: fallback to use tag 0x7634706d/'mp4v'\n"
     ]
    }
   ],
   "source": [
    "FIG_DIR = Path('/neelin2020/RGMA_feature_mask/analysis/figs/ARM_BNF/')\n",
    "os.chdir(FIG_DIR)\n",
    "\n",
    "img_array = []\n",
    "\n",
    "for filename in sorted(list(FIG_DIR.glob('*-12-*.png'))):\n",
    "    img = cv2.imread(str(filename))\n",
    "    height, width, layers = img.shape\n",
    "    size = (width,height)\n",
    "    img_array.append(img)\n",
    "    \n",
    "out = cv2.VideoWriter('RGMA_feature_precip_ARM_BNF_201912.mp4',cv2.VideoWriter_fourcc(*'MP4V'), 3, size)\n",
    " \n",
    "for i in range(len(img_array)):\n",
    "    out.write(img_array[i])\n",
    "    \n",
    "out.release()"
   ]
  },
  {
   "cell_type": "code",
   "execution_count": null,
   "id": "6454ca42-02cf-4d29-bcb2-f7082b6231f0",
   "metadata": {},
   "outputs": [],
   "source": []
  },
  {
   "cell_type": "code",
   "execution_count": 93,
   "id": "0a0ef76a-45aa-46d7-a840-6a1da8f266cd",
   "metadata": {},
   "outputs": [
    {
     "data": {
      "text/plain": [
       "2014"
      ]
     },
     "execution_count": 93,
     "metadata": {},
     "output_type": "execute_result"
    }
   ],
   "source": [
    "tmp = xr.open_dataset('/scratch/wmtsai/featenv_analysis/dataset/MCS_FLEXTRKR_tropics/2014/feature_catalogs/track/track_geoinfo.nc')\n",
    "int(str(tmp.isel(tracks=0).base_time[0].values)[:4])"
   ]
  },
  {
   "cell_type": "code",
   "execution_count": 12,
   "id": "eeeacc72-d538-4d68-82a3-44d3923a347d",
   "metadata": {},
   "outputs": [],
   "source": [
    "# load origional front expanded masks\n",
    "ft_dir = Path('/neelin2020/RGMA_feature_mask/data_product/{}/Front_expand'.format(year))\n",
    "files = sorted(list(ft_dir.glob('Front_cold_ERA5feature_mask_{}_*_6hrly.compress.nc'.format(year))))\n",
    "data_front_c = xr.open_mfdataset(files).fronts.sel(latitude=slice(-60,60))\n",
    "data_front_c = coordinates_processors(data_front_c)\n",
    "files = sorted(list(ft_dir.glob('Front_warm_ERA5feature_mask_{}_*_6hrly.compress.nc'.format(year))))\n",
    "data_front_w = xr.open_mfdataset(files).fronts.sel(latitude=slice(-60,60))\n",
    "data_front_w = coordinates_processors(data_front_w)\n",
    "files = sorted(list(ft_dir.glob('Front_stat_ERA5feature_mask_{}_*_6hrly.compress.nc'.format(year))))\n",
    "data_front_s = xr.open_mfdataset(files).fronts.sel(latitude=slice(-60,60))\n",
    "data_front_s = coordinates_processors(data_front_s)\n",
    "\n",
    "# get some significant events from the time-series\n",
    "precip_onsite = data_gpm.sel(latitude=slice(lat_cen-1,lat_cen+1)\n",
    "                           , longitude=slice(lon_cen-1,lon_cen)).mean(('longitude','latitude'))\n",
    "ar_onsite = data_ar.sel(latitude=slice(lat_cen-1,lat_cen+1)\n",
    "                           , longitude=slice(lon_cen-1,lon_cen)).mean(('longitude','latitude'))\n",
    "mcs_onsite = data_mcs.sel(latitude=slice(lat_cen-1,lat_cen+1)\n",
    "                           , longitude=slice(lon_cen-1,lon_cen)).mean(('longitude','latitude'))\n",
    "lps_onsite = data_lps.sel(latitude=slice(lat_cen-1,lat_cen+1)\n",
    "                           , longitude=slice(lon_cen-1,lon_cen)).mean(('longitude','latitude'))\n",
    "                           \n",
    "front_onsite = (data_front_c + data_front_s + data_front_w).sel(latitude=slice(lat_cen-1,lat_cen+1)\n",
    "                           , longitude=slice(lon_cen-1,lon_cen)).mean(('longitude','latitude'))\n",
    "front_onsite = front_onsite.where(front_onsite == 0, 1)"
   ]
  },
  {
   "cell_type": "code",
   "execution_count": 36,
   "id": "f0c18bbf-b4ac-43fb-927d-ab683c68da21",
   "metadata": {},
   "outputs": [
    {
     "data": {
      "image/png": "[encoded data removed]",
      "text/plain": [
       "<Figure size 500x300 with 1 Axes>"
      ]
     },
     "metadata": {},
     "output_type": "display_data"
    }
   ],
   "source": [
    "fig, ax = plt.subplots(1,1,figsize=(5,3))\n",
    "# area-average (+-1 deg. centered at NBF)\n",
    "#ax.plot(precip_onsite.time[1080:], precip_onsite.values[1080:], color='grey')\n",
    "ax.stem(precip_onsite.time[612:972], precip_onsite.values[612:972], markerfmt=\" \")\n",
    "# horizontal line for p_mean > 3 mm/hr\n",
    "#ax.plot(precip_onsite.time[612:972], np.full(len(precip_onsite.time[612:972]), 1), '--r')\n",
    "ax.set_ylabel('precipitation (mm/hr)',fontsize=10)\n",
    "\n",
    "#idx_time = np.where(precip_onsite > 1)[0]\n",
    "for t in idx_time:\n",
    "    if t >= 612 and t <=972:\n",
    "        #plt.text(x=precip_onsite.time[t], y=precip_onsite.values[t]\n",
    "        #       , s='{}'.format(str(precip_onsite.time[t].values)[:13]),fontsize=6)\n",
    "        if front_onsite.values[t] > 0:\n",
    "            plt.plot(precip_onsite.time[t], precip_onsite.values[t]-0.25, 'o', color='gold', ms=5)\n",
    "        if mcs_onsite.values[t] > 0:\n",
    "            plt.plot(precip_onsite.time[t], precip_onsite.values[t]-0.5, 'o', color='magenta', ms=5)\n",
    "        if ar_onsite.values[t] > 0:\n",
    "            plt.plot(precip_onsite.time[t], precip_onsite.values[t]-0.75, 'o', color='g', ms=5)\n",
    "        #if lps_onsite.values[t] > 0:\n",
    "        #    plt.plot(precip_onsite.time[t], precip_onsite.values[t]-2, 'ok', ms=6)        \n",
    "\n",
    "# add feature marks on top of it\n",
    "#ax.set_xlim([precip_onsite.time[720], precip_onsite.time[-1]])\n",
    "ax.set_title('ARM Bankhead National Forest (BNF)',fontsize=10,fontweight='bold')\n",
    "legend_elements = [Line2D([0], [0], marker='o', color='w', label='Front',\n",
    "                          markerfacecolor='gold', markersize=8),\n",
    "                   Line2D([0], [0], marker='o', color='w', label='MCS',\n",
    "                          markerfacecolor='magenta', markersize=8),\n",
    "                   Line2D([0], [0], marker='o', color='w', label='AR',\n",
    "                          markerfacecolor='g', markersize=8),]\n",
    "\n",
    "ax.tick_params(labelsize=7)\n",
    "ax.legend(handles=legend_elements, loc='upper left', ncols=2,columnspacing=0,fontsize=8)\n",
    "ax.set_xlim([precip_onsite.time[612], precip_onsite.time[972]])\n",
    "ax.set_ylim(ymin=0)\n",
    "plt.show()\n",
    "FIG_DIR = Path('/neelin2020/RGMA_feature_mask/analysis/figs/ARM_BNF/')\n",
    "fig.savefig(FIG_DIR / 'timeseries_precip_featuretags_summer_forDOEporposal.pdf',bbox_inches='tight',transparent=False)"
   ]
  },
  {
   "cell_type": "code",
   "execution_count": null,
   "id": "1d946e2a-7f19-4013-8ba3-4cc1b021ff03",
   "metadata": {},
   "outputs": [],
   "source": []
  }
 ],
 "metadata": {
  "kernelspec": {
   "display_name": "wm_base",
   "language": "python",
   "name": "python3"
  },
  "language_info": {
   "codemirror_mode": {
    "name": "ipython",
    "version": 3
   },
   "file_extension": ".py",
   "mimetype": "text/x-python",
   "name": "python",
   "nbconvert_exporter": "python",
   "pygments_lexer": "ipython3",
   "version": "3.11.4"
  }
 },
 "nbformat": 4,
 "nbformat_minor": 5
}
