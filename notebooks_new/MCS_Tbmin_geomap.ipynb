{
 "cells": [
  {
   "cell_type": "code",
   "execution_count": 1,
   "id": "548f8312-577b-430e-8bca-7693b7bfb157",
   "metadata": {
    "tags": []
   },
   "outputs": [],
   "source": [
    "import os\n",
    "import sys\n",
    "import xarray as xr\n",
    "import numpy as np\n",
    "import pandas as pd\n",
    "import matplotlib\n",
    "from matplotlib import pyplot as plt\n",
    "from matplotlib.colors import ListedColormap, LinearSegmentedColormap\n",
    "from datetime import datetime\n",
    "from pathlib import Path\n",
    "from matplotlib.lines import Line2D\n",
    "from matplotlib.patches import Patch\n",
    "from matplotlib.patches import Rectangle\n",
    "from matplotlib.patches import FancyArrowPatch\n",
    "\n",
    "import cartopy.crs as ccrs\n",
    "import cartopy.feature as cfeat\n",
    "from cartopy.util import add_cyclic_point\n",
    "from cartopy.mpl.gridliner import LONGITUDE_FORMATTER, LATITUDE_FORMATTER\n",
    "\n",
    "import warnings"
   ]
  },
  {
   "cell_type": "code",
   "execution_count": 2,
   "id": "1e642aba-d375-48ba-b72d-b94407762046",
   "metadata": {
    "tags": []
   },
   "outputs": [],
   "source": [
    "warnings.filterwarnings('ignore')"
   ]
  },
  {
   "cell_type": "code",
   "execution_count": 3,
   "id": "f4345b2c-1263-4c21-b697-6af1be07ebc4",
   "metadata": {
    "tags": []
   },
   "outputs": [],
   "source": [
    "# set fonts configuration - Arial\n",
    "matplotlib.rcParams['font.family'] = \"Open Sans\"\n",
    "matplotlib.rcParams['font.sans-serif'] = \"Arial\""
   ]
  },
  {
   "cell_type": "code",
   "execution_count": 4,
   "id": "ec471305-fae9-4cb3-90af-d1d558d39241",
   "metadata": {
    "tags": []
   },
   "outputs": [
    {
     "data": {
      "image/png": "[encoded data removed]",
      "text/html": [
       "<div style=\"vertical-align: middle;\"><strong>my_colormap</strong> </div><div class=\"cmap\"><img alt=\"my_colormap colormap\" title=\"my_colormap\" style=\"border: 1px solid #555;\" src=\"data:image/png;base64,iVBORw0KGgoAAAANSUhEUgAAAgAAAABACAYAAABsv8+/AAAAGnRFWHRUaXRsZQBteV9jb2xvcm1hcCBjb2xvcm1hcBJM2FsAAAAgdEVYdERlc2NyaXB0aW9uAG15X2NvbG9ybWFwIGNvbG9ybWFwg1KcDQAAADB0RVh0QXV0aG9yAE1hdHBsb3RsaWIgdjMuNy4xLCBodHRwczovL21hdHBsb3RsaWIub3JnKq/4TQAAADJ0RVh0U29mdHdhcmUATWF0cGxvdGxpYiB2My43LjEsIGh0dHBzOi8vbWF0cGxvdGxpYi5vcmcECWdqAAAB9ElEQVR4nO3WXW6jMBiGUfPT/a8my0k30ZtWDTAXNpVAQhkyUdvRe87NJxsHkiiKnu5yuSyllNJ1XXnGXD16/beeO7v/r9f3+2fPfZa6fn1/KaWUcn0f6/pju75+jJtzb0tfbzCW7RzKwf5S50ub48HcXe/Gqb58nOsc1nWd/Xp9tz+UNrs763v7d2Z/8vw6x6/1bbder98euu93zfOfe37S8/ff15O/v6V9vqn+/oY2+9u8WQ/TvDnX18eVdptS9uuj/UfP3U7OZz//fz/3l3Nuc2qvn/brg/2v2ywH6zY/T76tnzrf/u0BgCQCAAACCQAACCQAACCQAACAQAIAAAIJAAAIJAAAIJAAAIBAAgAAAgkAAAgkAAAgkAAAgEACAAACCQAACCQAACCQAACAQAIAAAIJAAAIJAAAIJAAAIBAAgAAAgkAAAgkAAAgkAAAgEACAAACCQAACCQAACCQAACAQAIAAAIJAAAIJAAAIJAAAIBAAgAAAgkAAAgkAAAgkAAAgEACAAACCQAACCQAACCQAACAQAIAAAIJAAAIJAAAIJAAAIBAAgAAAgkAAAgkAAAgkAAAgEACAAACCQAACCQAACCQAACAQAIAAAIJAAAIJAAAIJAAAIBAAgAAAgkAAAgkAAAgkAAAgEACAAACCQAACPQHbuvZ/vMOzdQAAAAASUVORK5CYII=\"></div><div style=\"vertical-align: middle; max-width: 514px; display: flex; justify-content: space-between;\"><div style=\"float: left;\"><div title=\"#b5b5b5ff\" style=\"display: inline-block; width: 1em; height: 1em; margin: 0; vertical-align: middle; border: 1px solid #555; background-color: #b5b5b5ff;\"></div> under</div><div style=\"margin: 0 auto; display: inline-block;\">bad <div title=\"#00000000\" style=\"display: inline-block; width: 1em; height: 1em; margin: 0; vertical-align: middle; border: 1px solid #555; background-color: #00000000;\"></div></div><div style=\"float: right;\">over <div title=\"#800000ff\" style=\"display: inline-block; width: 1em; height: 1em; margin: 0; vertical-align: middle; border: 1px solid #555; background-color: #800000ff;\"></div></div>"
      ],
      "text/plain": [
       "<matplotlib.colors.LinearSegmentedColormap at 0x7f2d33a4cee0>"
      ]
     },
     "execution_count": 4,
     "metadata": {},
     "output_type": "execute_result"
    }
   ],
   "source": [
    "colors1 = plt.cm.Greys_r(np.linspace(0.6, 0.8, 10))\n",
    "colors2 = plt.cm.jet(np.linspace(0.3, 1, 30))\n",
    "\n",
    "# combine them and build a new colormap\n",
    "colors = np.vstack((colors1, colors2))\n",
    "mixedmap = LinearSegmentedColormap.from_list('my_colormap', colors)\n",
    "mixedmap"
   ]
  },
  {
   "cell_type": "code",
   "execution_count": 5,
   "id": "cf48887c-b180-4ef5-a810-30969b6cd80b",
   "metadata": {
    "tags": []
   },
   "outputs": [],
   "source": [
    "def calc_cwv(data):\n",
    "    \"\"\"\n",
    "    calculate CWV based on SP and q \n",
    "    cwv = q.integrate(level=(SP,0))\n",
    "    \"\"\"\n",
    "    \n",
    "    cwv = np.zeros((len(data.mcs_phase),len(data.x), len(data.y))) # (phase, x, y)\n",
    "    \n",
    "    for p,phase in enumerate(data.mcs_phase.values):\n",
    "        for i,x in enumerate(data.x):\n",
    "            for j,y in enumerate(data.y):\n",
    "                q = data.sel(mcs_phase=phase, x=x, y=y).q # 27 levels\n",
    "                sp = data.sel(mcs_phase=phase, x=x, y=y).SP/100 # surface pressure hPa\n",
    "                cwv[p,i,j] = 100/9.8*q.sel(level=slice(100,sp)).integrate('level')\n",
    "    \n",
    "    # save into xarray dataset\n",
    "    cwv_xr = xr.Dataset(data_vars = dict(cwv = (['mcs_phase','x','y'], cwv)),\n",
    "                        coords= dict(mcs_phase = (['mcs_phase'], data.mcs_phase.values),\n",
    "                                     x = (['x'], data.x.values),\n",
    "                                     y = (['y'], data.y.values))\n",
    "                       )\n",
    "    \n",
    "    return cwv_xr.cwv"
   ]
  },
  {
   "cell_type": "code",
   "execution_count": 6,
   "id": "acb16abf-6860-4fa2-a268-49b3eced9e63",
   "metadata": {
    "tags": []
   },
   "outputs": [
    {
     "name": "stdout",
     "output_type": "stream",
     "text": [
      "processing year: 2001\n",
      "processing year: 2002\n",
      "processing year: 2003\n",
      "processing year: 2004\n",
      "CPU times: user 9min 34s, sys: 2min 46s, total: 12min 20s\n",
      "Wall time: 12min 25s\n"
     ]
    }
   ],
   "source": [
    "%%time\n",
    "year_list = np.arange(2001,2005,1)\n",
    "\n",
    "bins_Tb = np.arange(180,241,1)\n",
    "bins_cwv = np.arange(20,60,1)\n",
    "\n",
    "num_oce = 0\n",
    "num_lnd = 0\n",
    "for n, year in enumerate(year_list):\n",
    "    print('processing year: {}'.format(year))\n",
    "    dir_mcs_track = Path('/scratch/wmtsai/temp_mcs/mcs_stats/mcs_tracks_non2mcs/')\n",
    "    data_track = xr.open_dataset(dir_mcs_track / 'mcs_tracks_non2mcs_{}.tropics30NS.extend.nc'.format(year))\n",
    "    \n",
    "    # land sea flag\n",
    "    idt_mcs_init = data_track.idt_mcs_init\n",
    "    landsea_flag = data_track.isel(times=idt_mcs_init).landsea_flag\n",
    "    idx_ocean = np.where(landsea_flag == 0)[0]\n",
    "    idx_land = np.where(landsea_flag == 1)[0]\n",
    "\n",
    "    tracks_sel_oce = data_track.isel(tracks=idx_ocean).tracks\n",
    "    tracks_sel_lnd = data_track.isel(tracks=idx_land).tracks\n",
    "    \n",
    "    dir_env = Path('/scratch/wmtsai/temp_mcs/mcs_stats/envs_track/{}/tropics_extend/'.format(year))\n",
    "    \n",
    "    for track in tracks_sel_oce.values:\n",
    "        data = xr.open_dataset(dir_env / 'mcs_era5_3D_envs_{}.{}.LD.nc'.format(year, str(track).zfill(5)))\n",
    "        data = data.sel(mcs_phase='Init')\n",
    "        tb = data.tb\n",
    "        #cwv = calc_cwv(data)\n",
    "        cwv = 100/9.8*data.q.sel(level=slice(100,900)).integrate('level')\n",
    "        tb_mcs = tb.where(data.cloudtracknumber_nomergesplit > 0) # only MCS grids\n",
    "        cwv_mcs = cwv.where(data.cloudtracknumber_nomergesplit > 0) # only MCS grids\n",
    "        (samples, bins_out) = np.histogram(tb_mcs, bins=bins_Tb)\n",
    "        (samples_cwv, bins_out) = np.histogram(cwv_mcs, bins=bins_cwv)\n",
    "        \n",
    "        if num_oce == 0:\n",
    "            samples_Tb_oce = samples\n",
    "            samples_cwv_oce = samples_cwv\n",
    "            num_oce += 1\n",
    "        else:\n",
    "            samples_Tb_oce += samples\n",
    "            samples_cwv_oce += samples_cwv\n",
    "            num_oce += 1\n",
    "            \n",
    "    for track in tracks_sel_lnd.values:\n",
    "        data = xr.open_dataset(dir_env / 'mcs_era5_3D_envs_{}.{}.LD.nc'.format(year, str(track).zfill(5)))\n",
    "        data = data.sel(mcs_phase='Init')\n",
    "        tb = data.tb\n",
    "        #cwv = calc_cwv(data)\n",
    "        cwv = 100/9.8*data.q.sel(level=slice(100,900)).integrate('level')\n",
    "        tb_mcs = tb.where(data.cloudtracknumber_nomergesplit > 0) # only MCS grids\n",
    "        cwv_mcs = cwv.where(data.cloudtracknumber_nomergesplit > 0) # only MCS grids\n",
    "        (samples, bins_out) = np.histogram(tb_mcs, bins=bins_Tb)\n",
    "        (samples_cwv, bins_out) = np.histogram(cwv_mcs, bins=bins_cwv)\n",
    "        \n",
    "        if num_lnd == 0:\n",
    "            samples_Tb_lnd = samples\n",
    "            samples_cwv_lnd = samples_cwv\n",
    "            num_lnd += 1\n",
    "        else:\n",
    "            samples_Tb_lnd += samples\n",
    "            samples_cwv_lnd += samples_cwv\n",
    "            num_lnd += 1"
   ]
  },
  {
   "cell_type": "code",
   "execution_count": null,
   "id": "9b5b589f-f6d6-477f-84b5-b15c17aad6ba",
   "metadata": {
    "tags": []
   },
   "outputs": [],
   "source": [
    "fig,(ax1,ax2) = plt.subplots(1,2,figsize=(8,3))\n",
    "\n",
    "ax1.plot(bins_Tb[:-1], samples_Tb_oce/samples_Tb_oce.sum(), '-b', label='MCS, Ocean')\n",
    "ax1.plot(bins_Tb[:-1], samples_Tb_lnd/samples_Tb_lnd.sum(), '-g', label='MCS, land')\n",
    "ax1.set_xlim([240,180])\n",
    "ax1.legend(fontsize=8)\n",
    "ax1.grid(lw=0.5, ls=':')\n",
    "ax1.set_ylabel('Probability', fontsize=10)\n",
    "ax1.set_xlabel('Brightness temperature, Tb (K)', fontsize=10)\n",
    "ax1.tick_params(labelsize=9)\n",
    "\n",
    "ax2.plot(bins_cwv[:-1], samples_cwv_oce/samples_cwv_oce.sum(), '-b', label='MCS, Ocean')\n",
    "ax2.plot(bins_cwv[:-1], samples_cwv_lnd/samples_cwv_lnd.sum(), '-g', label='MCS, land')\n",
    "ax2.set_xlim([30,70])\n",
    "ax2.legend(fontsize=8)\n",
    "ax2.grid(lw=0.5, ls=':')\n",
    "ax2.set_ylabel('Probability', fontsize=10)\n",
    "ax2.set_xlabel('Column water vapor,(900-100hPa) (mm)', fontsize=10)\n",
    "ax2.tick_params(labelsize=9)"
   ]
  },
  {
   "cell_type": "code",
   "execution_count": null,
   "id": "355f5356-9d99-497a-a00c-6da55d6c0e43",
   "metadata": {},
   "outputs": [],
   "source": []
  }
 ],
 "metadata": {
  "kernelspec": {
   "display_name": "Python 3 (ipykernel)",
   "language": "python",
   "name": "python3"
  },
  "language_info": {
   "codemirror_mode": {
    "name": "ipython",
    "version": 3
   },
   "file_extension": ".py",
   "mimetype": "text/x-python",
   "name": "python",
   "nbconvert_exporter": "python",
   "pygments_lexer": "ipython3",
   "version": "3.11.4"
  }
 },
 "nbformat": 4,
 "nbformat_minor": 5
}
