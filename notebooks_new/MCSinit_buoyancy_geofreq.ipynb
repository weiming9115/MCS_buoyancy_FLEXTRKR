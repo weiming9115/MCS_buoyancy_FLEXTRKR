{
 "cells": [
  {
   "cell_type": "code",
   "execution_count": 1,
   "id": "7c82e40d-e93e-4a9c-987e-6dab6696ae85",
   "metadata": {
    "tags": []
   },
   "outputs": [],
   "source": [
    "import os\n",
    "import sys\n",
    "import xarray as xr\n",
    "import numpy as np\n",
    "import pandas as pd\n",
    "import matplotlib\n",
    "from matplotlib import pyplot as plt\n",
    "from matplotlib.colors import ListedColormap, LinearSegmentedColormap\n",
    "from datetime import datetime\n",
    "from pathlib import Path\n",
    "from matplotlib.lines import Line2D\n",
    "from matplotlib.patches import Patch\n",
    "from matplotlib.patches import Rectangle\n",
    "from matplotlib.patches import FancyArrowPatch\n",
    "\n",
    "import cartopy.crs as ccrs\n",
    "import cartopy.feature as cfeat\n",
    "from cartopy.util import add_cyclic_point\n",
    "from cartopy.mpl.gridliner import LONGITUDE_FORMATTER, LATITUDE_FORMATTER\n",
    "\n",
    "import warnings"
   ]
  },
  {
   "cell_type": "code",
   "execution_count": 2,
   "id": "354b0de1",
   "metadata": {},
   "outputs": [],
   "source": [
    "warnings.filterwarnings('ignore')"
   ]
  },
  {
   "cell_type": "code",
   "execution_count": null,
   "id": "f475bc0b",
   "metadata": {},
   "outputs": [],
   "source": [
    "colors2 = plt.cm.jet(np.linspace(0.3, 1, 45))\n",
    "colors = np.vstack((colors2))\n",
    "mixedmap = LinearSegmentedColormap.from_list('my_colormap', colors)\n",
    "mixedmap"
   ]
  },
  {
   "cell_type": "code",
   "execution_count": 72,
   "id": "b8a6fd08",
   "metadata": {},
   "outputs": [],
   "source": [
    "# %%time\n",
    "# data_dir = Path('/scratch/wmtsai/temp_mcs/output_stats/MCScount_geomap')\n",
    "# year_list = np.arange(2001,2021)\n",
    "# n_times = 0\n",
    "# for n,year in enumerate(year_list):\n",
    "#     if n == 0:\n",
    "#         ds_counts = xr.open_dataset(data_dir / 'MCScounts_geomap_{}.nc'.format(year)).counts\n",
    "#         n_times += len(list(Path('/neelin2020/mcs_flextrkr/{}'.format(year)).glob('*.nc')))\n",
    "#     else:\n",
    "#         tmp = xr.open_dataset(data_dir / 'MCScounts_geomap_{}.nc'.format(year)).counts\n",
    "#         ds_counts += tmp\n",
    "#         n_times += len(list(Path('/neelin2020/mcs_flextrkr/{}'.format(year)).glob('*.nc')))\n",
    "\n",
    "# # save into cause it takes somehow too long...    \n",
    "# ds_counts.attrs['description'] = 'total counts of hourly MCS mask. 2001-2020'\n",
    "# ds_counts.to_netcdf('/scratch/wmtsai/temp_mcs/output_stats/MCScount_geomap/MCScount_total_2001.2020.nc')"
   ]
  },
  {
   "cell_type": "code",
   "execution_count": null,
   "id": "730aea13",
   "metadata": {},
   "outputs": [],
   "source": [
    "# calculate fraction of rainfy times associated with MCSs\n",
    "year_list = np.arange(2001,2020)\n",
    "\n",
    "i = 0\n",
    "n_count = np.zeros((241,1440))\n",
    "for year in year_list:\n",
    "    print('processing year: ', year)\n",
    "    fp_dir = Path('/neelin2020/RGMA_feature_mask/data_product/{}/MERGED_FP'.format(year))\n",
    "    for month in range(1,13):\n",
    "        ds_fp = xr.open_dataset(fp_dir / 'GPM_feature_merged_{}_v4_mcsnew.nc'.format(str(month).zfill(2))).sel(latitude=slice(-30,30),longitude=slice(0,359.75))\n",
    "        prec = ds_fp.precipitationCal\n",
    "        mcs_tag = ds_fp.mcs_tag\n",
    "        #prec_amt = prec.where(prec > 1e-3, 0)\n",
    "        # rainy times\n",
    "        prec_num = prec.where(prec > 0, 0)\n",
    "        prec_num = prec_num.where(prec_num == 0, 1)\n",
    "        # amount of all rainy times\n",
    "        prec_mcs = prec.where(mcs_tag == 1, 0)\n",
    "        precamt_mcs = (prec_mcs).sum('time')\n",
    "        precamt_tot = (prec).sum('time')\n",
    "        if i == 0:\n",
    "            frac_pamt = (precamt_mcs/precamt_tot)\n",
    "            n_map = frac_pamt.where(frac_pamt > 0, 0)\n",
    "            n_map = n_map.where(n_map == 0, 1)\n",
    "            n_count += n_map\n",
    "            i += 1\n",
    "        else:\n",
    "            tmp = (precamt_mcs/precamt_tot)\n",
    "            frac_pamt += tmp\n",
    "            n_map = frac_pamt.where(frac_pamt > 0, 0)\n",
    "            n_map = n_map.where(n_map == 0, 1)\n",
    "            n_count += n_map\n",
    "            i += 1\n",
    "            \n",
    "frac_pamt_avg = frac_pamt/n_count"
   ]
  },
  {
   "cell_type": "code",
   "execution_count": 120,
   "id": "d8207254",
   "metadata": {},
   "outputs": [],
   "source": [
    "data_dir = Path('/scratch/wmtsai/temp_mcs/output_stats/MCScount_geomap')\n",
    "ds_counts = xr.open_dataset(data_dir / 'MCScount_total_2001.2020.nc')\n",
    "density_counts = ds_counts/n_times*24*365\n",
    "frac_time = ds_counts.counts/n_times"
   ]
  },
  {
   "cell_type": "code",
   "execution_count": null,
   "id": "a402daf0",
   "metadata": {},
   "outputs": [],
   "source": [
    "# load climatology buoyancy \n",
    "stats_dir = Path('/scratch/wmtsai/temp_mcs/output_stats/')\n",
    "buoy_clim = xr.open_dataset(stats_dir / 'era5_BL_measures_climatology_2002-2014.nc').mean('month')\n",
    "buoy_tot_clim = buoy_clim.Buoy_TOT.sel(lat=slice(-30,30)) # [K]\n",
    "\n",
    "fig, ax = plt.subplots(1,1,figsize=(10,4),subplot_kw={'projection': ccrs.PlateCarree(160)})\n",
    "\n",
    "ax.coastlines(color='brown',linewidth=0.7)\n",
    "ax.add_feature(cfeat.LAND,zorder=3,edgecolor='brown',facecolor='none',linewidth=0.3) # maskout LAND\n",
    "ax.add_feature(cfeat.BORDERS,zorder=3,edgecolor='brown',facecolor='none',linewidth=0.3)\n",
    "ax.add_feature(cfeat.STATES,zorder=3,edgecolor='brown',facecolor='none',linewidth=0.3) \n",
    "\n",
    "gl = ax.gridlines(crs=ccrs.PlateCarree(), draw_labels=True,\n",
    "                  linewidth=0.5, color='k', alpha=0.4, linestyle=':')\n",
    "gl.xlabels_top = False\n",
    "gl.ylabels_right = False\n",
    "gl.xformatter = LONGITUDE_FORMATTER\n",
    "gl.yformatter = LATITUDE_FORMATTER\n",
    "gl.xlabel_style = {'size': 8, 'color': 'k'}\n",
    "gl.ylabel_style = {'size': 8, 'color': 'k'}\n",
    "           \n",
    "# plot seasonal mean of BL_TOT as background\n",
    "cf = ax.pcolormesh(lon_2deg, lat_2deg, 100*frac_time, vmin=1, vmax=15,\n",
    "           cmap=mixedmap, transform=ccrs.PlateCarree())\n",
    "cf.cmap.set_under('w')\n",
    "cbar = plt.colorbar(cf, ax=ax, shrink=0.35, pad=0.01, extend='both')\n",
    "cbar.set_label('percentage [%]',fontsize=7)\n",
    "cbar.set_ticks([1,5,10,15])\n",
    "cbar.ax.tick_params(labelsize=8)\n",
    "\n",
    "# BL climatology, flip negative sign for plotting solid contours\n",
    "cf1 = ax.contour(buoy_tot_clim.lon, buoy_tot_clim.lat, 340*3/9.8*buoy_tot_clim, levels=[-10,-5,0],\n",
    "          colors=['k'], linewidths=1, transform=ccrs.PlateCarree())\n",
    "ax.clabel(cf1, fontsize=6)\n",
    "cf2 = ax.contour(buoy_tot_clim.lon, buoy_tot_clim.lat, 340*3/9.8*buoy_tot_clim, levels=[-10],\n",
    "          colors=['k'], linewidths=1.5, transform=ccrs.PlateCarree())\n",
    "ax.clabel(cf2, fontsize=6)\n",
    "\n",
    "# precipitation fraction explained \n",
    "frac_ptime_mask = frac_ptime_avg.where(frac_ptime_avg > 0.5, 0) # greater than 0.5\n",
    "frac_ptime_mask = frac_ptime_mask.where(frac_ptime_mask == 0, 1)\n",
    "#ax.contour(test.longitude, test.latitude, test, levels=[0.5,0.6,0.7,0.8],\n",
    "#             linewidths=1, colors=['m'], transform=ccrs.PlateCarree())\n",
    "ax.contourf(frac_ptime_mask.longitude, frac_ptime_mask.latitude, frac_ptime_mask, levels=[0.5,1],\n",
    "            colors='none', hatches=['....'], transform=ccrs.PlateCarree())\n",
    "                \n",
    "#ax.set_title('frequency of tropical MCSs, 2001-2020, (counts/total_times)', fontsize=9);\n",
    "ax.text(x=-170, y=18, s='A.', fontsize=15, fontweight='bold',\n",
    "        bbox=dict(facecolor='none', alpha=0.7, edgecolor='none', pad=2.5, lw=0.5))\n",
    "ax.set_ylim([-30,30])\n",
    "ax.set_xlim([-180,180])\n",
    "\n",
    "plt.show()\n",
    "fig.savefig('/scratch/wmtsai/temp_mcs/fig/Fig1a_MCSfrequency_BLclim_PamtFrac.png',dpi=600,\n",
    "            bbox_inches='tight', transparent=False)"
   ]
  },
  {
   "cell_type": "code",
   "execution_count": null,
   "id": "371dda99",
   "metadata": {},
   "outputs": [],
   "source": [
    "test = xr.open_dataset('/neelin2020/ERA-5_mse/2001/ERA-5.mse.2001.01.test.nc')\n",
    "test.mse_sfc.isel(time=0).plot()"
   ]
  },
  {
   "cell_type": "code",
   "execution_count": null,
   "id": "f7ac66e7",
   "metadata": {},
   "outputs": [],
   "source": []
  }
 ],
 "metadata": {
  "kernelspec": {
   "display_name": "wm_base",
   "language": "python",
   "name": "python3"
  },
  "language_info": {
   "codemirror_mode": {
    "name": "ipython",
    "version": 3
   },
   "file_extension": ".py",
   "mimetype": "text/x-python",
   "name": "python",
   "nbconvert_exporter": "python",
   "pygments_lexer": "ipython3",
   "version": "3.11.4"
  }
 },
 "nbformat": 4,
 "nbformat_minor": 5
}
