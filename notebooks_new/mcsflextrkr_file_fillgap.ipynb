{
 "cells": [
  {
   "cell_type": "code",
   "execution_count": 8,
   "id": "3776bb79-920b-4021-b799-45f9f7d929db",
   "metadata": {
    "tags": []
   },
   "outputs": [],
   "source": [
    "import os\n",
    "import sys\n",
    "import xarray as xr\n",
    "import numpy as np\n",
    "import matplotlib\n",
    "import pandas as pd\n",
    "from matplotlib import pyplot as plt\n",
    "from datetime import datetime\n",
    "from pathlib import Path\n",
    "import cartopy.crs as ccrs\n",
    "import warnings"
   ]
  },
  {
   "cell_type": "code",
   "execution_count": null,
   "id": "ed296099-e3dc-432c-bf41-dc44174d7831",
   "metadata": {},
   "outputs": [],
   "source": []
  },
  {
   "cell_type": "code",
   "execution_count": null,
   "id": "ce7cc0bd-61d1-423a-a2b4-067236f28fdd",
   "metadata": {},
   "outputs": [],
   "source": []
  },
  {
   "cell_type": "code",
   "execution_count": 6,
   "id": "6ad3fb08-35b6-4917-95cc-1ce64e3c67b5",
   "metadata": {
    "tags": []
   },
   "outputs": [],
   "source": [
    "year_process = 2017\n",
    "mcs_dir = Path('/neelin2020/mcs_flextrkr/{}'.format(year_process))"
   ]
  },
  {
   "cell_type": "code",
   "execution_count": null,
   "id": "4398ec8e-c3fa-417b-be91-f6cd5af215b7",
   "metadata": {},
   "outputs": [],
   "source": []
  },
  {
   "cell_type": "code",
   "execution_count": null,
   "id": "3d246dd6-3049-4833-8ad1-5456663a8a36",
   "metadata": {},
   "outputs": [],
   "source": [
    "timestamps = pd.date_range(start=datetime(year_process,1,1,0,30),end=datetime(year_process,12,31,23,30),freq='1H')"
   ]
  },
  {
   "cell_type": "code",
   "execution_count": null,
   "id": "13fb3a90-9457-479a-9595-197b7517ef1c",
   "metadata": {},
   "outputs": [],
   "source": [
    "for time in timestamps:\n",
    "    \n",
    "    year = str(time.year)\n",
    "    month = str(time.month).zfill(2)\n",
    "    day = str(time.day).zfill(2)\n",
    "    hour = str(time.hour).zfill(2)\n",
    "    \n",
    "    file = mcs_dir / 'mcstrack_{}{}{}_{}30.nc'.format(year,month,day,hour)\n",
    "    if file.exists() == False:\n",
    "        print(file.name)\n",
    "        \n",
    "        # create a file filled with NaN for date completeness\n",
    "        tmp = xr.open_dataset(mcs_dir / 'mcstrack_{}0101_0030.nc'.format(year_process))\n",
    "        \n",
    "        for i in tmp.keys():\n",
    "            if (i != 'base_time') and (i != 'longitude') and (i != 'latitude') :\n",
    "                print(i)\n",
    "                tmp[i] = tmp[i]*np.nan \n",
    "                \n",
    "        # save into the directory\n",
    "        tmp.to_netcdf(file)\n",
    "        print('{} ... saved'.format(file))"
   ]
  },
  {
   "cell_type": "code",
   "execution_count": null,
   "id": "7fc35a96-0a4c-4c91-a937-1a48f2dc8e8b",
   "metadata": {},
   "outputs": [],
   "source": []
  },
  {
   "cell_type": "code",
   "execution_count": null,
   "id": "2acc1ac5-932c-4da1-b423-94d3556953b2",
   "metadata": {},
   "outputs": [],
   "source": []
  },
  {
   "cell_type": "code",
   "execution_count": null,
   "id": "974cb849-4844-4370-9513-7cfec4931968",
   "metadata": {},
   "outputs": [],
   "source": []
  },
  {
   "cell_type": "code",
   "execution_count": null,
   "id": "9bddb0e2-21a7-4e03-9f46-b9c8704bf807",
   "metadata": {},
   "outputs": [],
   "source": []
  }
 ],
 "metadata": {
  "kernelspec": {
   "display_name": "base_kernel",
   "language": "python",
   "name": "base_kernel"
  },
  "language_info": {
   "codemirror_mode": {
    "name": "ipython",
    "version": 3
   },
   "file_extension": ".py",
   "mimetype": "text/x-python",
   "name": "python",
   "nbconvert_exporter": "python",
   "pygments_lexer": "ipython3",
   "version": "3.11.4"
  }
 },
 "nbformat": 4,
 "nbformat_minor": 5
}
