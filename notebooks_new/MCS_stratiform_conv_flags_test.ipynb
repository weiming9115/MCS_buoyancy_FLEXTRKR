{
 "cells": [
  {
   "cell_type": "code",
   "execution_count": 1,
   "id": "af0c31f0-2658-4834-839c-14e0e4ab2497",
   "metadata": {
    "tags": []
   },
   "outputs": [],
   "source": [
    "import os\n",
    "import sys\n",
    "import xarray as xr\n",
    "import numpy as np\n",
    "from numpy import unravel_index\n",
    "import pandas as pd\n",
    "import matplotlib\n",
    "from matplotlib import pyplot as plt\n",
    "from matplotlib.colors import ListedColormap, LinearSegmentedColormap\n",
    "from matplotlib.font_manager import FontProperties\n",
    "from datetime import datetime\n",
    "from pathlib import Path\n",
    "from matplotlib.lines import Line2D\n",
    "from matplotlib.patches import Patch\n",
    "from matplotlib.patches import Rectangle\n",
    "\n",
    "import cartopy.crs as ccrs\n",
    "import cartopy.feature as cfeat\n",
    "from cartopy.util import add_cyclic_point\n",
    "from cartopy.mpl.gridliner import LONGITUDE_FORMATTER, LATITUDE_FORMATTER\n",
    "\n",
    "import warnings"
   ]
  },
  {
   "cell_type": "code",
   "execution_count": 2,
   "id": "b53ac968-c267-4eaf-a579-b3e2da769f6a",
   "metadata": {
    "tags": []
   },
   "outputs": [],
   "source": [
    "warnings.filterwarnings('ignore')"
   ]
  },
  {
   "cell_type": "code",
   "execution_count": 3,
   "id": "9e791f22-cec4-4730-a1e6-c248caa8f734",
   "metadata": {
    "tags": []
   },
   "outputs": [
    {
     "name": "stdout",
     "output_type": "stream",
     "text": [
      "CPU times: user 1min 30s, sys: 7.98 s, total: 1min 38s\n",
      "Wall time: 1min 25s\n"
     ]
    }
   ],
   "source": [
    "%%time\n",
    "\n",
    "# bins for BL_CAPE and BL_SUBSAT\n",
    "bins_cape = np.arange(-15,10,0.5)\n",
    "bins_subsat = np.arange(-5,25,0.5)\n",
    "bins_samples = np.zeros((2, 6, len(bins_cape)-1, len(bins_subsat)-1)) # (area_type, mcs_phase, cape, subsat)\n",
    "thetae_bl_sum = np.copy(bins_samples)\n",
    "\n",
    "year_sel = 2001\n",
    "env_dir = Path('/scratch/wmtsai/temp_mcs/mcs_stats/envs_track/{}/tropics_extend'.format(year_sel))\n",
    "files = list(env_dir.glob('*.LD.nc'))\n",
    "\n",
    "for file in files[:100]:\n",
    "    \n",
    "    mcs_env = xr.open_dataset(file)\n",
    "\n",
    "    # define stratiform as pixels with rainfall < 0.5mm/hr, Tb < 241 K\n",
    "    \n",
    "    for p,phase in enumerate(mcs_env.mcs_phase.values):\n",
    "        \n",
    "        data_phase = mcs_env.sel(mcs_phase=phase)\n",
    "        thetae_bl = data_phase.thetae_bl\n",
    "        thetae_lt = data_phase.thetae_lt\n",
    "        thetae_sat_lt = data_phase.thetae_sat_lt\n",
    "        sp = data_phase.SP/100 #hPa\n",
    "\n",
    "        delta_pl=sp-100-400\n",
    "        delta_pb=100\n",
    "        wb=(delta_pb/delta_pl)*np.log((delta_pl+delta_pb)/delta_pb)\n",
    "        wl=1-wb\n",
    "\n",
    "        BL_CAPE = wb*(thetae_bl - thetae_sat_lt)/thetae_sat_lt*340 # (K)\n",
    "        BL_SUBSAT = wl*(thetae_sat_lt - thetae_lt)/thetae_sat_lt*340 # (K)\n",
    "\n",
    "        # define convective and stratiform pixels \n",
    "        tmp = data_phase.precipitationCal\n",
    "        tmp2 = data_phase.tb\n",
    "        tmp3 = data_phase.cloudtracknumber_nomergesplit\n",
    "        \n",
    "        conv_mcs_pix = tmp.where(((tmp >= 0.5) & (tmp2 < 241) & (tmp3 > 0)), 0)\n",
    "        conv_mcs_pix = conv_mcs_pix.where(conv_mcs_pix ==0, 1)\n",
    "        conv_mcs_pix = conv_mcs_pix.where(conv_mcs_pix ==1) # 1 or NaN\n",
    "        \n",
    "        strat_mcs_pix = tmp.where(((tmp < 0.5) & (tmp2 < 241) & (tmp3 > 0)), 0)\n",
    "        strat_mcs_pix = strat_mcs_pix.where(strat_mcs_pix ==0, 1)\n",
    "        strat_mcs_pix = strat_mcs_pix.where(strat_mcs_pix ==1) # 1 or NaN\n",
    "        \n",
    "        thetae_bl_1d = -thetae_bl.values.ravel()\n",
    "        cape_1d = BL_CAPE.values.ravel()\n",
    "        cape_1d = cape_1d[~np.isnan(conv_mcs_pix.values.ravel())]\n",
    "        subsat_1d = BL_SUBSAT.values.ravel()\n",
    "        subsat_1d = subsat_1d[~np.isnan(conv_mcs_pix.values.ravel())]\n",
    "        thetae_bl_1d = thetae_bl_1d[~np.isnan(conv_mcs_pix.values.ravel())]\n",
    "        \n",
    "        for i in range(len(bins_cape)-1):\n",
    "            idx = np.where(np.logical_and(cape_1d >= bins_cape[i], cape_1d < bins_cape[i+1]))[0]\n",
    "            for j in range(len(bins_subsat)-1):\n",
    "                idy = np.where(np.logical_and(subsat_1d >= bins_subsat[j], subsat_1d < bins_subsat[j+1]))[0]\n",
    "                \n",
    "                idx_com = np.intersect1d(idx,idy)\n",
    "                if len(idx_com) > 0:\n",
    "                    bins_samples[0,p,i,j] += len(idx_com)\n",
    "                    thetae_bl_sum[0,p,i,j] += np.sum(thetae_bl_1d[idx_com])\n",
    "                    \n",
    "        thetae_bl_1d = -thetae_bl.values.ravel()                \n",
    "        cape_1d = BL_CAPE.values.ravel()\n",
    "        cape_1d = cape_1d[~np.isnan(strat_mcs_pix.values.ravel())]\n",
    "        subsat_1d = BL_SUBSAT.values.ravel()\n",
    "        subsat_1d = subsat_1d[~np.isnan(strat_mcs_pix.values.ravel())]\n",
    "        thetae_bl_1d = thetae_bl_1d[~np.isnan(strat_mcs_pix.values.ravel())]\n",
    "                                \n",
    "        for i in range(len(bins_cape)-1):\n",
    "            idx = np.where(np.logical_and(cape_1d >= bins_cape[i], cape_1d < bins_cape[i+1]))[0]\n",
    "            for j in range(len(bins_subsat)-1):\n",
    "                idy = np.where(np.logical_and(subsat_1d >= bins_subsat[j], subsat_1d < bins_subsat[j+1]))[0]\n",
    "                \n",
    "                idx_com = np.intersect1d(idx,idy)\n",
    "                if len(idx_com) > 0:                    \n",
    "                    bins_samples[1,p,i,j] += len(idx_com)\n",
    "                    thetae_bl_sum[1,p,i,j] += np.sum(thetae_bl_1d[idx_com])\n",
    "        \n",
    "# writeout as dataset\n",
    "ds = xr.Dataset(data_vars = dict(samples = (['area_type','phase','bins_cape','bins_subsat'], bins_samples),\n",
    "                                 thetae_bl_sum = (['area_type','phase','bins_cape','bins_subsat'], thetae_bl_sum)),\n",
    "                coords = dict(area_type = (['area_type'],['convective','stratiform']),\n",
    "                              phase = (['phase'], ['CCS','Initial', 'Grow', 'Mature', 'Decay', 'End']),\n",
    "                              bins_cape = (['bins_cape'], bins_cape[:-1]),\n",
    "                              bins_subsat = (['bins_subsat'], bins_subsat[:-1])),\n",
    "                attrs = dict(description = 'cape-subsat histogram. amean = 3-deg average'))"
   ]
  },
  {
   "cell_type": "code",
   "execution_count": null,
   "id": "aade0c60-9e90-4b43-8415-c6bc172bfc6e",
   "metadata": {
    "tags": []
   },
   "outputs": [],
   "source": [
    "fig, (ax1,ax2) = plt.subplots(1,2,figsize=(8,3))\n",
    "\n",
    "conv_sample = ds.sel(area_type='convective', phase='Decay').samples\n",
    "strat_sample = ds.sel(area_type='stratiform', phase='Decay').samples\n",
    "conv_ratio = conv_sample / (conv_sample + strat_sample)\n",
    "strat_ratio = strat_sample / (conv_sample + strat_sample)\n",
    "\n",
    "# with sample size > 200\n",
    "#conv_ratio = conv_ratio.where(conv_sample + strat_sample > 20)\n",
    "#strat_ratio = strat_ratio.where(conv_sample + strat_sample > 20)\n",
    "\n",
    "cp1=ax1.pcolormesh(ds.bins_subsat, ds.bins_cape, conv_ratio, vmin=0, vmax=1, cmap='RdBu')\n",
    "plt.colorbar(cp1,ax=ax1)\n",
    "ax1.set_title('Ratio of convective rainfall proxy',fontsize=9)\n",
    "cp2=ax2.pcolormesh(ds.bins_subsat, ds.bins_cape, strat_ratio, vmin=0, vmax=1, cmap='RdBu')\n",
    "plt.colorbar(cp2,ax=ax2)\n",
    "ax2.set_title('Ratio of stratiform rainfall proxy',fontsize=9)\n",
    "\n",
    "# add buoyancy reference \n",
    "ax1.plot(np.linspace(-2,14,13),np.linspace(-2,14,13), color='k', lw=1)\n",
    "ax1.plot(np.linspace(-2,14,13),np.linspace(-2,14,13)-2, color='grey', ls='--',lw=0.5)\n",
    "ax1.plot(np.linspace(-2,14,13),np.linspace(-2,14,13)-4, color='grey', ls='--',lw=0.5)\n",
    "ax1.plot(np.linspace(-2,14,13),np.linspace(-2,14,13)-6, color='grey', ls='--',lw=0.5)\n",
    "ax1.plot(np.linspace(-2,14,13),np.linspace(-2,14,13)-8, color='grey', ls='--',lw=0.5)\n",
    "\n",
    "# add buoyancy reference \n",
    "ax2.plot(np.linspace(-2,14,13),np.linspace(-2,14,13), color='k', lw=1)\n",
    "ax2.plot(np.linspace(-2,14,13),np.linspace(-2,14,13)-2, color='grey', ls='--',lw=0.5)\n",
    "ax2.plot(np.linspace(-2,14,13),np.linspace(-2,14,13)-4, color='grey', ls='--',lw=0.5)\n",
    "ax2.plot(np.linspace(-2,14,13),np.linspace(-2,14,13)-6, color='grey', ls='--',lw=0.5)\n",
    "ax2.plot(np.linspace(-2,14,13),np.linspace(-2,14,13)-8, color='grey', ls='--',lw=0.5)\n",
    "\n",
    "    \n",
    "ax1.set_ylabel('B$_{L,cape}$ (K)',fontsize=9.5, labelpad=0)\n",
    "ax2.set_ylabel('B$_{L,cape}$ (K)',fontsize=9.5, labelpad=0)\n",
    "ax1.set_xlabel('B$_{L,subsat}$ (K)',fontsize=9.5, labelpad=0)\n",
    "ax2.set_xlabel('B$_{L,subsat}$ (K)',fontsize=9.5, labelpad=0)\n",
    "\n",
    "ax1.set_ylim([-8,6])\n",
    "ax1.set_xlim([-2,14])\n",
    "ax2.set_ylim([-8,6])\n",
    "ax2.set_xlim([-2,14])\n",
    "\n",
    "plt.show()"
   ]
  },
  {
   "cell_type": "code",
   "execution_count": null,
   "id": "92c5533e-e064-4a64-bafd-c14eb3acdcdc",
   "metadata": {},
   "outputs": [],
   "source": []
  },
  {
   "cell_type": "code",
   "execution_count": null,
   "id": "b94798ed-01d3-412f-8c68-d6ee7aa471a1",
   "metadata": {
    "tags": []
   },
   "outputs": [],
   "source": [
    "fig, ax1 = plt.subplots(1,1,figsize=(3,3))\n",
    "\n",
    "thetae_bl_phase = ds.sel(phase='Mature').sum('area_type').thetae_bl_sum\n",
    "conv_sample = ds.sel(area_type='convective', phase='Mature').samples\n",
    "strat_sample = ds.sel(area_type='stratiform', phase='Mature').samples\n",
    "total_sample = conv_sample + strat_sample\n",
    "\n",
    "thetae_bl_mean = thetae_bl_phase/total_sample\n",
    "\n",
    "# with sample size > 200\n",
    "#conv_ratio = conv_ratio.where(conv_sample + strat_sample > 20)\n",
    "#strat_ratio = strat_ratio.where(conv_sample + strat_sample > 20)\n",
    "\n",
    "cp1=ax1.pcolormesh(ds.bins_subsat, ds.bins_cape, thetae_bl_mean)\n",
    "plt.colorbar(cp1,ax=ax1)\n",
    "ax1.set_title('Conditional mean of thetae_bl',fontsize=9)\n",
    "\n",
    "# add buoyancy reference \n",
    "ax1.plot(np.linspace(-2,14,13),np.linspace(-2,14,13), color='k', lw=1)\n",
    "ax1.plot(np.linspace(-2,14,13),np.linspace(-2,14,13)-2, color='grey', ls='--',lw=0.5)\n",
    "ax1.plot(np.linspace(-2,14,13),np.linspace(-2,14,13)-4, color='grey', ls='--',lw=0.5)\n",
    "ax1.plot(np.linspace(-2,14,13),np.linspace(-2,14,13)-6, color='grey', ls='--',lw=0.5)\n",
    "ax1.plot(np.linspace(-2,14,13),np.linspace(-2,14,13)-8, color='grey', ls='--',lw=0.5)\n",
    "    \n",
    "ax1.set_ylabel('B$_{L,cape}$ (K)',fontsize=9.5, labelpad=0)\n",
    "ax1.set_xlabel('B$_{L,subsat}$ (K)',fontsize=9.5, labelpad=0)\n",
    "\n",
    "ax1.set_ylim([-8,6])\n",
    "ax1.set_xlim([-2,14])\n",
    "\n",
    "plt.show()"
   ]
  },
  {
   "cell_type": "code",
   "execution_count": null,
   "id": "22452d67-b3fb-4084-8817-c986f761b6aa",
   "metadata": {},
   "outputs": [],
   "source": []
  },
  {
   "cell_type": "code",
   "execution_count": null,
   "id": "c4c2e12d-0da7-4242-a7a6-b6939c6cd7df",
   "metadata": {
    "tags": []
   },
   "outputs": [],
   "source": [
    "mcs_env = xr.open_dataset(files[0])\n",
    "tmp = mcs_env.precipitationCal.sel(mcs_phase='Mature')\n",
    "tmp2 = mcs_env.tb.sel(mcs_phase='Mature')\n",
    "conv_pix = tmp.where(((tmp >= 0.5) & (tmp2 < 241)))\n",
    "strat_pix = tmp.where(((tmp < 0.5) & (tmp2 < 241)))"
   ]
  },
  {
   "cell_type": "code",
   "execution_count": null,
   "id": "a56eb9f9-9374-4249-8c14-8d6e1b60d3f2",
   "metadata": {
    "tags": []
   },
   "outputs": [],
   "source": [
    "fig, (ax1,ax2) = plt.subplots(1,2,figsize=(8,3))\n",
    "\n",
    "conv_pix.plot(ax=ax1, vmin=0,vmax=10)\n",
    "mcs_env.cloudtracknumber_nomergesplit.sel(mcs_phase='Mature').plot.contour(ax=ax1)\n",
    "strat_pix.plot(ax=ax2, vmin=0, vmax=10)\n",
    "mcs_env.cloudtracknumber_nomergesplit.sel(mcs_phase='Mature').plot.contour(ax=ax2)\n",
    "plt.show()"
   ]
  },
  {
   "cell_type": "code",
   "execution_count": null,
   "id": "4bf265c9-d355-4b8f-89fe-d17ab7da7044",
   "metadata": {},
   "outputs": [],
   "source": []
  }
 ],
 "metadata": {
  "kernelspec": {
   "display_name": "base_kernel",
   "language": "python",
   "name": "base_kernel"
  },
  "language_info": {
   "codemirror_mode": {
    "name": "ipython",
    "version": 3
   },
   "file_extension": ".py",
   "mimetype": "text/x-python",
   "name": "python",
   "nbconvert_exporter": "python",
   "pygments_lexer": "ipython3",
   "version": "3.11.4"
  }
 },
 "nbformat": 4,
 "nbformat_minor": 5
}
