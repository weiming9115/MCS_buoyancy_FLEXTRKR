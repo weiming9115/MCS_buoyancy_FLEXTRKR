{
 "cells": [
  {
   "cell_type": "markdown",
   "id": "6fdd3a1c-2db3-4c17-8446-a8650c837113",
   "metadata": {},
   "source": [
    "#### feature stats files writeout"
   ]
  },
  {
   "cell_type": "code",
   "execution_count": 29,
   "id": "21476cb0-9411-45f6-b7d0-384215e71d3f",
   "metadata": {
    "tags": []
   },
   "outputs": [],
   "source": [
    "import os\n",
    "import sys\n",
    "import xarray as xr\n",
    "import numpy as np\n",
    "import pandas as pd\n",
    "import matplotlib\n",
    "from matplotlib import pyplot as plt\n",
    "from matplotlib.colors import ListedColormap, LinearSegmentedColormap\n",
    "from datetime import datetime\n",
    "from pathlib import Path\n",
    "\n",
    "from scipy.stats import pearsonr,norm\n",
    "import warnings"
   ]
  },
  {
   "cell_type": "code",
   "execution_count": 2,
   "id": "63195832-ed7b-4673-ac0e-ea45b1a994d1",
   "metadata": {
    "tags": []
   },
   "outputs": [],
   "source": [
    "warnings.filterwarnings('ignore')"
   ]
  },
  {
   "cell_type": "code",
   "execution_count": 3,
   "id": "72603e01-b556-4e7f-a733-08c8729025db",
   "metadata": {
    "tags": []
   },
   "outputs": [],
   "source": [
    "def data_tracks_phase(data_tracks, var_name):\n",
    "    \"\"\"\n",
    "    return area-related variables \n",
    "    \"\"\"\n",
    "    var_list = []\n",
    "    track_list = []\n",
    "    \n",
    "    for track in data_tracks.tracks.values:\n",
    "\n",
    "        track_list.append(track)\n",
    "        tmp = data_tracks.sel(tracks=track)\n",
    "        phase_list = [tmp.idt_ccs_init.values, tmp.idt_mcs_init.values, tmp.idt_mcs_grow.values, tmp.idt_mcs_mature.values,\n",
    "                      tmp.idt_mcs_decay.values, tmp.idt_mcs_end.values]\n",
    "\n",
    "        ds = xr.Dataset(data_vars=dict(var_null=(['mcs_phase'], tmp[var_name].sel(times=phase_list).values)),\n",
    "                        coords=dict(mcs_phase=(['mcs_phase'],['CCS','Init', 'Grow', 'Mature', 'Decay', 'End'])))\n",
    "\n",
    "        var_list.append(ds)\n",
    "\n",
    "    ds_xr = xr.concat(var_list, pd.Index(track_list, name='tracks')).rename_vars({'var_null':var_name})\n",
    "        \n",
    "    return ds_xr"
   ]
  },
  {
   "cell_type": "code",
   "execution_count": 4,
   "id": "1af06c14",
   "metadata": {},
   "outputs": [],
   "source": [
    "def data_tracks_Tb_features(data_merged):\n",
    "                                \n",
    "    # calculate BL+ fraction and BL+ amplitude\n",
    "    Tb_mcs = data_merged.tb.where(data_merged.cloudtracknumber_nomergesplit > 0)\n",
    "    Tb_mcs_min = Tb_mcs.min(('x','y'))\n",
    "\n",
    "    return Tb_mcs_min.to_dataset().rename({'tb':'tb_min'})"
   ]
  },
  {
   "cell_type": "code",
   "execution_count": 42,
   "id": "91cd24d7",
   "metadata": {},
   "outputs": [],
   "source": [
    "def cloudtracknumber_filter(data_merged):\n",
    "    \"\"\"\n",
    "    relabel the cloudtracknumber field, which contains multiple clouds tracked in the scene\n",
    "    \"\"\"\n",
    "    data_mcsmask = data_merged.cloudtracknumber_nomergesplit\n",
    "    mcsmask_list = []\n",
    "    for track in data_mcsmask.tracks:\n",
    "        data_sub = data_mcsmask.sel(tracks=track)\n",
    "        data_sub = data_sub.where(data_sub == track + 1, 0) # remains the sepecific 2-D mask at each scene \n",
    "        # convert it into a binary format (1,0)\n",
    "        data_sub = data_sub.where(data_sub == 0, 1) \n",
    "        mcsmask_list.append(data_sub)\n",
    "    # merge all\n",
    "    data_new = xr.concat(mcsmask_list, pd.Index(data_mcsmask.tracks.values, name='tracks'))    \n",
    "\n",
    "    return data_new"
   ]
  },
  {
   "cell_type": "code",
   "execution_count": 43,
   "id": "3e3d1c41-76a0-4f97-9979-3cdd55392d47",
   "metadata": {
    "tags": []
   },
   "outputs": [],
   "source": [
    "def data_tracks_BL_features(data_merged):\n",
    "    \"\"\"\n",
    "    data_merged: buoy + precip + cloudmask\n",
    "    \"\"\"\n",
    "    BL_features_list = []    \n",
    "                              \n",
    "    # calculate BL+ fraction and BL+ amplitude\n",
    "    mcsmask = cloudtracknumber_filter(data_merged)\n",
    "    BL_mcs = data_merged.Buoy_TOT.where(mcsmask > 0)\n",
    "    BL_pos = BL_mcs.where(BL_mcs > -0.05, 0)\n",
    "    BL_pos_nan = BL_mcs.where(BL_mcs > -0.05, np.nan)\n",
    "    BL_pos_binary = BL_pos.where(BL_pos ==0, 1)\n",
    "    mcs_area = mcsmask.sum(('x','y'))\n",
    "    BL_pos_area = BL_pos_binary.sum(('x','y')).rename('BL_crit_area')\n",
    "    BL_pos_frac = (BL_pos_area/mcs_area).rename('BL_crit_fraction')\n",
    "    BL_tot_bp = BL_pos_nan.mean(('x','y')).rename('BL_TOT_critmean')\n",
    "    \n",
    "    # BL estimates max/min\n",
    "    BL_tot_max = BL_mcs.max(('x','y')).to_dataset().rename_vars({'Buoy_TOT':'BL_TOT_max'})\n",
    "    BL_tot_min = BL_mcs.max(('x','y')).to_dataset().rename_vars({'Buoy_TOT':'BL_TOT_min'})\n",
    "    \n",
    "    # BL estimates, MCS grids\n",
    "    BL_tot_mcs = data_merged.Buoy_TOT.where(mcsmask > 0).mean(('x','y')).rename('BL_TOT_mcs')\n",
    "    BL_cape_mcs = data_merged.Buoy_CAPE.where(mcsmask > 0).mean(('x','y')).rename('BL_CAPE_mcs')\n",
    "    BL_subsat_mcs = data_merged.Buoy_SUBSAT.where(mcsmask > 0).mean(('x','y')).rename('BL_SUBSAT_mcs')\n",
    "\n",
    "    # BL estimates, non-MCS grids\n",
    "    BL_tot_ouside = data_merged.Buoy_TOT.where(mcsmask == 0).mean(('x','y')).rename('BL_TOT_outside')\n",
    "    BL_cape_ouside = data_merged.Buoy_CAPE.where(mcsmask == 0).mean(('x','y')).rename('BL_CAPE_outside')\n",
    "    BL_subsat_ouside = data_merged.Buoy_SUBSAT.where(mcsmask == 0).mean(('x','y')).rename('BL_SUBSAT_outside')        \n",
    "    \n",
    "    # BL estimates, 5-deg. mean\n",
    "    BL_tot_5deg = data_merged.Buoy_TOT.sel(x=slice(10,30),y=slice(10,30)).mean(('x','y')).rename('BL_TOT_5degmean')\n",
    "    BL_cape_5deg = data_merged.Buoy_CAPE.sel(x=slice(10,30),y=slice(10,30)).mean(('x','y')).rename('BL_CAPE_5degmean')\n",
    "    BL_subsat_5deg = data_merged.Buoy_SUBSAT.sel(x=slice(10,30),y=slice(10,30)).mean(('x','y')).rename('BL_SUBSAT_5degmean')\n",
    "   \n",
    "    # BL estimates, 3-deg. mean (PNNL)\n",
    "    BL_tot_3deg = data_merged.Buoy_TOT.sel(x=slice(14,26),y=slice(14,26)).mean(('x','y')).rename('BL_TOT_3degmean')\n",
    "    BL_cape_3deg = data_merged.Buoy_CAPE.sel(x=slice(14,26),y=slice(14,26)).mean(('x','y')).rename('BL_CAPE_3degmean')\n",
    "    BL_subsat_3deg = data_merged.Buoy_SUBSAT.sel(x=slice(14,26),y=slice(14,26)).mean(('x','y')).rename('BL_SUBSAT_3degmean')\n",
    "    \n",
    "    BL_features_list.append(xr.merge([BL_pos_area, BL_pos_frac, BL_tot_bp, BL_tot_mcs,\n",
    "                                        BL_cape_mcs, BL_subsat_mcs, BL_tot_ouside,\n",
    "                                        BL_cape_ouside, BL_subsat_ouside,\n",
    "                                        BL_tot_5deg, BL_cape_5deg, BL_subsat_5deg,\n",
    "                                        BL_tot_3deg, BL_cape_3deg, BL_subsat_3deg,\n",
    "                                        BL_tot_max, BL_tot_min]))\n",
    "    \n",
    "    BL_features_xr = xr.concat(BL_features_list, pd.Index(data_merged.tracks.values, name='tracks'))\n",
    "    \n",
    "    return BL_features_xr"
   ]
  },
  {
   "cell_type": "code",
   "execution_count": 20,
   "id": "ed622f9e-8bfa-4230-a478-49e83d349838",
   "metadata": {
    "tags": []
   },
   "outputs": [],
   "source": [
    "def data_tracks_precip_features(data_merged):\n",
    "   \n",
    "    precip_features_list = []    \n",
    "    corr_coeff_temp_list = []\n",
    "    \n",
    "    for track in data_merged.tracks:\n",
    "\n",
    "        # calculate precip amplitude within mcs\n",
    "        gpm = data_merged.sel(tracks=track).precipitation\n",
    "        era5 = data_merged.sel(tracks=track).mtpr*3600\n",
    "        mcsmask = data_merged.sel(tracks=track).cloudtracknumber_nomergesplit\n",
    "        prec_mcs = gpm.where(mcsmask == track+1)\n",
    "        mtpr_mcs = era5.where(mcsmask == track+1)\n",
    "        prec_amp_mcs = prec_mcs.mean(('x','y')).rename('precipitationCal_mcs')\n",
    "        mtpr_amp_mcs = mtpr_mcs.mean(('x','y')).rename('mtpr_mcs')\n",
    "        \n",
    "        # estimate spatial correlation \n",
    "        corr_coeff = []\n",
    "        for phase in data_merged.mcs_phase:\n",
    "            prec_era5 = prec_mcs.sel(mcs_phase=phase)\n",
    "            prec_gpm = mtpr_mcs.sel(mcs_phase=phase)\n",
    "            \n",
    "            x1 = np.where(np.isnan(prec_gpm.values.ravel())==0)[0]\n",
    "            x2 = np.where(np.isnan(prec_era5.values.ravel())==0)[0]\n",
    "            idx = np.intersect1d(x1,x2)\n",
    "\n",
    "            tmp1 = prec_gpm.values.ravel()[idx]\n",
    "            tmp2 = prec_era5.values.ravel()[idx]\n",
    "            if (len(tmp1) == len(tmp2)) and (len(tmp1) > 2):\n",
    "                stats = pearsonr(tmp1, tmp2)\n",
    "                corr_coeff.append(stats[0]) # save correlation coefficient \n",
    "            else: # if NaN occurs ... somewhere near the dateline due to the tracking algorithm\n",
    "                corr_coeff.append(np.NaN)\n",
    "\n",
    "        corr_coeff_space_xr = xr.Dataset(data_vars=dict(corr_coeff_space=(['mcs_phase'],np.asarray(corr_coeff))),\n",
    "                                    coords=dict(mcs_phase=(['mcs_phase'], data_merged.mcs_phase.values)))\n",
    "        # merge all calculated variables at a given track\n",
    "        precip_features_list.append(xr.merge([prec_amp_mcs ,mtpr_amp_mcs,\n",
    "                                                corr_coeff_space_xr])) # (mcs_phase)\n",
    "        \n",
    "        # get corr_coeff_temp from 1-D timeseries of mean precip\n",
    "        x1 = np.where(np.isnan(prec_amp_mcs.values)==0)[0]\n",
    "        x2 = np.where(np.isnan(mtpr_amp_mcs.values)==0)[0]\n",
    "        idx = np.intersect1d(x1,x2)\n",
    "        tmp1 = prec_amp_mcs.values[idx]\n",
    "        tmp2 = mtpr_amp_mcs.values[idx]\n",
    "        if (len(tmp1) == len(tmp2)) and (len(tmp1) > 2):\n",
    "            stats = pearsonr(tmp1, tmp2)\n",
    "            corr_coeff_temp_list.append(stats[0]) # save correlation coefficient \n",
    "        else: # if NaN occurs ... somewhere near the dateline due to the tracking algorithm\n",
    "            corr_coeff_temp_list.append(np.NaN)\n",
    "           \n",
    "    corr_coeff_temp_xr = xr.Dataset(data_vars=dict(corr_coeff_temp=(['tracks'],np.asarray(corr_coeff_temp_list))),\n",
    "                                 coords=dict(tracks=(['tracks'], data_merged.tracks.values)))\n",
    "    precip_features_xr = xr.concat(precip_features_list, pd.Index(data_merged.tracks.values, name='tracks'))\n",
    "\n",
    "    # merge two datasets\n",
    "    precip_features_xr = xr.merge([precip_features_xr, corr_coeff_temp_xr])\n",
    "    \n",
    "    return precip_features_xr"
   ]
  },
  {
   "cell_type": "code",
   "execution_count": 44,
   "id": "d9c376a6-a7a9-4e28-83d6-e77f49a7705b",
   "metadata": {
    "tags": []
   },
   "outputs": [
    {
     "name": "stdout",
     "output_type": "stream",
     "text": [
      "processing year: 2001\n",
      "CPU times: user 2min 22s, sys: 3.44 s, total: 2min 26s\n",
      "Wall time: 2min 26s\n"
     ]
    }
   ],
   "source": [
    "%%time\n",
    "\n",
    "out_dir = Path('/scratch/wmtsai/temp_mcs/mcs_stats/mcs_tracks_non2mcs/tracks_stats_phase')\n",
    "\n",
    "data_tracks_list = []\n",
    "\n",
    "year_list = np.arange(2001,2002)\n",
    "for year in year_list:\n",
    "\n",
    "    print('processing year: {}'.format(year))\n",
    "    # directory of the mcs_3dvars files\n",
    "    data_dir = Path('/scratch/wmtsai/temp_mcs/output_stats/buoy_meregd_2001_2020/{}/environment_catalogs/'.format(year))\n",
    "    buoy_dir = data_dir / 'VARS_derived'\n",
    "    var2d_dir = data_dir / 'VARS_2D'\n",
    "    data_prec = xr.open_dataset(var2d_dir / 'MCS_FLEXTRKR_tropics_precipitation.merged.nc')\n",
    "    data_prec_era5 = xr.open_dataset(var2d_dir / 'MCS_FLEXTRKR_tropics_mpr.merged.nc')\n",
    "    data_mask = xr.open_dataset(var2d_dir / 'MCS_FLEXTRKR_tropics_cloudtracknumber_nomergesplit.merged.nc')\n",
    "    data_buoy = xr.open_dataset(buoy_dir / 'MCS_FLEXTRKR_tropics_buoyancy.merged.nc')\n",
    "    data_Tb = xr.open_dataset(var2d_dir / 'MCS_FLEXTRKR_tropics_tb.merged.nc')\n",
    "    data_merged = xr.merge([data_prec, data_prec_era5, data_mask, data_buoy, data_Tb], compat='override')\n",
    "    # change time into mcs_phase\n",
    "    data_merged = data_merged.rename({'time':'mcs_phase'})\n",
    "    data_merged['mcs_phase'] = ['CCS','Init', 'Grow', 'Mature', 'Decay', 'End']\n",
    "\n",
    "    # load data_tracks \n",
    "    data_tracks = xr.open_dataset('/scratch/wmtsai/temp_mcs/mcs_stats/mcs_tracks_non2mcs/mcs_tracks_non2mcs_{}.tropics30NS.full.nc'.format(year))\n",
    "    \n",
    "    # data_tracks time spend (1) from initial and mature (2) from mature to end\n",
    "    data_tracks['hours_ccs2init'] = data_tracks.idt_mcs_init - data_tracks.idt_ccs_init\n",
    "    data_tracks['hours_init2mat']  = data_tracks.idt_mcs_mature - data_tracks.idt_mcs_init\n",
    "    data_tracks['hours_mat2end']  = data_tracks.idt_mcs_end - data_tracks.idt_mcs_mature\n",
    "    \n",
    "    # write out BL_features dataset based on mcs_envs output\n",
    "    data_BL_features = data_tracks_BL_features(data_merged)\n",
    "    data_Tb_features = data_tracks_Tb_features(data_merged)\n",
    "\n",
    "    data_precip_features = data_tracks_precip_features(data_merged)\n",
    "    \n",
    "    # extract existing area-related variables\n",
    "    data_ccs_area = data_tracks_phase(data_tracks, var_name='ccs_area')\n",
    "    data_core_area = data_tracks_phase(data_tracks, var_name='core_area')\n",
    "    data_cold_area = data_tracks_phase(data_tracks, var_name='cold_area')\n",
    "    data_area_features = xr.merge([data_ccs_area, data_core_area, data_cold_area])\n",
    "    \n",
    "    #corr_temp = data_precip_features.corr_coeff_temp\n",
    "    #corr_coeff_space = data_precip_features.corr_coeff_space.mean('mcs_phase')\n",
    "\n",
    "    data_tracks_out = xr.merge([data_tracks['mcs_duration'],\n",
    "                                data_tracks['hours_init2mat'],\n",
    "                                data_tracks['hours_mat2end'],\n",
    "                                data_BL_features,\n",
    "                                data_Tb_features,\n",
    "                                data_area_features,\n",
    "                                data_precip_features,]\n",
    "                                )\n",
    "  \n",
    " #   data_tracks_out.to_netcdf(out_dir / 'featstats_tracks_non2mcs_{}.tropics30NS.full.nc'.format(year))"
   ]
  },
  {
   "cell_type": "code",
   "execution_count": 23,
   "id": "8f40ee0d",
   "metadata": {},
   "outputs": [],
   "source": [
    "data_tracks_out = xr.merge([data_tracks['mcs_duration'],\n",
    "                            data_tracks['hours_init2mat'],\n",
    "                            data_tracks['hours_mat2end'],\n",
    "                            data_BL_features,\n",
    "                            data_Tb_features,\n",
    "                            data_area_features,\n",
    "                            data_precip_features,]\n",
    "                            )"
   ]
  },
  {
   "cell_type": "markdown",
   "id": "1d1c6987",
   "metadata": {},
   "source": [
    "#### Check how well MCS-area averaged ERA-5 and GPM precip matches each other in time"
   ]
  },
  {
   "cell_type": "code",
   "execution_count": 64,
   "id": "3ad134ac",
   "metadata": {},
   "outputs": [
    {
     "data": {
      "text/plain": [
       "(4473,)"
      ]
     },
     "execution_count": 64,
     "metadata": {},
     "output_type": "execute_result"
    }
   ],
   "source": []
  },
  {
   "cell_type": "code",
   "execution_count": 66,
   "id": "5431e51a",
   "metadata": {},
   "outputs": [
    {
     "data": {
      "image/png": "[encoded data removed]",
      "text/plain": [
       "<Figure size 500x400 with 2 Axes>"
      ]
     },
     "metadata": {},
     "output_type": "display_data"
    }
   ],
   "source": [
    "fig, ax = plt.subplots(1,1,figsize=(5,4))\n",
    "\n",
    "data_list = []\n",
    "for year in np.arange(2001,2021):\n",
    "    stats_dir = Path('/scratch/wmtsai/temp_mcs/mcs_stats/mcs_tracks_non2mcs/tracks_stats_phase/')\n",
    "    ds = xr.open_dataset(stats_dir / 'featstats_tracks_non2mcs_{}.tropics30NS.full.nc'.format(year))\n",
    "    data_list.extend(ds.corr_coeff_temp.values)\n",
    "data = np.asarray(data_list)\n",
    "data = data[~np.isnan(data)]\n",
    "(samples, bins) = np.histogram(data, bins=30)\n",
    "mu, std = norm.fit(samples)\n",
    "# Calculate the CDF using the normal distribution with fitted parameters\n",
    "cdf_values = norm.cdf(np.sort(samples), loc=mu, scale=std)\n",
    "ax.bar(bins[1:], samples/np.sum(samples), width=0.05)\n",
    "ax2 = ax.twinx()\n",
    "ax2.plot(bins[1:], cdf_values)\n",
    "ax.grid(ls=':',lw=0.5)"
   ]
  },
  {
   "cell_type": "code",
   "execution_count": 62,
   "id": "754cc122",
   "metadata": {},
   "outputs": [
    {
     "data": {
      "text/plain": [
       "array([ 22,  45,  39,  49,  81,  86, 116, 103, 105, 123, 131, 124, 115,\n",
       "       157, 147, 152, 184, 149, 173, 193, 203, 213, 208, 230, 245, 261,\n",
       "       244, 226, 212, 137])"
      ]
     },
     "execution_count": 62,
     "metadata": {},
     "output_type": "execute_result"
    }
   ],
   "source": [
    "samples"
   ]
  },
  {
   "cell_type": "code",
   "execution_count": null,
   "id": "4324b3dc",
   "metadata": {},
   "outputs": [],
   "source": []
  }
 ],
 "metadata": {
  "kernelspec": {
   "display_name": "wm_base",
   "language": "python",
   "name": "python3"
  },
  "language_info": {
   "codemirror_mode": {
    "name": "ipython",
    "version": 3
   },
   "file_extension": ".py",
   "mimetype": "text/x-python",
   "name": "python",
   "nbconvert_exporter": "python",
   "pygments_lexer": "ipython3",
   "version": "3.11.4"
  }
 },
 "nbformat": 4,
 "nbformat_minor": 5
}
