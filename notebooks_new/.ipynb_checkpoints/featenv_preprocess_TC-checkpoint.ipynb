{
 "cells": [
  {
   "cell_type": "code",
   "execution_count": 1,
   "id": "6443480e-5d27-450a-a38d-acef0346d1db",
   "metadata": {
    "tags": []
   },
   "outputs": [],
   "source": [
    "import os\n",
    "import sys\n",
    "import xarray as xr\n",
    "import numpy as np\n",
    "import matplotlib\n",
    "import pandas as pd\n",
    "from matplotlib import pyplot as plt\n",
    "from datetime import datetime\n",
    "from pathlib import Path\n",
    "import cartopy.crs as ccrs\n",
    "import warnings"
   ]
  },
  {
   "cell_type": "code",
   "execution_count": 2,
   "id": "97bf18c2-42f6-4bde-8736-550e40505e6f",
   "metadata": {
    "tags": []
   },
   "outputs": [],
   "source": [
    "warnings.filterwarnings('ignore')"
   ]
  },
  {
   "cell_type": "code",
   "execution_count": 3,
   "id": "38357691-9a9a-40e0-8605-834e4ce1095d",
   "metadata": {
    "tags": []
   },
   "outputs": [],
   "source": [
    "TC_dir = Path('/neelin2020/TempestExtremes/TC')"
   ]
  },
  {
   "cell_type": "code",
   "execution_count": 12,
   "id": "7c85c791-c8e0-4423-b19f-88d9e2b49e81",
   "metadata": {
    "tags": []
   },
   "outputs": [
    {
     "name": "stdout",
     "output_type": "stream",
     "text": [
      "CPU times: user 39.3 s, sys: 16.7 ms, total: 39.3 s\n",
      "Wall time: 39.4 s\n"
     ]
    }
   ],
   "source": [
    "%%time\n",
    "TC_file = open(TC_dir / 'ERA5_TC_tracks_20200824.txt', mode='r')\n",
    "var_list = ['x grid point of the centre','y grid point of the centre','longitude','latitude',\n",
    "           'slp','Pressure drop','Maximum Surface Wind','year','month','day','hour']\n",
    "df_list = []\n",
    "with open(TC_dir / 'ERA5_TC_tracks_20200824.txt', 'r') as f:\n",
    "    \n",
    "    lines = f.readlines()\n",
    "    \n",
    "    for n,line in enumerate(lines):\n",
    "\n",
    "        line_current = line.split()\n",
    "        if n <= (len(lines)-2): # (n-1) n means total line number\n",
    "            line_next = lines[n+1].split()\n",
    "\n",
    "        if line_current[0] == 'start': # if a new track starts, showing a header info only\n",
    "            df_track = pd.DataFrame() # reset dataframe for a new track\n",
    "            \n",
    "        else:  # expanding the info of the current track\n",
    "            tmp = pd.DataFrame(data=np.asarray(line_current).reshape(1,11), columns=var_list)\n",
    "            df_track = pd.concat([df_track, tmp])\n",
    "\n",
    "        # end of current track\n",
    "        if line_next[0] == 'start': \n",
    "            \n",
    "            # save df_track into the list as a xarray.dataset\n",
    "            timestamp_list = []\n",
    "            lon_list = []\n",
    "            lat_list = []\n",
    "            sp_list = []\n",
    "            for t in range(len(df_track['year'])):\n",
    "                year = int(df_track.iloc[t].year)\n",
    "                month = int(df_track.iloc[t].month)\n",
    "                day = int(df_track.iloc[t].day)\n",
    "                hour = int(df_track.iloc[t].hour)\n",
    "                timestamp = datetime(year, month, day, hour)\n",
    "                timestamp_list.append(timestamp)\n",
    "                \n",
    "                lon_list.append(float(df_track.iloc[t].longitude))\n",
    "                lat_list.append(float(df_track.iloc[t].latitude))\n",
    "                sp_list.append(float(df_track.iloc[t].slp))\n",
    "            \n",
    "            # create xarray.dataset\n",
    "            ds = xr.Dataset(data_vars = dict(\n",
    "                            meanlon = (['time'], lon_list),\n",
    "                            meanlat = (['time'], lat_list),\n",
    "                            slp = (['time'], sp_list),\n",
    "                            base_time = (['time'], timestamp_list)),\n",
    "                           \n",
    "                            coords= dict(time = (['time'], range(len(timestamp_list)))),\n",
    "                            attrs = dict(description='TempestExtreme TC'))\n",
    "            \n",
    "            df_list.append(ds)\n",
    "\n",
    "        # for the last track\n",
    "        if n == (len(lines)-1): # the last line\n",
    "            \n",
    "            # save df_track into the list as a xarray.dataset\n",
    "            timestamp_list = []\n",
    "            lon_list = []\n",
    "            lat_list = []\n",
    "            sp_list = []\n",
    "            for t in range(len(df_track['year'])):\n",
    "                year = int(df_track.iloc[t].year)\n",
    "                month = int(df_track.iloc[t].month)\n",
    "                day = int(df_track.iloc[t].day)\n",
    "                hour = int(df_track.iloc[t].hour)\n",
    "                timestamp = datetime(year, month, day, hour)\n",
    "                timestamp_list.append(timestamp)\n",
    "                \n",
    "                lon_list.append(float(df_track.iloc[t].longitude))\n",
    "                lat_list.append(float(df_track.iloc[t].latitude))\n",
    "                sp_list.append(float(df_track.iloc[t].slp))                \n",
    "            \n",
    "            # create xarray.dataset\n",
    "            ds = xr.Dataset(data_vars = dict(\n",
    "                            meanlon = (['time'], lon_list),\n",
    "                            meanlat = (['time'], lat_list),\n",
    "                            slp = (['time'], sp_list),\n",
    "                            base_time = (['time'], timestamp_list)),\n",
    "                           \n",
    "                            coords= dict(time = (['time'], range(len(timestamp_list)))),\n",
    "                            attrs = dict(description='TempestExtreme TC tracks',\n",
    "                                         frequency='6 hourly',\n",
    "                                         source='ERA5, 0.25-deg.',\n",
    "                                         ))\n",
    "            \n",
    "            df_list.append(ds)"
   ]
  },
  {
   "cell_type": "code",
   "execution_count": 13,
   "id": "54952b34-5038-4a2b-a7ac-8ff53187378f",
   "metadata": {
    "tags": []
   },
   "outputs": [],
   "source": [
    "# merge all tracks into a single xarray.dataset file \n",
    "ds_TC = xr.concat(df_list, dim=pd.Index(np.arange(len(df_list)), name='tracks'))"
   ]
  },
  {
   "cell_type": "code",
   "execution_count": 14,
   "id": "2ecefb84-b92c-4434-b1e4-e44c4b9bdea4",
   "metadata": {
    "tags": []
   },
   "outputs": [],
   "source": [
    "# extract 2000-2020 to match existing EAR5 data\n",
    "idx_year = np.asarray([str(i)[:4] for i in ds_TC.base_time.isel(time=0).values], dtype='int')\n",
    "idx_select = np.where(np.logical_and(idx_year >= 2001, idx_year <= 2020))[0]\n",
    "ds_TC_20yr = ds_TC.isel(tracks=idx_select)"
   ]
  },
  {
   "cell_type": "code",
   "execution_count": 15,
   "id": "5d8cf295-b6d0-48e9-bfab-2fe1d620ef74",
   "metadata": {
    "tags": []
   },
   "outputs": [],
   "source": [
    "ds_TC_20yr.to_netcdf('/neelin2020/TempestExtremes/TC/ERA5_TC_tracks_2001_2020.nc'\n",
    "                     , encoding={'meanlon': {'dtype': 'float32'}, 'meanlat': {'dtype': 'float32'}})"
   ]
  },
  {
   "cell_type": "code",
   "execution_count": 16,
   "id": "abd64b14-986d-43bb-8a60-e71a2ec921e4",
   "metadata": {
    "tags": []
   },
   "outputs": [],
   "source": [
    "# 2014 TCs\n",
    "idx_select = np.where(idx_year == 2014)[0]\n",
    "ds_TC_2014 = ds_TC.isel(tracks=idx_select)"
   ]
  },
  {
   "cell_type": "code",
   "execution_count": 18,
   "id": "8ca9157b-eca1-47fa-9d89-2069552a41da",
   "metadata": {
    "tags": []
   },
   "outputs": [],
   "source": [
    "ds_TC_2014.to_netcdf('/neelin2020/TempestExtremes/TC/ERA5_TC_tracks_2014.nc'\n",
    "                     , encoding={'meanlon': {'dtype': 'float32'}, 'meanlat': {'dtype': 'float32'}})"
   ]
  },
  {
   "cell_type": "code",
   "execution_count": null,
   "id": "4c93a0d2-14d7-4087-bdf9-b7517b49bc3e",
   "metadata": {},
   "outputs": [],
   "source": []
  }
 ],
 "metadata": {
  "kernelspec": {
   "display_name": "base_kernel",
   "language": "python",
   "name": "base_kernel"
  },
  "language_info": {
   "codemirror_mode": {
    "name": "ipython",
    "version": 3
   },
   "file_extension": ".py",
   "mimetype": "text/x-python",
   "name": "python",
   "nbconvert_exporter": "python",
   "pygments_lexer": "ipython3",
   "version": "3.11.4"
  }
 },
 "nbformat": 4,
 "nbformat_minor": 5
}
