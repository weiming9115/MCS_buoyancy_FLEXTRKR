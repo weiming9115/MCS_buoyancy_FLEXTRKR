{
 "cells": [
  {
   "cell_type": "code",
   "execution_count": 1,
   "id": "43caf0b4-a105-4a0f-918b-1db75cf45259",
   "metadata": {
    "tags": []
   },
   "outputs": [],
   "source": [
    "import os\n",
    "import sys\n",
    "import xarray as xr\n",
    "import numpy as np\n",
    "from numpy import unravel_index\n",
    "import pandas as pd\n",
    "import matplotlib\n",
    "from matplotlib import pyplot as plt\n",
    "from matplotlib.colors import ListedColormap, LinearSegmentedColormap\n",
    "from datetime import datetime\n",
    "from pathlib import Path\n",
    "from matplotlib.lines import Line2D\n",
    "from matplotlib.patches import Patch\n",
    "from matplotlib.patches import Rectangle\n",
    "from matplotlib.patches import FancyArrowPatch\n",
    "\n",
    "import cartopy.crs as ccrs\n",
    "import cartopy.feature as cfeat\n",
    "from cartopy.util import add_cyclic_point\n",
    "from cartopy.mpl.gridliner import LONGITUDE_FORMATTER, LATITUDE_FORMATTER\n",
    "\n",
    "import warnings"
   ]
  },
  {
   "cell_type": "code",
   "execution_count": 2,
   "id": "95bfbd3f-7002-44da-9f0b-22cc116c7e7c",
   "metadata": {
    "tags": []
   },
   "outputs": [],
   "source": [
    "warnings.filterwarnings('ignore')"
   ]
  },
  {
   "cell_type": "code",
   "execution_count": 3,
   "id": "ef9f24cd-c3f2-44d8-a633-b4e1259b1889",
   "metadata": {
    "tags": []
   },
   "outputs": [],
   "source": [
    "# set fonts configuration - Arial\n",
    "matplotlib.rcParams['font.family'] = \"Open Sans\"\n",
    "matplotlib.rcParams['font.sans-serif'] = \"Arial\""
   ]
  },
  {
   "cell_type": "code",
   "execution_count": 26,
   "id": "a5ab6e80-0dee-4ae6-86bb-0dbec437d961",
   "metadata": {
    "tags": []
   },
   "outputs": [],
   "source": [
    "def get_files_landsea(sampling_opt='all'):\n",
    "\n",
    "    \"\"\"\n",
    "    sampling option to filter out MCS tracks by genesis locations: 'all', 'ocean', 'land'\n",
    "    \"\"\"\n",
    "\n",
    "    data = xr.open_dataset('/scratch/wmtsai/temp_mcs/mcs_stats/nonmcs_tracks_samples/nonmcs_tracks_2010.tropics30NS.extend.nc')\n",
    "\n",
    "    idt_nonmcs_init = data.idt_nonmcs_init\n",
    "    landsea_flag = data.landsea_flag.sel(times=idt_nonmcs_init)\n",
    "    if sampling_opt == 'all':\n",
    "        track_sel = data.tracks\n",
    "    elif sampling_opt == 'land':\n",
    "        idx_sel = np.where(landsea_flag == 1)[0]\n",
    "        track_sel = data.isel(tracks=idx_sel).tracks\n",
    "    elif sampling_opt == 'ocean':\n",
    "        idx_sel = np.where(landsea_flag == 0)[0]\n",
    "        track_sel = data.isel(tracks=idx_sel).tracks\n",
    "\n",
    "    files_HCC = []\n",
    "    for track in track_sel.values:\n",
    "        files_HCC.extend(list(nonMCS_dir.glob('nonmcs_era5_3D_envs_2010.{}.LD.nc'.format(str(track).zfill(7)))))\n",
    "        \n",
    "    return files_HCC"
   ]
  },
  {
   "cell_type": "code",
   "execution_count": 31,
   "id": "4b21bf0e-df75-4712-9046-78ca9b9e511a",
   "metadata": {
    "tags": []
   },
   "outputs": [
    {
     "name": "stdout",
     "output_type": "stream",
     "text": [
      "CPU times: user 4min 40s, sys: 7.62 s, total: 4min 47s\n",
      "Wall time: 4min 48s\n"
     ]
    }
   ],
   "source": [
    "%%time\n",
    "# using nonMCS files to create that for simplicity, ocean\n",
    "\n",
    "nonMCS_dir = Path('/scratch/wmtsai/temp_mcs/mcs_stats/envs_track/2010/nonmcs_extend')\n",
    "#files = sorted(list(nonMCS_dir.glob('*.nc')))\n",
    "files = get_files_landsea(sampling_opt='ocean')\n",
    "\n",
    "# bins for BL_CAPE and BL_SUBSAT\n",
    "bins_tot = np.arange(-30,10,0.2)\n",
    "bins_samples = np.zeros((5, len(bins_tot)-1)) # (mcs_phase, BL_tot)\n",
    "prec_gpm_sum = np.copy(bins_samples)\n",
    "prec_era5_sum = np.copy(bins_samples)\n",
    "\n",
    "track_list = []\n",
    "\n",
    "for file in files:\n",
    "    \n",
    "    data = xr.open_dataset(file)\n",
    "    track_list.append(int(file.name[-11:-6])) # save track number\n",
    "\n",
    "    thetae_bl = data.thetae_bl\n",
    "    thetae_lt = data.thetae_lt\n",
    "    thetae_sat_lt = data.thetae_sat_lt\n",
    "    sp = data.SP/100 # hPa\n",
    "\n",
    "    delta_pl=sp-100-400\n",
    "    delta_pb=100\n",
    "    wb=(delta_pb/delta_pl)*np.log((delta_pl+delta_pb)/delta_pb)\n",
    "    wl=1-wb\n",
    "\n",
    "    BL_CAPE = wb*(thetae_bl - thetae_sat_lt)/thetae_sat_lt*340 # (K)\n",
    "    BL_SUBSAT = wl*(thetae_sat_lt - thetae_lt)/thetae_sat_lt*340 # (K)\n",
    "    BL_TOT = BL_CAPE - BL_SUBSAT  # (K)\n",
    "    \n",
    "    prec_gpm = data.precipitationCal # (mm/hr)\n",
    "    prec_era5 = data.mtpr #(mm/hr)\n",
    "\n",
    "    for p, phase in enumerate([\"Init\", \"Grow\", \"Mature\", \"Decay\", \"End\"]):\n",
    "\n",
    "        # ===== for all grids within the 10-deg box ======\n",
    "        BL_TOT_phase = BL_TOT.sel(mcs_phase=phase) # ((thetae_bl-thetae_sat_lt)/thetae_sat_lt*340)\n",
    "        prec_gpm_phase = prec_gpm.sel(mcs_phase=phase)\n",
    "        prec_era5_phase = prec_era5.sel(mcs_phase=phase)\n",
    "\n",
    "        # get 1-D BL values associated with MCS\n",
    "        BL_1d = BL_TOT_phase.values.ravel()\n",
    "        prec_gpm_1d = prec_gpm_phase.values.ravel()\n",
    "        prec_era5_1d = prec_era5_phase.values.ravel()\n",
    "\n",
    "        for n,BL_val in enumerate(BL_1d[~np.isnan(BL_1d)]):\n",
    "            idx = np.argmin(abs(BL_val - bins_tot))\n",
    "            try:\n",
    "                bins_samples[p,idx] += 1\n",
    "                prec_gpm_sum[p,idx] += prec_gpm_1d[~np.isnan(BL_1d)][n]\n",
    "                prec_era5_sum[p,idx] += prec_era5_1d[~np.isnan(BL_1d)][n]\n",
    "            except:\n",
    "                continue\n",
    "\n",
    "# save into a dataset\n",
    "ds_bins = xr.Dataset(data_vars = dict(samples = (['phase','bins_tot'], bins_samples),\n",
    "                                      prec_gpm_sum = (['phase','bins_tot'], prec_gpm_sum),\n",
    "                                      prec_era5_sum = (['phase','bins_tot'], prec_era5_sum)),\n",
    "         coords = dict(tracks = np.arange(n),\n",
    "                       phase = (['phase'], ['Initial', 'Grow', 'Mature', 'Decay', 'End']),\n",
    "                       bins_tot = (['bins_tot'], bins_tot[:-1])),\n",
    "         attrs = dict(description = 'cape-subsat histogram. all grids, unconditional from 2010 non-MCS tracks',\n",
    "                      surface_type = 'ocean'))"
   ]
  },
  {
   "cell_type": "code",
   "execution_count": 32,
   "id": "d6d5459c-ec44-402c-a907-46449bc8bec8",
   "metadata": {
    "tags": []
   },
   "outputs": [],
   "source": [
    "ds_bins.to_netcdf('/scratch/wmtsai/temp_mcs/output_stats/BLtot_precip_hist/hist1d_BL_climatology.ocean.nc')"
   ]
  },
  {
   "cell_type": "code",
   "execution_count": 33,
   "id": "9f3535a1-ee90-4de2-b57a-d3de9ac5cc84",
   "metadata": {
    "tags": []
   },
   "outputs": [
    {
     "name": "stdout",
     "output_type": "stream",
     "text": [
      "CPU times: user 4min 2s, sys: 6.68 s, total: 4min 8s\n",
      "Wall time: 4min 9s\n"
     ]
    }
   ],
   "source": [
    "%%time\n",
    "# using nonMCS files to create that for simplicity, land\n",
    "\n",
    "nonMCS_dir = Path('/scratch/wmtsai/temp_mcs/mcs_stats/envs_track/2010/nonmcs_extend')\n",
    "#files = sorted(list(nonMCS_dir.glob('*.nc')))\n",
    "files = get_files_landsea(sampling_opt='land')\n",
    "\n",
    "# bins for BL_CAPE and BL_SUBSAT\n",
    "bins_tot = np.arange(-30,10,0.2)\n",
    "bins_samples = np.zeros((5, len(bins_tot)-1)) # (mcs_phase, BL_tot)\n",
    "prec_gpm_sum = np.copy(bins_samples)\n",
    "prec_era5_sum = np.copy(bins_samples)\n",
    "\n",
    "track_list = []\n",
    "\n",
    "for file in files:\n",
    "    \n",
    "    data = xr.open_dataset(file)\n",
    "    track_list.append(int(file.name[-11:-6])) # save track number\n",
    "\n",
    "    thetae_bl = data.thetae_bl\n",
    "    thetae_lt = data.thetae_lt\n",
    "    thetae_sat_lt = data.thetae_sat_lt\n",
    "    sp = data.SP/100 # hPa\n",
    "\n",
    "    delta_pl=sp-100-400\n",
    "    delta_pb=100\n",
    "    wb=(delta_pb/delta_pl)*np.log((delta_pl+delta_pb)/delta_pb)\n",
    "    wl=1-wb\n",
    "\n",
    "    BL_CAPE = wb*(thetae_bl - thetae_sat_lt)/thetae_sat_lt*340 # (K)\n",
    "    BL_SUBSAT = wl*(thetae_sat_lt - thetae_lt)/thetae_sat_lt*340 # (K)\n",
    "    BL_TOT = BL_CAPE - BL_SUBSAT  # (K)\n",
    "    \n",
    "    prec_gpm = data.precipitationCal # (mm/hr)\n",
    "    prec_era5 = data.mtpr #(mm/hr)\n",
    "\n",
    "    for p, phase in enumerate([\"Init\", \"Grow\", \"Mature\", \"Decay\", \"End\"]):\n",
    "\n",
    "        # ===== for all grids within the 10-deg box ======\n",
    "        BL_TOT_phase = BL_TOT.sel(mcs_phase=phase) # ((thetae_bl-thetae_sat_lt)/thetae_sat_lt*340)\n",
    "        prec_gpm_phase = prec_gpm.sel(mcs_phase=phase)\n",
    "        prec_era5_phase = prec_era5.sel(mcs_phase=phase)\n",
    "\n",
    "        # get 1-D BL values associated with MCS\n",
    "        BL_1d = BL_TOT_phase.values.ravel()\n",
    "        prec_gpm_1d = prec_gpm_phase.values.ravel()\n",
    "        prec_era5_1d = prec_era5_phase.values.ravel()\n",
    "\n",
    "        for n,BL_val in enumerate(BL_1d[~np.isnan(BL_1d)]):\n",
    "            idx = np.argmin(abs(BL_val - bins_tot))\n",
    "            try:\n",
    "                bins_samples[p,idx] += 1\n",
    "                prec_gpm_sum[p,idx] += prec_gpm_1d[~np.isnan(BL_1d)][n]\n",
    "                prec_era5_sum[p,idx] += prec_era5_1d[~np.isnan(BL_1d)][n]\n",
    "            except:\n",
    "                continue\n",
    "\n",
    "# save into a dataset\n",
    "ds_bins = xr.Dataset(data_vars = dict(samples = (['phase','bins_tot'], bins_samples),\n",
    "                                      prec_gpm_sum = (['phase','bins_tot'], prec_gpm_sum),\n",
    "                                      prec_era5_sum = (['phase','bins_tot'], prec_era5_sum)),\n",
    "         coords = dict(tracks = np.arange(n),\n",
    "                       phase = (['phase'], ['Initial', 'Grow', 'Mature', 'Decay', 'End']),\n",
    "                       bins_tot = (['bins_tot'], bins_tot[:-1])),\n",
    "         attrs = dict(description = 'cape-subsat histogram. all grids, unconditional from 2010 non-MCS tracks',\n",
    "                      surface_type = 'land'))"
   ]
  },
  {
   "cell_type": "code",
   "execution_count": 35,
   "id": "3db016d9-8ac2-4fd9-8734-e9b158183355",
   "metadata": {
    "tags": []
   },
   "outputs": [],
   "source": [
    "ds_bins.to_netcdf('/scratch/wmtsai/temp_mcs/output_stats/BLtot_precip_hist/hist1d_BL_climatology.land.nc')"
   ]
  },
  {
   "cell_type": "code",
   "execution_count": null,
   "id": "b124e32d-df41-4806-b901-6484ee0aece7",
   "metadata": {},
   "outputs": [],
   "source": []
  },
  {
   "cell_type": "code",
   "execution_count": 37,
   "id": "25ea3647-2a9a-48d2-b335-4c7e0d64b836",
   "metadata": {
    "tags": []
   },
   "outputs": [
    {
     "data": {
      "text/plain": [
       "[<matplotlib.lines.Line2D at 0x7fce48c61a90>]"
      ]
     },
     "execution_count": 37,
     "metadata": {},
     "output_type": "execute_result"
    },
    {
     "data": {
      "image/png": "[encoded data removed]",
      "text/plain": [
       "<Figure size 640x480 with 1 Axes>"
      ]
     },
     "metadata": {},
     "output_type": "display_data"
    }
   ],
   "source": [
    "(ds_bins.sum('phase').prec_gpm_sum/ds_bins.sum('phase').samples).plot()"
   ]
  },
  {
   "cell_type": "code",
   "execution_count": null,
   "id": "51e3b435-750c-4547-9e9b-8aa05d0dc9d4",
   "metadata": {},
   "outputs": [],
   "source": []
  }
 ],
 "metadata": {
  "kernelspec": {
   "display_name": "Python 3 (ipykernel)",
   "language": "python",
   "name": "python3"
  },
  "language_info": {
   "codemirror_mode": {
    "name": "ipython",
    "version": 3
   },
   "file_extension": ".py",
   "mimetype": "text/x-python",
   "name": "python",
   "nbconvert_exporter": "python",
   "pygments_lexer": "ipython3",
   "version": "3.9.17"
  }
 },
 "nbformat": 4,
 "nbformat_minor": 5
}
