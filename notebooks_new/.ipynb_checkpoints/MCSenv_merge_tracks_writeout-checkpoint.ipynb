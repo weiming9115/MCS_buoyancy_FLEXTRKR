{
 "cells": [
  {
   "cell_type": "code",
   "execution_count": null,
   "id": "088b721c-97b9-4040-9407-c35da4ff7372",
   "metadata": {
    "tags": []
   },
   "outputs": [],
   "source": [
    "import os\n",
    "import sys\n",
    "import xarray as xr\n",
    "import numpy as np\n",
    "import matplotlib\n",
    "import pandas as pd\n",
    "from matplotlib import pyplot as plt\n",
    "from datetime import datetime\n",
    "from pathlib import Path\n",
    "import cartopy.crs as ccrs\n",
    "import warnings"
   ]
  },
  {
   "cell_type": "code",
   "execution_count": null,
   "id": "e1bf1635-3c78-4799-86c0-fac1e2964f85",
   "metadata": {
    "tags": []
   },
   "outputs": [],
   "source": [
    "warnings.filterwarnings('ignore')"
   ]
  },
  {
   "cell_type": "code",
   "execution_count": null,
   "id": "0a0c8d26-6917-48b1-9146-65becbd48dc3",
   "metadata": {
    "tags": []
   },
   "outputs": [],
   "source": [
    "mcs_dir = Path('/scratch/wmtsai/temp_mcs/mcs_stats/envs_track/2001/')\n",
    "mcsenv_dir = Path('/scratch/wmtsai/temp_mcs/mcs_stats/envs_track/2001/tropics_extend/')"
   ]
  },
  {
   "cell_type": "code",
   "execution_count": null,
   "id": "a94fc45a-c761-47a0-947f-fe70a1d38034",
   "metadata": {
    "tags": []
   },
   "outputs": [],
   "source": [
    "%%time\n",
    "files = sorted(list(mcsenv_dir.glob('*.nc')))\n",
    "track_list = []\n",
    "for file in files:\n",
    "    track_list.extend([int(str(file.name)[-11:-6])])\n",
    "print('total number of tracks: {}'.format(len(track_list)))\n",
    "        \n",
    "ds_merged = []\n",
    "for n,file in enumerate(files):\n",
    "    tmp = xr.open_dataset(file)\n",
    "    ds_merged.append(tmp)\n",
    "ds_merged_xr = xr.concat(ds_merged, dim=pd.Index(track_list, name='tracks'))"
   ]
  },
  {
   "cell_type": "code",
   "execution_count": null,
   "id": "97e821d7-a88a-4c9c-a9da-af7d74e4390d",
   "metadata": {
    "tags": []
   },
   "outputs": [],
   "source": [
    "ds_merged_xr.to_netcdf('/scratch/wmtsai/temp_mcs/mcs_stats/envs_track/2001/mcs_era5_3D_envs_2001.merged.nc')"
   ]
  },
  {
   "cell_type": "code",
   "execution_count": null,
   "id": "e263bc59-a1e7-4d85-bd42-82e9d7742742",
   "metadata": {
    "tags": []
   },
   "outputs": [],
   "source": [
    "data = xr.open_dataset(mcs_dir / 'mcs_era5_3D_envs_2001.merged.nc')"
   ]
  },
  {
   "cell_type": "code",
   "execution_count": null,
   "id": "75c5032f-96a6-4cfb-8b8a-f98f3b57561c",
   "metadata": {
    "tags": []
   },
   "outputs": [],
   "source": []
  },
  {
   "cell_type": "code",
   "execution_count": null,
   "id": "732ff38c-fa40-4b3e-a02c-32037af9c9b8",
   "metadata": {},
   "outputs": [],
   "source": []
  }
 ],
 "metadata": {
  "kernelspec": {
   "display_name": "base_kernel",
   "language": "python",
   "name": "base_kernel"
  },
  "language_info": {
   "codemirror_mode": {
    "name": "ipython",
    "version": 3
   },
   "file_extension": ".py",
   "mimetype": "text/x-python",
   "name": "python",
   "nbconvert_exporter": "python",
   "pygments_lexer": "ipython3",
   "version": "3.11.4"
  }
 },
 "nbformat": 4,
 "nbformat_minor": 5
}
