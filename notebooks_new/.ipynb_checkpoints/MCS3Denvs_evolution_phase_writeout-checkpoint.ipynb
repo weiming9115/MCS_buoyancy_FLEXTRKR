{
 "cells": [
  {
   "cell_type": "code",
   "execution_count": 1,
   "id": "99d609dc-f1fd-464d-a53c-e582ac00ba22",
   "metadata": {
    "tags": []
   },
   "outputs": [],
   "source": [
    "import os\n",
    "import sys\n",
    "import xarray as xr\n",
    "import numpy as np\n",
    "import pandas as pd\n",
    "import matplotlib\n",
    "from matplotlib import pyplot as plt\n",
    "from matplotlib.colors import ListedColormap, LinearSegmentedColormap\n",
    "from datetime import datetime\n",
    "from pathlib import Path\n",
    "\n",
    "import cartopy.crs as ccrs\n",
    "import cartopy.feature as cfeat\n",
    "from cartopy.util import add_cyclic_point\n",
    "from cartopy.mpl.gridliner import LONGITUDE_FORMATTER, LATITUDE_FORMATTER\n",
    "\n",
    "import warnings"
   ]
  },
  {
   "cell_type": "code",
   "execution_count": 2,
   "id": "6847dc29-c013-4fc0-8de4-ae7c0e162814",
   "metadata": {
    "tags": []
   },
   "outputs": [],
   "source": [
    "warnings.filterwarnings('ignore')"
   ]
  },
  {
   "cell_type": "code",
   "execution_count": 3,
   "id": "0a509931-676c-4aeb-943d-8c5d973a58d3",
   "metadata": {
    "tags": []
   },
   "outputs": [],
   "source": [
    "def get_files_HCC(year, corr_temp_cri, corr_space_cri):\n",
    "    \n",
    "    data = xr.open_dataset(featstats_dir / 'featstats_tracks_non2mcs_{}.tropics30NS.extend.nc'.format(year))\n",
    "\n",
    "    corr_coeff_temp = data.corr_coeff_temp\n",
    "    corr_coeff_space = data.corr_coeff_space.mean('mcs_phase')\n",
    "\n",
    "    cond_1 = corr_coeff_temp > corr_temp_cri\n",
    "    cond_2 = corr_coeff_space > corr_space_cri\n",
    "    track_sel = data.isel(tracks=np.where(cond_1 & cond_2)[0]).tracks\n",
    "\n",
    "    files_HCC = []\n",
    "    for track in track_sel.values:\n",
    "        files_HCC.extend(sorted(list(dir_envs_track.glob('mcs_era5_3D_envs_{}.{}.LD.nc'.format(year\n",
    "                                                                    , str(track).zfill(5))))))\n",
    "    return files_HCC"
   ]
  },
  {
   "cell_type": "code",
   "execution_count": 4,
   "id": "2caf4a79-8a7d-4f3c-8fc0-ccc88710b8ee",
   "metadata": {
    "tags": []
   },
   "outputs": [],
   "source": [
    "def get_files_duration(year, duration_min, duration_max):\n",
    "\n",
    "    data = xr.open_dataset(featstats_dir / 'featstats_tracks_non2mcs_{}.tropics30NS.extend.nc'.format(year))\n",
    "\n",
    "    mcs_duration = data.mcs_duration\n",
    "\n",
    "    cond_1 = mcs_duration >= duration_min\n",
    "    cond_2 = mcs_duration < duration_max\n",
    "    track_sel = data.isel(tracks=np.where(cond_1 & cond_2)[0]).tracks\n",
    "\n",
    "    files_HCC = []\n",
    "    for track in track_sel.values:\n",
    "        files_HCC.extend(sorted(list(dir_envs_track.glob('mcs_era5_3D_envs_{}.{}.LD.nc'.format(year\n",
    "                                                                    , str(track).zfill(5))))))\n",
    "    return files_HCC"
   ]
  },
  {
   "cell_type": "code",
   "execution_count": 5,
   "id": "65749a2d-1e59-4373-876a-3810247e8c22",
   "metadata": {
    "tags": []
   },
   "outputs": [],
   "source": [
    "def get_files_landsea(year, sampling_opt='all'):\n",
    "\n",
    "    \"\"\"\n",
    "    sampling option to filter out MCS tracks by genesis locations: 'all', 'ocean', 'land'\n",
    "    \"\"\"\n",
    "\n",
    "    data = xr.open_dataset(mcs_dir / 'mcs_tracks_non2mcs_{}.tropics30NS.extend.nc'.format(year))\n",
    "\n",
    "    idt_mcs_init = data.idt_mcs_init\n",
    "    landsea_flag = data.landsea_flag.sel(times=idt_mcs_init)\n",
    "    if sampling_opt == 'all':\n",
    "        track_sel = data.tracks\n",
    "    elif sampling_opt == 'land':\n",
    "        idx_sel = np.where(landsea_flag == 1)[0]\n",
    "        track_sel = data.isel(tracks=idx_sel).tracks\n",
    "    elif sampling_opt == 'ocean':\n",
    "        idx_sel = np.where(landsea_flag == 0)[0]\n",
    "        track_sel = data.isel(tracks=idx_sel).tracks\n",
    "\n",
    "    files_HCC = []\n",
    "    for track in track_sel.values:\n",
    "        files_HCC.extend(sorted(list(dir_envs_track.glob('mcs_era5_3D_envs_{}.{}.LD.nc'.format(year\n",
    "                                                                    , str(track).zfill(5))))))\n",
    "    return files_HCC"
   ]
  },
  {
   "cell_type": "code",
   "execution_count": 6,
   "id": "ba98fd41-8899-4565-9502-25cdc21a5d33",
   "metadata": {
    "tags": []
   },
   "outputs": [],
   "source": [
    "def vars_mcs_env(fid_envs_track):\n",
    "    \"\"\"\n",
    "    input: processed envs_track file containing MCS feature mask and 2D/3D variables on ERA-5 coordinates\n",
    "    return: spatial averaged of variables associated with MCS/non-MCS grids (mcs/env)\n",
    "    \"\"\"\n",
    "\n",
    "    data = xr.open_dataset(fid_envs_track) # get selected variables\n",
    "    # BL associated with mcs / non-mcs grids\n",
    "    mcs_mask = data.cloudtracknumber_nomergesplit # binary mask\n",
    "    data_mcs = data.where(mcs_mask > 0).mean(('x','y'))\n",
    "    data_env = data.where(mcs_mask == 0).mean(('x','y'))\n",
    "    data_5deg = data.sel(x=slice(10,30),y=slice(10,30)).mean(('x','y'))\n",
    "    data_3deg = data.sel(x=slice(14,26),y=slice(14,26)).mean(('x','y'))\n",
    "    \n",
    "    data_merged = xr.concat([data_mcs, data_env, data_5deg, data_3deg], pd.Index(['mcs_mean','nonmcs_mean','5deg_mean','3deg_mean'],name='area_type'))\n",
    "\n",
    "    return data_merged"
   ]
  },
  {
   "cell_type": "code",
   "execution_count": null,
   "id": "71c0c2a1-e45e-470a-8319-2423ba9003a8",
   "metadata": {
    "tags": []
   },
   "outputs": [],
   "source": [
    "%%time\n",
    "# separate by mcs duration groups\n",
    "\n",
    "year_list = np.arange(2001,2021)\n",
    "\n",
    "########  parameters for filtering MCS tracks  ########\n",
    "corr_temp_cri = -999. # temporal correlation between the mean values of ERA-5 and GPM precip during the evolution\n",
    "corr_space_cri = -999. # mean spatial correlation between ERA-5 and GPM precip. 2-D maps during the evolution\n",
    "sampling_opt = 'land' # MCS geolocation: 'all','ocean','land'\n",
    "######################################################33\n",
    "\n",
    "print('corre_temp_cri: {}'.format(corr_temp_cri))\n",
    "print('corre_space_cri: {}'.format(corr_space_cri))\n",
    "print('sampling_opt: {}'.format(sampling_opt))\n",
    "\n",
    "mcs_dir = Path('/scratch/wmtsai/temp_mcs/mcs_stats/mcs_tracks_non2mcs/')\n",
    "featstats_dir = Path('/scratch/wmtsai/temp_mcs/mcs_stats/mcs_tracks_non2mcs/tracks_area_mean/')\n",
    "\n",
    "vars_dtype_merged = []\n",
    "for (dmin, dmax, duration_type) in zip([5,6,12,18,24],[6,12,18,24,200],\n",
    "                                       ['SL','ML','LL','UL','UUL']):\n",
    "    files_multiyr = []\n",
    "    for year in year_list:\n",
    "        \n",
    "        dir_envs_track = Path('/scratch/wmtsai/temp_mcs/mcs_stats/envs_track/{}/tropics_extend/'.format(year))\n",
    "        # selecting files\n",
    "        # 1. filtered by spatial-temporal precipitation coherency between ERA-5 and GPM\n",
    "        files_HCC = get_files_HCC(year, corr_temp_cri, corr_space_cri)\n",
    "        # 2. filtered by genesis location: 'all','ocean','land'\n",
    "        files_geoloc = get_files_landsea(year, sampling_opt)\n",
    "        # 3. grouping by MCS duration\n",
    "        files_duration = get_files_duration(year, duration_min=dmin, duration_max=dmax)\n",
    "\n",
    "        files_tmp = list(set(files_HCC).intersection(files_duration))\n",
    "        files_comb = list(set(files_tmp).intersection(files_geoloc))\n",
    "        \n",
    "        files_multiyr.extend(files_comb)\n",
    "        \n",
    "    print('number of selected tracks during {}-{}: {}'.format(year_list[0],year_list[-1],len(files_multiyr)))\n",
    "    \n",
    "    data_tracks = []\n",
    "    for file in files_multiyr:\n",
    "        data_out = vars_mcs_env(file)\n",
    "        data_tracks.append(data_out)\n",
    "    data_tracks_xr = xr.concat(data_tracks, pd.Index(np.arange(len(files_multiyr)), name='total_tracks'))\n",
    "    data_tracks_xr = data_tracks_xr.assign_attrs(description='MCSs during {}-{}'.format(year_list[0], year_list[-1]),\n",
    "                                                 surface_type='{}'.format(sampling_opt),\n",
    "                                                 duration_min= '{} hours'.format(dmin),\n",
    "                                                 duration_max= '{} hours'.format(dmax))\n",
    "    \n",
    "    # placeholder for all duration types\n",
    "    vars_dtype_merged.append(data_tracks_xr)"
   ]
  },
  {
   "cell_type": "code",
   "execution_count": null,
   "id": "09cd0c0e-850e-44e7-a26b-e0ebd50b8710",
   "metadata": {
    "tags": []
   },
   "outputs": [],
   "source": [
    "out_dir = Path('/scratch/wmtsai/temp_mcs/output_stats/vars_env_durations')\n",
    "for n, dtype_string in enumerate(['SL','ML','LL','UL','UUL']):\n",
    "    \n",
    "    data = vars_dtype_merged[n]\n",
    "    data.to_netcdf(out_dir / 'envs_MCS_phase_duration.{}.{}.{}.{}.nc'.format(dtype_string,sampling_opt,\n",
    "                                                                          year_list[0], year_list[-1]))"
   ]
  },
  {
   "cell_type": "markdown",
   "id": "13c63b60-77cc-4404-b087-9a959afee144",
   "metadata": {},
   "source": [
    "#### extract featstats datasets"
   ]
  },
  {
   "cell_type": "code",
   "execution_count": null,
   "id": "01402820-505b-4f5f-a4a4-29471c2120f7",
   "metadata": {
    "tags": []
   },
   "outputs": [],
   "source": [
    "%%time\n",
    "# separate by mcs duration groups\n",
    "\n",
    "year_list = np.arange(2001,2021)\n",
    "\n",
    "########  parameters for filtering MCS tracks  ########\n",
    "corr_temp_cri = -999. # temporal correlation between the mean values of ERA-5 and GPM precip during the evolution\n",
    "corr_space_cri = -999. # mean spatial correlation between ERA-5 and GPM precip. 2-D maps during the evolution\n",
    "sampling_opt = 'land' # MCS geolocation: 'all','ocean','land'\n",
    "######################################################33\n",
    "\n",
    "print('corre_temp_cri: {}'.format(corr_temp_cri))\n",
    "print('corre_space_cri: {}'.format(corr_space_cri))\n",
    "print('sampling_opt: {}'.format(sampling_opt))\n",
    "\n",
    "mcs_dir = Path('/scratch/wmtsai/temp_mcs/mcs_stats/mcs_tracks_non2mcs/')\n",
    "featstats_dir = Path('/scratch/wmtsai/temp_mcs/mcs_stats/mcs_tracks_non2mcs/tracks_area_mean/')\n",
    "\n",
    "vars_dtype_merged = []\n",
    "for (dmin, dmax, duration_type) in zip([5,6,12,18,24],[6,12,18,24,72],\n",
    "                                       ['SL','ML','LL','UL','UUL']):\n",
    "    \n",
    "    data_tracks_multiyr = []\n",
    "    for year in year_list:\n",
    "        \n",
    "        dir_envs_track = Path('/scratch/wmtsai/temp_mcs/mcs_stats/envs_track/{}/tropics_extend'.format(year))\n",
    "        # selecting files\n",
    "        # 1. filtered by spatial-temporal precipitation coherency between ERA-5 and GPM\n",
    "        files_HCC = get_files_HCC(year, corr_temp_cri, corr_space_cri)\n",
    "        # 2. filtered by genesis location: 'all','ocean','land'\n",
    "        files_geoloc = get_files_landsea(year, sampling_opt)\n",
    "        # 3. grouping by MCS duration\n",
    "        files_duration = get_files_duration(year, duration_min=dmin, duration_max=dmax)\n",
    "\n",
    "        files_tmp = list(set(files_HCC).intersection(files_duration))\n",
    "        files_comb = list(set(files_tmp).intersection(files_geoloc))\n",
    "        \n",
    "        # create a list of selected tracks in the specified year\n",
    "        track_list = []\n",
    "        for file in files_comb:\n",
    "            track_list.extend([int(file.name[-11:-6])])\n",
    "        \n",
    "        data_feat_track = xr.open_dataset(featstats_dir / 'featstats_tracks_non2mcs_{}.tropics30NS.extend.nc'.format(year))\n",
    "        data_feat_sel = data_feat_track.sel(tracks=track_list).compute()\n",
    "                               \n",
    "        for track in data_feat_sel.tracks.values:\n",
    "            data_out = data_feat_sel.sel(tracks=track).drop('tracks') #(rel_times)     \n",
    "            data_tracks_multiyr.append(data_out)\n",
    "                               \n",
    "    data_tracks_xr = xr.concat(data_tracks_multiyr, pd.Index(np.arange(len(data_tracks_multiyr)), name='total_tracks'))\n",
    "    data_tracks_xr = data_tracks_xr.assign_attrs(description='MCSs during {}-{}'.format(year_list[0], year_list[-1]),\n",
    "                                                 surface_type='{}'.format(sampling_opt),\n",
    "                                                 duration_min= '{} hours'.format(dmin),\n",
    "                                                 duration_max= '{} hours'.format(dmax))    \n",
    "        \n",
    "    print('number of selected tracks during {}-{}: {}'.format(year_list[0],year_list[-1],len(data_tracks_multiyr)))\n",
    "                               \n",
    "    out_dir = Path('/scratch/wmtsai/temp_mcs/output_stats/vars_env_durations')\n",
    "    data_tracks_xr.to_netcdf(out_dir / 'featstats_MCS_phase_duration.{}.{}.{}.{}.nc'.format(duration_type,sampling_opt,\n",
    "                                                                          year_list[0], year_list[-1]))"
   ]
  },
  {
   "cell_type": "markdown",
   "id": "10c03472-775f-4179-a1f1-8f225ac4c51c",
   "metadata": {},
   "source": [
    "#### extract non2MCS tracks from PNNL's datasets"
   ]
  },
  {
   "cell_type": "code",
   "execution_count": 7,
   "id": "1dfb32bd-c862-4526-a365-fe9f4322ca7f",
   "metadata": {
    "tags": []
   },
   "outputs": [
    {
     "name": "stdout",
     "output_type": "stream",
     "text": [
      "corre_temp_cri: -999\n",
      "corre_space_cri: -999\n",
      "sampling_opt: ocean\n",
      "number of selected tracks during 2001-2020: 7286\n",
      "number of selected tracks during 2001-2020: 7786\n",
      "CPU times: user 5h 21min 34s, sys: 1min 3s, total: 5h 22min 37s\n",
      "Wall time: 5h 27min 38s\n"
     ]
    }
   ],
   "source": [
    "%%time\n",
    "# separate by mcs duration groups\n",
    "\n",
    "year_list = np.arange(2001,2021)\n",
    "\n",
    "########  parameters for filtering MCS tracks  ########\n",
    "corr_temp_cri = -999 # temporal correlation between the mean values of ERA-5 and GPM precip during the evolution\n",
    "corr_space_cri = -999 # mean spatial correlation between ERA-5 and GPM precip. 2-D maps during the evolution\n",
    "sampling_opt = 'ocean' # MCS geolocation: 'all','ocean','land'\n",
    "######################################################33\n",
    "\n",
    "print('corre_temp_cri: {}'.format(corr_temp_cri))\n",
    "print('corre_space_cri: {}'.format(corr_space_cri))\n",
    "print('sampling_opt: {}'.format(sampling_opt))\n",
    "\n",
    "mcs_dir = Path('/scratch/wmtsai/temp_mcs/mcs_stats/mcs_tracks_non2mcs/')\n",
    "featstats_dir = Path('/scratch/wmtsai/temp_mcs/mcs_stats/mcs_tracks_non2mcs/tracks_area_mean/')\n",
    "env_pnnl_dir = Path('/neelin2020/mcs_flextrkr/era5_envs/')\n",
    "\n",
    "vars_dtype_merged = []\n",
    "for (dmin, dmax, duration_type) in zip([18,24],[24,200],\n",
    "                                       ['UL','UUL']):\n",
    "    \n",
    "    data_tracks_multiyr = []\n",
    "    for year in year_list:\n",
    "        \n",
    "        dir_envs_track = Path('/scratch/wmtsai/temp_mcs/mcs_stats/envs_track/{}/tropics_extend'.format(year))\n",
    "        # selecting files\n",
    "        # 1. filtered by spatial-temporal precipitation coherency between ERA-5 and GPM\n",
    "        files_HCC = get_files_HCC(year, corr_temp_cri, corr_space_cri)\n",
    "        # 2. filtered by genesis location: 'all','ocean','land'\n",
    "        files_geoloc = get_files_landsea(year, sampling_opt)\n",
    "        # 3. grouping by MCS duration\n",
    "        files_duration = get_files_duration(year, duration_min=dmin, duration_max=dmax)\n",
    "\n",
    "        files_tmp = list(set(files_HCC).intersection(files_duration))\n",
    "        files_comb = list(set(files_tmp).intersection(files_geoloc))\n",
    "        \n",
    "        # create a list of selected tracks in the specified year\n",
    "        track_list = []\n",
    "        for file in files_comb:\n",
    "            track_list.extend([int(file.name[-11:-6])])\n",
    "        \n",
    "        data_env_track = xr.open_dataset(env_pnnl_dir / 'mcs_era5_mean_envs_{}0101.0000_{}0101.0000.nc'.format(year,year+1))\n",
    "        data_non2mcs = xr.open_dataset(mcs_dir / 'mcs_tracks_non2mcs_{}.tropics30NS.extend.nc'.format(year))\n",
    "        data_env_sel = data_env_track.sel(tracks=track_list).compute()\n",
    "        data_non2mcs_sel = data_non2mcs.sel(tracks=track_list).compute()\n",
    "                               \n",
    "        for track in data_env_sel.tracks.values:\n",
    "            data_out = data_env_sel.sel(tracks=track).drop('tracks') #(rel_times)\n",
    "            phase_list = [\n",
    "                  data_non2mcs_sel.sel(tracks=track).idt_ccs_init.values,\n",
    "                  data_non2mcs_sel.sel(tracks=track).idt_mcs_init.values,\n",
    "                  data_non2mcs_sel.sel(tracks=track).idt_mcs_grow.values,\n",
    "                  data_non2mcs_sel.sel(tracks=track).idt_mcs_mature.values,\n",
    "                  data_non2mcs_sel.sel(tracks=track).idt_mcs_decay.values,\n",
    "                  data_non2mcs_sel.sel(tracks=track).idt_mcs_end.values] \n",
    "            # get values at mcs phases\n",
    "            data_phase = data_out.sel(rel_times=phase_list)\n",
    "            # replace \"rel_times\" by mcs_phase corresponding to the common standard\n",
    "            data_phase['rel_times'] = ['CCS','Init','Grow','Mature','Decay','End']\n",
    "            data_phase = data_phase.rename({'rel_times':'mcs_phase'})            \n",
    "            data_tracks_multiyr.append(data_phase)\n",
    "                               \n",
    "    data_tracks_xr = xr.concat(data_tracks_multiyr, pd.Index(np.arange(len(data_tracks_multiyr)), name='total_tracks'))\n",
    "    data_tracks_xr = data_tracks_xr.assign_attrs(description='MCSs during {}-{}'.format(year_list[0], year_list[-1]),\n",
    "                                                 surface_type='{}'.format(sampling_opt),\n",
    "                                                 duration_min= '{} hours'.format(dmin),\n",
    "                                                 duration_max= '{} hours'.format(dmax))    \n",
    "        \n",
    "    print('number of selected tracks during {}-{}: {}'.format(year_list[0],year_list[-1],len(data_tracks_multiyr)))\n",
    "                               \n",
    "    out_dir = Path('/scratch/wmtsai/temp_mcs/output_stats/vars_env_durations')\n",
    "    data_tracks_xr.to_netcdf(out_dir / 'envsPNNL_MCS_phase_duration.{}.{}.{}.{}.nc'.format(duration_type,sampling_opt,\n",
    "                                                                          year_list[0], year_list[-1]))"
   ]
  },
  {
   "cell_type": "code",
   "execution_count": null,
   "id": "df5fd4c9-41f0-4444-920d-8917d97d5f74",
   "metadata": {},
   "outputs": [],
   "source": []
  },
  {
   "cell_type": "code",
   "execution_count": null,
   "id": "3ebdffed-7f66-4d5b-9110-a8d409c2b475",
   "metadata": {},
   "outputs": [],
   "source": []
  },
  {
   "cell_type": "code",
   "execution_count": null,
   "id": "6af48129-e797-4070-8e05-055769d43d9b",
   "metadata": {},
   "outputs": [],
   "source": []
  },
  {
   "cell_type": "markdown",
   "id": "68910fb9-fdab-4064-856d-c5df3cdc3125",
   "metadata": {},
   "source": [
    "#### Double check with PNNL ERA-5 6-deg. mean environmental varaibles\n",
    "- confirm the correctness of env-MCS files ('phase','x','y','level') processed on Jupiter"
   ]
  },
  {
   "cell_type": "code",
   "execution_count": null,
   "id": "e7f07d22-5b4f-4e97-a16c-1e2f44d86f8d",
   "metadata": {
    "tags": []
   },
   "outputs": [],
   "source": [
    "mcs_id = 32204\n",
    "vars_list = ['cloudtracknumber_nomergesplit','mtpr','t','q']\n",
    "data_merged = vars_mcs_env('/scratch/wmtsai/temp_mcs/mcs_stats/envs_track/2002/tropics_extend/mcs_era5_3D_envs_2002.{}.LD.nc'.format(mcs_id))"
   ]
  },
  {
   "cell_type": "code",
   "execution_count": null,
   "id": "335f431f-0ff7-47a9-b2a7-2a2d354e7191",
   "metadata": {
    "tags": []
   },
   "outputs": [],
   "source": [
    "data_3deg = data_merged.sel(area_type='3deg_mean')"
   ]
  },
  {
   "cell_type": "code",
   "execution_count": null,
   "id": "39573a52-0694-413d-9e8d-7ab2e3bb26a1",
   "metadata": {
    "tags": []
   },
   "outputs": [],
   "source": [
    "tmp2 = xr.open_dataset('/scratch/wmtsai/temp_mcs/mcs_stats/mcs_tracks_non2mcs/mcs_tracks_non2mcs_2002.tropics30NS.extend.nc')\n",
    "idt_mcs_mature = tmp2.sel(tracks=mcs_id).idt_mcs_mature.values"
   ]
  },
  {
   "cell_type": "code",
   "execution_count": null,
   "id": "b011f895-ed70-4dac-a9e5-c63e837681f7",
   "metadata": {
    "tags": []
   },
   "outputs": [],
   "source": [
    "data_pnnl = xr.open_dataset('/neelin2020/mcs_flextrkr/era5_envs/mcs_era5_mean_envs_20020101.0000_20030101.0000.nc')\n",
    "data_6degPNNL = data_pnnl.sel(tracks=mcs_id)"
   ]
  },
  {
   "cell_type": "code",
   "execution_count": null,
   "id": "394e4d8e-c3b2-43f0-82d8-1df58590864d",
   "metadata": {
    "tags": []
   },
   "outputs": [],
   "source": [
    "fig,ax = plt.subplots(1,1,figsize=(4,4.5))\n",
    "data_3deg.q.sel(mcs_phase='Mature').plot(ax=ax, y='level')\n",
    "data_6degPNNL.Q.sel(rel_times=idt_mcs_mature).plot(ax=ax,y='level')\n",
    "plt.ylim([1000,100])"
   ]
  },
  {
   "cell_type": "code",
   "execution_count": null,
   "id": "aac47887-a17c-402f-93d0-93375a10d0f1",
   "metadata": {},
   "outputs": [],
   "source": []
  },
  {
   "cell_type": "markdown",
   "id": "61f500fb-9919-490d-a970-388d9e34eb38",
   "metadata": {},
   "source": [
    "#### check nonmcs track samples"
   ]
  },
  {
   "cell_type": "code",
   "execution_count": 100,
   "id": "9a60b92b-3d37-415f-a416-8f69f5f1ae2b",
   "metadata": {
    "tags": []
   },
   "outputs": [],
   "source": [
    "data = xr.open_dataset('/scratch/wmtsai/temp_mcs/mcs_stats/envs_track/2010/nonmcs_extend/nonmcs_era5_3D_envs_2010.0085022.LD.nc')\n",
    "# maxtime = data.area.argmax('times')\n",
    "# idx_5hr = np.where(data.track_duration == 5)[0]\n",
    "# idx_areamax3hr = np.where(maxtime == 2)[0]\n",
    "# idx_com = np.intersect1d(idx_5hr, idx_areamax3hr)"
   ]
  },
  {
   "cell_type": "code",
   "execution_count": 117,
   "id": "f3570cfb-e6d8-4a6e-80f5-4d1c1c88b337",
   "metadata": {
    "tags": []
   },
   "outputs": [
    {
     "data": {
      "text/plain": [
       "<matplotlib.contour.QuadContourSet at 0x7f7436a492e0>"
      ]
     },
     "execution_count": 117,
     "metadata": {},
     "output_type": "execute_result"
    },
    {
     "data": {
      "image/png": "[encoded data removed]",
      "text/plain": [
       "<Figure size 640x480 with 2 Axes>"
      ]
     },
     "metadata": {},
     "output_type": "display_data"
    }
   ],
   "source": [
    "tmp = data.sel(mcs_phase='Mature').tb\n",
    "tmp = tmp.where(tmp < 241, 0)\n",
    "tmp = tmp.where(tmp ==0, 1)\n",
    "tmp.plot.contour(levels=[0,1], zorder=2)\n",
    "data.Buoy_TOT.sel(mcs_phase='Mature').plot(zorder=1, cmap='jet', vmax=0.05, vmin=-0.15)\n",
    "data.Buoy_TOT.sel(mcs_phase='Mature').plot.contour(zorder=1, levels=[0], colors=['r'])"
   ]
  },
  {
   "cell_type": "code",
   "execution_count": 122,
   "id": "682853da-e0f6-4bed-8320-575b1374baa8",
   "metadata": {
    "tags": []
   },
   "outputs": [],
   "source": [
    "delta_pl=1000-100-500\n",
    "delta_pb=100\n",
    "wb=(delta_pb/delta_pl)*np.log((delta_pl+delta_pb)/delta_pb)\n",
    "wl=1-wb"
   ]
  },
  {
   "cell_type": "code",
   "execution_count": 123,
   "id": "be82b529-36bc-4e5c-9f87-2d7b8d7c5a62",
   "metadata": {
    "tags": []
   },
   "outputs": [
    {
     "data": {
      "text/plain": [
       "0.40235947810852507"
      ]
     },
     "execution_count": 123,
     "metadata": {},
     "output_type": "execute_result"
    }
   ],
   "source": [
    "wb"
   ]
  },
  {
   "cell_type": "code",
   "execution_count": 124,
   "id": "350ef1b7-f6f1-4372-8836-23871204fb7d",
   "metadata": {
    "tags": []
   },
   "outputs": [
    {
     "data": {
      "text/plain": [
       "0.5976405218914749"
      ]
     },
     "execution_count": 124,
     "metadata": {},
     "output_type": "execute_result"
    }
   ],
   "source": [
    "wl"
   ]
  },
  {
   "cell_type": "code",
   "execution_count": null,
   "id": "cc00ea40-e326-4c88-9e28-d25c76b817ee",
   "metadata": {},
   "outputs": [],
   "source": []
  }
 ],
 "metadata": {
  "kernelspec": {
   "display_name": "Python 3 (ipykernel)",
   "language": "python",
   "name": "python3"
  },
  "language_info": {
   "codemirror_mode": {
    "name": "ipython",
    "version": 3
   },
   "file_extension": ".py",
   "mimetype": "text/x-python",
   "name": "python",
   "nbconvert_exporter": "python",
   "pygments_lexer": "ipython3",
   "version": "3.9.17"
  }
 },
 "nbformat": 4,
 "nbformat_minor": 5
}
