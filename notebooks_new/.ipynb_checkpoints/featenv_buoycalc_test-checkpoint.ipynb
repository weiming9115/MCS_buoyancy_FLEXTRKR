{
 "cells": [
  {
   "cell_type": "code",
   "execution_count": 1,
   "id": "98988a58-c0c6-4cb2-a73b-645422d4ebc0",
   "metadata": {
    "tags": []
   },
   "outputs": [],
   "source": [
    "import os\n",
    "import sys\n",
    "import xarray as xr\n",
    "import numpy as np\n",
    "import pandas as pd\n",
    "from numba import jit, vectorize, float64\n",
    "\n",
    "import json\n",
    "import matplotlib\n",
    "from matplotlib import pyplot as plt\n",
    "from matplotlib.colors import ListedColormap, LinearSegmentedColormap\n",
    "from datetime import datetime\n",
    "from pathlib import Path\n",
    "from matplotlib.lines import Line2D\n",
    "from matplotlib.patches import Patch\n",
    "from matplotlib.patches import Rectangle\n",
    "\n",
    "import cartopy.crs as ccrs\n",
    "import cartopy.feature as cfeat\n",
    "from cartopy.util import add_cyclic_point\n",
    "from cartopy.mpl.gridliner import LONGITUDE_FORMATTER, LATITUDE_FORMATTER\n",
    "\n",
    "import warnings"
   ]
  },
  {
   "cell_type": "code",
   "execution_count": 2,
   "id": "a6b52efa-96ba-4652-95e5-64bf34be2e04",
   "metadata": {
    "tags": []
   },
   "outputs": [],
   "source": [
    "import logging\n",
    "os.chdir('/scratch/wmtsai/test_ground/')\n",
    "logger = logging.getLogger(__name__)\n",
    "logging.basicConfig(filename='example.log', encoding='utf-8', level=logging.DEBUG)\n",
    "logger.debug('This message should go to the log file')\n",
    "logger.info('So should this')\n",
    "logger.warning('And this, too')\n",
    "logger.error('And non-ASCII stuff, too, like Øresund and Malmö')"
   ]
  },
  {
   "cell_type": "code",
   "execution_count": null,
   "id": "1dc1d64c-8019-4cc9-92a1-959cc5ad9f55",
   "metadata": {
    "tags": []
   },
   "outputs": [],
   "source": [
    "# # importing theta_calc module\n",
    "# sys.path.append('/neelin2020/mcs_flextrkr/scripts/modules')\n",
    "# from theta_e_calc_mod import *"
   ]
  },
  {
   "cell_type": "code",
   "execution_count": null,
   "id": "2a85faa9-f880-40f8-a0f8-57f5ae2fde41",
   "metadata": {
    "tags": []
   },
   "outputs": [],
   "source": [
    "# calculations for thermodynamics\n",
    "from metpy.calc import thermo\n",
    "from metpy.units import units"
   ]
  },
  {
   "cell_type": "code",
   "execution_count": null,
   "id": "2b861ca8-f1a8-4ad8-9276-8f6929983085",
   "metadata": {
    "tags": []
   },
   "outputs": [],
   "source": [
    "warnings.filterwarnings('ignore')"
   ]
  },
  {
   "cell_type": "code",
   "execution_count": null,
   "id": "061e6b8f-186d-4dad-91e6-3eb578d17428",
   "metadata": {
    "tags": []
   },
   "outputs": [],
   "source": [
    "@jit(nopython=False)\n",
    "def es_calc_bolton(temp):\n",
    "    # in hPa\n",
    "\n",
    "    tmelt  = 273.15\n",
    "    tempc = temp - tmelt\n",
    "    es = 6.112*np.exp(17.67*tempc/(243.5+tempc))\n",
    "\n",
    "    return es"
   ]
  },
  {
   "cell_type": "code",
   "execution_count": null,
   "id": "d577c287-9b2a-46fa-a507-bf2e8dd3a988",
   "metadata": {
    "tags": []
   },
   "outputs": [],
   "source": [
    "@jit(nopython=False)\n",
    "def es_calc(temp):\n",
    "    \"\"\"\n",
    "    temp [x,p]\n",
    "    \"\"\"\n",
    "    tmelt  = 273.15\n",
    "\n",
    "    c0=0.6105851e+03\n",
    "    c1=0.4440316e+02\n",
    "    c2=0.1430341e+01\n",
    "    c3=0.2641412e-01\n",
    "    c4=0.2995057e-03\n",
    "    c5=0.2031998e-05\n",
    "    c6=0.6936113e-08\n",
    "    c7=0.2564861e-11\n",
    "    c8=-.3704404e-13\n",
    "\n",
    "    tempc = temp - tmelt\n",
    "    tempcorig = tempc\n",
    "\n",
    "    #if tempc < -80:\n",
    "    es_ltn80c = es_calc_bolton(temp)\n",
    "    es_ltn80c = np.where(tempc < -80, es_ltn80c, 0)\n",
    "    \n",
    "    #else:\n",
    "    es = c0+tempc*(c1+tempc*(c2+tempc*(c3+tempc*(c4+tempc*(c5+tempc*(c6+tempc*(c7+tempc*c8)))))))\n",
    "    es_gtn80c = es/100\n",
    "    es_gtn80c = np.where(tempc >= -80, es_gtn80c, 0)\n",
    "\n",
    "    # complete es\n",
    "    es = es_ltn80c + es_gtn80c\n",
    "\n",
    "    return es"
   ]
  },
  {
   "cell_type": "code",
   "execution_count": null,
   "id": "d476f441-52e5-42cd-ac39-13f024662d3c",
   "metadata": {
    "tags": []
   },
   "outputs": [],
   "source": [
    "@jit(nopython=False)\n",
    "def qs_calc(temp, p_level):\n",
    "\n",
    "    tmelt  = 273.15\n",
    "    RV=461.5\n",
    "    RD=287.04\n",
    "\n",
    "    EPS=RD/RV\n",
    "\n",
    "    press = p_level * 100. # in Pa\n",
    "    tempc = temp - tmelt\n",
    "\n",
    "    es=es_calc(temp) # [x,y,p]\n",
    "    es=es * 100. #hPa\n",
    "    \n",
    "    qs = (EPS * es) / (press + ((EPS-1.)*es))\n",
    "\n",
    "    return qs"
   ]
  },
  {
   "cell_type": "code",
   "execution_count": null,
   "id": "cb1cbd44-08d4-4b07-86ad-55fce17d60d3",
   "metadata": {
    "tags": []
   },
   "outputs": [],
   "source": [
    "@jit(nopython=False)\n",
    "def theta_e_calc(temp, q, p_level):\n",
    "\n",
    "    # following the definitions in Bolton (1980): the calculation of equivalent potential temperature\n",
    "\n",
    "    pref = 100000.\n",
    "    tmelt  = 273.15\n",
    "    CPD=1005.7\n",
    "    CPV=1870.0\n",
    "    CPVMCL=2320.0\n",
    "    RV=461.5\n",
    "    RD=287.04\n",
    "    EPS=RD/RV\n",
    "    ALV0=2.501E6\n",
    "\n",
    "    press = p_level * 100. # in Pa\n",
    "    tempc = temp - tmelt # in C\n",
    "\n",
    "    r = q / (1. - q)\n",
    "\n",
    "    # get ev in hPa\n",
    "    ev_hPa = p_level * r / (EPS + r) # hpa\n",
    "\n",
    "    #get TL\n",
    "    TL = (2840. / ((3.5*np.log(temp)) - (np.log(ev_hPa)) - 4.805)) + 55.\n",
    "\n",
    "    #calc chi_e:\n",
    "    chi_e = 0.2854 * (1. - (0.28 * r))\n",
    "\n",
    "    theta_e = temp * np.power((pref / press),chi_e) * np.exp(((3.376/TL) - 0.00254) * r * 1000 * (1. + (0.81 * r)))\n",
    "\n",
    "    return theta_e"
   ]
  },
  {
   "cell_type": "code",
   "execution_count": null,
   "id": "b0503079-a17d-450b-8ab4-e4c462e2487e",
   "metadata": {},
   "outputs": [],
   "source": [
    "@jit(nopython=False)\n",
    "def layer_average_trapz(var_1d, p_1d):\n",
    "\n",
    "    var_sum = 0\n",
    "    for z in range(1,len(var_1d)):\n",
    "        dx = p_1d[z] - p_1d[z-1]\n",
    "        var_sum += 1/2*(var_1d[z-1]+var_1d[z])*dx\n",
    "\n",
    "    return var_sum/(p_1d[-1]-p_1d[0])"
   ]
  },
  {
   "cell_type": "code",
   "execution_count": null,
   "id": "dca0e654-89a1-43fe-9afa-59fa2da936f6",
   "metadata": {},
   "outputs": [],
   "source": [
    "@jit(nopython=False)\n",
    "def BL_measures_calc(T, q, sp, T2m, q2m, p_level):\n",
    "\n",
    "    # constants\n",
    "    Lv = 2.5e6 # (J/kg)\n",
    "    g = 9.81 # (kg/m^2)\n",
    "    cpd = 1004 # (J/kg/K)\n",
    "    p0 = 1000  # (hPa)\n",
    "    Rd = 287.15 # (J/kg)\n",
    "    \n",
    "    # find pbl top (100 hPa above the surface)\n",
    "    # pbl_top_level = find_pbl_top_level(sp, p_level, pbl_depth=100)\n",
    "    \n",
    "    # allocate 2-D layer-averaged thetae components\n",
    "    len_y = T.shape[1]\n",
    "    len_x = T.shape[2]\n",
    "    \n",
    "    thetae_bl_array = np.zeros((len_y, len_x))*np.nan\n",
    "    thetae_lt_array = np.copy(thetae_bl_array)\n",
    "    thetae_sat_lt_array = np.copy(thetae_bl_array)\n",
    "\n",
    "    # loop for lat-lon grids\n",
    "    for j in np.arange(len_y):\n",
    "        for i in np.arange(len_x):\n",
    "\n",
    "            sfc_p = sp[j,i] # surface pressure\n",
    "            #pbl_p = pbl_top_level[j,i] # pbl top pressure\n",
    "            pbl_p = sfc_p - 100\n",
    "\n",
    "            if pbl_p >= 500: # low-troposphere upper bound greater than 500 hPa\n",
    "    \n",
    "                T_at_sf = T2m[j,i]\n",
    "                q_at_sf = q2m[j,i]\n",
    "    \n",
    "                idp_sfc = np.argmin(np.abs(sfc_p - p_level)) \n",
    "                if (idp_sfc == len(p_level)-1) and (sfc_p >= 1000): # if surface pressure >= 1000 hPa\n",
    "                    T_above_sf = T[:,j,i] \n",
    "                    q_above_sf = q[:,j,i]\n",
    "                    p_above_sf = p_level[:]\n",
    "    \n",
    "                    # reconstruct the entirle T, q profiles by adding surface quantities\n",
    "                    T_1d = np.hstack((np.array([T_at_sf]), np.flip(T_above_sf)))\n",
    "                    q_1d = np.hstack((np.array([q_at_sf]), np.flip(q_above_sf)))\n",
    "                    pressure_1d = np.hstack((np.array([sfc_p]), np.flip(p_above_sf)))\n",
    "                                    \n",
    "                elif (idp_sfc == len(p_level)-1) and (sfc_p < 1000): # surface pressure < 1000 hPa\n",
    "                    T_above_sf = T[:idp_sfc,j,i] #[top->1000]\n",
    "                    q_above_sf = q[:idp_sfc,j,i]\n",
    "                    p_above_sf = p_level[:idp_sfc]\n",
    "    \n",
    "                    # reconstruct the entirle T, q profiles by adding surface quantities\n",
    "                    T_1d = np.hstack((np.array([T_at_sf]), np.flip(T_above_sf)))\n",
    "                    q_1d = np.hstack((np.array([q_at_sf]), np.flip(q_above_sf)))\n",
    "                    pressure_1d = np.hstack((np.array([sfc_p]), np.flip(p_above_sf)))          \n",
    "                        \n",
    "                else:\n",
    "                    T_above_sf = T[:idp_sfc+1,j,i] \n",
    "                    q_above_sf = q[:idp_sfc+1,j,i]\n",
    "                    p_above_sf = p_level[:idp_sfc+1]\n",
    "    \n",
    "                    # reconstruct the entirle T, q profiles by adding surface quantities\n",
    "                    T_1d = np.hstack((np.array([T_at_sf]), np.flip(T_above_sf)))\n",
    "                    q_1d = np.hstack((np.array([q_at_sf]), np.flip(q_above_sf)))\n",
    "                    pressure_1d = np.hstack((np.array([sfc_p]), np.flip(p_above_sf)))\n",
    "                    if np.any(np.diff(pressure_1d) > 0):\n",
    "                        T_1d = np.hstack((np.array([T_at_sf]), np.flip(T_above_sf[:len(p_level)-1])))\n",
    "                        q_1d = np.hstack((np.array([q_at_sf]), np.flip(q_above_sf[:len(p_level)-1])))\n",
    "                        pressure_1d = np.hstack((np.array([sfc_p]), np.flip(p_above_sf[:len(p_level)-1])))\n",
    "                            \n",
    "                # interpolated points at the pbl top and 500 hPa into P_sfc_to_100   \n",
    "                pressure_val = np.hstack((pressure_1d, np.array([pbl_p]), np.array([500])))\n",
    "                pressure_val = np.unique(np.sort(pressure_val))[::-1] # new pressure coord including these two levels\n",
    "                T_1d_interp = np.interp(pressure_val[::-1], pressure_1d[::-1], T_1d[::-1])[::-1]\n",
    "                q_1d_interp = np.interp(pressure_val[::-1], pressure_1d[::-1], q_1d[::-1])[::-1]\n",
    "                                        \n",
    "                # splitting into boundary layer and lower free troposphere with decreasing the p_coord\n",
    "                # 1. boundary layer, bl\n",
    "                idp_pbl = np.where(pressure_val == pbl_p)[0][0]\n",
    "                q_bl = q_1d_interp[:idp_pbl+1]\n",
    "                T_bl = T_1d_interp[:idp_pbl+1]\n",
    "                p_bl = pressure_val[:idp_pbl+1]\n",
    "                                \n",
    "                # 2. lower free troposphere, lt\n",
    "                idp_500 = np.where(pressure_val == 500.)[0][0]\n",
    "                q_lt = q_1d_interp[idp_pbl:idp_500+1]\n",
    "                T_lt = T_1d_interp[idp_pbl:idp_500+1]\n",
    "                p_lt = pressure_val[idp_pbl:idp_500+1]\n",
    "                            \n",
    "                # calculating layer-averaged thetae components\n",
    "                #delta_pb = p_bl[0] - p_bl[-1]\n",
    "                #delta_pl = (sfc_p - 500.) - delta_pb\n",
    "                thetae_bl = theta_e_calc(T_bl, q_bl, p_bl)                \n",
    "                thetae_bl_avg = layer_average_trapz(np.flip(thetae_bl), np.flip(p_bl)) # negative sign b.c. decreasing p\n",
    "                #thetae_bl_avg = np.nanmean(thetae_bl)\n",
    "                thetae_lt = theta_e_calc(T_lt, q_lt, p_lt)\n",
    "                thetae_lt_avg = layer_average_trapz(np.flip(thetae_lt), np.flip(p_lt))\n",
    "                #thetae_lt_avg = np.nanmean(thetae_lt)\n",
    "                qsat_lt = qs_calc(T_lt, p_lt)\n",
    "                thetae_sat_lt = theta_e_calc(T_lt, qsat_lt, p_lt)\n",
    "                thetae_sat_lt_avg = layer_average_trapz(np.flip(thetae_sat_lt), np.flip(p_lt))\n",
    "                #thetae_sat_lt_avg = np.nanmean(thetae_sat_lt)\n",
    "\n",
    "                thetae_bl_array[j,i] = thetae_bl_avg\n",
    "                thetae_lt_array[j,i] = thetae_lt_avg\n",
    "                thetae_sat_lt_array[j,i] = thetae_sat_lt_avg      \n",
    "\n",
    "            else: # some montain areas with PBL lower than 500 hPa\n",
    "    \n",
    "                thetae_bl_array[j,i] = np.nan\n",
    "                thetae_lt_array[j,i] = np.nan\n",
    "                thetae_sat_lt_array[j,i] = np.nan\n",
    "    \n",
    "    # calculate buoyancy estimates\n",
    "    # 2-d weighting parameters for pbl and lt\n",
    "    delta_pl=sp-100-500\n",
    "    delta_pb=100\n",
    "    wb=(delta_pb/delta_pl)*np.log((delta_pl+delta_pb)/delta_pb)\n",
    "    wl=1-wb\n",
    "\n",
    "    # calculate buoyancy estimate\n",
    "    Buoy_CAPE = (9.81/(340*3)) * wb * ((thetae_bl_array-thetae_sat_lt_array)/thetae_sat_lt_array) * 340\n",
    "    Buoy_SUBSAT = (9.81/(340*3))* wl * ((thetae_sat_lt_array-thetae_lt_array)/thetae_sat_lt_array) * 340\n",
    "    Buoy_TOT = Buoy_CAPE - Buoy_SUBSAT\n",
    "\n",
    "    return (Buoy_CAPE, Buoy_SUBSAT, Buoy_TOT, thetae_bl_array, thetae_lt_array, thetae_sat_lt_array)"
   ]
  },
  {
   "cell_type": "code",
   "execution_count": null,
   "id": "d53a619b-4de8-4fab-8a81-b0aa7fce06bd",
   "metadata": {
    "tags": []
   },
   "outputs": [],
   "source": [
    "catalog_name = 'MCS_FLEXTRKR_tropics'\n",
    "featenv_dir = Path('/scratch/wmtsai/featenv_analysis/dataset/{}/2014'.format(catalog_name))\n",
    "var3d_dir = featenv_dir / 'environment_catalogs/VARS_3D'\n",
    "var2d_dir = featenv_dir / 'environment_catalogs/VARS_2D'"
   ]
  },
  {
   "cell_type": "code",
   "execution_count": null,
   "id": "3ad3ff1f-b701-4ad1-bcaf-8c44e2f81ed0",
   "metadata": {
    "tags": []
   },
   "outputs": [],
   "source": [
    "data_T = xr.open_dataset(var3d_dir / '{}_T.merged.nc'.format(catalog_name))\n",
    "data_q = xr.open_dataset(var3d_dir / '{}_q.merged.nc'.format(catalog_name))\n",
    "data_d2m = xr.open_dataset(var2d_dir / '{}_2d.merged.nc'.format(catalog_name))\n",
    "data_t2m = xr.open_dataset(var2d_dir / '{}_2t.merged.nc'.format(catalog_name))\n",
    "data_sp = xr.open_dataset(var2d_dir / '{}_sp.merged.nc'.format(catalog_name))"
   ]
  },
  {
   "cell_type": "code",
   "execution_count": null,
   "id": "bebaf6f2-29e8-477a-a6b4-58adc57febf5",
   "metadata": {
    "tags": []
   },
   "outputs": [],
   "source": [
    "%%time\n",
    "# loop for tracks\n",
    "BL_merged = []\n",
    "for track in data_T.tracks.values:\n",
    "    \n",
    "    BL_phase = []\n",
    "    # loop for time (phase)\n",
    "    for t in data_T.time.values:\n",
    "        \n",
    "        T = data_T.sel(tracks=track, time=t).t\n",
    "        q = data_q.sel(tracks=track, time=t).q\n",
    "        sp = data_sp.sel(tracks=track, time=t).SP/100 # hPa\n",
    "        T2m = data_t2m.sel(tracks=track, time=t).VAR_2T\n",
    "        d2m = data_d2m.sel(tracks=track, time=t).VAR_2D\n",
    "        # convert dew point to specific humidity (if applicable)\n",
    "        q2m = thermo.specific_humidity_from_dewpoint(sp*100 * units.pascal, d2m * units.kelvin)\n",
    "        \n",
    "        p_level = data_T.level.values\n",
    "        T = T.values\n",
    "        q = q.values\n",
    "        sp = sp.values\n",
    "        T2m = T2m.values\n",
    "        q2m = q2m.values\n",
    "\n",
    "        (Buoy_CAPE, Buoy_SUBSAT, Buoy_TOT, thetae_bl_array\n",
    "         , thetae_lt_array, thetae_sat_lt_array) = BL_measures_calc(T, q, sp, T2m, q2m, p_level) \n",
    "    \n",
    "        # write out as xarray\n",
    "        ds = xr.Dataset(data_vars=dict(\n",
    "                        Buoy_CAPE = (['y','x'], Buoy_CAPE),\n",
    "                        Buoy_SUBSAT = (['y','x'], Buoy_SUBSAT), \n",
    "                        Buoy_TOT = (['y','x'], Buoy_TOT),\n",
    "                        thetae_bl = (['y','x'], thetae_bl_array),\n",
    "                        thetae_lt = (['y','x'], thetae_lt_array),\n",
    "                        thetae_sat_lt = (['y','x'], thetae_sat_lt_array)),\n",
    "                       \n",
    "                        coords=dict(x = (['x'], data_T.x.values),\n",
    "                                    y = (['y'], data_T.y.values))\n",
    "                       )\n",
    "        \n",
    "        BL_phase.append(ds)    \n",
    "    ds_track = xr.concat(BL_phase, dim=pd.Index(data_T.time.values, name='time'))\n",
    "    BL_merged.append(ds_track)\n",
    "    \n",
    "# final product\n",
    "BL_merged_xr = xr.concat(BL_merged, dim=pd.Index(data_T.tracks.values, name='tracks'))"
   ]
  },
  {
   "cell_type": "code",
   "execution_count": null,
   "id": "164e11ca-acbb-4d6d-bf8a-4fe2bdcfec17",
   "metadata": {},
   "outputs": [],
   "source": [
    "BL_merged_xr"
   ]
  },
  {
   "cell_type": "code",
   "execution_count": null,
   "id": "6ec6f7f6-9375-438c-85ad-ea42d898d7b6",
   "metadata": {
    "tags": []
   },
   "outputs": [],
   "source": [
    "BL_merged_xr.isel(tracks=5,time=3).thetae_lt.plot()"
   ]
  },
  {
   "cell_type": "code",
   "execution_count": null,
   "id": "613dcc8b-8288-4f80-82ca-45ddf08bd79a",
   "metadata": {},
   "outputs": [],
   "source": []
  }
 ],
 "metadata": {
  "kernelspec": {
   "display_name": "base_kernel",
   "language": "python",
   "name": "base_kernel"
  },
  "language_info": {
   "codemirror_mode": {
    "name": "ipython",
    "version": 3
   },
   "file_extension": ".py",
   "mimetype": "text/x-python",
   "name": "python",
   "nbconvert_exporter": "python",
   "pygments_lexer": "ipython3",
   "version": "3.11.4"
  }
 },
 "nbformat": 4,
 "nbformat_minor": 5
}
