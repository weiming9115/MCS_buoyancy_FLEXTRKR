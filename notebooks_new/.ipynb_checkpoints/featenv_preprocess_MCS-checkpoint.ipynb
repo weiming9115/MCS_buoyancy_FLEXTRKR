{
 "cells": [
  {
   "cell_type": "code",
   "execution_count": 1,
   "id": "6443480e-5d27-450a-a38d-acef0346d1db",
   "metadata": {
    "tags": []
   },
   "outputs": [],
   "source": [
    "import os\n",
    "import sys\n",
    "import xarray as xr\n",
    "import numpy as np\n",
    "import matplotlib\n",
    "import pandas as pd\n",
    "from matplotlib import pyplot as plt\n",
    "from datetime import datetime\n",
    "from pathlib import Path\n",
    "import cartopy.crs as ccrs\n",
    "import warnings"
   ]
  },
  {
   "cell_type": "code",
   "execution_count": 2,
   "id": "97bf18c2-42f6-4bde-8736-550e40505e6f",
   "metadata": {
    "tags": []
   },
   "outputs": [],
   "source": [
    "warnings.filterwarnings('ignore')"
   ]
  },
  {
   "cell_type": "code",
   "execution_count": 3,
   "id": "38357691-9a9a-40e0-8605-834e4ce1095d",
   "metadata": {
    "tags": []
   },
   "outputs": [],
   "source": [
    "mcs_dir = Path('/scratch/wmtsai/temp_mcs/mcs_stats/mcs_tracks_non2mcs')"
   ]
  },
  {
   "cell_type": "code",
   "execution_count": 4,
   "id": "573d16d6-fc64-4b79-a406-b6aa741e894d",
   "metadata": {
    "tags": []
   },
   "outputs": [
    {
     "name": "stdout",
     "output_type": "stream",
     "text": [
      "2001\n",
      "2002\n",
      "2003\n",
      "2004\n",
      "2005\n",
      "2006\n",
      "2007\n",
      "2008\n",
      "2009\n",
      "2010\n"
     ]
    }
   ],
   "source": [
    "year_list = np.arange(2001,2011)\n",
    "\n",
    "for year in year_list:\n",
    "    print(year)\n",
    "    # merge all tracks into a single xarray.dataset file \n",
    "    ds_MCS = xr.open_dataset(mcs_dir / 'mcs_tracks_non2mcs_{}.tropics30NS.full.nc'.format(year))\n",
    "    \n",
    "    ds_MCSphase = []\n",
    "    track_list = []\n",
    "    for i in range(len(ds_MCS.tracks)):\n",
    "        tmp = ds_MCS.isel(tracks=i)\n",
    "        idt_phase = [0,\n",
    "                     tmp.idt_mcs_init.values,\n",
    "                     tmp.idt_mcs_grow.values,\n",
    "                     tmp.idt_mcs_mature.values,\n",
    "                     tmp.idt_mcs_decay.values,\n",
    "                     tmp.idt_mcs_end.values]    \n",
    "        tmp_phase = tmp.isel(times = idt_phase)\n",
    "        tmp_phase['times'] = np.arange(6)\n",
    "        tmp_phase = tmp_phase.rename({'times':'time'})\n",
    "        \n",
    "        track_list.append(int(tmp.tracks.values))\n",
    "        ds_MCSphase.append(tmp_phase[['base_time','meanlat','meanlon']])  \n",
    "    ds_MCSphase_xr = xr.concat(ds_MCSphase, pd.Index(track_list, name='tracks'))\n",
    "    \n",
    "    meanlon = ds_MCSphase_xr['meanlon']\n",
    "    meanlon_re = meanlon.where(meanlon >= 0, meanlon + 360)\n",
    "    ds_MCSphase_xr['meanlon'] = meanlon_re\n",
    "    \n",
    "    out_dir = Path('/scratch/wmtsai/temp_mcs/mcs_stats/mcs_tracks_non2mcs/featenv_track_input')\n",
    "    ds_MCSphase_xr.to_netcdf(out_dir / 'MCS_FLEXTRKR_tropics30NS.{}.nc'.format(year)\n",
    "                         , encoding={'meanlon': {'dtype': 'float32'}, 'meanlat': {'dtype': 'float32'}})"
   ]
  },
  {
   "cell_type": "code",
   "execution_count": null,
   "id": "6ac42367-aaec-4217-8cf8-4680b2eed45e",
   "metadata": {},
   "outputs": [],
   "source": [
    "track_sel = ds_MCSphase_xr.tracks.values\n",
    "np.random.shuffle(track_sel) # shuffle to avoid I/O traffics due to competition"
   ]
  },
  {
   "cell_type": "code",
   "execution_count": null,
   "id": "b109174c-c209-4fd6-8c51-4af126ccf31e",
   "metadata": {
    "tags": []
   },
   "outputs": [],
   "source": [
    "ds_MCSphase_xr.tracks"
   ]
  },
  {
   "cell_type": "code",
   "execution_count": null,
   "id": "b3784876-367d-4257-b594-e2b305e1d44c",
   "metadata": {},
   "outputs": [],
   "source": []
  }
 ],
 "metadata": {
  "kernelspec": {
   "display_name": "base_kernel",
   "language": "python",
   "name": "base_kernel"
  },
  "language_info": {
   "codemirror_mode": {
    "name": "ipython",
    "version": 3
   },
   "file_extension": ".py",
   "mimetype": "text/x-python",
   "name": "python",
   "nbconvert_exporter": "python",
   "pygments_lexer": "ipython3",
   "version": "3.11.4"
  }
 },
 "nbformat": 4,
 "nbformat_minor": 5
}
