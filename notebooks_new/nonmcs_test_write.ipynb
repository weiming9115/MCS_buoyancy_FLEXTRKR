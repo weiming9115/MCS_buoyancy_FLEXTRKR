{
 "cells": [
  {
   "cell_type": "code",
   "execution_count": 38,
   "metadata": {},
   "outputs": [],
   "source": [
    "import os\n",
    "import sys\n",
    "import xarray as xr\n",
    "import numpy as np\n",
    "import pandas as pd\n",
    "from datetime import datetime\n",
    "from pathlib import Path\n",
    "import random\n",
    "import warnings\n",
    "warnings.filterwarnings('ignore')"
   ]
  },
  {
   "cell_type": "code",
   "execution_count": null,
   "metadata": {},
   "outputs": [],
   "source": [
    "year = 2011\n",
    "\n",
    "# data directoies\n",
    "dir_ccs_track = Path('/scratch/wmtsai/temp_mcs/mcs_stats')\n",
    "# read data\n",
    "data_track = xr.open_dataset(dir_ccs_track / 'trackstats_{}0101.0000_{}0101.0000.nc'.format(year,year+1))\n",
    "\n",
    "##############################\n",
    "# 1. first detected over the tropics [30S-30N]\n",
    "meanlat = data_track.meanlat.sel(times=0)\n",
    "idx_lat = meanlat.where((meanlat > -30) & (meanlat < 30)).dropna(dim='tracks').tracks.values\n",
    "meanlon = data_track.meanlon.sel(times=0)\n",
    "data_sub = data_track.sel(tracks=idx_lat)\n",
    "\n",
    "# 2. non2mcs options: CCS for at least 3hrs; MCS duration >= 5 hrs\n",
    "start_status = data_sub.start_status\n",
    "end_status = data_sub.end_status\n",
    "track_duration = data_sub.track_duration\n",
    "idx = np.where(np.logical_and(start_status == 1, track_duration >=5))[0]\n",
    "idy = np.where(end_status == 0)[0]\n",
    "idx_comb = np.intersect1d(idx,idy)\n",
    "data_nonmcs = data_sub.isel(tracks=idx_comb)"
   ]
  },
  {
   "cell_type": "code",
   "execution_count": 19,
   "metadata": {},
   "outputs": [],
   "source": [
    "## generate time indices for tracks showing complete MCS lifetimes\n",
    "track_list = []\n",
    "\n",
    "for track in data_nonmcs.tracks.values:\n",
    "\n",
    "    tmp = data_nonmcs.sel(tracks=track).track_status\n",
    "    tmp2 = data_nonmcs.sel(tracks=track).area\n",
    "    idt_init = np.where(tmp >= 0)[0][0]\n",
    "    idt_mature = np.where(tmp2 == tmp2.max('times'))[0][0]\n",
    "    idt_end = np.where(tmp >= 0)[0][-1]\n",
    "\n",
    "    track_duration = data_nonmcs.sel(tracks=track).track_duration.values\n",
    "\n",
    "    # 3. stable MCS status (uninterrupted mcs_status == 1) throghout its all life time\n",
    "    #    np.sum(mcs_status) == mcs_duration\n",
    "    cond1 = ((idt_end - idt_init + 1) == track_duration)\n",
    "    cond2 = (idt_end > idt_mature)\n",
    "    cond3 = (idt_init < idt_mature)\n",
    "    #cond4 = (tmp.sel(times=idt_end+1) == 0)\n",
    "\n",
    "    if (cond1 & cond2 & cond3):\n",
    "        \n",
    "        idt_init = 0 # start as CCS\n",
    "        idt_grow = idt_init + (idt_mature - idt_init)//2\n",
    "        idt_decay = idt_mature + (idt_end - idt_mature)//2\n",
    "\n",
    "        if (idt_mature > idt_init + 1) & (idt_end > idt_mature + 1):\n",
    "\n",
    "            ds = xr.Dataset(data_vars=dict(\n",
    "                    idt_ccs_init=(['tracks'], [idt_init]),\n",
    "                    idt_ccs_grow=(['tracks'], [idt_grow]),\n",
    "                    idt_ccs_mature=(['tracks'], [idt_mature]),\n",
    "                    idt_ccs_decay=(['tracks'], [idt_decay]),\n",
    "                    idt_ccs_end=(['tracks'], [idt_end])\n",
    "                    ),\n",
    "                    coords=dict(tracks=(['tracks'],[track])))\n",
    "\n",
    "            track_list.append(ds)\n",
    "\n",
    "data_stableccs_phase = xr.concat(track_list, dim='tracks') # timestamp information of stable MCSs\n",
    "# select stable MCSs from non2mcs\n",
    "data_stableccs_complete = data_nonmcs.sel(tracks=data_stableccs_phase.tracks)\n",
    "# merge two datasets into one as output\n",
    "ds_tracks_merged = xr.merge([data_stableccs_complete, data_stableccs_phase])\n",
    "\n",
    "# save merged dataset into the directory, chopping into several files \n",
    "dir_out = Path('/scratch/wmtsai/temp_mcs/mcs_stats/mcs_tracks_non2mcs')\n",
    "tracks_sel = ds_tracks_merged.tracks.values \n",
    "random.shuffle(ds_tracks_merged.tracks.values) # randomly selecting 5000 tracks and saved for each year\n",
    "ds_tracks_sampled = ds_tracks_merged.sel(tracks=tracks_sel[:5000]).sortby('tracks')\n",
    "ds_tracks_sampled.to_netcdf(dir_out / 'nonmcs_tracks_{}.tropics30NS.nc'.format(yea))"
   ]
  },
  {
   "cell_type": "code",
   "execution_count": null,
   "metadata": {},
   "outputs": [],
   "source": [
    "ds_tracks_merged.tracks[:100]"
   ]
  },
  {
   "cell_type": "code",
   "execution_count": null,
   "metadata": {},
   "outputs": [],
   "source": [
    "tracks_sel = ds_tracks_merged.tracks.values\n",
    "random.shuffle(ds_tracks_merged.tracks.values)\n",
    "ds_tracks_merged.sel(tracks=tracks_sel[:5000]).sortby('tracks')"
   ]
  },
  {
   "cell_type": "code",
   "execution_count": null,
   "metadata": {},
   "outputs": [],
   "source": [
    "dir_out = Path('/scratch/wmtsai/temp_mcs/mcs_stats/mcs_tracks_non2mcs')\n",
    "track_num = len(ds_tracks_merged.tracks)\n",
    "chunksize = 5000\n",
    "num_chunk = track_num // chunksize + 1\n",
    "num = 0\n",
    "for n in range(num_chunk):\n",
    "    if n <= num_chunk:\n",
    "        ds_chunk = ds_tracks_merged.isel(tracks=slice(chunksize*n, chunksize*(n+1)))\n",
    "        num += len(ds_chunk.tracks)\n",
    "        ds_chunk.to_netcdf(dir_out / 'nonmcs_tracks_{}.tropics30NS.chunk{}.nc'.format(year,str(n+1).zfill(2)))\n",
    "    else: # the left one \n",
    "        ds_chunk = ds_tracks_merged.isel(tracks=slice(chunksize*n, track_num))\n",
    "        num += len(ds_chunk.tracks)\n",
    "        ds_chunk.to_netcdf(dir_out / 'nonmcs_tracks_{}.tropics30NS.chunk{}.nc'.format(year,str(n+1).zfill(2)))\n",
    "\n",
    "print(num)"
   ]
  },
  {
   "cell_type": "code",
   "execution_count": 52,
   "metadata": {},
   "outputs": [],
   "source": [
    "test_dir = Path('/scratch/wmtsai/featenv_analysis/dataset/NonMCS_FLEXTRKR_tropics/2015/environment_catalogs/VARS_3D')\n",
    "ds_test = xr.open_dataset(test_dir / 'NonMCS_FLEXTRKR_tropics_T.merged.nc')\n",
    "test2d_dir = Path('/scratch/wmtsai/featenv_analysis/dataset/NonMCS_FLEXTRKR_tropics/2015/environment_catalogs/VARS_2D')\n",
    "ds_tb = xr.open_dataset(test2d_dir / 'NonMCS_FLEXTRKR_tropics_tb.merged.nc')"
   ]
  },
  {
   "cell_type": "code",
   "execution_count": null,
   "metadata": {},
   "outputs": [],
   "source": [
    "ds_test.isel(time=0,level=26,tracks=1).t.plot()\n",
    "ds_tb.isel(time=0,tracks=1).tb.plot.contour(levels=[220,230,240])"
   ]
  },
  {
   "cell_type": "code",
   "execution_count": null,
   "metadata": {},
   "outputs": [],
   "source": [
    "ds_test.isel(time=2,level=26,tracks=1).t.plot()\n",
    "ds_tb.isel(time=2,tracks=1).tb.plot.contour(levels=[220,230,240])"
   ]
  },
  {
   "cell_type": "code",
   "execution_count": 58,
   "metadata": {},
   "outputs": [],
   "source": [
    "test_dir = Path('/scratch/wmtsai/featenv_analysis/dataset/MCS_FLEXTRKR_tropics/2015/environment_catalogs/VARS_3D')\n",
    "ds_mcs_t = xr.open_dataset(test_dir / 'MCS_FLEXTRKR_tropics_T.merged.nc')\n",
    "test2d_dir = Path('/scratch/wmtsai/featenv_analysis/dataset/MCS_FLEXTRKR_tropics/2015/environment_catalogs/VARS_2D')\n",
    "ds_mcs_tb = xr.open_dataset(test2d_dir / 'MCS_FLEXTRKR_tropics_tb.merged.nc')"
   ]
  },
  {
   "cell_type": "code",
   "execution_count": null,
   "metadata": {},
   "outputs": [],
   "source": [
    "ds_test"
   ]
  },
  {
   "cell_type": "code",
   "execution_count": null,
   "metadata": {},
   "outputs": [],
   "source": [
    "ds_mcs_t"
   ]
  },
  {
   "cell_type": "code",
   "execution_count": null,
   "metadata": {},
   "outputs": [],
   "source": [
    "ds_mcs_t.isel(time=2,level=26,tracks=1).t.plot()\n",
    "ds_mcs_tb.isel(time=2,tracks=1).tb.plot.contour(levels=[220,230,240])"
   ]
  },
  {
   "cell_type": "code",
   "execution_count": null,
   "metadata": {},
   "outputs": [],
   "source": []
  }
 ],
 "metadata": {
  "kernelspec": {
   "display_name": "wm_base",
   "language": "python",
   "name": "python3"
  },
  "language_info": {
   "codemirror_mode": {
    "name": "ipython",
    "version": 3
   },
   "file_extension": ".py",
   "mimetype": "text/x-python",
   "name": "python",
   "nbconvert_exporter": "python",
   "pygments_lexer": "ipython3",
   "version": "3.11.4"
  }
 },
 "nbformat": 4,
 "nbformat_minor": 2
}
